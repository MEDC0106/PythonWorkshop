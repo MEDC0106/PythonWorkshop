{
 "cells": [
  {
   "cell_type": "markdown",
   "metadata": {},
   "source": [
    "### MEDC0106: Bioinformatics in Applied Biomedical Science\n",
    "\n",
    "<p align=\"center\">\n",
    "  <img src=\"../../resources/static/Banner.png\" alt=\"MEDC0106 Banner\" width=\"90%\"/>\n",
    "  <br>\n",
    "</p>\n",
    "\n",
    "---------------------------------------------------------------\n",
    "\n",
    "# 03 - Modules and Packages\n",
    "\n",
    "*Written by:* Oliver Scott\n",
    "\n",
    "**This notebook provides a general introduction to using modules and packages in Python.**\n",
    "\n",
    "Do not be afraid to make changes to the code cells to explore how things work!\n",
    "\n",
    "### What are modules?\n",
    "\n",
    "In programming a **module** is part of a piece of software contating code that has a specific function. When developing large projects breaking code into modules helps keep the code **readble** and **maintainable**. For example, if we were building a game, a specific module may handle physics, while another handles what is rendered on screen. \n",
    "\n",
    "In Python a module is simply a file with a `.py` extension, containing functions, variables and classes. When we import this code into Python we use the name of the file without the extension. For example, a file called *test.py* defines a module and its corresponding name in Python would be *test*.\n",
    "\n",
    "Python ships with a relatively large collection of useful modules, such as `math`, however, we can also define our own modules or download them from a third-party.\n",
    "\n",
    "### What are packages?\n",
    "\n",
    "Packages are simply collections of modules and packages, within a directory. To be a package a special `__init__.py` file must exist indicating that the directory defines a package. For example:\n",
    "\n",
    "```\n",
    "audio/\n",
    "    __init__.py\n",
    "    formats/\n",
    "        __init__.py\n",
    "        mp3.py\n",
    "        wav.py\n",
    "    effects/\n",
    "        __init__.py\n",
    "        echo.py\n",
    "        fade.py  \n",
    "```\n",
    "\n",
    "The above package structure defines a package `audio` containing a further two packages; `formats` and `effects`. The `formats` package contains two modules `mp3` and `wav` while the `effects` package defines two modules `echo` and `fade`. In this notebbok we will not dwell on the structure of packages, although it helps to understand how they are laid out. If you would like to learn more about packages and how to create them, I suggest taking a look at the extra resources linked below.\n",
    "\n",
    "### The Python Standard Library\n",
    "\n",
    "Python ships with an extensive [collection](https://docs.python.org/3/library/) of modules/packages useful to a programmer. It is important for a programmer to become acquainted with the standard library as it can be used to solve many common programming problems quickly, without having to write and test new code. There is a nice guide to the standard library available on the Python website [here](https://docs.python.org/3.8/tutorial/stdlib.html).\n",
    "\n",
    "### Third Party Extensions\n",
    "\n",
    "Of course the Python standard library is by no means comprehensive, hence, third party components can be installed from the [Python Package Index](https://pypi.org/) (PyPI). Here you can find everything from individual programs and modules to packages and entire application development frameworks! The scientific community also often use a software called [Anaconda](https://www.anaconda.com/products/individual) as it also allows the easy installation of more complex packages which may also make use of compiled code (C, C++, Rust, etc...). If you are viewing these notebooks with Binder, it has taken care of installing a number of third-party extensions that we will use in these sessions.\n",
    "\n",
    "----\n",
    "\n",
    "## Contents\n",
    "\n",
    "1. [Importing Modules](#Importing-Modules)\n",
    "2. [Writing Modules](#Writing-Modules)\n",
    "3. [Packages](#Packages)\n",
    "4. [Third-Party Modules/Packages](#Third-Party-Modules/Packages)\n",
    "5. [Discussion](#Discussion)\n",
    "\n",
    "----\n",
    "\n",
    "### Extra Resources\n",
    "\n",
    "This introduction to Python is by no means comprehensive. Below are some links to resources for learning Python if you are interested.\n",
    "\n",
    "- [RealPython](https://realpython.com/) - Free python tutorials from beginner to advanced\n",
    "- [CodeAcademy](https://www.codecademy.com/learn/learn-python-3) - Python lessons\n",
    "- [Cheat-Sheets](https://ehmatthes.github.io/pcc_2e/cheat_sheets/cheat_sheets/) - Python reference sheets\n",
    "\n",
    "----\n",
    "\n",
    "## Importing Modules\n",
    "\n",
    "In Python modules can be imported using the `import` statement:\n",
    "\n",
    "```python\n",
    "import mymodule\n",
    "```\n",
    "\n",
    "Attributes contained within the imported molecule can then be accessed using the 'dot' `.` syntax:\n",
    "\n",
    "```python\n",
    "mymodule.myvariable\n",
    "mymodule.myfunction()\n",
    "```\n",
    "\n",
    "The examples below show the most common ways to import functionallity from modules:"
   ]
  },
  {
   "cell_type": "code",
   "execution_count": null,
   "metadata": {},
   "outputs": [],
   "source": [
    "import math\n",
    "\n",
    "print(\"Pi:\", math.pi)  # Modules can define useful variables\n",
    "\n",
    "double_pi = math.pi * 2  # We can use the imported variables just like normal variables \n",
    "\n",
    "# Modules may also define functions that we can utilise in our own code\n",
    "print(\"Degrees in Pi radians:\", math.degrees(math.pi))\n",
    "print(\"Degrees in 2*Pi radians:\", math.degrees(double_pi))"
   ]
  },
  {
   "cell_type": "markdown",
   "metadata": {},
   "source": [
    "Python's `from` statement allows you import specific attributes from a module with the syntax:\n",
    "\n",
    "```python\n",
    "from mymodule import attr1[, attr2[, attr3, ..., attrN]]\n",
    "```\n",
    "\n",
    "see the below cell for an example:"
   ]
  },
  {
   "cell_type": "code",
   "execution_count": null,
   "metadata": {},
   "outputs": [],
   "source": [
    "from math import pi, degrees  # Importing two attributes (variable, function)\n",
    "\n",
    "print(\"Pi:\", pi)\n",
    "print(\"Degrees in Pi radians:\", degrees(pi))"
   ]
  },
  {
   "cell_type": "markdown",
   "metadata": {},
   "source": [
    "You may also import attributes using custom names. You may want to do this to shorten a module/function/variable name or avoid naming conflicts with your own code. Changing the name has no impact on the functionality.\n",
    "\n",
    "```python\n",
    "import mymodule as module\n",
    "from mymodule import attr1 as attr\n",
    "```\n",
    "\n",
    "In the example below we import pi from math as 'PI':"
   ]
  },
  {
   "cell_type": "code",
   "execution_count": null,
   "metadata": {},
   "outputs": [],
   "source": [
    "from math import pi as PI\n",
    "\n",
    "print(\"Pi:\", PI)"
   ]
  },
  {
   "cell_type": "markdown",
   "metadata": {},
   "source": [
    "**Pro tip:**\n",
    "Jupyter allows you to see a modules contents in a handy popup window. Just type the module name followed by a dot and hit `TAB`.\n",
    "\n",
    "<p align=\"center\">\n",
    "  <img src=\"../../resources/static/tooltip.png\" alt=\"Tooltip\"/>\n",
    "  <br>\n",
    "</p>\n",
    "\n",
    "Try this in the cell block below:\n",
    "\n",
    "1. Uncomment the line below\n",
    "2. Move your cursor to after the dot \n",
    "3. Hit the `TAB` key"
   ]
  },
  {
   "cell_type": "code",
   "execution_count": null,
   "metadata": {},
   "outputs": [],
   "source": [
    "# math."
   ]
  },
  {
   "cell_type": "markdown",
   "metadata": {},
   "source": [
    "Using the `help` function also gives us an overview of a modules contents.\n",
    "\n",
    "***Note:*** *you can also use the help function to give information about functions and classes*"
   ]
  },
  {
   "cell_type": "code",
   "execution_count": null,
   "metadata": {},
   "outputs": [],
   "source": [
    "help(math)"
   ]
  },
  {
   "cell_type": "markdown",
   "metadata": {},
   "source": [
    "## Writing Modules\n",
    "\n",
    "As previously mentioned, a module is simply a file with the `.py` extension. If you take a look in the current directory: `workshop/session_1` there should be a file called: `mymodule.py` defining a variable and a function. Take a look at the contents of this file before continuing.\n",
    "\n",
    "In the cell below we import this created module and use its functionallity, of course there is nothing stopping you from editing this file to add extra functions and variables!\n",
    "\n",
    "***Note:*** *With our current understanding of Python, any modules that we create should be in the same directory as our notebook/script so that Python knows where to find them.*"
   ]
  },
  {
   "cell_type": "code",
   "execution_count": null,
   "metadata": {},
   "outputs": [],
   "source": [
    "import mymodule\n",
    "\n",
    "print(mymodule.choice_list)\n",
    "\n",
    "n = 0        # Starting index\n",
    "samples = 5  # How many samples to take?\n",
    "\n",
    "while n <= samples:\n",
    "    choice = mymodule.make_choice()\n",
    "    print('Computer made choice:', choice)\n",
    "    n += 1  # We must remember to increment n!"
   ]
  },
  {
   "cell_type": "markdown",
   "metadata": {},
   "source": [
    "## Packages\n",
    "\n",
    "Packages are a convenient way to compartmentalise a large amount of functionality. The syntax for using packages is very similar to that of modules. We can import a package using the same syntax:\n",
    "\n",
    "```python\n",
    "# Import mypackage\n",
    "import mypackage\n",
    "\n",
    "# Import a subpackage\n",
    "from mypackage import subpackage\n",
    "\n",
    "# Import a module from a subpackage\n",
    "from mypackage.subpackage import mymodule\n",
    "\n",
    "# Import a function from mymodule\n",
    "from mypackage.subpackage.mymodule import myfunction\n",
    "```\n",
    "\n",
    "If we refer back to the `audio` package example from earlier importing the module wav would be as simple as:\n",
    "\n",
    "```python\n",
    "from audio.formats import wav\n",
    "```\n",
    "\n",
    "We could then use functions defined in wav:\n",
    "\n",
    "```python\n",
    "wav.read_wav_file(...)\n",
    "```\n",
    "\n",
    "Below is an example using a package in the Python standard library to download and print lines in a `.csv` file:"
   ]
  },
  {
   "cell_type": "code",
   "execution_count": null,
   "metadata": {},
   "outputs": [],
   "source": [
    "from urllib.request import urlretrieve  # import function from urllib package\n",
    "\n",
    "url = \"http://winterolympicsmedals.com/medals.csv\"\n",
    "path = './data/medals.csv'  # workshop/session_1/data\n",
    "\n",
    "urlretrieve(url, path)  # download the csv file\n",
    "lines_to_read = 10\n",
    "\n",
    "# Open and print some lines from the file\n",
    "with open(path, 'r') as file:\n",
    "    n = 0\n",
    "    lines = file.readlines()\n",
    "    while n < lines_to_read: \n",
    "        print(lines[n])\n",
    "        n += 1"
   ]
  },
  {
   "cell_type": "markdown",
   "metadata": {},
   "source": [
    "***Note:*** *After running this cell block medals.csv should be present in the `/data` directory!*"
   ]
  },
  {
   "cell_type": "markdown",
   "metadata": {},
   "source": [
    "## Third-Party Modules/Packages\n",
    "\n",
    "We can also import third-party extensions using the `import` statement. Binder has handled all the installation procedure for us in this case, but often we will use a package installer like [pip](https://pypi.org/project/pip/) or [conda](https://docs.conda.io/en/latest/) to install packages. In fact we can install packages from inside jupyter using pip like so:\n",
    "\n",
    "```\n",
    "!pip install numpy\n",
    "```\n",
    "\n",
    "If you were to try this you would probably get a message similar to this:\n",
    "\n",
    "```\n",
    "Requirement already satisfied: numpy in /srv/conda/envs/notebook/lib/python3.9/site-packages (1.21.2)\n",
    "```\n",
    "\n",
    "Two of the most popular Python packages are [numpy](https://numpy.org/) and [pandas](https://pandas.pydata.org/), which we will learn more about in the next notebook. Below is a brief example of importing these packages and using some of their functionality:"
   ]
  },
  {
   "cell_type": "code",
   "execution_count": null,
   "metadata": {},
   "outputs": [],
   "source": [
    "import numpy\n",
    "\n",
    "# Create a numpy array (similar to a list of numbers)\n",
    "array = numpy.array([1,2,3,4,5,6])\n",
    "\n",
    "# We can compute some statistics using numpy\n",
    "print('Mean:', numpy.mean(array))\n",
    "print('STD:', numpy.std(array))"
   ]
  },
  {
   "cell_type": "markdown",
   "metadata": {},
   "source": [
    "It is very common to see numpy and pandas shortened to `np` and `pd` respectively:\n",
    "\n",
    "```python\n",
    "import pandas as pd\n",
    "import numpy as np\n",
    "```\n",
    "\n",
    "The functionality remains the same while making the code look a little cleaner.\n",
    "\n",
    "Below is a small example using the pandas package to read the medals data we downloaded in an above cell, notice that pandas formats the data in a much more pleasent way.\n",
    "\n",
    "***Note:*** *If you did not run the 'Packages' cell then you will need to, to download the required file and define the variable `path`*"
   ]
  },
  {
   "cell_type": "code",
   "execution_count": null,
   "metadata": {},
   "outputs": [],
   "source": [
    "import pandas as pd\n",
    "\n",
    "df = pd.read_csv(path)  # `path` is defined in an above cell\n",
    "df.head(10)             # Show the first 10 rows of the table"
   ]
  },
  {
   "cell_type": "markdown",
   "metadata": {},
   "source": [
    "## Discussion\n",
    "\n",
    "Python has become a very popular programming language in recent years due to its expressiveness and its 'easy-to-read' syntax. The scientific Python stack is now vast and hence it is easy to become productive when using Python in a project. Learning the basics of Python may end up being a major asset in your future career path!\n",
    "\n",
    "Feel free to add more code cells and experiment with the concepts you have learnt.\n",
    "\n",
    "In the next session we will learn to use the popular packages [numpy](https://numpy.org/) and [pandas](https://pandas.pydata.org/), which are very powerful tools for data analysis.\n",
    "\n",
    "Now you should try to complete the **exericises**. Feel free to use these notebooks as references.\n",
    "\n",
    "If you want to know more there are some extra resources from external sources linked in the beginning section. You can click the link below to go back to the top.\n",
    "\n",
    "Click [here](#Contents) to go back to the contents."
   ]
  },
  {
   "cell_type": "code",
   "execution_count": null,
   "metadata": {},
   "outputs": [],
   "source": []
  }
 ],
 "metadata": {
  "kernelspec": {
   "display_name": "Python 3",
   "language": "python",
   "name": "python3"
  },
  "language_info": {
   "codemirror_mode": {
    "name": "ipython",
    "version": 3
   },
   "file_extension": ".py",
   "mimetype": "text/x-python",
   "name": "python",
   "nbconvert_exporter": "python",
   "pygments_lexer": "ipython3",
   "version": "3.6.13"
  },
  "pycharm": {
   "stem_cell": {
    "cell_type": "raw",
    "metadata": {
     "collapsed": false
    },
    "source": []
   }
  }
 },
 "nbformat": 4,
 "nbformat_minor": 4
}
