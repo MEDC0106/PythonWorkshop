{
 "cells": [
  {
   "cell_type": "markdown",
   "metadata": {},
   "source": [
    "### MEDC0106: Bioinformatics in Applied Biomedical Science\n",
    "\n",
    "<p align=\"center\">\n",
    "  <img src=\"../../resources/static/Banner.png\" alt=\"MEDC0106 Banner\" width=\"90%\"/>\n",
    "  <br>\n",
    "</p>\n",
    "\n",
    "---------------------------------------------------------------\n",
    "\n",
    "# 03 - Modules and packages\n",
    "\n",
    "*Written by:* Oliver Scott\n",
    "\n",
    "**This notebook provides a general introduction to using modules and packages in Python.**\n",
    "\n",
    "Do not be afraid to make changes to the code cells to explore how things work!\n",
    "\n",
    "### What are modules?\n",
    "\n",
    "In programming, a **module** is a part of software that contains code for a specific function. When developing large projects, breaking code into modules helps keep it **readable** and **maintainable**. For example, if we were building a game, one module might handle physics, while another manages what is rendered on the screen.\n",
    "\n",
    "In Python, a module is simply a file with a `.py` extension, containing functions, variables, and classes. When we import this code into Python, we use the name of the file without the extension. For example, a file called *test.py* defines a module, and its corresponding name in Python would be *test*.\n",
    "\n",
    "Python includes a relatively large collection of useful modules, such as `math`; however, we can also define our own modules or download them from a third party.\n",
    "\n",
    "### What are packages?\n",
    "\n",
    "Packages are simply collections of modules and other packages, organised within a directory. To qualify as a package, a special `__init__.py` file must be present, indicating that the directory defines a package. For example:\n",
    "\n",
    "```\n",
    "audio/\n",
    "    __init__.py\n",
    "    formats/\n",
    "        __init__.py\n",
    "        mp3.py\n",
    "        wav.py\n",
    "    effects/\n",
    "        __init__.py\n",
    "        echo.py\n",
    "        fade.py  \n",
    "```\n",
    "\n",
    "The structure above defines a package named `audio`, which contains two sub-packages: `formats` and `effects`. The `formats` package includes two modules, `mp3` and `wav`, while the `effects` package contains the modules `echo` and `fade`. In this notebook, we won’t dwell on package structures, but it’s useful to understand their layout. If you’d like to learn more about creating and structuring packages, consider exploring the extra resources linked below.\n",
    "\n",
    "### The Python Standard Library\n",
    "\n",
    "Python includes an extensive [collection](https://docs.python.org/3/library/) of modules and packages that are valuable to any programmer. Becoming familiar with the standard library is essential, as it offers solutions to many common programming tasks, enabling you to solve problems quickly without writing new code. A helpful guide to the standard library is available on the Python website [here](https://docs.python.org/3.8/tutorial/stdlib.html).\n",
    "\n",
    "### Third-party extensions\n",
    "\n",
    "The Python Standard Library, while extensive, is not exhaustive. Additional components can be installed from the [Python Package Index](https://pypi.org/) (PyPI), where you’ll find everything from individual modules and packages to complete application development frameworks. The scientific community also frequently uses [Anaconda](https://www.anaconda.com/products/individual), which allows easy installation of complex packages, including those with compiled code (e.g., C, C++, Rust). If you are viewing these notebooks through Binder, it has already installed several third-party packages that we will use in these sessions.\n",
    "\n",
    "----\n",
    "\n",
    "## Contents\n",
    "\n",
    "1. [Importing modules](#Importing-modules)\n",
    "2. [Writing modules](#Writing-modules)\n",
    "3. [Packages](#Packages)\n",
    "4. [Third-party modules and packages](#Third-party-modules-and-packages)\n",
    "5. [Discussion](#Discussion)\n",
    "\n",
    "----\n",
    "\n",
    "### Extra resources\n",
    "\n",
    "This introduction to Python is by no means comprehensive. Below are some links to external resources for learning Python if you are interested.\n",
    "\n",
    "- [Real Python](https://realpython.com/) - Free Python tutorials\n",
    "- [CodeAcademy](https://www.codecademy.com/learn/learn-python-3) - Python lessons\n",
    "- [Cheat-Sheets](https://ehmatthes.github.io/pcc_2e/cheat_sheets/cheat_sheets/) - Python reference sheets\n",
    "\n",
    "----\n",
    "\n",
    "## Importing Modules\n",
    "\n",
    "In Python modules can be imported using the `import` statement:\n",
    "\n",
    "```python\n",
    "import mymodule\n",
    "```\n",
    "\n",
    "Attributes contained within the imported molecule can then be accessed using the 'dot' `.` syntax:\n",
    "\n",
    "```python\n",
    "mymodule.myvariable\n",
    "mymodule.myfunction()\n",
    "```\n",
    "\n",
    "The examples below show the most common ways to import functionallity from modules."
   ]
  },
  {
   "cell_type": "code",
   "execution_count": null,
   "metadata": {},
   "outputs": [],
   "source": [
    "import math\n",
    "\n",
    "print(\"Pi:\", math.pi)  # Modules can define useful variables\n",
    "\n",
    "double_pi = math.pi * 2  # We can use the imported variables just like normal variables \n",
    "\n",
    "# Modules may also define functions that we can utilise in our own code\n",
    "print(\"Degrees in Pi radians:\", math.degrees(math.pi))\n",
    "print(\"Degrees in 2*Pi radians:\", math.degrees(double_pi))"
   ]
  },
  {
   "cell_type": "markdown",
   "metadata": {},
   "source": [
    "Python's `from` statement allows you to import specific attributes from a module.\n",
    "\n",
    "```python\n",
    "from mymodule import attr1[, attr2[, attr3, ..., attrN]]\n",
    "```"
   ]
  },
  {
   "cell_type": "code",
   "execution_count": null,
   "metadata": {},
   "outputs": [],
   "source": [
    "from math import pi, degrees  # Importing two attributes (variable, function)\n",
    "\n",
    "print(\"Pi:\", pi)\n",
    "print(\"Degrees in Pi radians:\", degrees(pi))"
   ]
  },
  {
   "cell_type": "markdown",
   "metadata": {},
   "source": [
    "You can also import attributes using custom names. This is useful for shortening a module, function, or variable name, or to avoid conflicts with names in your own code. **Aliasing** does not affect functionality.\n",
    "\n",
    "```python\n",
    "import mymodule as module\n",
    "from mymodule import attr1 as attr\n",
    "```\n",
    "\n",
    "In the example below we import `pi` from math as `PI`:"
   ]
  },
  {
   "cell_type": "code",
   "execution_count": null,
   "metadata": {},
   "outputs": [],
   "source": [
    "from math import pi as PI\n",
    "\n",
    "print(\"Pi:\", PI)"
   ]
  },
  {
   "cell_type": "markdown",
   "metadata": {},
   "source": [
    "Jupyter allows you to see a modules contents in a handy popup window. Just type the module name followed by a dot and hit `TAB`.\n",
    "\n",
    "<p align=\"center\">\n",
    "  <img src=\"../../resources/static/tooltip.png\" alt=\"Tooltip\"/>\n",
    "  <br>\n",
    "</p>\n",
    "\n",
    "Try this in the cell block below:\n",
    "\n",
    "1. Uncomment the line below.\n",
    "2. Move your cursor after the dot.\n",
    "3. Press the Tab key on your keyboard."
   ]
  },
  {
   "cell_type": "code",
   "execution_count": null,
   "metadata": {},
   "outputs": [],
   "source": [
    "# math."
   ]
  },
  {
   "cell_type": "markdown",
   "metadata": {},
   "source": [
    "Using the `help` function also gives us an overview of a module's contents.\n",
    "\n",
    "***Note:*** *you can also use the help function to give information about functions and classes*."
   ]
  },
  {
   "cell_type": "code",
   "execution_count": null,
   "metadata": {},
   "outputs": [],
   "source": [
    "help(math)"
   ]
  },
  {
   "cell_type": "markdown",
   "metadata": {},
   "source": [
    "## Packages\n",
    "\n",
    "Packages are a convenient way to compartmentalise a large amount of functionality. The syntax for using packages is very similar to that of modules. We can import a package using the same syntax.\n",
    "\n",
    "```python\n",
    "# Import mypackage\n",
    "import mypackage\n",
    "\n",
    "# Import a subpackage\n",
    "from mypackage import subpackage\n",
    "\n",
    "# Import a module from a subpackage\n",
    "from mypackage.subpackage import mymodule\n",
    "\n",
    "# Import a function from mymodule\n",
    "from mypackage.subpackage.mymodule import myfunction\n",
    "```\n",
    "\n",
    "If we refer back to the `audio` package example from earlier importing the module wav would be as simple as:\n",
    "\n",
    "```python\n",
    "from audio.formats import wav\n",
    "```\n",
    "\n",
    "We could then use functions defined in wav:\n",
    "\n",
    "```python\n",
    "wav.read_wav_file(...)\n",
    "```"
   ]
  },
  {
   "cell_type": "markdown",
   "metadata": {},
   "source": [
    "## Third-party modules and packages\n",
    "\n",
    "We can also import third-party extensions using the `import` statement. Binder has handled all the installation procedure for us in this case, but we often use a package installer like [pip](https://pypi.org/project/pip/) or [conda](https://docs.conda.io/en/latest/) to install packages. In fact we can install packages from inside Jupyter using pip like so:\n",
    "\n",
    "```\n",
    "!pip install numpy\n",
    "```\n",
    "\n",
    "If you were to try this you would probably get a message similar to this:\n",
    "\n",
    "```\n",
    "Requirement already satisfied: numpy in /srv/conda/envs/notebook/lib/python3.9/site-packages (1.21.2)\n",
    "```\n",
    "\n",
    "Two of the most popular Python packages are [numpy](https://numpy.org/) and [pandas](https://pandas.pydata.org/), which we will learn more about in the next session. Below is a brief example of importing these packages and using some of their functionalities."
   ]
  },
  {
   "cell_type": "code",
   "execution_count": null,
   "metadata": {},
   "outputs": [],
   "source": [
    "import numpy\n",
    "\n",
    "# Create a numpy array (similar to a list of numbers)\n",
    "array = numpy.array([1,2,3,4,5,6])\n",
    "\n",
    "# We can compute some statistics using numpy\n",
    "print('Mean:', numpy.mean(array))\n",
    "print('STD:', numpy.std(array))"
   ]
  },
  {
   "cell_type": "markdown",
   "metadata": {},
   "source": [
    "It is very common to see numpy and pandas shortened to `np` and `pd`, respectively.\n",
    "\n",
    "```python\n",
    "import pandas as pd\n",
    "import numpy as np\n",
    "```\n",
    "\n",
    "The functionality remains the same while making the code look a little cleaner."
   ]
  },
  {
   "cell_type": "markdown",
   "metadata": {},
   "source": [
    "## Discussion\n",
    "\n",
    "Python has become a very popular programming language in recent years due to its expressiveness and its 'easy-to-read' syntax. The scientific Python stack is now vast and hence it is easy to become productive when using Python in a project. Learning the basics of Python may end up being a major asset in your future career path.\n",
    "\n",
    "Feel free to add more cells and experiment with the concepts you have learnt.\n",
    "\n",
    "In the next session we will learn to use the popular packages [numpy](https://numpy.org/) and [pandas](https://pandas.pydata.org/), which are very powerful tools for data analysis.\n",
    "\n",
    "Now you should try to complete the **exercises** in `04_exercises.ipynb`.\n",
    "\n",
    "If you want to learn more there are some extra external resources linked at the beginning of this notebook. You can click [here](#Contents) to go back to the top."
   ]
  }
 ],
 "metadata": {
  "kernelspec": {
   "display_name": "Python 3 (ipykernel)",
   "language": "python",
   "name": "python3"
  },
  "language_info": {
   "codemirror_mode": {
    "name": "ipython",
    "version": 3
   },
   "file_extension": ".py",
   "mimetype": "text/x-python",
   "name": "python",
   "nbconvert_exporter": "python",
   "pygments_lexer": "ipython3",
   "version": "3.11.7"
  },
  "pycharm": {
   "stem_cell": {
    "cell_type": "raw",
    "metadata": {
     "collapsed": false
    },
    "source": []
   }
  }
 },
 "nbformat": 4,
 "nbformat_minor": 4
}
