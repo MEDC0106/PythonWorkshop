{
 "cells": [
  {
   "cell_type": "markdown",
   "metadata": {},
   "source": [
    "### MEDC0106: Bioinformatics in Applied Biomedical Science\n",
    "\n",
    "<p align=\"center\">\n",
    "  <img src=\"../../resources/static/Banner.png\" alt=\"MEDC0106 Banner\" width=\"90%\"/>\n",
    "  <br>\n",
    "</p>\n",
    "\n",
    "---------------------------------------------------------------\n",
    "\n",
    "# 02 - Introduction to Functions\n",
    "\n",
    "*Written by:* Oliver Scott\n",
    "\n",
    "**This notebook provides a general introduction to Python functions.**\n",
    "\n",
    "Do not be afraid to make changes to the code cells to explore how things work!\n",
    "\n",
    "### What are functions?\n",
    "\n",
    "Functions are an integral part of Python and most other programming languages, bundling blocks of reusable code that performs a paticular task. When carrying out a paticular task a function may or may not require multiple inputs and when finished may or may not return multiple outputs. Programmers often use functions to prevent re-writing multiple lines of code or break up complex processes making code much easier to read and debug. In Python there are three main types of function:\n",
    "\n",
    "- [Built-in functions](https://docs.python.org/3/library/functions.html) such as `print()`, and `min()`/`max()` *(We have come across these in the previous notebook)*\n",
    "- User defined functions (UDFs), created by a user\n",
    "- Anonymous functions, or `lambda` functions which are not declared using the keyword `def`\n",
    "\n",
    "In this notebook you will learn how to create your own functions to perform various tasks.\n",
    "\n",
    "----\n",
    "\n",
    "## Contents\n",
    "\n",
    "1. [The Anatomy of a Function](#The-Anatomy-of-a-Function)\n",
    "2. [Function Arguments](#Function-Arguments)\n",
    "3. [Understanding Scope](#Understanding-Scope)\n",
    "4. [Anonymous Functions](#Anonymous-Functions)\n",
    "4. [Discussion](#Discussion)\n",
    "\n",
    "----\n",
    "\n",
    "### Extra Resources\n",
    "\n",
    "This introduction to Python is by no means comprehensive. Below are some links to resources for learning Python if you are interested.\n",
    "\n",
    "- [RealPython](https://realpython.com/) - Free python tutorials from beginner to advanced\n",
    "- [CodeAcademy](https://www.codecademy.com/learn/learn-python-3) - Python lessons\n",
    "- [Cheat-Sheets](https://ehmatthes.github.io/pcc_2e/cheat_sheets/cheat_sheets/) - Python reference sheets\n",
    "- [Functions cheat-sheet](https://github.com/ehmatthes/pcc_2e/releases/download/v1.0.1/beginners_python_cheat_sheet_pcc_functions.pdf)\n",
    "----\n",
    "\n",
    "## The Anatomy of a Function\n",
    "\n",
    "In Python functions are declared using the keyword `def`:\n",
    "\n",
    "```python\n",
    "def add_numbers(x, y):\n",
    "    \"\"\"Add two numbers (x, y) and return the result\"\"\"\n",
    "    result = x + y\n",
    "    return result\n",
    "```\n",
    "\n",
    "The above function consists of the follwing components:\n",
    "\n",
    "1. The keyword `def` that declares the following lines as a function.\n",
    "2. A function name *`add_numbers`*, giving a unique identifier to the function *(just like how we would name a variable)*\n",
    "3. Parameters/arguments *`(x, y)`* specifying what data we wish to provide the function. These are optional although the brackets myst always exist i.e. `def no_arg_function():`\n",
    "4. A colon `:` to mark the end of the function declaration.\n",
    "5. Optional function description (*docstring*).\n",
    "6. One or more lines of Python code, making up the function body. These lines should be indented to mark that they are part of the function (tab/four spaces). \n",
    "7. An optional `return` statement to return a value from the function.\n",
    "\n",
    "Once a function is defined we can use it with the following syntax:\n",
    "\n",
    "```python\n",
    "add_numbers(1, 2)\n",
    "# we can assign the returned value to a variable like so\n",
    "sum_result = add_numbers(1, 2)\n",
    "\n",
    "```\n",
    "\n",
    "Lets define a function in the cell below:\n"
   ]
  },
  {
   "cell_type": "code",
   "execution_count": null,
   "metadata": {},
   "outputs": [],
   "source": [
    "def multiply(x, y):                                             # Function definition line \n",
    "    \"\"\"Multiply two numbers (x, y) and return the result\"\"\"     # Docstring\n",
    "    result = x * y                                              # Function body\n",
    "    return result                                               # Return statement\n",
    "\n",
    "\n",
    "# Note the variables below do not need to have the same name as defined in the function definition\n",
    "# They could just as easily be named i and j for example.\n",
    "# The defined names are just how they will be refered to in the function body itself\n",
    "\n",
    "x = 10\n",
    "y = 2\n",
    "\n",
    "multiply_result = multiply(x, y)\n",
    "\n",
    "print('The result of', x, '*', y, 'is:', multiply_result)"
   ]
  },
  {
   "cell_type": "markdown",
   "metadata": {},
   "source": [
    "Just as easily we could define a function which **does not** return a value:"
   ]
  },
  {
   "cell_type": "code",
   "execution_count": null,
   "metadata": {},
   "outputs": [],
   "source": [
    "def greet(name):\n",
    "    \"\"\"Print a personalised greeting\"\"\"\n",
    "    greeting = 'Hello, ' + name + '. Good morning!'\n",
    "    print(greeting)\n",
    "    \n",
    "greet('John')"
   ]
  },
  {
   "cell_type": "markdown",
   "metadata": {},
   "source": [
    "There is also no requirement that a function has one return statement, for example here we use control flow to implement an absolute value function:"
   ]
  },
  {
   "cell_type": "code",
   "execution_count": null,
   "metadata": {},
   "outputs": [],
   "source": [
    "def absolute_value(number):\n",
    "    \"\"\"Get the absolute value for a number\"\"\"\n",
    "    if number >= 0:\n",
    "        return number\n",
    "    else: # invert the sign\n",
    "        return -number\n",
    "    \n",
    "i = 10\n",
    "j = -4\n",
    "\n",
    "# functions can be called within other functions also!\n",
    "print('The absolute value of', i, 'is:', absolute_value(i))\n",
    "print('The absolute value of', j, 'is:', absolute_value(j))"
   ]
  },
  {
   "cell_type": "markdown",
   "metadata": {},
   "source": [
    "## Function Arguments\n",
    "\n",
    "We have already seen how to define a function that takes a simple set of arguments. In reality Python has four types of argument that a user defined function can handle:\n",
    "\n",
    "1. Default arguments\n",
    "2. Required arguments\n",
    "3. Keyword arguments\n",
    "4. Variable number of arguments (unkown number at time of definition)\n",
    "\n",
    "### Default Arguments:\n",
    "\n",
    "Default arguments allow a function to provide a default argument when no argument is passed during a function call. Default arguments are assigned with the `=` operator. Notice how in the first call the second argument `y` is not provided: "
   ]
  },
  {
   "cell_type": "code",
   "execution_count": null,
   "metadata": {},
   "outputs": [],
   "source": [
    "def power(x, y=2):\n",
    "    \"\"\"The power() function returns the value of x to the power of y.\"\"\"\n",
    "    result = x ** y\n",
    "    return result\n",
    "\n",
    "number = 2\n",
    "\n",
    "print('No `y` argument:', power(number))\n",
    "print('`y` argument:', power(number, 3))"
   ]
  },
  {
   "cell_type": "markdown",
   "metadata": {},
   "source": [
    "### Required Arguments:\n",
    "\n",
    "Required arguments are simply those that are required by the function to run without an error. These are the same as we have seen in the first section. Arguments should be provided in the correct order as it may influence the result of the function:"
   ]
  },
  {
   "cell_type": "code",
   "execution_count": null,
   "metadata": {},
   "outputs": [],
   "source": [
    "def divide(x, divisor):\n",
    "    \"\"\"The divide() function return the value of x divided by a divisor.\"\"\"\n",
    "    result = x / divisor\n",
    "    return result\n",
    "\n",
    "x = 100\n",
    "\n",
    "# Lets try to get the answer for 100 / 10:\n",
    "print('Result:', divide(x, 10))\n",
    "\n",
    "# Notice that the order is important!\n",
    "print('Result:', divide(10, x))"
   ]
  },
  {
   "cell_type": "markdown",
   "metadata": {},
   "source": [
    "### Keyword Arguments:\n",
    "\n",
    "Keyword arguments provide a neat way to resassure/help the programmer, make sure they provide parameters in the correct order. These arguments are used in the function call. We can use the example function in the above cell as an example (notice that the only difference is in the function call):"
   ]
  },
  {
   "cell_type": "code",
   "execution_count": null,
   "metadata": {},
   "outputs": [],
   "source": [
    "def divide(x, divisor):\n",
    "    \"\"\"The divide() function return the value of x divided by a divisor.\"\"\"\n",
    "    result = x / divisor\n",
    "    return result\n",
    "\n",
    "x = 60\n",
    "\n",
    "# Lets try 60 / 3, making sure we get the arguments in the correct order:\n",
    "print('Result', divide(x=x, divisor=3))\n",
    "\n",
    "# Using this syntax it doesnt matter what order we provide the arguments!\n",
    "print('Result', divide(divisor=3, x=x))"
   ]
  },
  {
   "cell_type": "markdown",
   "metadata": {},
   "source": [
    "### Variable Number of Arguments:\n",
    "\n",
    "Sometimes one may not know the number of arguments that will be passed to a function. Maybe you would like to calculate the summation of an arbritary number of variables. To pass multiple functions to a function you can use the `*args` syntax:"
   ]
  },
  {
   "cell_type": "code",
   "execution_count": null,
   "metadata": {},
   "outputs": [],
   "source": [
    "def summation(*args):\n",
    "    \"\"\"The summation() function calculates the sum of an arbritary number of variables.\"\"\"\n",
    "    total = 0\n",
    "    for value in args:\n",
    "        total += value\n",
    "    return total\n",
    "\n",
    "a = 2\n",
    "b = 3\n",
    "c = 4\n",
    "d = 10\n",
    "\n",
    "print('Result:', summation(a, b, c, d))"
   ]
  },
  {
   "cell_type": "markdown",
   "metadata": {},
   "source": [
    "***Note:*** *The asterisk `*` is placed before the variable name that holds the values of all non-keyword variable arguments. Here that you might as well have passed `*varint`, `*var_int_args` or any other name to the `summation()` function.*"
   ]
  },
  {
   "cell_type": "markdown",
   "metadata": {},
   "source": [
    "## Understanding Scope\n",
    "\n",
    "Scope is an important concept in programming, defining in which parts of the program a variable can be seen/recognised. Variables defined within a function are not visible to code outside of the function, hence they are said to have ***local-scope***. Varaibles defined outside of functions in general have ***global-scope*** and can be accessed anywhere within your Python code including from within function bodies.\n",
    "\n",
    "Variables in Python also have ***lifetimes*** defining the period in which the exists in memory. In a function a variable *lives* as long as the function takes to execute, after which they are destroyed.\n",
    "\n",
    "Below is an example demonstrating variable scope (notice that the function does not modify the variable number defined in the global scope):"
   ]
  },
  {
   "cell_type": "code",
   "execution_count": null,
   "metadata": {},
   "outputs": [],
   "source": [
    "def my_function():\n",
    "    number = 22\n",
    "    print('Inside function number =', number)\n",
    "    \n",
    "\n",
    "number = 44\n",
    "my_function()\n",
    "print('Outside function number =', number)"
   ]
  },
  {
   "cell_type": "markdown",
   "metadata": {},
   "source": [
    "## Anonymous Functions\n",
    "\n",
    "Anonymous functions are special Python functions defined using the `lambda` keyword. Anonymous functions are single-lined and are usually used when a non-named function is required for a short perios of time. For example they are useful with the `map()` and `filter()` built-in functions.\n",
    "\n",
    "- The `filter()` function filters an input list on the basis of a criterion which can be specified using a lambda function.\n",
    "- The `map()` function applys a function to all items in a list.\n",
    "\n",
    "See examples below:"
   ]
  },
  {
   "cell_type": "code",
   "execution_count": null,
   "metadata": {},
   "outputs": [],
   "source": [
    "# A lambda function can be assigned to a variable but really this isn't often done\n",
    "double = lambda x: x * 2\n",
    "print(double(5))\n",
    "\n",
    "# A lambda function can also take more than one argument\n",
    "sum_two = lambda x, y: x + y\n",
    "print(sum_two(5, 8))\n",
    "\n",
    "# Realistically lambda functions should be used with functions like filter() (filter values < 10)\n",
    "my_num_list = [1, 2, 5, 8, 12, 15, 20, 6]\n",
    "filtered = list(filter(lambda x: x < 10, my_num_list))\n",
    "print(filtered)\n",
    "\n",
    "# Or map()... (square the numbers)\n",
    "mapped = list(map(lambda x: x * x, my_num_list))\n",
    "print(mapped)"
   ]
  },
  {
   "cell_type": "markdown",
   "metadata": {},
   "source": [
    "## Discussion\n",
    "\n",
    "That all for the introduction to functions. Don't worry if you feel a little confused, functions can be one of the harder parts if a programming language to wrap your head around. Take some time to practise with the above examples, changing some details to see what happens.\n",
    "\n",
    "Feel free to add more code cells and experiment with the concepts you have learnt.\n",
    "\n",
    "In the next notebook we will look at how to use modules and packages defining pre-made functions you can utilise in your own code! \n",
    "\n",
    "If you want to know more there are some extra resources from external sources linked in the beginning section. You can click the link below to go back to the top.\n",
    "\n",
    "Click [here](#Contents) to go back to the contents."
   ]
  }
 ],
 "metadata": {
  "kernelspec": {
   "display_name": "Python 3",
   "language": "python",
   "name": "python3"
  },
  "language_info": {
   "codemirror_mode": {
    "name": "ipython",
    "version": 3
   },
   "file_extension": ".py",
   "mimetype": "text/x-python",
   "name": "python",
   "nbconvert_exporter": "python",
   "pygments_lexer": "ipython3",
   "version": "3.6.13"
  }
 },
 "nbformat": 4,
 "nbformat_minor": 4
}
