{
 "cells": [
  {
   "cell_type": "markdown",
   "metadata": {
    "collapsed": true
   },
   "source": [
    "### MEDC0106: Bioinformatics in Applied Biomedical Science\n",
    "\n",
    "<p align=\"center\">\n",
    "  <img src=\"../../resources/static/Banner.png\" alt=\"MEDC0106 Banner\" width=\"90%\"/>\n",
    "  <br>\n",
    "</p>\n",
    "\n",
    "---------------------------------------------------------------\n",
    "\n",
    "# 01 - Introduction to Python\n",
    "\n",
    "*Written by:* Oliver Scott\n",
    "\n",
    "**This notebook provides a general introduction to Python.**\n",
    "\n",
    "Do not be afraid to make changes to the code cells to explore how things work!\n",
    "\n",
    "### What is Python?\n",
    "\n",
    "**Python** is a popular general-purpose, high-level programming language. It is paticularly popular amongst the scientific community due to it's inherent readability.\n",
    "\n",
    "It is commonly used for:\n",
    "\n",
    "- Web development (server-side),\n",
    "- Software development,\n",
    "- System scripting,\n",
    "- Science,\n",
    "- Much more!\n",
    "\n",
    "\n",
    "### What is Jupyter?\n",
    "\n",
    "**Jupyter** is an open-source web application that allows the creation and sharing of documents that contain live code, equations, visualizations and explanatory text.\n",
    "\n",
    "Uses include:\n",
    "\n",
    "- Data exploration and visualisation\n",
    "- Numerical simulation\n",
    "- Statistical modeling\n",
    "- Machine learning\n",
    "- Much more!\n",
    "\n",
    "-----\n",
    "\n",
    "## Contents\n",
    "\n",
    "- [Writing Code](#Writing-code)\n",
    "- [Comments](#Comments)\n",
    "- [Variables and Datatypes](#Variables-and-Datatypes)\n",
    "\n",
    "-----\n",
    "\n",
    "#### Extra Resources:\n",
    "\n",
    "This introduction to Python is by no means comprehensive. Below are some links to resources for learning Python if you are interested.\n",
    "\n",
    "- [RealPython](https://realpython.com/) - Free python tutorials from beginner to advanced\n",
    "- [CodeAcademy](https://www.codecademy.com/learn/learn-python-3) - Python lessons\n",
    "- [Cheat-Sheets](https://ehmatthes.github.io/pcc_2e/cheat_sheets/cheat_sheets/) - Python reference sheets\n",
    "\n",
    "-----\n",
    "\n",
    "## Writing code\n",
    "\n",
    "We can write sections of code in blocks called code cells.\n",
    "\n",
    "Try running the cell below (click the run/play button in the toolbar).\n",
    "\n",
    "The cell should be selected first (click).\n",
    "\n",
    "*Shortcuts:*\n",
    "\n",
    "- WIN: ctrl + enter\n",
    "- OSX: ⌘ + enter\n"
   ]
  },
  {
   "cell_type": "code",
   "execution_count": null,
   "metadata": {
    "scrolled": true
   },
   "outputs": [],
   "source": [
    "print(\"This is a code cell!\")"
   ]
  },
  {
   "cell_type": "markdown",
   "metadata": {},
   "source": [
    "## Comments\n",
    "\n",
    "To enhance readability of code, programmers use comments. These have no effect on the running of the program, but are important to make your code understandable.\n",
    "\n",
    "`# We can use the hash symbol to define a comment`\n",
    "\n",
    "Comments will be used in the code blocks below to help you understand what is going on."
   ]
  },
  {
   "cell_type": "code",
   "execution_count": null,
   "metadata": {},
   "outputs": [],
   "source": [
    "# This is a comment\n",
    "# Notice that this cell outputs nothing when run"
   ]
  },
  {
   "cell_type": "markdown",
   "metadata": {},
   "source": [
    "Comments make it clear what sections of code are doing:"
   ]
  },
  {
   "cell_type": "code",
   "execution_count": null,
   "metadata": {},
   "outputs": [],
   "source": [
    "# This code line will print the sum of two numbers\n",
    "print(10 + 12)"
   ]
  },
  {
   "cell_type": "markdown",
   "metadata": {},
   "source": [
    "## Variables and Datatypes\n",
    "\n",
    "Variables are one of the most important components of a programming languyage. Variables are used to store information. This gives a short hand notation to refer to potentially very large amounts of information!\n",
    "\n",
    "We can assign data to variables using the `=` symbol:\n",
    "\n",
    "`variable = data`\n",
    "\n",
    "Once we have assigned data to a variable we can then access that data using the variable name.\n",
    "\n",
    "When naming a variable it is best practice to give it a name which describes the data it holds. We use underscores `_` to make variable names easier to read (spaces cannot be used) e.g. \n",
    "\n",
    "`my_long_variable_name`\n",
    "\n",
    "Also note that Python contains keywords that **should not** be used as variable names. This is because they have explicit functions in Python. In this editor (Jupyter) you will be able to tell a keyword when it is automatically highlighted. Alternatively [here](https://www.w3schools.com/python/python_ref_keywords.asp) is a list of reserved keywords.\n",
    "\n",
    "*Note: Python is a dynamically typed language and therfore the type of a variable does not need to be specified. If you are familiar with statically typed languages (e.g. c, c++, Java) this may seem a little unusual.*"
   ]
  },
  {
   "cell_type": "code",
   "execution_count": null,
   "metadata": {},
   "outputs": [],
   "source": [
    "# In this line we assign the text \"Hello, World!\" to the variable `my_string`\n",
    "my_string = \"Hello, World!\"\n",
    "\n",
    "# We can print the contents of the variable using the print function\n",
    "print(my_string)\n",
    "\n",
    "# We can also create aliases to the same data\n",
    "my_string_alias = my_string\n",
    "\n",
    "# We could also do the above like so\n",
    "my_string = my_string_alias = \"Hello, World\""
   ]
  },
  {
   "cell_type": "markdown",
   "metadata": {},
   "source": [
    "**Python** has several built in datatypes/objects which are useful to a programmer.\n",
    "\n",
    "In this session we will look at:\n",
    "\n",
    "- Strings\n",
    "- Numerical Types\n",
    "- Booleans\n",
    "- Collections\n",
    "\n",
    "*Note that this is only an introduction. There is much more you can do with these data types!*\n",
    "\n",
    "Check out these [cheat-sheets](https://ehmatthes.github.io/pcc_2e/cheat_sheets/cheat_sheets/), for easy to use reference.\n",
    "\n",
    "### Strings\n",
    "\n",
    "Strings in Python hold text data (`str`).\n",
    "\n",
    "Strings can be enclosed with either single or double quotation marks. Multi-line strings can be defined using triple quotes. Sometimes multi-line strings can be useful for making long comments or documenting code."
   ]
  },
  {
   "cell_type": "code",
   "execution_count": null,
   "metadata": {},
   "outputs": [],
   "source": [
    "# Double quote syntax\n",
    "string_one = \"This is a Python string\"\n",
    "print(string_one)\n",
    "\n",
    "# Single quote syntax\n",
    "string_two = \"This is also a string\"\n",
    "print(string_two)\n",
    "\n",
    "# Triple quote syntax\n",
    "string_three = \"\"\"This is also a string,\n",
    "but can span multiple lines\"\"\"\n",
    "print(string_three)"
   ]
  },
  {
   "cell_type": "markdown",
   "metadata": {},
   "source": [
    "### Numerical/Scalar types\n",
    "\n",
    "**Python** has three built-in numerical types:\n",
    "\n",
    "**Integer** `int`:\n",
    "\n",
    "Int, or integer, is a whole number, positive or negative, without decimals, of unlimited length.\n",
    "\n",
    "**Float** `float`:\n",
    "\n",
    "Float, or \"floating point number\" is a number, positive or negative, containing one or more decimals.\n",
    "\n",
    "**Complex** `complex`:\n",
    "\n",
    "Complex numbers are written with a \"j\" as the imaginary part:"
   ]
  },
  {
   "cell_type": "code",
   "execution_count": null,
   "metadata": {},
   "outputs": [],
   "source": [
    "x = 42    # Integer (int)\n",
    "y = 42.0  # Float (float)\n",
    "z = 2j    # Complex (complex)\n",
    "\n",
    "# We can also print multiple things at the same time\n",
    "print(x, y, z)\n",
    "\n",
    "# To verify the types of the above we can use the `type` function \n",
    "print(type(x))\n",
    "print(type(y))\n",
    "print(type(z))"
   ]
  },
  {
   "cell_type": "markdown",
   "metadata": {},
   "source": [
    "Floats can also be formatic in scientific notation with an \"e\" to indicate the power of 10."
   ]
  },
  {
   "cell_type": "code",
   "execution_count": null,
   "metadata": {},
   "outputs": [],
   "source": [
    "big_float = 1e9\n",
    "small_float = -82.7e10  # negative number\n",
    "\n",
    "print(big_float)\n",
    "print(small_float)"
   ]
  },
  {
   "cell_type": "markdown",
   "metadata": {},
   "source": [
    "### Type Conversion\n",
    "\n",
    "You can convert from one type to another using `int()`, `float()`, and `complex()`\n",
    "\n",
    "This conversion is called *casting*.\n",
    "\n",
    "*Casting is useful for more than just numerical types, we will see examples of this later.*"
   ]
  },
  {
   "cell_type": "code",
   "execution_count": null,
   "metadata": {},
   "outputs": [],
   "source": [
    "x = 1    # int\n",
    "y = 2.8  # float\n",
    "\n",
    "# Convert from int to float\n",
    "a = float(x)\n",
    "\n",
    "# Convert from float to int\n",
    "b = int(y)\n",
    "\n",
    "print(x, \"->\", a)\n",
    "print(y, \"->\", b)\n",
    "\n",
    "# We can verify that they type has changed\n",
    "print(type(a))\n",
    "print(type(b))"
   ]
  },
  {
   "cell_type": "markdown",
   "metadata": {},
   "source": [
    "*Note: complex numbers cannot be converted into other numerical types (although float and int can be converted to complex)*"
   ]
  },
  {
   "cell_type": "markdown",
   "metadata": {},
   "source": [
    "### Booleans\n",
    "\n",
    "*Booleans* `bool` represent one of two values: `True` or `False`.\n",
    "\n",
    "In programming you often need to know if an expression is `True` or `False`. \n",
    "\n",
    "When you compare two values, the expression is evaluated and Python returns the **Boolean** answer\n",
    "\n",
    "*We will learn more about comparisons in the [Operators](#Operators) section. Booleans are also essential for [Control Flow](#Control-Flow)*"
   ]
  },
  {
   "cell_type": "code",
   "execution_count": null,
   "metadata": {},
   "outputs": [],
   "source": [
    "# We will take a look at these operators in a latter section\n",
    "\n",
    "print(10 > 9)   # Greater than `>`\n",
    "print(10 == 9)  # Equal to `==`\n",
    "print(10 < 9)   # Less than `<`\n",
    "\n",
    "# We can also assign booleans to variables.\n",
    "true = True\n",
    "false = False\n",
    "\n",
    "# Verify that the type is indeed boolean `bool`.\n",
    "print(type(true))\n",
    "print(type(false))"
   ]
  },
  {
   "cell_type": "markdown",
   "metadata": {},
   "source": [
    "We can also type convert booleans into and from multiple types.\n",
    "\n",
    "Try to **guess the output** of the cell below before running it.\n",
    "\n",
    "*Hint: Think Binary!*"
   ]
  },
  {
   "cell_type": "code",
   "execution_count": null,
   "metadata": {},
   "outputs": [],
   "source": [
    "true_int = int(True)    # Convert the boolean `True` to an integer\n",
    "false_int = int(False)  # Convert the boolean `False` to an integer\n",
    "\n",
    "# What will these lines print?\n",
    "print(true_int)\n",
    "print(false_int)"
   ]
  },
  {
   "cell_type": "markdown",
   "metadata": {},
   "source": [
    "### Collections\n",
    "\n",
    "There are four core collection data types in Python:\n",
    "\n",
    "- **Lists** `list` is a collection which is **ordered** and **changeable**. Allows duplicate members.\n",
    "- **Tuples** `tuple` is a collection which is **ordered** and **unchangeable**. Allows duplicate members.\n",
    "- **Sets** `set` is a collection which is **unordered** and **unindexed**. No duplicate members.\n",
    "- **Dictionaries** `dict` is a collection which is **unordered**, **changeable** and **indexed**. No duplicate members.\n",
    "\n",
    "When choosing a collection type, it is useful to understand the properties of that type.\n",
    "\n",
    "*Sometimes you will see the terms changeable and unchangeable written as mutable and immutable respectively.*\n",
    "\n",
    "### Lists\n",
    "A list list is ordered and changeable.\n",
    "\n",
    "In Python lists are written with square brackets:\n",
    "\n",
    "`my_list = ['hello', 'John', 22]`\n",
    "\n",
    "A list can contain any type of Python object."
   ]
  },
  {
   "cell_type": "code",
   "execution_count": null,
   "metadata": {},
   "outputs": [],
   "source": [
    "# Define and print a list containg colours\n",
    "colour_list = ['red', 'green', 'blue', 'yellow', 'white', 'black']\n",
    "print(colour_list)"
   ]
  },
  {
   "cell_type": "markdown",
   "metadata": {},
   "source": [
    "We can use **indexes** to access items in a `list`.\n",
    "\n",
    "In Python **indexes start at 0** refering to the **first** item in the list.\n",
    "\n",
    "We can also use **negative indexes** to access items from the end of the list. i.e. -1 refers to the last item in the list and -2 refers to the item before the last item in the list.\n",
    "\n",
    "Take a look at the reference image below:\n",
    "\n",
    "![PythonIndexing](https://railsware.com/blog/wp-content/uploads/2018/10/positive-indexes.png)\n",
    "\n",
    "[Image source](https://railsware.com/blog/python-for-machine-learning-indexing-and-slicing-for-lists-tuples-strings-and-other-sequential-types/)\n",
    "\n",
    "To use indexes we use a square-bracket syntax:\n",
    "\n",
    "`my_list[0]`\n",
    "\n",
    "The above example will access the first item in the list\n",
    "\n",
    "*Try to guess the output of the cell below before running!*"
   ]
  },
  {
   "cell_type": "code",
   "execution_count": null,
   "metadata": {},
   "outputs": [],
   "source": [
    "print(colour_list[0])\n",
    "print(colour_list[1])\n",
    "print(colour_list[3])\n",
    "print(colour_list[-1])\n",
    "print(colour_list[-3])\n",
    "\n",
    "# We can also change a value using indexing (the index must already exist!)\n",
    "colour_list[4] = 'purple'\n",
    "\n",
    "# lets verify this change\n",
    "print(colour_list)\n",
    "\n",
    "# Advanced - What do you think this will output? Hint: think ranges!\n",
    "print(colour_list[0:3])"
   ]
  },
  {
   "cell_type": "markdown",
   "metadata": {},
   "source": [
    "*The [n:m] syntax generates a slice of the data, where n and m are numerical indices forming a ranged query*\n",
    "\n",
    "----"
   ]
  },
  {
   "cell_type": "markdown",
   "metadata": {},
   "source": [
    "There are numerous ways to add and remove items from a list. For now we will only mention one of these; the `append` function.\n",
    "\n",
    "`my_list.append('item to append')`\n",
    "\n",
    "The append method adds an item to the end of a list.\n",
    "\n",
    "To see other methods check out the list [cheat-sheet](https://github.com/ehmatthes/pcc_2e/releases/download/v1.0.1/beginners_python_cheat_sheet_pcc_lists.pdf) later (click the link to download the sheet).\n",
    "\n",
    "Lets try out the append method!"
   ]
  },
  {
   "cell_type": "code",
   "execution_count": null,
   "metadata": {},
   "outputs": [],
   "source": [
    "# Add an item to the list\n",
    "colour_list.append('pink')\n",
    "\n",
    "# Lets verify that we added 'pink' to the end of the list.\n",
    "print(colour_list)"
   ]
  },
  {
   "cell_type": "markdown",
   "metadata": {},
   "source": [
    "### Tuples\n",
    "\n",
    "A **tuple** `tuple` is ordered and unchangeable.\n",
    "\n",
    "In Python tuples are written with round brackets.\n",
    "\n",
    "`my_tuple = ('John', 'Doe', 22)`\n",
    "\n",
    "- Like lists, tuples can contain strings and any other type of Python object.\n",
    "- Like lists, we can also use indexing to access items in the tuple.\n",
    "- Unlike lists, we cannot change, add, or remove items in a tuple."
   ]
  },
  {
   "cell_type": "code",
   "execution_count": null,
   "metadata": {},
   "outputs": [],
   "source": [
    "xyz = (3.01, 1.23, -1.22)  # define a tuple holding 3D coordinates.\n",
    "\n",
    "print(xyz[0], xyz[1], xyz[2])"
   ]
  },
  {
   "cell_type": "markdown",
   "metadata": {},
   "source": [
    "Remember that tuples are **unchangeable/Immutable** trying to change items will give us an error message.\n",
    "\n",
    "Error messages in Python are designed to be understandable and relatively easy to read.\n",
    "\n",
    "Lets try it"
   ]
  },
  {
   "cell_type": "code",
   "execution_count": null,
   "metadata": {},
   "outputs": [],
   "source": [
    "xyz[1] = 2.90"
   ]
  },
  {
   "cell_type": "markdown",
   "metadata": {},
   "source": [
    "### Sets\n",
    "\n",
    "A **set** `set` is **unordered** and **unindexed**.\n",
    "\n",
    "Sets also do not contain duplicate items.\n",
    "\n",
    "In Python, sets are written with curly brackets.\n",
    "\n",
    "`my_set = {'John', 'Doe', 22}`\n",
    "\n",
    "- Sets can contain strings and any hashable* Python object.\n",
    "- Like lists, items can be added and removed from a set.\n",
    "- Unlike lists and tuples, sets cannot be indexed as they have no order.\n",
    "- Unlike lists and tuples, sets do not hold duplicate items.\n",
    "\n",
    "\n",
    "\\* For a python object to be **hashable**, it must be ordered and unchangeable. Therefore we can add a tuple to a set but not a list. Numerical types and strings are also unchangeable so we can also add these to sets."
   ]
  },
  {
   "cell_type": "code",
   "execution_count": null,
   "metadata": {},
   "outputs": [],
   "source": [
    "# Define a set holding the names of fruits.\n",
    "fruit_set = {'cherry', 'banana', 'apple'}\n",
    "print(fruit_set)\n",
    "\n",
    "# We can add items to the set using the `add` method.\n",
    "fruit_set.add('mango')\n",
    "print(fruit_set)\n",
    "\n",
    "# Lets try add another apple to the set. Can you guess what will happen?\n",
    "fruit_set.add('apple')\n",
    "print(fruit_set)\n",
    "\n",
    "# We can remove items using the `remove` method.\n",
    "fruit_set.remove('cherry')\n",
    "print(fruit_set)"
   ]
  },
  {
   "cell_type": "markdown",
   "metadata": {},
   "source": [
    "**Sets** also have more useful methods.\n",
    "\n",
    "**intersection** and **union** are particularly useful.\n",
    "\n",
    "- The intersection of two sets is a new set that contains all of the elements that are in both sets.\n",
    "- The union of two sets is a new set that contains all of the elements that are in at least one of the two sets.\n",
    "\n",
    "Lets try. Try to work out the output before you run the cell."
   ]
  },
  {
   "cell_type": "code",
   "execution_count": null,
   "metadata": {},
   "outputs": [],
   "source": [
    "a = {1, 2, 3}  # define a set of numbers (A)\n",
    "b = {3, 4, 5}  # define a set of numbers (B)\n",
    "\n",
    "# Compute the intersection \"A and B\"\n",
    "inter = a.intersection(b)\n",
    "print(inter)\n",
    "\n",
    "# Compute the union \"A or B\"\n",
    "union = a.union(b)\n",
    "print(union)"
   ]
  },
  {
   "cell_type": "code",
   "execution_count": null,
   "metadata": {},
   "outputs": [],
   "source": []
  }
 ],
 "metadata": {
  "kernelspec": {
   "display_name": "Python 3",
   "language": "python",
   "name": "python3"
  },
  "language_info": {
   "codemirror_mode": {
    "name": "ipython",
    "version": 3
   },
   "file_extension": ".py",
   "mimetype": "text/x-python",
   "name": "python",
   "nbconvert_exporter": "python",
   "pygments_lexer": "ipython3",
   "version": "3.7.9"
  }
 },
 "nbformat": 4,
 "nbformat_minor": 1
}
