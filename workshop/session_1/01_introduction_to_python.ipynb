{
 "cells": [
  {
   "cell_type": "markdown",
   "metadata": {
    "deletable": false,
    "editable": false
   },
   "source": [
    "### MEDC0106: Bioinformatics in Applied Biomedical Science\n",
    "\n",
    "<p align=\"center\">\n",
    "  <img src=\"../../resources/static/Banner.png\" alt=\"MEDC0106 Banner\" width=\"90%\"/>\n",
    "  <br>\n",
    "</p>\n",
    "\n",
    "---------------------------------------------------------------\n",
    "\n",
    "# 01 - Introduction to Python\n",
    "\n",
    "*Written by:* Oliver Scott\n",
    "\n",
    "**This notebook provides a general introduction to Python.**\n",
    "\n",
    "Do not be afraid to make changes to the code cells to explore how things work!\n",
    "\n",
    "### What is Python?\n",
    "\n",
    "**Python** is a popular general-purpose, high-level programming language. It is paticularly popular amongst the scientific community due to it's inherent readability.\n",
    "\n",
    "It is commonly used for:\n",
    "\n",
    "- Web development (server-side),\n",
    "- Software development,\n",
    "- System scripting,\n",
    "- Science,\n",
    "- Much more!\n",
    "\n",
    "\n",
    "### What is Jupyter?\n",
    "\n",
    "**Jupyter** is an open-source web application that allows the creation and sharing of documents that contain live code, equations, visualizations and explanatory text.\n",
    "\n",
    "Uses include:\n",
    "\n",
    "- Data exploration and visualisation\n",
    "- Numerical simulation\n",
    "- Statistical modeling\n",
    "- Machine learning\n",
    "- Much more!\n",
    "\n",
    "-----\n",
    "\n",
    "## Contents\n",
    "\n",
    "1. [Writing Code](#Writing-code)\n",
    "2. [Comments](#Comments)\n",
    "3. [Variables and Datatypes](#Variables-and-Datatypes)\n",
    "4. [Operators](#Operators)\n",
    "5. [Control Flow](#Control-Flow)\n",
    "6. [Reading Files](#Reading-Files)\n",
    "7. [Functions](#Functions)\n",
    "8. [Discussion](#Discussion)\n",
    "\n",
    "-----\n",
    "\n",
    "#### Extra Resources:\n",
    "\n",
    "This introduction to Python is by no means comprehensive. Below are some links to resources for learning Python if you are interested.\n",
    "\n",
    "- [RealPython](https://realpython.com/) - Free python tutorials from beginner to advanced\n",
    "- [CodeAcademy](https://www.codecademy.com/learn/learn-python-3) - Python lessons\n",
    "- [Cheat-Sheets](https://ehmatthes.github.io/pcc_2e/cheat_sheets/cheat_sheets/) - Python reference sheets\n",
    "\n",
    "-----\n",
    "\n",
    "## Writing code\n",
    "\n",
    "We can write sections of code in blocks called code cells.\n",
    "\n",
    "Try running the cell below (click the run/play button in the toolbar).\n",
    "\n",
    "The cell should be selected first (click).\n",
    "\n",
    "*Shortcuts:*\n",
    "\n",
    "- WIN: ctrl + enter\n",
    "- OSX: ⌘ + enter\n"
   ]
  },
  {
   "cell_type": "code",
   "execution_count": null,
   "metadata": {
    "deletable": false
   },
   "outputs": [],
   "source": [
    "print(\"This is a code cell!\")"
   ]
  },
  {
   "cell_type": "markdown",
   "metadata": {
    "deletable": false,
    "editable": false
   },
   "source": [
    "## Comments\n",
    "\n",
    "To enhance readability of code, programmers use comments. These have no effect on the running of the program, but are important to make your code understandable.\n",
    "\n",
    "```python\n",
    "# We can use the hash symbol to define a comment\n",
    "```\n",
    "\n",
    "Comments will be used in the code blocks below to help you understand what is going on."
   ]
  },
  {
   "cell_type": "code",
   "execution_count": null,
   "metadata": {
    "deletable": false
   },
   "outputs": [],
   "source": [
    "# This is a comment\n",
    "# Notice that this cell outputs nothing when run"
   ]
  },
  {
   "cell_type": "markdown",
   "metadata": {
    "deletable": false,
    "editable": false
   },
   "source": [
    "Comments make it clear what sections of code are doing:"
   ]
  },
  {
   "cell_type": "code",
   "execution_count": null,
   "metadata": {
    "deletable": false
   },
   "outputs": [],
   "source": [
    "# This code line will print the sum of two numbers\n",
    "print(10 + 12)"
   ]
  },
  {
   "cell_type": "markdown",
   "metadata": {
    "deletable": false,
    "editable": false
   },
   "source": [
    "## Variables and Datatypes\n",
    "\n",
    "Variables are one of the most important components of a programming languyage. Variables are used to store information. This gives a short hand notation to refer to potentially very large amounts of information!\n",
    "\n",
    "We can assign data to variables using the `=` symbol:\n",
    "\n",
    "```python\n",
    "variable = data\n",
    "```\n",
    "\n",
    "Once we have assigned data to a variable we can then access that data using the variable name.\n",
    "\n",
    "When naming a variable it is best practice to give it a name which describes the data it holds. We use underscores `_` to make variable names easier to read (spaces cannot be used) e.g. \n",
    "\n",
    "```python\n",
    "my_long_variable_name\n",
    "```\n",
    "\n",
    "Also note that Python contains keywords that **should not** be used as variable names. This is because they have explicit functions in Python. In this editor (Jupyter) you will be able to tell a keyword when it is automatically highlighted. Alternatively [here](https://www.w3schools.com/python/python_ref_keywords.asp) is a list of reserved keywords.\n",
    "\n",
    "*Note: Python is a dynamically typed language and therfore the type of a variable does not need to be specified. If you are familiar with statically typed languages (e.g. c, c++, Java) this may seem a little unusual.*"
   ]
  },
  {
   "cell_type": "code",
   "execution_count": null,
   "metadata": {
    "deletable": false
   },
   "outputs": [],
   "source": [
    "# In this line we assign the text \"Hello, World!\" to the variable `my_string`\n",
    "my_string = \"Hello, World!\"\n",
    "\n",
    "# We can print the contents of the variable using the print function\n",
    "print(my_string)\n",
    "\n",
    "# We can also create aliases to the same data\n",
    "my_string_alias = my_string\n",
    "\n",
    "# We could also do the above like so\n",
    "my_string = my_string_alias = \"Hello, World\""
   ]
  },
  {
   "cell_type": "markdown",
   "metadata": {
    "deletable": false,
    "editable": false
   },
   "source": [
    "**Python** has several built in datatypes/objects which are useful to a programmer.\n",
    "\n",
    "In this session we will look at:\n",
    "\n",
    "- Strings \n",
    "- Numerical Types\n",
    "- Booleans\n",
    "- Collections\n",
    "\n",
    "*Note that this is only an introduction. There is much more you can do with these data types!*\n",
    "\n",
    "Check out these [cheat-sheets](https://ehmatthes.github.io/pcc_2e/cheat_sheets/cheat_sheets/), for easy to use reference.\n",
    "\n",
    "### Strings\n",
    "\n",
    "Strings in Python hold text data (`str`).\n",
    "\n",
    "Strings can be enclosed with either single or double quotation marks. Multi-line strings can be defined using triple quotes. Sometimes multi-line strings can be useful for making long comments or documenting code."
   ]
  },
  {
   "cell_type": "code",
   "execution_count": null,
   "metadata": {
    "deletable": false
   },
   "outputs": [],
   "source": [
    "# Double quote syntax\n",
    "string_one = \"This is a Python string\"\n",
    "print(string_one)\n",
    "\n",
    "# Single quote syntax\n",
    "string_two = \"This is also a string\"\n",
    "print(string_two)\n",
    "\n",
    "# Triple quote syntax\n",
    "string_three = \"\"\"This is also a string,\n",
    "but can span multiple lines\"\"\"\n",
    "print(string_three)"
   ]
  },
  {
   "cell_type": "markdown",
   "metadata": {
    "deletable": false,
    "editable": false
   },
   "source": [
    "### Numerical/Scalar types\n",
    "\n",
    "**Python** has three built-in numerical types:\n",
    "\n",
    "**Integer** `int`:\n",
    "\n",
    "Int, or integer, is a whole number, positive or negative, without decimals, of unlimited length.\n",
    "\n",
    "**Float** `float`:\n",
    "\n",
    "Float, or \"floating point number\" is a number, positive or negative, containing one or more decimals.\n",
    "\n",
    "**Complex** `complex`:\n",
    "\n",
    "Complex numbers are written with a \"j\" as the imaginary part:"
   ]
  },
  {
   "cell_type": "code",
   "execution_count": null,
   "metadata": {
    "deletable": false
   },
   "outputs": [],
   "source": [
    "x = 42    # Integer (int)\n",
    "y = 42.0  # Float (float)\n",
    "z = 2j    # Complex (complex)\n",
    "\n",
    "# We can also print multiple things at the same time\n",
    "print(x, y, z)\n",
    "\n",
    "# To verify the types of the above we can use the `type` function \n",
    "print(type(x))\n",
    "print(type(y))\n",
    "print(type(z))"
   ]
  },
  {
   "cell_type": "markdown",
   "metadata": {
    "deletable": false,
    "editable": false
   },
   "source": [
    "Floats can also be formatic in scientific notation with an \"e\" to indicate the power of 10."
   ]
  },
  {
   "cell_type": "code",
   "execution_count": null,
   "metadata": {
    "deletable": false
   },
   "outputs": [],
   "source": [
    "big_float = 1e9\n",
    "small_float = -82.7e10  # negative number\n",
    "\n",
    "print(big_float)\n",
    "print(small_float)"
   ]
  },
  {
   "cell_type": "markdown",
   "metadata": {
    "deletable": false,
    "editable": false
   },
   "source": [
    "### Type Conversion\n",
    "\n",
    "You can convert from one type to another using:\n",
    "\n",
    "```python\n",
    "int()\n",
    "float()\n",
    "complex()\n",
    "```\n",
    "\n",
    "This conversion is called *casting*.\n",
    "\n",
    "*Casting is useful for more than just numerical types, we will see examples of this later.*"
   ]
  },
  {
   "cell_type": "code",
   "execution_count": null,
   "metadata": {
    "deletable": false
   },
   "outputs": [],
   "source": [
    "x = 1    # int\n",
    "y = 2.8  # float\n",
    "\n",
    "# Convert from int to float\n",
    "a = float(x)\n",
    "\n",
    "# Convert from float to int\n",
    "b = int(y)\n",
    "\n",
    "print(x, \"->\", a)\n",
    "print(y, \"->\", b)\n",
    "\n",
    "# We can verify that they type has changed\n",
    "print(type(a))\n",
    "print(type(b))"
   ]
  },
  {
   "cell_type": "markdown",
   "metadata": {
    "deletable": false,
    "editable": false
   },
   "source": [
    "*Note: complex numbers cannot be converted into other numerical types (although float and int can be converted to complex)*"
   ]
  },
  {
   "cell_type": "markdown",
   "metadata": {
    "deletable": false,
    "editable": false
   },
   "source": [
    "### Booleans\n",
    "\n",
    "*Booleans* `bool` represent one of two values: `True` or `False`.\n",
    "\n",
    "In programming you often need to know if an expression is `True` or `False`. \n",
    "\n",
    "When you compare two values, the expression is evaluated and Python returns the **Boolean** answer\n",
    "\n",
    "*We will learn more about comparisons in the [Operators](#Operators) section. Booleans are also essential for [Control Flow](#Control-Flow)*"
   ]
  },
  {
   "cell_type": "code",
   "execution_count": null,
   "metadata": {
    "deletable": false
   },
   "outputs": [],
   "source": [
    "# We will take a look at these operators in a latter section\n",
    "\n",
    "print(10 > 9)   # Greater than `>`\n",
    "print(10 == 9)  # Equal to `==`\n",
    "print(10 < 9)   # Less than `<`\n",
    "\n",
    "# We can also assign booleans to variables.\n",
    "true = True\n",
    "false = False\n",
    "\n",
    "# Verify that the type is indeed boolean `bool`.\n",
    "print(type(true))\n",
    "print(type(false))"
   ]
  },
  {
   "cell_type": "markdown",
   "metadata": {
    "deletable": false,
    "editable": false
   },
   "source": [
    "We can also type convert booleans into and from multiple types.\n",
    "\n",
    "Try to **guess the output** of the cell below before running it.\n",
    "\n",
    "*Hint: Think Binary!*"
   ]
  },
  {
   "cell_type": "code",
   "execution_count": null,
   "metadata": {
    "deletable": false
   },
   "outputs": [],
   "source": [
    "true_int = int(True)    # Convert the boolean `True` to an integer\n",
    "false_int = int(False)  # Convert the boolean `False` to an integer\n",
    "\n",
    "# What will these lines print?\n",
    "print(true_int)\n",
    "print(false_int)"
   ]
  },
  {
   "cell_type": "markdown",
   "metadata": {
    "deletable": false,
    "editable": false
   },
   "source": [
    "### Collections\n",
    "\n",
    "There are four core collection data types in Python:\n",
    "\n",
    "- **Lists** `list` is a collection which is **ordered** and **changeable**. Allows duplicate members.\n",
    "- **Tuples** `tuple` is a collection which is **ordered** and **unchangeable**. Allows duplicate members.\n",
    "- **Sets** `set` is a collection which is **unordered** and **unindexed**. No duplicate members.\n",
    "- **Dictionaries** `dict` is a collection which is **unordered**, **changeable** and **indexed**. No duplicate members.\n",
    "\n",
    "When choosing a collection type, it is useful to understand the properties of that type.\n",
    "\n",
    "*Sometimes you will see the terms changeable and unchangeable written as mutable and immutable respectively.*\n",
    "\n",
    "----\n",
    "\n",
    "### Lists\n",
    "A list list is ordered and changeable.\n",
    "\n",
    "In Python lists are written with square brackets:\n",
    "\n",
    "```python\n",
    "my_list = ['hello', 'John', 22]\n",
    "```\n",
    "\n",
    "A list can contain any type of Python object."
   ]
  },
  {
   "cell_type": "code",
   "execution_count": null,
   "metadata": {
    "deletable": false
   },
   "outputs": [],
   "source": [
    "# Define and print a list containg colours\n",
    "colour_list = ['red', 'green', 'blue', 'yellow', 'white', 'black']\n",
    "print(colour_list)"
   ]
  },
  {
   "cell_type": "markdown",
   "metadata": {
    "deletable": false,
    "editable": false
   },
   "source": [
    "We can use **indexes** to access items in a `list`.\n",
    "\n",
    "In Python **indexes start at 0** refering to the **first** item in the list.\n",
    "\n",
    "We can also use **negative indexes** to access items from the end of the list. i.e. -1 refers to the last item in the list and -2 refers to the item before the last item in the list.\n",
    "\n",
    "Take a look at the reference image below:\n",
    "\n",
    "![PythonIndexing](https://railsware.com/blog/wp-content/uploads/2018/10/positive-indexes.png)\n",
    "\n",
    "[Image source](https://railsware.com/blog/python-for-machine-learning-indexing-and-slicing-for-lists-tuples-strings-and-other-sequential-types/)\n",
    "\n",
    "To use indexes we use a square-bracket syntax:\n",
    "\n",
    "```python\n",
    "my_list[0]\n",
    "```\n",
    "\n",
    "The above example will access the first item in the list\n",
    "\n",
    "*Try to guess the output of the cell below before running!*"
   ]
  },
  {
   "cell_type": "code",
   "execution_count": null,
   "metadata": {
    "deletable": false
   },
   "outputs": [],
   "source": [
    "print(colour_list[0])\n",
    "print(colour_list[1])\n",
    "print(colour_list[3])\n",
    "print(colour_list[-1])\n",
    "print(colour_list[-3])\n",
    "\n",
    "# We can also change a value using indexing (the index must already exist!)\n",
    "colour_list[4] = 'purple'\n",
    "\n",
    "# lets verify this change\n",
    "print(colour_list)\n",
    "\n",
    "# Advanced - What do you think this will output? Hint: think ranges!\n",
    "print(colour_list[0:3])"
   ]
  },
  {
   "cell_type": "markdown",
   "metadata": {
    "deletable": false,
    "editable": false
   },
   "source": [
    "*The [n:m] syntax generates a slice of the data, where n and m are numerical indices forming a ranged query*\n",
    "\n",
    "----"
   ]
  },
  {
   "cell_type": "markdown",
   "metadata": {
    "deletable": false,
    "editable": false
   },
   "source": [
    "There are numerous ways to add and remove items from a list. For now we will only mention one of these; the `append` function.\n",
    "\n",
    "```python\n",
    "my_list.append('item to append')\n",
    "```\n",
    "\n",
    "The append method adds an item to the end of a list.\n",
    "\n",
    "To see other methods check out the list [cheat-sheet](https://github.com/ehmatthes/pcc_2e/releases/download/v1.0.1/beginners_python_cheat_sheet_pcc_lists.pdf) later (click the link to download the sheet).\n",
    "\n",
    "Lets try out the append method!"
   ]
  },
  {
   "cell_type": "code",
   "execution_count": null,
   "metadata": {
    "deletable": false
   },
   "outputs": [],
   "source": [
    "# Add an item to the list\n",
    "colour_list.append('pink')\n",
    "\n",
    "# Lets verify that we added 'pink' to the end of the list.\n",
    "print(colour_list)"
   ]
  },
  {
   "cell_type": "markdown",
   "metadata": {
    "deletable": false,
    "editable": false
   },
   "source": [
    "### Tuples\n",
    "\n",
    "A **tuple** `tuple` is ordered and unchangeable.\n",
    "\n",
    "In Python tuples are written with round brackets.\n",
    "\n",
    "```python\n",
    "my_tuple = ('John', 'Doe', 22)\n",
    "```\n",
    "\n",
    "- Like lists, tuples can contain strings and any other type of Python object.\n",
    "- Like lists, we can also use indexing to access items in the tuple.\n",
    "- Unlike lists, we cannot change, add, or remove items in a tuple."
   ]
  },
  {
   "cell_type": "code",
   "execution_count": null,
   "metadata": {
    "deletable": false
   },
   "outputs": [],
   "source": [
    "xyz = (3.01, 1.23, -1.22)  # define a tuple holding 3D coordinates.\n",
    "\n",
    "print(xyz[0], xyz[1], xyz[2])"
   ]
  },
  {
   "cell_type": "markdown",
   "metadata": {
    "deletable": false,
    "editable": false
   },
   "source": [
    "Remember that tuples are **unchangeable/Immutable** trying to change items will give us an error message.\n",
    "\n",
    "Error messages in Python are designed to be understandable and relatively easy to read.\n",
    "\n",
    "Lets try it"
   ]
  },
  {
   "cell_type": "code",
   "execution_count": null,
   "metadata": {
    "deletable": false
   },
   "outputs": [],
   "source": [
    "xyz[1] = 2.90"
   ]
  },
  {
   "cell_type": "markdown",
   "metadata": {
    "deletable": false,
    "editable": false
   },
   "source": [
    "### Sets\n",
    "\n",
    "A **set** `set` is **unordered** and **unindexed**.\n",
    "\n",
    "Sets also do not contain duplicate items.\n",
    "\n",
    "In Python, sets are written with curly brackets.\n",
    "\n",
    "```python\n",
    "my_set = {'John', 'Doe', 22}\n",
    "```\n",
    "\n",
    "- Sets can contain strings and any hashable* Python object.\n",
    "- Like lists, items can be added and removed from a set.\n",
    "- Unlike lists and tuples, sets cannot be indexed as they have no order.\n",
    "- Unlike lists and tuples, sets do not hold duplicate items.\n",
    "\n",
    "\n",
    "\\* For a python object to be **hashable**, it must be ordered and unchangeable. Therefore we can add a tuple to a set but not a list. Numerical types and strings are also unchangeable so we can also add these to sets."
   ]
  },
  {
   "cell_type": "code",
   "execution_count": null,
   "metadata": {
    "deletable": false
   },
   "outputs": [],
   "source": [
    "# Define a set holding the names of fruits.\n",
    "fruit_set = {'cherry', 'banana', 'apple'}\n",
    "print(fruit_set)\n",
    "\n",
    "# We can add items to the set using the `add` method.\n",
    "fruit_set.add('mango')\n",
    "print(fruit_set)\n",
    "\n",
    "# Lets try add another apple to the set. Can you guess what will happen?\n",
    "fruit_set.add('apple')\n",
    "print(fruit_set)\n",
    "\n",
    "# We can remove items using the `remove` method.\n",
    "fruit_set.remove('cherry')\n",
    "print(fruit_set)"
   ]
  },
  {
   "cell_type": "markdown",
   "metadata": {
    "deletable": false,
    "editable": false
   },
   "source": [
    "**Sets** also have more useful methods.\n",
    "\n",
    "**intersection** and **union** are particularly useful.\n",
    "\n",
    "- The intersection of two sets is a new set that contains all of the elements that are in both sets.\n",
    "- The union of two sets is a new set that contains all of the elements that are in at least one of the two sets.\n",
    "\n",
    "Lets try. Try to work out the output before you run the cell."
   ]
  },
  {
   "cell_type": "code",
   "execution_count": null,
   "metadata": {
    "deletable": false
   },
   "outputs": [],
   "source": [
    "a = {1, 2, 3}  # Define a set of numbers (A)\n",
    "b = {3, 4, 5}  # Define a set of numbers (B)\n",
    "\n",
    "# Compute the intersection \"A and B\"\n",
    "inter = a.intersection(b)\n",
    "print(inter)\n",
    "\n",
    "# Compute the union \"A or B\"\n",
    "union = a.union(b)\n",
    "print(union)"
   ]
  },
  {
   "cell_type": "markdown",
   "metadata": {
    "deletable": false,
    "editable": false
   },
   "source": [
    "### Dictionary\n",
    "\n",
    "A **dictionary** `dict` is **unordered**, **changeable** and **indexed**.\n",
    "\n",
    "In Python dictionaries are written with curly brackets, and they have **keys** and **values**.\n",
    "\n",
    "```python \n",
    "my_dict = {'my_key_1': 1, 'my_key_2': 2}\n",
    "```\n",
    "\n",
    "- Like lists and tuples, dictionaries can contain strings and any Python object. Keys however must be hashable.\n",
    "- Like lists and sets, items can be added and removed from a dictionary.\n",
    "- Like lists and tuples, dictionaries can be indexed although the syntax is slightly different.\n",
    "\n",
    "Dictionaries cannot contain duplicate keys but can contain duplicated values."
   ]
  },
  {
   "cell_type": "code",
   "execution_count": null,
   "metadata": {
    "deletable": false
   },
   "outputs": [],
   "source": [
    "# Define a dictionary describing a user of some software.\n",
    "user_dict = {\n",
    "    'name': 'John',\n",
    "    'last_name': 'Doe',\n",
    "    'age': 22\n",
    "}\n",
    "print(user_dict)\n",
    "\n",
    "# We can index the dictionary using keys.\n",
    "age = user_dict['age']  # Get the age of the user\n",
    "print(age)\n",
    "\n",
    "# We can add items using a similar syntax.\n",
    "user_dict['bought'] = ['apple', 'mango']\n",
    "print(user_dict)\n",
    "\n",
    "# We can also change values easily.\n",
    "user_dict['age'] = 23  # It is Johns birthday! \n",
    "print(user_dict)"
   ]
  },
  {
   "cell_type": "markdown",
   "metadata": {
    "deletable": false,
    "editable": false
   },
   "source": [
    "Dictionaries are a very versatile data type.\n",
    "\n",
    "To learn more about the utilities of dictionaries download the dictionary [cheat-sheet](https://github.com/ehmatthes/pcc_2e/releases/download/v1.0.1/beginners_python_cheat_sheet_pcc_dictionaries.pdf).\n",
    "\n",
    "----"
   ]
  },
  {
   "cell_type": "markdown",
   "metadata": {
    "deletable": false,
    "editable": false
   },
   "source": [
    "## Operators\n",
    "\n",
    "Operators are used to perform operations on variables and values.\n",
    "\n",
    "Python provides multiple types of operators which can be used with multiple data types. Here we will look at these types of operators:\n",
    "\n",
    "- Arithmetic operators\n",
    "- Assignment operators\n",
    "- Comparison operators\n",
    "\n",
    "----\n",
    "\n",
    "#### Arithmetic operators\n",
    "\n",
    "Arithmetic operators are used with numeric values to perform common mathematical operations, most of these are relatively intuative:\n",
    "\n",
    "| Operator | Name           | Example |\n",
    "|:---------|:---------------|:--------|\n",
    "| `+`      | Addition       | x + y   |\n",
    "| `-`      | Subtraction    | x - y   |\n",
    "| `*`      | Multiplication | x * y   |\n",
    "| `/`      | Division       | x / y   |\n",
    "| `%`      | Modulus        | x % y   |\n",
    "| `**`     | Exponentiation | x ** y  |\n",
    "| `//`     | Floor division | x // y  |\n"
   ]
  },
  {
   "cell_type": "code",
   "execution_count": null,
   "metadata": {
    "deletable": false
   },
   "outputs": [],
   "source": [
    "x = 10  # Define an integer 10.\n",
    "y = 2   # Define an integer 2.\n",
    "\n",
    "print(x + y)   # Addition\n",
    "print(x - y)   # Subtraction\n",
    "print(x * y)   # Multiplication\n",
    "print(x / y)   # Division\n",
    "print(x % y)   # Modulus (remainder) \n",
    "print(x ** y)  # Exponentiation\n",
    "\n",
    "y = 3          # Redefine y so we can see the effect of floor division \n",
    "print(x / y)   # Division\n",
    "print(x // y)  # Floor division"
   ]
  },
  {
   "cell_type": "markdown",
   "metadata": {
    "deletable": false,
    "editable": false
   },
   "source": [
    "*Note: Some arithmetic operators can also be used with other data types like strings, maybe you could try see what happens if you try to add two strings or multiply a string by an integer.*\n",
    "\n",
    "----"
   ]
  },
  {
   "cell_type": "markdown",
   "metadata": {
    "deletable": false,
    "editable": false
   },
   "source": [
    "#### Assignment operators\n",
    "\n",
    "Assignment operators are used to assign values to variables.\n",
    "\n",
    "We already know the `=` assignment operator, though there are multiple others.\n",
    "\n",
    "\n",
    "\n",
    "\n",
    "Notice that numeric types are unchangeable so if we want to change the number assigned to a variable we need to reassign it like this:\n",
    "\n",
    "```python\n",
    "x = 3      # We have assigned 3 to x\n",
    "x + 3      # Here x has not changed\n",
    "x = x + 3  # Here we have reassigned x to x + 3 or 6\n",
    "```\n",
    "\n",
    "Using assignment operators is a simpler way of writing the same experession:\n",
    "\n",
    "```python\n",
    "x = 3   # We have assigned 3 to x\n",
    "x + 3   # Here x has not changed\n",
    "x += 3  # Here we have reassigned x to x + 3 or 6\n",
    "```\n",
    "\n",
    "Lets see this in practice. Try some other assignment operators to get used to the syntax."
   ]
  },
  {
   "cell_type": "code",
   "execution_count": null,
   "metadata": {
    "deletable": false
   },
   "outputs": [],
   "source": [
    "x = 5  # Assign 5 to x.\n",
    "x * 2  # Multiply by 5 (no change to x)\n",
    "\n",
    "# Lets verify that nothing has changed.\n",
    "print(x)\n",
    "\n",
    "# Now we will try an assignment operator.\n",
    "x *= 2    \n",
    "print(x)  # Notice that x is now 10.\n",
    "\n",
    "# We use the other syntax when we want to store the answer in a different variable.\n",
    "y = x / 2\n",
    "print(y)"
   ]
  },
  {
   "cell_type": "markdown",
   "metadata": {
    "deletable": false,
    "editable": false
   },
   "source": [
    "### Comparison operators\n",
    "\n",
    "Comparison operators are used to **compare** values\n",
    "\n",
    "Comparison operators return **Booleans**, True or False.\n",
    "\n",
    "Comparison operators are useful for controlling the flow of a program, we will learn more about this in the [control flow](#Control-Flow) section.\n",
    "\n",
    "| Operator | Name                       | Example |\n",
    "|:---------|:---------------------------|:--------|\n",
    "| `==`     | Equal                      | x == y  |\n",
    "| `!=`     | Not equal                  | x != y  |\n",
    "| `>`      | Greater than               | x > y   |\n",
    "| `<`      | Less than                  | x < y   |\n",
    "| `>=`     | Greater than or equal to   | x >= y  |\n",
    "| `<=`     | Less than or equal to      | x <= y  |\n",
    "\n",
    "Notice how the equal operator is `==` rather than `=`, why do you think this is the case?\n",
    "\n",
    "*Hint: remember the assignment operators.*\n",
    "\n",
    "Before running the cell below try to work out what the output will be."
   ]
  },
  {
   "cell_type": "code",
   "execution_count": null,
   "metadata": {
    "deletable": false
   },
   "outputs": [],
   "source": [
    "x = 15\n",
    "y = 5.5\n",
    "\n",
    "print(x == y)\n",
    "print(x != y)\n",
    "print(x > y)\n",
    "print(x < y)\n",
    "print(x >= y)\n",
    "print(x <= y)"
   ]
  },
  {
   "cell_type": "markdown",
   "metadata": {
    "deletable": false,
    "editable": false
   },
   "source": [
    "Comparison operators are not limited to numerical types.\n",
    "\n",
    "Try comparing some strings!\n",
    "\n",
    "----"
   ]
  },
  {
   "cell_type": "markdown",
   "metadata": {
    "deletable": false,
    "editable": false
   },
   "source": [
    "## Control Flow\n",
    "\n",
    "Python also offers a number of ways to control how and what code is executed.\n",
    "\n",
    "**Conditionals:**\n",
    "\n",
    "```python\n",
    "if ... else\n",
    "```\n",
    "\n",
    "**Loops:**\n",
    "\n",
    "```python\n",
    "for ... while\n",
    "```\n",
    "\n",
    "----\n",
    "\n",
    "### Conditionals\n",
    "\n",
    "Remember back to the comparison operators section.\n",
    "\n",
    "We can combine these operators with `if` statements to control how code is executed:\n",
    "\n",
    "```python\n",
    "if CONDITION:\n",
    "    # do something\n",
    "```\n",
    "    \n",
    "We can chain multiple comparisons together using `elif` and `else`, giving us even more control over the execution of code:\n",
    "\n",
    "```python\n",
    "if CONDITION:\n",
    "    # do something\n",
    "elif CONDITION:\n",
    "    # do something\n",
    "else:\n",
    "    # do something\n",
    "```\n",
    "    \n",
    "`elif` is shorthand for 'else if'. When using `elif`, if an above comparison evaluates to True then any below conditions prefixed by `elif` will not be evaluated. If they were prefixed by `if` they will also be evaluated.\n",
    "\n",
    "Try adjusting the code below to change the output."
   ]
  },
  {
   "cell_type": "code",
   "execution_count": null,
   "metadata": {
    "deletable": false
   },
   "outputs": [],
   "source": [
    "x = 100\n",
    "y = 2\n",
    "\n",
    "if x > y:\n",
    "    print('x is greater than y')"
   ]
  },
  {
   "cell_type": "markdown",
   "metadata": {
    "deletable": false,
    "editable": false
   },
   "source": [
    "Again try adjusting the code below to change the output."
   ]
  },
  {
   "cell_type": "code",
   "execution_count": null,
   "metadata": {
    "deletable": false
   },
   "outputs": [],
   "source": [
    "x = 100\n",
    "y = 200\n",
    "\n",
    "if x == y:\n",
    "    print('x is equal to y')\n",
    "else:\n",
    "    print('x is not equal to y')"
   ]
  },
  {
   "cell_type": "markdown",
   "metadata": {
    "deletable": false,
    "editable": false
   },
   "source": [
    "And now with `elif`...\n",
    "\n",
    "Again try changing the numbers to change the output."
   ]
  },
  {
   "cell_type": "code",
   "execution_count": null,
   "metadata": {
    "deletable": false
   },
   "outputs": [],
   "source": [
    "x = 200\n",
    "y = 33\n",
    "\n",
    "if x < y:\n",
    "    print(\"x is less than y\")\n",
    "elif x == y:\n",
    "    print(\"x and y are equal\")\n",
    "else:\n",
    "    print(\"x is greater than y\")"
   ]
  },
  {
   "cell_type": "markdown",
   "metadata": {
    "deletable": false,
    "editable": false
   },
   "source": [
    "### Loops\n",
    "\n",
    "Python has two primitive loops:\n",
    "\n",
    "- **For** `for` loops\n",
    "- **While** `while` loops\n",
    "\n",
    "A for loop is used for iterating over a sequence (that is either a list, a tuple, a dictionary, a set, or a string) i.e. an iterable object.\n",
    "\n",
    "With the for loop we can execute a set of statements, once for each item in a list, tuple, set etc.\n",
    "\n",
    "```python\n",
    "sequence = [1, 2, 3, 4]\n",
    "for x in sequence:\n",
    "    # do something\n",
    "```"
   ]
  },
  {
   "cell_type": "code",
   "execution_count": null,
   "metadata": {
    "deletable": false
   },
   "outputs": [],
   "source": [
    "shopping_list = ['apples', 'cereal', 'beer', 'milk']  # Define a sequence of items.\n",
    "\n",
    "\"\"\"\n",
    "As we iterate through the list each item is evaluated individually.\n",
    "After the evaluation of an item is complete we move to the next\n",
    "item automatically.\n",
    "\n",
    "In this case the loop will assign each item in the list to the variable `item`,\n",
    "so that we can use it in our code.\n",
    "\n",
    "Here we use a conditional to control how we process each item.\n",
    "\"\"\"\n",
    "\n",
    "for item in shopping_list:\n",
    "    if item == 'beer' or item == 'milk':\n",
    "        print('We need to buy:', item, '(Drink)')\n",
    "    else:\n",
    "        print('We need to buy:', item, '(Food)')"
   ]
  },
  {
   "cell_type": "markdown",
   "metadata": {
    "deletable": false,
    "editable": false
   },
   "source": [
    "With a `while` loop we can execute a set of statements as long as a condition evaluates to True."
   ]
  },
  {
   "cell_type": "code",
   "execution_count": null,
   "metadata": {
    "deletable": false
   },
   "outputs": [],
   "source": [
    "i = 1  # We will start at 1\n",
    "\n",
    "\"\"\"\n",
    "Here we evaluate code until a condition is met.\n",
    "In this case we are waiting until i < 6.\n",
    "\n",
    "Remember we need to increment i. We use the assignment\n",
    "operator here. If we forget to increment i, the loop\n",
    "will run forever!\n",
    "\n",
    "If this happens you can press stop in the toolbar above.\n",
    "\"\"\"\n",
    "\n",
    "while i <= 6:\n",
    "    print(i)\n",
    "    i += 1"
   ]
  },
  {
   "cell_type": "markdown",
   "metadata": {
    "deletable": false,
    "editable": false
   },
   "source": [
    "Check out the while loop [cheat-sheet](https://github.com/ehmatthes/pcc_2e/releases/download/v1.0.1/beginners_python_cheat_sheet_pcc_if_while.pdf)."
   ]
  },
  {
   "cell_type": "markdown",
   "metadata": {
    "deletable": false,
    "editable": false
   },
   "source": [
    "## Reading Files\n",
    "\n",
    "Often we will need to read data from files for processing with Python.\n",
    "\n",
    "It is best practice to read files using the syntax:\n",
    "\n",
    "```python\n",
    "with open('location_of_file') as f:\n",
    "    # do something with the file\n",
    "```    \n",
    "    \n",
    "- The `with` means that we do not have to remember to close the file, it will be handled automatically (context-manager).\n",
    "- The file location is the location of the file on your operating system.\n",
    "- The as f means the file object can be referenced using the variable f.\n",
    "\n",
    "With this tutorial we have included a folder called 'data', inside here there is a file named 'lorem_ipsum.txt', the location of this file relative to this notebook is thus 'data/lorem_ipsum.txt'\n",
    "\n",
    "Lets try read the file:"
   ]
  },
  {
   "cell_type": "code",
   "execution_count": null,
   "metadata": {
    "deletable": false
   },
   "outputs": [],
   "source": [
    "my_file = 'data/lorem_ipsum.txt'\n",
    "\n",
    "with open(my_file) as f:\n",
    "    # We can use the `read` method to get content from the file.\n",
    "    content = f.read()\n",
    "    \n",
    "# The file is now closed as we are outside of the `with` body.\n",
    "print(f.closed)\n",
    "\n",
    "# Because we assigned the content to a variable we can still retrieve this.\n",
    "print(content)  # Nonsense"
   ]
  },
  {
   "cell_type": "markdown",
   "metadata": {
    "deletable": false,
    "editable": false
   },
   "source": [
    "To check out more about reading files download the [cheat-sheet](https://github.com/ehmatthes/pcc_2e/releases/download/v1.0.1/beginners_python_cheat_sheet_pcc_files_exceptions.pdf)"
   ]
  },
  {
   "cell_type": "markdown",
   "metadata": {
    "deletable": false
   },
   "source": [
    "## Discussion\n",
    "\n",
    "That is it for the Python introduction.\n",
    "\n",
    "Feel free to add more code cells and experiment with the concepts you have learnt.\n",
    "\n",
    "In the next notebook we will look at how to use functions defining resusable blocks of code. You can use this notebook as reference if you need to refresh on any of the concepts explored.\n",
    "\n",
    "If you want to know more there are some extra resources from external sources linked in the beginning section. You can click the link below to go back to the top.\n",
    "\n",
    "Click [here](#Contents) to go back to the contents."
   ]
  },
  {
   "cell_type": "code",
   "execution_count": null,
   "metadata": {},
   "outputs": [],
   "source": []
  }
 ],
 "metadata": {
  "kernelspec": {
   "display_name": "Python 3",
   "language": "python",
   "name": "python3"
  },
  "language_info": {
   "codemirror_mode": {
    "name": "ipython",
    "version": 3
   },
   "file_extension": ".py",
   "mimetype": "text/x-python",
   "name": "python",
   "nbconvert_exporter": "python",
   "pygments_lexer": "ipython3",
   "version": "3.6.13"
  }
 },
 "nbformat": 4,
 "nbformat_minor": 4
}
