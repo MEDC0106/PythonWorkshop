{
 "cells": [
  {
   "cell_type": "markdown",
   "metadata": {
    "collapsed": true
   },
   "source": [
    "### MEDC0106: Bioinformatics in Applied Biomedical Science\n",
    "\n",
    "<p align=\"center\">\n",
    "  <img src=\"../../resources/static/Banner.png\" alt=\"MEDC0106 Banner\" width=\"90%\"/>\n",
    "  <br>\n",
    "</p>\n",
    "\n",
    "---------------------------------------------------------------\n",
    "\n",
    "# 01 - Introduction to Python\n",
    "\n",
    "*Written by:* Oliver Scott\n",
    "\n",
    "**This notebook provides a general introduction to Python.**\n",
    "\n",
    "Do not be afraid to make changes to the code cells to explore how things work!\n",
    "\n",
    "### What is Python?\n",
    "\n",
    "**Python** is a popular general-purpose, high-level programming language. It is paticularly popular amongst the scientific community due to it's inherent readability.\n",
    "\n",
    "It is commonly used for:\n",
    "\n",
    "- Web development (server-side),\n",
    "- Software development,\n",
    "- System scripting,\n",
    "- Science,\n",
    "- Much more!\n",
    "\n",
    "\n",
    "### What is Jupyter?\n",
    "\n",
    "**Jupyter** is an open-source web application that allows the creation and sharing of documents that contain live code, equations, visualizations and explanatory text.\n",
    "\n",
    "Uses include:\n",
    "\n",
    "- Data exploration and visualisation\n",
    "- Numerical simulation\n",
    "- Statistical modeling\n",
    "- Machine learning\n",
    "- Much more!\n",
    "\n",
    "-----\n",
    "\n",
    "## Contents\n",
    "\n",
    "- [Writing Code](#Writing-code)\n",
    "- [Comments](#Comments)\n",
    "\n",
    "-----\n",
    "\n",
    "#### Extra Resources:\n",
    "\n",
    "This introduction to Python is by no means comprehensive. Below are some links to resources for learning Python if you are interested.\n",
    "\n",
    "- [RealPython](https://realpython.com/) - Free python tutorials from beginner to advanced\n",
    "- [CodeAcademy](https://www.codecademy.com/learn/learn-python-3) - Python lessons\n",
    "- [Cheat-Sheets](https://ehmatthes.github.io/pcc_2e/cheat_sheets/cheat_sheets/) - Python reference sheets\n",
    "\n",
    "-----\n",
    "\n",
    "### Writing code\n",
    "\n",
    "We can write sections of code in blocks called code cells.\n",
    "\n",
    "Try running the cell below (click the run/play button in the toolbar).\n",
    "\n",
    "The cell should be selected first (click).\n",
    "\n",
    "*Shortcuts:*\n",
    "\n",
    "- WIN: ctrl + enter\n",
    "- OSX: ⌘ + enter\n"
   ]
  },
  {
   "cell_type": "code",
   "execution_count": null,
   "metadata": {
    "scrolled": true
   },
   "outputs": [],
   "source": [
    "print(\"This is a code cell!\")"
   ]
  },
  {
   "cell_type": "markdown",
   "metadata": {},
   "source": [
    "### Comments\n",
    "\n",
    "To enhance readability of code, programmers use comments. These have no effect on the running of the program, but are important to make your code understandable.\n",
    "\n",
    "`# We can use the hash symbol to define a comment`\n",
    "\n",
    "Comments will be used in the code blocks below to help you understand what is going on."
   ]
  },
  {
   "cell_type": "code",
   "execution_count": null,
   "metadata": {},
   "outputs": [],
   "source": [
    "# This is a comment\n",
    "# Notice that this cell outputs nothing when run"
   ]
  },
  {
   "cell_type": "markdown",
   "metadata": {},
   "source": [
    "Comments make it clear what sections of code are doing:"
   ]
  },
  {
   "cell_type": "code",
   "execution_count": null,
   "metadata": {},
   "outputs": [],
   "source": [
    "# This code line will print the sum of two numbers\n",
    "print(10 + 12)"
   ]
  },
  {
   "cell_type": "markdown",
   "metadata": {},
   "source": [
    "### Variables and Datatypes\n",
    "\n",
    "Variables are one of the most important components of a programming languyage. Variables are used to store information. This gives a short hand notation to refer to potentially very large amounts of information!\n",
    "\n",
    "We can assign data to variables using the `=` symbol:\n",
    "\n",
    "`variable = data`\n",
    "\n",
    "Once we have assigned data to a variable we can then access that data using the variable name.\n",
    "\n",
    "When naming a variable it is best practice to give it a name which describes the data it holds. We use underscores `_` to make variable names easier to read (spaces cannot be used) e.g. \n",
    "\n",
    "`my_long_variable_name`\n",
    "\n",
    "Also note that Python contains keywords that **should not** be used as variable names. This is because they have explicit functions in Python. In this editor (Jupyter) you will be able to tell a keyword when it is automatically highlighted. Alternatively [here](https://www.w3schools.com/python/python_ref_keywords.asp) is a list of reserved keywords.\n",
    "\n",
    "*Note: Python is a dynamically typed language and therfore the type of a variable does not need to be specified. If you are familiar with statically typed languages (e.g. c, c++, Java) this may seem a little unusual.*"
   ]
  },
  {
   "cell_type": "code",
   "execution_count": null,
   "metadata": {},
   "outputs": [],
   "source": [
    "# In this line we assign the text \"Hello, World!\" to the variable `my_string`\n",
    "my_string = \"Hello, World!\"\n",
    "\n",
    "# We can print the contents of the variable using the print function\n",
    "print(my_string)\n",
    "\n",
    "# We can also create aliases to the same data\n",
    "my_string_alias = my_string\n",
    "\n",
    "# We could also do the above like so\n",
    "my_string = my_string_alias = \"Hello, World\""
   ]
  },
  {
   "cell_type": "code",
   "execution_count": null,
   "metadata": {},
   "outputs": [],
   "source": []
  }
 ],
 "metadata": {
  "kernelspec": {
   "display_name": "Python 3",
   "language": "python",
   "name": "python3"
  },
  "language_info": {
   "codemirror_mode": {
    "name": "ipython",
    "version": 3
   },
   "file_extension": ".py",
   "mimetype": "text/x-python",
   "name": "python",
   "nbconvert_exporter": "python",
   "pygments_lexer": "ipython3",
   "version": "3.7.9"
  }
 },
 "nbformat": 4,
 "nbformat_minor": 1
}
