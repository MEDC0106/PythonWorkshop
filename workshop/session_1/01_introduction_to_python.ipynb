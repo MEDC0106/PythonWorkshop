{
 "cells": [
  {
   "cell_type": "markdown",
   "id": "4df38abb-e231-4661-8140-2cfd8d44b80d",
   "metadata": {},
   "source": [
    "### MEDC0106: Bioinformatics in Applied Biomedical Science\n",
    "\n",
    "<p align=\"center\">\n",
    "  <img src=\"../../resources/static/Banner.png\" alt=\"MEDC0106 Banner\" width=\"90%\"/>\n",
    "  <br>\n",
    "</p>\n",
    "\n",
    "---------------------------------------------------------------\n",
    "\n",
    "# 01 - Introduction to Python\n",
    "\n",
    "*Written by:* Oliver Scott\n",
    "\n",
    "**This notebook provides a general introduction to Python.**\n",
    "\n",
    "Do not be afraid to make changes to the code cells to explore how things work!\n",
    "\n",
    "### What is Python?\n",
    "\n",
    "**Python** is a popular general-purpose, high-level programming language. It is paticularly popular amongst the scientific community due to it's inherent readability.\n",
    "\n",
    "It is commonly used for:\n",
    "\n",
    "- web development (server-side),\n",
    "- software development,\n",
    "- system scripting,\n",
    "- science,\n",
    "- ...and much more!\n",
    "\n",
    "\n",
    "### What is Jupyter?\n",
    "\n",
    "**Jupyter** is an open-source web application that allows the creation and sharing of documents that contain live code, equations, visualizations and explanatory text.\n",
    "\n",
    "Uses include:\n",
    "\n",
    "- data exploration and visualisation\n",
    "- numerical simulation\n",
    "- statistical modeling\n",
    "- machine learning\n",
    "- ...and much more!\n",
    "\n",
    "-----\n",
    "\n",
    "## Contents\n",
    "\n",
    "1. [Writing code](#Writing-code)\n",
    "2. [Comments](#Comments)\n",
    "3. [Variables and data types](#Variables-and-data-types)\n",
    "4. [Operators](#Operators)\n",
    "5. [Control flow](#Control-flow)\n",
    "6. [Reading files](#Reading-files)\n",
    "7. [Discussion](#Discussion)\n",
    "\n",
    "-----\n",
    "\n",
    "### Extra resources:\n",
    "\n",
    "This introduction to Python is by no means comprehensive. Below are some links to external resources for learning Python if you are interested.\n",
    "\n",
    "- [Real Python](https://realpython.com/) - Free Python tutorials\n",
    "- [CodeAcademy](https://www.codecademy.com/learn/learn-python-3) - Python lessons\n",
    "- [Cheat-Sheets](https://ehmatthes.github.io/pcc_2e/cheat_sheets/cheat_sheets/) - Python reference sheets\n",
    "\n",
    "-----\n",
    "\n",
    "## Writing code\n",
    "\n",
    "We can write sections of code in blocks called code cells.\n",
    "\n",
    "Try running the cell below (click the run/play button in the toolbar).\n",
    "\n",
    "The cell should be selected first (click).\n",
    "\n",
    "*Keyboard shortcuts:*\n",
    "\n",
    "- Windows: `ctrl` + `enter`\n",
    "- MacOS: `⌘` + `enter`\n",
    "- Binder: `ctrl` + `enter`"
   ]
  },
  {
   "cell_type": "code",
   "execution_count": null,
   "id": "45233e07-9c46-4335-8b97-d18d47219056",
   "metadata": {},
   "outputs": [],
   "source": [
    "print(\"This is a code cell!\")"
   ]
  },
  {
   "cell_type": "markdown",
   "id": "166da8d6-2721-4e4a-8edf-157d9d79253b",
   "metadata": {},
   "source": [
    "## Comments\n",
    "\n",
    "To enhance readability of code, programmers use comments. These have no effect on the running of the program, but are important to make your code understandable.\n",
    "\n",
    "```python\n",
    "# We can use the hash symbol to define a comment\n",
    "```\n",
    "\n",
    "Comments will be used in the code blocks below to help you understand what is going on."
   ]
  },
  {
   "cell_type": "code",
   "execution_count": null,
   "id": "3f14a274-ca96-453b-8b68-d617bafb02ec",
   "metadata": {},
   "outputs": [],
   "source": [
    "# This is a comment\n",
    "# Notice that this cell outputs nothing when run"
   ]
  },
  {
   "cell_type": "markdown",
   "id": "c38d6d06-8866-4ebc-bdeb-f090450321ed",
   "metadata": {},
   "source": [
    "Comments make it clear what sections of code are doing:"
   ]
  },
  {
   "cell_type": "code",
   "execution_count": null,
   "id": "08bff495-84e1-4a8d-8239-c58e1f366570",
   "metadata": {},
   "outputs": [],
   "source": [
    "# This code line will print the sum of two numbers\n",
    "print(10 + 12)"
   ]
  },
  {
   "cell_type": "markdown",
   "id": "2e629f38-1e7d-40e8-94aa-59a0c05af772",
   "metadata": {},
   "source": [
    "## Variables and data types\n",
    "\n",
    "Variables are one of the most important components of a programming language. Variables are used to store information. This gives a short hand notation to refer to potentially very large amounts of information.\n",
    "\n",
    "We can assign data to variables using the `=` symbol:\n",
    "\n",
    "```python\n",
    "variable = data\n",
    "```\n",
    "\n",
    "Once we have assigned data to a variable we can then access that data using the variable name.\n",
    "\n",
    "When naming a variable it is best practice to give it a name which describes the data it holds. We use underscores `_` to make variable names easier to read (blank spaces cannot be used) e.g.:\n",
    "\n",
    "```python\n",
    "my_long_variable_name\n",
    "```\n",
    "\n",
    "Also note that Python contains keywords that **should not** be used as variable names. This is because they have explicit functions in Python. In this editor (Jupyter) you will be able to tell a keyword when it is automatically highlighted. Alternatively [here](https://www.w3schools.com/python/python_ref_keywords.asp) is a list of reserved keywords.\n",
    "\n",
    "*Note: Python is a dynamically typed language and therfore the type of a variable does not need to be specified. If you are familiar with statically typed languages (e.g. c, c++, Java) this may seem a little unusual.*"
   ]
  },
  {
   "cell_type": "code",
   "execution_count": null,
   "id": "e765a0dc-948e-4b9e-a169-fd8bf490edf0",
   "metadata": {},
   "outputs": [],
   "source": [
    "# In this line we assign the text \"Hello, World!\" to the variable `my_string`\n",
    "my_string = \"Hello, World!\"\n",
    "\n",
    "# We can print the contents of the variable using the print function\n",
    "print(my_string)\n",
    "\n",
    "# We can also create aliases to the same data\n",
    "my_string_alias = my_string\n",
    "\n",
    "# We could also do the above like so\n",
    "my_string = my_string_alias = \"Hello, World\""
   ]
  },
  {
   "cell_type": "markdown",
   "id": "925aa29c-a243-4c70-bcad-f4059db89c6f",
   "metadata": {},
   "source": [
    "**Python** has several built-in data types/objects which are useful to a programmer.\n",
    "\n",
    "In this session we will look at:\n",
    "\n",
    "- strings \n",
    "- numerical types\n",
    "- booleans\n",
    "- collections\n",
    "\n",
    "*Note that this is only an introduction. There is much more you can do with these data types!*\n",
    "\n",
    "Check out these [Cheat-Sheets](https://ehmatthes.github.io/pcc_2e/cheat_sheets/cheat_sheets/), for easy-to-use reference.\n",
    "\n",
    "### Strings\n",
    "\n",
    "Strings in Python hold text data (`str`).\n",
    "\n",
    "Strings can be enclosed with either single or double quotation marks (`''` or `\"\"`). Multi-line strings can be defined using triple quotes. Sometimes multi-line strings can be useful for making long comments or documenting code."
   ]
  },
  {
   "cell_type": "code",
   "execution_count": null,
   "id": "0db9bb47-8b15-4e6e-b853-9101a4a7084e",
   "metadata": {},
   "outputs": [],
   "source": [
    "# Double quote syntax\n",
    "string_one = \"This is a Python string\"\n",
    "print(string_one)\n",
    "\n",
    "# Single quote syntax\n",
    "string_two = 'This is also a string'\n",
    "print(string_two)\n",
    "\n",
    "# Triple quote syntax\n",
    "string_three = \"\"\"This is also a string,\n",
    "but can span multiple lines\"\"\"\n",
    "print(string_three)"
   ]
  },
  {
   "cell_type": "markdown",
   "id": "b1447fad-bf88-4e7b-b5fe-dbd36c0b0fe9",
   "metadata": {},
   "source": [
    "### Numerical or scalar types\n",
    "\n",
    "**Python** has three built-in numerical types:\n",
    "\n",
    "**Integer** `int`:\n",
    "\n",
    "Int, or integer, is a whole number, positive or negative, without decimals, of unlimited length.\n",
    "\n",
    "**Float** `float`:\n",
    "\n",
    "Float, or \"floating point number\" is a number, positive or negative, containing one or more decimals.\n",
    "\n",
    "**Complex** `complex`:\n",
    "\n",
    "Complex numbers are written with a \"j\" as the imaginary part:"
   ]
  },
  {
   "cell_type": "code",
   "execution_count": null,
   "id": "6e7ddf85-1d57-46c4-a7e9-0592cb564653",
   "metadata": {},
   "outputs": [],
   "source": [
    "x = 42    # Integer (int)\n",
    "y = 42.0  # Float (float)\n",
    "z = 2j    # Complex (complex)\n",
    "\n",
    "# We can also print multiple things at the same time\n",
    "print(x, y, z)\n",
    "\n",
    "# To verify the types of the above data we can use the `type` function \n",
    "print(type(x))\n",
    "print(type(y))\n",
    "print(type(z))"
   ]
  },
  {
   "cell_type": "markdown",
   "id": "d9553741-af8e-4197-a535-742708f75bbd",
   "metadata": {},
   "source": [
    "Floats can also be formatted in scientific notation with an \"e\" to indicate the power of 10."
   ]
  },
  {
   "cell_type": "code",
   "execution_count": null,
   "id": "615e34c4-7e87-442f-a20f-1187125fd3e8",
   "metadata": {},
   "outputs": [],
   "source": [
    "big_float = 1e9\n",
    "small_float = -82.7e10  # Negative number\n",
    "\n",
    "print(big_float)\n",
    "print(small_float)"
   ]
  },
  {
   "cell_type": "markdown",
   "id": "3e503e5c-ecd3-43e7-b3e0-be09a676106b",
   "metadata": {},
   "source": [
    "### Type conversion\n",
    "\n",
    "You can convert from one type to another using:\n",
    "\n",
    "```python\n",
    "int()\n",
    "float()\n",
    "complex()\n",
    "```\n",
    "\n",
    "This conversion is called *casting*.\n",
    "\n",
    "*Casting is useful for more than just numerical types. We will see examples of this later.*"
   ]
  },
  {
   "cell_type": "code",
   "execution_count": null,
   "id": "5326d753-021a-49ca-9c5a-912d02cbf9ba",
   "metadata": {},
   "outputs": [],
   "source": [
    "x = 1    # int\n",
    "y = 2.8  # float\n",
    "\n",
    "# Convert from int to float\n",
    "a = float(x)\n",
    "\n",
    "# Convert from float to int\n",
    "b = int(y)\n",
    "\n",
    "print(x, \"->\", a)\n",
    "print(y, \"->\", b)\n",
    "\n",
    "# We can verify that they type has changed\n",
    "print(type(a))\n",
    "print(type(b))"
   ]
  },
  {
   "cell_type": "markdown",
   "id": "f729c124-8bd6-461e-a5af-4064ebf7263d",
   "metadata": {},
   "source": [
    "*Note: complex numbers cannot be converted into other numerical types (although float and int can be converted to complex)*"
   ]
  },
  {
   "cell_type": "markdown",
   "id": "0bdfb378-56a4-4ae5-b142-50030b4970df",
   "metadata": {},
   "source": [
    "### Booleans\n",
    "\n",
    "*Booleans* `bool` represent one of two values: `True` or `False`.\n",
    "\n",
    "In programming you often need to know if an expression is `True` or `False`. \n",
    "\n",
    "When you compare two values, the expression is evaluated and Python returns the **Boolean** answer.\n",
    "\n",
    "*We will learn more about comparisons in the [Operators](#Operators) section. Booleans are also essential for [control flow](#Control-flow)*."
   ]
  },
  {
   "cell_type": "code",
   "execution_count": null,
   "id": "b5d798bb-e621-4a96-95b5-ce41954aa619",
   "metadata": {},
   "outputs": [],
   "source": [
    "# We will take a look at these operators in a latter section\n",
    "\n",
    "print(10 > 9)   # Greater than `>`\n",
    "print(10 == 9)  # Equal to `==`\n",
    "print(10 < 9)   # Less than `<`\n",
    "\n",
    "# We can also assign booleans to variables\n",
    "true = True\n",
    "false = False\n",
    "\n",
    "# Verify that the type is indeed boolean `bool`\n",
    "print(type(true))\n",
    "print(type(false))"
   ]
  },
  {
   "cell_type": "markdown",
   "id": "59e386f6-1453-4314-b7b4-c85b751b32a5",
   "metadata": {},
   "source": [
    "We can also type convert booleans into and from multiple types.\n",
    "\n",
    "Try to **guess the output** of the cell below before running it.\n",
    "\n",
    "*Hint: think binary!*"
   ]
  },
  {
   "cell_type": "code",
   "execution_count": null,
   "id": "cacfacdf-7853-4eae-be19-9ea954e1cb32",
   "metadata": {},
   "outputs": [],
   "source": [
    "true_int = int(True)    # Convert the boolean `True` to an integer\n",
    "false_int = int(False)  # Convert the boolean `False` to an integer\n",
    "\n",
    "# What will these lines print?\n",
    "print(true_int)\n",
    "print(false_int)"
   ]
  },
  {
   "cell_type": "markdown",
   "id": "c3651c8c-7b7e-4233-b419-65987926aa0f",
   "metadata": {},
   "source": [
    "### Collections\n",
    "\n",
    "There are four core collection data types in Python:\n",
    "\n",
    "- **Lists** `list` is a collection which is **ordered** and **changeable**. Allows duplicate members.\n",
    "- **Tuples** `tuple` is a collection which is **ordered** and **unchangeable**. Allows duplicate members.\n",
    "- **Sets** `set` is a collection which is **unordered** and **unindexed**. No duplicate members.\n",
    "- **Dictionaries** `dict` is a collection which is **unordered**, **changeable** and **indexed**. No duplicate members.\n",
    "\n",
    "When choosing a collection type, it is useful to understand the properties of that type.\n",
    "\n",
    "*Sometimes you will see the terms changeable and unchangeable written as mutable and immutable, respectively.*\n",
    "\n",
    "----\n",
    "\n",
    "### Lists\n",
    "A `list` is **ordered** and **changeable**.\n",
    "\n",
    "In Python, lists are written with square brackets:\n",
    "\n",
    "```python\n",
    "my_list = ['hello', 'John', 22]\n",
    "```\n",
    "\n",
    "A list can contain any type of Python object."
   ]
  },
  {
   "cell_type": "code",
   "execution_count": null,
   "id": "08e46cdd-b736-4bc7-96c0-66562c31380b",
   "metadata": {},
   "outputs": [],
   "source": [
    "# Define and print a list containg colours\n",
    "colour_list = ['red', 'green', 'blue', 'yellow', 'white', 'black']\n",
    "print(colour_list)"
   ]
  },
  {
   "cell_type": "markdown",
   "id": "fa0e5796-fab6-4262-94bc-88d968be49c5",
   "metadata": {},
   "source": [
    "We can use **indexes** to access items in a `list`.\n",
    "\n",
    "In Python **indexes start at 0** refering to the **first** item in the list.\n",
    "\n",
    "We can also use **negative indexes** to access items from the end of the list. i.e. -1 refers to the last item in the list and -2 refers to the item before the last item in the list.\n",
    "\n",
    "Take a look at the reference image below:\n",
    "\n",
    "![PythonIndexing](https://railsware.com/blog/wp-content/uploads/2018/10/positive-indexes.png)\n",
    "\n",
    "[Image source](https://railsware.com/blog/python-for-machine-learning-indexing-and-slicing-for-lists-tuples-strings-and-other-sequential-types/)\n",
    "\n",
    "To use indexes we use a square bracket syntax:\n",
    "\n",
    "```python\n",
    "my_list[0]\n",
    "```\n",
    "\n",
    "The above example will access the first item in the list\n",
    "\n",
    "*Try to guess the output of the cell below before running!*"
   ]
  },
  {
   "cell_type": "code",
   "execution_count": null,
   "id": "767a6200-6363-4cab-8c25-098b30a97518",
   "metadata": {},
   "outputs": [],
   "source": [
    "print(colour_list[0])\n",
    "print(colour_list[1])\n",
    "print(colour_list[3])\n",
    "print(colour_list[-1])\n",
    "print(colour_list[-3])\n",
    "\n",
    "# We can also change a value using indexing (the index must already exist!)\n",
    "colour_list[4] = 'purple'\n",
    "\n",
    "# Let's verify this change\n",
    "print(colour_list)\n",
    "\n",
    "# What do you think this will output? Hint: think ranges!\n",
    "print(colour_list[0:3])"
   ]
  },
  {
   "cell_type": "markdown",
   "id": "f411ff62-08dc-44d8-8078-14fb8c508776",
   "metadata": {},
   "source": [
    "*The [n:m] syntax generates a slice of the data, where n and m are numerical indexes forming a ranged query.*\n",
    "\n",
    "#### Slicing \n",
    "\n",
    "The last example with the colon (`[n:m]`) is called slicing. Slicing uses the following syntax:\n",
    "\n",
    "```\n",
    "[lower-bound : upper-bound : step-size] \n",
    "```\n",
    "\n",
    "...and can be used like so:\n",
    "\n",
    "```python\n",
    "a[start:stop]      # items start through stop - 1\n",
    "a[start:]          # items start through the rest of the collection\n",
    "a[:stop]           # items from the beginning through stop - 1\n",
    "a[:]               # a copy of the whole collection\n",
    "a[start:stop:step] # start through not past stop, by step\n",
    "```\n",
    "\n",
    "The key point to remember is that the `stop` value represents the **first value that is not in the selected slice**. So, the difference between `stop` and `start` is the number of elements selected (if `step` is 1, i.e. the default).\n",
    "\n",
    "*`step` is the size of the increment!* \n",
    "\n",
    "`start` or `stop` may also be a negative number, which means it counts from the end of the collection instead of the beginning:\n",
    "\n",
    "```python\n",
    "a[-1]    # last item in the collection\n",
    "a[-2:]   # last two items in the collection\n",
    "a[:-2]   # everything except the last two items\n",
    "```\n",
    "\n",
    "Let's see how this works:"
   ]
  },
  {
   "cell_type": "code",
   "execution_count": null,
   "id": "630ec32c-9eef-46b4-b4c2-2912fe1478f6",
   "metadata": {},
   "outputs": [],
   "source": [
    "# Simple slicing\n",
    "print('colour_list     ', colour_list)\n",
    "print('colour_list[1:3]', colour_list[1:3])\n",
    "print('colour_list[3:] ', colour_list[3:])\n",
    "print('colour_list[:3] ', colour_list[:3])\n",
    "print('colour_list[:]  ', colour_list[:])\n",
    "\n",
    "# Slicing with negative indexes\n",
    "print('\\ncolour_list[-2:]  ', colour_list[-2:])\n",
    "print('colour_list[:-1]  ', colour_list[:-1])\n",
    "\n",
    "# Slicing with steps\n",
    "print('\\ncolour_list[0:-1:2]  ', colour_list[0:-1:2])"
   ]
  },
  {
   "cell_type": "markdown",
   "id": "2f35e821-9832-4b13-a498-581945921b68",
   "metadata": {},
   "source": [
    "**Strings can also be sliced!**"
   ]
  },
  {
   "cell_type": "code",
   "execution_count": null,
   "id": "c95ccbb8-34d8-424b-a89b-4fc3256b175c",
   "metadata": {},
   "outputs": [],
   "source": [
    "string = 'Hello, World!'\n",
    "\n",
    "print(string[:5])\n",
    "print(string[7:])\n",
    "\n",
    "new_string = 'Bonjour,' + string[6:] \n",
    "print(new_string)"
   ]
  },
  {
   "cell_type": "markdown",
   "id": "2b8cf139-a3f0-4b8d-bf57-7d79c515a21b",
   "metadata": {},
   "source": [
    "#### Finding the number of items in a list\n",
    "\n",
    "Finding the number of items in a list is as easy as using the built-in `len()` function.\n",
    "\n",
    "```python\n",
    "n_items = len(my_list) \n",
    "```\n",
    "\n",
    "The `len()` function can also be used with many other collections types and strings."
   ]
  },
  {
   "cell_type": "code",
   "execution_count": null,
   "id": "1c72bad0-a4dc-4c2d-b458-1dd061078df8",
   "metadata": {},
   "outputs": [],
   "source": [
    "n_colors = len(colour_list)\n",
    "print('Number of colours:', n_colors)"
   ]
  },
  {
   "cell_type": "markdown",
   "id": "343a5fde-c4c6-4d2c-a8ba-9e72863411dd",
   "metadata": {},
   "source": [
    "#### Adding items to a list\n",
    "\n",
    "There are numerous ways to add and remove items from a list. For now we will only mention one of these; the `append()` function.\n",
    "\n",
    "```python\n",
    "my_list.append('item to append')\n",
    "```\n",
    "\n",
    "This method adds an item to the end of a list.\n",
    "\n",
    "To see other methods check out the [Cheat-Sheet](https://github.com/ehmatthes/pcc_2e/releases/download/v1.0.1/beginners_python_cheat_sheet_pcc_lists.pdf) later."
   ]
  },
  {
   "cell_type": "code",
   "execution_count": null,
   "id": "06624ba9-073e-468e-b1d2-b60993cc65ae",
   "metadata": {},
   "outputs": [],
   "source": [
    "# Add an item to the list\n",
    "colour_list.append('pink')\n",
    "\n",
    "# Lets verify that we added 'pink' to the end of the list.\n",
    "print(colour_list)"
   ]
  },
  {
   "cell_type": "markdown",
   "id": "22e9c66b-7843-4499-9373-faed18c74839",
   "metadata": {},
   "source": [
    "### Tuples\n",
    "\n",
    "A `tuple` is **ordered** and **unchangeable**.\n",
    "\n",
    "In Python tuples are written with round brackets.\n",
    "\n",
    "```python\n",
    "my_tuple = ('John', 'Doe', 22)\n",
    "```\n",
    "\n",
    "- Like lists, tuples can contain strings and any other type of Python object.\n",
    "- Like lists, we can also use indexing to access items in the tuple.\n",
    "- Unlike lists, we cannot change, add, or remove items in a tuple."
   ]
  },
  {
   "cell_type": "code",
   "execution_count": null,
   "id": "0f260d86-1b3a-4c59-ae19-b05774c34bb0",
   "metadata": {},
   "outputs": [],
   "source": [
    "xyz = (3.01, 1.23, -1.22)  # Define a tuple holding three-dimensional coordinates.\n",
    "\n",
    "print(xyz[0], xyz[1], xyz[2])"
   ]
  },
  {
   "cell_type": "markdown",
   "id": "c66b9b67-b638-4fb6-be0d-922ff84289ec",
   "metadata": {},
   "source": [
    "Remember that tuples are **unchangeable** so trying to change items will give us an error message.\n",
    "\n",
    "Error messages in Python are designed to be understandable and relatively easy to read.\n",
    "\n",
    "Let's try it out (uncomment and run):"
   ]
  },
  {
   "cell_type": "code",
   "execution_count": null,
   "id": "cbee0cfa-6d6f-42b2-9fec-a271c5c9f032",
   "metadata": {},
   "outputs": [],
   "source": [
    "# xyz[1] = 2.90"
   ]
  },
  {
   "cell_type": "markdown",
   "id": "c8a46765-8def-418c-9bf1-aa5e2f4a9f7e",
   "metadata": {},
   "source": [
    "### Sets\n",
    "\n",
    "A `set` is **unordered** and **unindexed**.\n",
    "\n",
    "Sets also do not contain duplicate items.\n",
    "\n",
    "In Python, sets are written with curly brackets.\n",
    "\n",
    "```python\n",
    "my_set = {'John', 'Doe', 22}\n",
    "```\n",
    "\n",
    "- Sets can contain strings and any hashable* Python object.\n",
    "- Like lists, items can be added and removed from a set.\n",
    "- Unlike lists and tuples, sets cannot be indexed as they have no order.\n",
    "- Unlike lists and tuples, sets do not hold duplicate items.\n",
    "\n",
    "\n",
    "\\* For a Python object to be **hashable**, it must be ordered and unchangeable. Therefore, we can add a tuple to a set but not a list. Numerical data types and strings are also unchangeable so we can also add these to sets."
   ]
  },
  {
   "cell_type": "code",
   "execution_count": null,
   "id": "72f5ea52-e718-4871-a302-53851d9ce15c",
   "metadata": {},
   "outputs": [],
   "source": [
    "# Define a set holding the names of fruits\n",
    "fruit_set = {'cherry', 'banana', 'apple'}\n",
    "print(fruit_set)\n",
    "\n",
    "# We can add items to the set using the `add` method\n",
    "fruit_set.add('mango')\n",
    "print(fruit_set)\n",
    "\n",
    "# Let's try adding another apple to the set; can you guess what will happen?\n",
    "fruit_set.add('apple')\n",
    "print(fruit_set)\n",
    "\n",
    "# We can remove items using the `remove` method\n",
    "fruit_set.remove('cherry')\n",
    "print(fruit_set)"
   ]
  },
  {
   "cell_type": "markdown",
   "id": "f016269f-855a-45a9-8ff2-98fedd239a61",
   "metadata": {},
   "source": [
    "**Sets** also have more useful methods.\n",
    "\n",
    "**Intersection** and **union** are particularly useful.\n",
    "\n",
    "- The intersection of two sets is a new set that contains all of the elements that are in both sets.\n",
    "- The union of two sets is a new set that contains all of the elements that are in at least one of the two sets.\n",
    "\n",
    "Try to work out the output before you run the cell below."
   ]
  },
  {
   "cell_type": "code",
   "execution_count": null,
   "id": "03f19374-58e7-4bef-a674-6a3fe652c6c0",
   "metadata": {},
   "outputs": [],
   "source": [
    "a = {1, 2, 3}  # Define a set of numbers\n",
    "b = {3, 4, 5}  # Define another set of numbers\n",
    "\n",
    "# Compute the intersection \"a and b\"\n",
    "inter = a.intersection(b)\n",
    "print(inter)\n",
    "\n",
    "# Compute the union \"a or b\"\n",
    "union = a.union(b)\n",
    "print(union)"
   ]
  },
  {
   "cell_type": "markdown",
   "id": "df7566bd-45d6-4a07-abcd-c9270929fa58",
   "metadata": {},
   "source": [
    "### Dictionary\n",
    "\n",
    "A **dictionary** `dict` is **unordered**, **changeable** and **indexed**.\n",
    "\n",
    "In Python dictionaries are written with curly brackets, and they have **keys** and **values**.\n",
    "\n",
    "```python \n",
    "my_dict = {'my_key_1': 1, 'my_key_2': 2}\n",
    "```\n",
    "\n",
    "- Like lists and tuples, dictionaries can contain strings and any Python object. Keys however must be hashable.\n",
    "- Like lists and sets, items can be added and removed from a dictionary.\n",
    "- Like lists and tuples, dictionaries can be indexed although the syntax is slightly different.\n",
    "\n",
    "Dictionaries cannot contain duplicate keys but can contain duplicated values."
   ]
  },
  {
   "cell_type": "code",
   "execution_count": null,
   "id": "dc055b1e-d79a-404e-9b2c-987c096f6be1",
   "metadata": {},
   "outputs": [],
   "source": [
    "# Define a dictionary describing a user\n",
    "user_dict = {\n",
    "    'name': 'John',\n",
    "    'last_name': 'Doe',\n",
    "    'age': 22\n",
    "}\n",
    "print(user_dict)\n",
    "\n",
    "# We can index the dictionary using keys\n",
    "age = user_dict['age']  # Get the age of the user\n",
    "print(age)\n",
    "\n",
    "# We can add items using a similar syntax\n",
    "user_dict['bought'] = ['apple', 'mango']\n",
    "print(user_dict)\n",
    "\n",
    "# We can also change values easily\n",
    "user_dict['age'] = 23  # It is John's birthday! \n",
    "print(user_dict)"
   ]
  },
  {
   "cell_type": "markdown",
   "id": "c685ae5e-4f8d-498d-bec3-f51c85768cda",
   "metadata": {},
   "source": [
    "Dictionaries are a very versatile data type.\n",
    "\n",
    "To learn more about the utilities of dictionaries download the dictionary [Cheat-Sheet](https://github.com/ehmatthes/pcc_2e/releases/download/v1.0.1/beginners_python_cheat_sheet_pcc_dictionaries.pdf).\n",
    "\n",
    "----"
   ]
  },
  {
   "cell_type": "markdown",
   "id": "5bcfad05-88af-46bc-91d8-d4b3c8144cf3",
   "metadata": {},
   "source": [
    "## Operators\n",
    "\n",
    "Operators are used to perform operations on variables and values.\n",
    "\n",
    "Python provides multiple types of operators which can be used with multiple data types. Here, we will look at:\n",
    "\n",
    "- arithmetic operators,\n",
    "- assignment operators,\n",
    "- and comparison operators.\n",
    "\n",
    "----\n",
    "\n",
    "#### Arithmetic operators\n",
    "\n",
    "They are used with numeric values to perform common mathematical operations. Most of these are relatively intuitive.\n",
    "\n",
    "| Operator | Name           | Example |\n",
    "|:---------|:---------------|:--------|\n",
    "| `+`      | Addition       | x + y   |\n",
    "| `-`      | Subtraction    | x - y   |\n",
    "| `*`      | Multiplication | x * y   |\n",
    "| `/`      | Division       | x / y   |\n",
    "| `%`      | Modulus        | x % y   |\n",
    "| `**`     | Exponentiation | x ** y  |\n",
    "| `//`     | Floor division | x // y  |\n"
   ]
  },
  {
   "cell_type": "code",
   "execution_count": null,
   "id": "42b6462f-db7c-4424-8156-ab8849109165",
   "metadata": {},
   "outputs": [],
   "source": [
    "x = 10  # Define an integer 10.\n",
    "y = 2   # Define an integer 2.\n",
    "\n",
    "print(x + y)   # Addition\n",
    "print(x - y)   # Subtraction\n",
    "print(x * y)   # Multiplication\n",
    "print(x / y)   # Division\n",
    "print(x % y)   # Modulus (remainder) \n",
    "print(x ** y)  # Exponentiation\n",
    "\n",
    "y = 3          # Redefine y so we can see the effect of floor division \n",
    "print(x / y)   # Division\n",
    "print(x // y)  # Floor division"
   ]
  },
  {
   "cell_type": "markdown",
   "id": "7766a85f-0bef-4e3b-b565-877d822670c5",
   "metadata": {},
   "source": [
    "*Note: Some arithmetic operators can also be used with other data types like strings. Maybe you could try and see what happens if you add two strings or multiply a string by an integer.*\n",
    "\n",
    "----"
   ]
  },
  {
   "cell_type": "markdown",
   "id": "194e9ef1-2b96-44ec-a0c9-f2cb8a4a5339",
   "metadata": {},
   "source": [
    "#### Assignment operators\n",
    "\n",
    "Assignment operators are used to assign values to variables.\n",
    "\n",
    "We already know the `=` assignment operator, though there are multiple others.\n",
    "\n",
    "Notice that numeric types are **unchangeable** so if we want to change the number assigned to a variable we need to reassign it like this:\n",
    "\n",
    "```python\n",
    "x = 3      # We have assigned 3 to x\n",
    "x + 3      # Here x has not changed\n",
    "x = x + 3  # Here we have reassigned x to x + 3 (or 6)\n",
    "```\n",
    "\n",
    "Using assignment operators is a simpler way of writing the same experession:\n",
    "\n",
    "```python\n",
    "x = 3   # We have assigned 3 to x\n",
    "x + 3   # Here x has not changed\n",
    "x += 3  # Here we have reassigned x to x + 3 (or 6)\n",
    "```\n",
    "\n",
    "Try some other assignment operators to get used to the syntax."
   ]
  },
  {
   "cell_type": "code",
   "execution_count": null,
   "id": "8f8adc07-d6b5-4fc7-893d-5d8b67465db2",
   "metadata": {},
   "outputs": [],
   "source": [
    "x = 5  # Assign 5 to x\n",
    "x * 2  # Multiply by 5 (no change to x)\n",
    "\n",
    "# Let's verify that nothing has changed\n",
    "print(x)\n",
    "\n",
    "# Now we will try an assignment operator\n",
    "x *= 2    \n",
    "print(x)  # Notice that x is now 10\n",
    "\n",
    "# We use the other syntax when we want to store the answer in a different variable\n",
    "y = x / 2\n",
    "print(y)"
   ]
  },
  {
   "cell_type": "markdown",
   "id": "39c9610a-3972-4a8b-ba0b-f5eac8d7629c",
   "metadata": {},
   "source": [
    "### Comparison operators\n",
    "\n",
    "Comparison operators are used to **compare** values\n",
    "\n",
    "Comparison operators return **Booleans**, True or False.\n",
    "\n",
    "They are useful for controlling the flow of a program. We will learn more about this in the [Control flow](#Control-flow) section.\n",
    "\n",
    "| Operator | Name                       | Example |\n",
    "|:---------|:---------------------------|:--------|\n",
    "| `==`     | Equal                      | x == y  |\n",
    "| `!=`     | Not equal                  | x != y  |\n",
    "| `>`      | Greater than               | x > y   |\n",
    "| `<`      | Less than                  | x < y   |\n",
    "| `>=`     | Greater than or equal to   | x >= y  |\n",
    "| `<=`     | Less than or equal to      | x <= y  |\n",
    "\n",
    "Notice how the equal operator is `==` rather than `=`. Why do you think this is the case?\n",
    "\n",
    "*Hint: remember the assignment operators.*\n",
    "\n",
    "Before running the cell below try to work out what the output will be."
   ]
  },
  {
   "cell_type": "code",
   "execution_count": null,
   "id": "af634d6f-76a1-43e9-b7ab-10886255b7de",
   "metadata": {},
   "outputs": [],
   "source": [
    "x = 15\n",
    "y = 5.5\n",
    "\n",
    "print(x == y)\n",
    "print(x != y)\n",
    "print(x > y)\n",
    "print(x < y)\n",
    "print(x >= y)\n",
    "print(x <= y)"
   ]
  },
  {
   "cell_type": "markdown",
   "id": "96d6cb9d-14df-48ff-bd8a-8756bcc6962e",
   "metadata": {},
   "source": [
    "Comparison operators are not limited to numerical types.\n",
    "\n",
    "Try comparing some strings!\n",
    "\n",
    "----"
   ]
  },
  {
   "cell_type": "markdown",
   "id": "f46e6e79-a638-4f20-bdb8-49529351deb0",
   "metadata": {},
   "source": [
    "## Control flow\n",
    "\n",
    "Python also offers a number of ways to control how and what code is executed.\n",
    "\n",
    "**Conditionals:**\n",
    "\n",
    "```python\n",
    "if ... else\n",
    "```\n",
    "\n",
    "**Loops:**\n",
    "\n",
    "```python\n",
    "for ... while\n",
    "```\n",
    "\n",
    "----\n",
    "\n",
    "### Conditionals\n",
    "\n",
    "We can combine comparison operators with `if` statements to control how code is executed:\n",
    "\n",
    "```python\n",
    "if CONDITION:\n",
    "    # do something\n",
    "```\n",
    "    \n",
    "We can chain multiple comparisons together using `elif` and `else`, giving us even more control over the execution of code:\n",
    "\n",
    "```python\n",
    "if CONDITION:\n",
    "    # do something\n",
    "elif CONDITION:\n",
    "    # do something\n",
    "else:\n",
    "    # do something\n",
    "```\n",
    "    \n",
    "`elif` is shorthand for 'else if'. When using `elif`, if an above comparison evaluates to True then any below conditions prefixed by `elif` will not be evaluated. If they were prefixed by `if` they will also be evaluated.\n",
    "\n",
    "Try adjusting the code below to change the output."
   ]
  },
  {
   "cell_type": "code",
   "execution_count": null,
   "id": "2c0f6f22-7d88-4dc2-a0c9-ea575044b2ef",
   "metadata": {},
   "outputs": [],
   "source": [
    "x = 100\n",
    "y = 2\n",
    "\n",
    "if x > y:\n",
    "    print('x is greater than y')"
   ]
  },
  {
   "cell_type": "markdown",
   "id": "2f40bba6-f66e-440b-a4e1-4505ccea0bb0",
   "metadata": {},
   "source": [
    "Again try adjusting the code below to change the output."
   ]
  },
  {
   "cell_type": "code",
   "execution_count": null,
   "id": "df850e1c-1e54-46e8-8b81-74991c55f983",
   "metadata": {},
   "outputs": [],
   "source": [
    "x = 100\n",
    "y = 200\n",
    "\n",
    "if x == y:\n",
    "    print('x is equal to y')\n",
    "else:\n",
    "    print('x is not equal to y')"
   ]
  },
  {
   "cell_type": "markdown",
   "id": "c0b03c70-4d29-4bdf-8373-177b041cfed4",
   "metadata": {},
   "source": [
    "And now with `elif`...\n",
    "\n",
    "Again try changing the numbers to change the output."
   ]
  },
  {
   "cell_type": "code",
   "execution_count": null,
   "id": "fd659bcf-cb90-4945-8fd6-04e808774b1d",
   "metadata": {},
   "outputs": [],
   "source": [
    "x = 200\n",
    "y = 33\n",
    "\n",
    "if x < y:\n",
    "    print(\"x is less than y\")\n",
    "elif x == y:\n",
    "    print(\"x and y are equal\")\n",
    "else:\n",
    "    print(\"x is greater than y\")"
   ]
  },
  {
   "cell_type": "markdown",
   "id": "3bad7169-d29b-4765-b459-c604fad6fa6d",
   "metadata": {},
   "source": [
    "### Loops\n",
    "\n",
    "Python has two primitive loops:\n",
    "\n",
    "- `for` loops\n",
    "- `while` loops\n",
    "\n",
    "A `for` loop is used for iterating over a sequence (that is either a list, a tuple, a dictionary, a set, or a string) i.e. an iterable object.\n",
    "\n",
    "With the `for` loop we can execute a set of statements, once for each item in a list, tuple, set etc.\n",
    "\n",
    "```python\n",
    "sequence = [1, 2, 3, 4]\n",
    "for x in sequence:\n",
    "    # do something\n",
    "```"
   ]
  },
  {
   "cell_type": "code",
   "execution_count": null,
   "id": "e457e09b-da6b-476e-b821-12dadeeac06c",
   "metadata": {},
   "outputs": [],
   "source": [
    "shopping_list = ['apples', 'cereal', 'beer', 'milk']  # Define a sequence of items.\n",
    "\n",
    "\"\"\"\n",
    "As we iterate through the list, each item is evaluated individually.\n",
    "After the evaluation of an item is complete we move to the next item automatically.\n",
    "\n",
    "In this case, the loop will assign each item in the list to the variable `item`,\n",
    "so that we can use it in our code.\n",
    "\n",
    "Here, we use a conditional to control how we process each item.\n",
    "\"\"\"\n",
    "\n",
    "for item in shopping_list:\n",
    "    if item == 'beer' or item == 'milk':\n",
    "        print('We need to buy:', item, '(Drink)')\n",
    "    else:\n",
    "        print('We need to buy:', item, '(Food)')"
   ]
  },
  {
   "cell_type": "markdown",
   "id": "c91ed24d-4e15-4f5f-a037-50d19ba9f5e7",
   "metadata": {},
   "source": [
    "With a `while` loop we can execute a set of statements as long as a condition evaluates to True."
   ]
  },
  {
   "cell_type": "code",
   "execution_count": null,
   "id": "c63a583a-65e8-404a-9c9a-b7ed7b3853b0",
   "metadata": {},
   "outputs": [],
   "source": [
    "i = 1  # We will start at 1\n",
    "\n",
    "\"\"\"\n",
    "Here we evaluate code until a condition is met.\n",
    "In this case we are waiting until i > 6.\n",
    "\n",
    "Remember we need to increment i. We use the assignment\n",
    "operator here. If we forget to increment i, the loop\n",
    "will run forever!\n",
    "\n",
    "If this happens you can press stop in the toolbar above\n",
    "to interrupt code execution.\n",
    "\"\"\"\n",
    "\n",
    "while i <= 6:\n",
    "    print(i)\n",
    "    i += 1"
   ]
  },
  {
   "cell_type": "markdown",
   "id": "0482efde-3c62-4d48-a239-9b7d1b1b36e2",
   "metadata": {},
   "source": [
    "Check out the `while` loop [Cheat-Sheet](https://github.com/ehmatthes/pcc_2e/releases/download/v1.0.1/beginners_python_cheat_sheet_pcc_if_while.pdf)."
   ]
  },
  {
   "cell_type": "markdown",
   "id": "85ed24d8-6621-4158-8256-ce7a5241f617",
   "metadata": {},
   "source": [
    "## Reading files\n",
    "\n",
    "Often we will need to read data from files for further processing with Python. \n",
    "\n",
    "It is best practice to read files using the following syntax:\n",
    "\n",
    "```python\n",
    "with open('location_of_file') as f:\n",
    "    # do something with the file\n",
    "```    \n",
    "    \n",
    "- The `with` means that we do not have to remember to close the file, it will be handled automatically.\n",
    "- The file location is the location/path of the file on your computer.\n",
    "- The `as f` means the file object can be referenced using the variable `f`.\n",
    "\n",
    "To check out more about reading files download the [Cheat-Sheet](https://github.com/ehmatthes/pcc_2e/releases/download/v1.0.1/beginners_python_cheat_sheet_pcc_files_exceptions.pdf)."
   ]
  },
  {
   "cell_type": "markdown",
   "id": "a65073cd-f985-4165-90b0-43b2d9a7f8a0",
   "metadata": {},
   "source": [
    "## Discussion\n",
    "\n",
    "That was it for the Python introduction.\n",
    "\n",
    "Feel free to add more code cells and experiment with the concepts you have learnt.\n",
    "\n",
    "In the next notebook we will look at how to use functions to define resusable blocks of code. You can use this notebook as reference if you need to refresh your knowledge on any of the concepts explored.\n",
    "\n",
    "If you want to learn more there are some extra external resources linked at the beginning of this notebook. You can click [here](#Contents) to go back to the top."
   ]
  }
 ],
 "metadata": {
  "kernelspec": {
   "display_name": "Python 3 (ipykernel)",
   "language": "python",
   "name": "python3"
  },
  "language_info": {
   "codemirror_mode": {
    "name": "ipython",
    "version": 3
   },
   "file_extension": ".py",
   "mimetype": "text/x-python",
   "name": "python",
   "nbconvert_exporter": "python",
   "pygments_lexer": "ipython3",
   "version": "3.11.7"
  }
 },
 "nbformat": 4,
 "nbformat_minor": 5
}
