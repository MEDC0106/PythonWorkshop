{
 "cells": [
  {
   "cell_type": "markdown",
   "metadata": {},
   "source": [
    "### MEDC0106: Bioinformatics in Applied Biomedical Science\n",
    "\n",
    "<p align=\"center\">\n",
    "  <img src=\"../../resources/static/Banner.png\" alt=\"MEDC0106 Banner\" width=\"90%\"/>\n",
    "  <br>\n",
    "</p>\n",
    "\n",
    "---------------------------------------------------------------\n",
    "\n",
    "# 02 - Functions\n",
    "\n",
    "*Written by:* Oliver Scott\n",
    "\n",
    "**This notebook provides a general introduction to Python functions.**\n",
    "\n",
    "Do not be afraid to make changes to the code cells to explore how things work!\n",
    "\n",
    "### What are functions?\n",
    "\n",
    "Functions are an integral part of Python and most other programming languages. They are bundling blocks of reusable code that perform a particular task. \n",
    "\n",
    "When carrying out a particular task, a function may or may not require multiple inputs, and, when finished, may or may not return multiple outputs. \n",
    "\n",
    "Programmers often use functions to prevent re-writing multiple lines of code or to break up complex processes making code much easier to read and debug. \n",
    "\n",
    "In Python there are three main types of functions:\n",
    "\n",
    "- [built-in functions](https://docs.python.org/3/library/functions.html) such as `print()`, `min()`, `max()`, etc; *(we have come across these in the previous notebook)*,\n",
    "- user-defined functions (UDFs); created by a user,\n",
    "- anonymous functions, or `lambda` functions; not declared using the keyword `def`.\n",
    "\n",
    "In this notebook you will learn how to create your own functions to perform various tasks.\n",
    "\n",
    "----\n",
    "\n",
    "## Contents\n",
    "\n",
    "1. [The anatomy of a function](#The-anatomy-of-a-function)\n",
    "2. [Function arguments](#Function-arguments)\n",
    "3. [Understanding scope](#Understanding-scope)\n",
    "4. [Anonymous functions](#Anonymous-functions)\n",
    "4. [Discussion](#Discussion)\n",
    "\n",
    "----\n",
    "\n",
    "### Extra resources:\n",
    "\n",
    "This introduction to Python is by no means comprehensive. Below are some links to external resources for learning Python if you are interested.\n",
    "\n",
    "- [Real Python](https://realpython.com/) - Free Python tutorials\n",
    "- [CodeAcademy](https://www.codecademy.com/learn/learn-python-3) - Python lessons\n",
    "- [Cheat-Sheets](https://ehmatthes.github.io/pcc_2e/cheat_sheets/cheat_sheets/) - Python reference sheets\n",
    "- [Functions Cheat-Sheet](https://github.com/ehmatthes/pcc_2e/releases/download/v1.0.1/beginners_python_cheat_sheet_pcc_functions.pdf)\n",
    "----\n",
    "\n",
    "## The anatomy of a function\n",
    "\n",
    "In Python, functions are normally declared using the keyword `def`:\n",
    "\n",
    "```python\n",
    "def add_numbers(x, y):\n",
    "    \"\"\"Add two numbers (x, y) and return the result\"\"\"\n",
    "    result = x + y\n",
    "    return result\n",
    "```\n",
    "\n",
    "The above function consists of the follwing components:\n",
    "\n",
    "1. The keyword `def` that declares the following lines as a function.\n",
    "2. A function name *`add_numbers`*, giving a unique identifier to the function *(just like how we would name a variable)*.\n",
    "3. Parameters/arguments *`(x, y)`* specifying what data we wish to provide the function with. These are optional, although the brackets must always exist, e.g. `def no_arg_function():`.\n",
    "4. A colon `:` to mark the end of the function declaration.\n",
    "5. Optional function description (`\"\"\"docstring\"\"\"`).\n",
    "6. One or more lines of Python code, making up the function body. These lines should be indented to mark that they are part of the function (Tab key or four taps of the spacebar). \n",
    "7. An optional `return` statement to return a value from the function.\n",
    "\n",
    "Once a function is defined we can use it with the following syntax:\n",
    "\n",
    "```python\n",
    "add_numbers(1, 2)\n",
    "# We can assign the returned value to a variable like so\n",
    "sum_result = add_numbers(1, 2)\n",
    "```\n",
    "\n",
    "Let's define a function in the cell below:"
   ]
  },
  {
   "cell_type": "code",
   "execution_count": null,
   "metadata": {},
   "outputs": [],
   "source": [
    "def multiply(x, y):                                             # Function definition line \n",
    "    \"\"\"Multiply two numbers (x, y) and return the result\"\"\"     # Docstring\n",
    "    result = x * y                                              # Function body\n",
    "    return result                                               # Return statement\n",
    "\n",
    "\"\"\"\n",
    "Note that the variables below do not need to have the same name as defined in the function definition.\n",
    "For example, they could just as easily be named i and j. The defined names are just how they will be \n",
    "referred to in the function body itself.\n",
    "\"\"\"\n",
    "\n",
    "x = 10\n",
    "y = 2\n",
    "\n",
    "multiply_result = multiply(x, y)\n",
    "\n",
    "print('The result of', x, '*', y, 'is', multiply_result)"
   ]
  },
  {
   "cell_type": "markdown",
   "metadata": {},
   "source": [
    "Just as easily we could define a function which **does not** return a value."
   ]
  },
  {
   "cell_type": "code",
   "execution_count": null,
   "metadata": {},
   "outputs": [],
   "source": [
    "def greet(name):\n",
    "    \"\"\"Print a personalised greeting\"\"\"\n",
    "    greeting = 'Hello, ' + name + '. Good morning!'\n",
    "    print(greeting)\n",
    "    \n",
    "greet('John')"
   ]
  },
  {
   "cell_type": "markdown",
   "metadata": {},
   "source": [
    "There is also no requirement that a function should have only one return statement. For example, we can use control flow to implement an absolute value function."
   ]
  },
  {
   "cell_type": "code",
   "execution_count": null,
   "metadata": {},
   "outputs": [],
   "source": [
    "def absolute_value(number):\n",
    "    \"\"\"Get the absolute value for a number\"\"\"\n",
    "    if number >= 0:\n",
    "        return number\n",
    "    else:  # Invert the sign\n",
    "        return -number\n",
    "    \n",
    "i = 10\n",
    "j = -4\n",
    "\n",
    "# Functions can be called within other functions also, e.g. `function_x(function_y())`\n",
    "print('The absolute value of', i, 'is', absolute_value(i))\n",
    "print('The absolute value of', j, 'is', absolute_value(j))"
   ]
  },
  {
   "cell_type": "markdown",
   "metadata": {},
   "source": [
    "## Function arguments\n",
    "\n",
    "We have already seen how to define a function that takes a simple set of arguments. In reality Python has four types of arguments that a user-defined function can handle:\n",
    "1. default arguments,\n",
    "2. required arguments,\n",
    "3. keyword arguments,\n",
    "4. a variable number of arguments, i.e. unkown number of arguments at time of definition.\n",
    "\n",
    "### Default arguments\n",
    "\n",
    "Default arguments allow a function to use a predefined value when no argument is provided during a function call. They are set using the `=` operator. "
   ]
  },
  {
   "cell_type": "code",
   "execution_count": null,
   "metadata": {},
   "outputs": [],
   "source": [
    "def power(x, y=2):\n",
    "    \"\"\"The power() function returns the value of x to the power of y.\"\"\"\n",
    "    result = x ** y\n",
    "    return result\n",
    "\n",
    "number = 2\n",
    "\n",
    "print('No `y` argument:', power(number))\n",
    "print('With `y` argument provided:', power(number, 3))"
   ]
  },
  {
   "cell_type": "markdown",
   "metadata": {},
   "source": [
    "### Required arguments\n",
    "\n",
    "Required arguments are those that must be provided for the function to execute without errors.\n",
    "\n",
    "These are similar to the arguments we discussed in the initial section. They should be passed in the correct order, as the order can affect the function's result."
   ]
  },
  {
   "cell_type": "code",
   "execution_count": null,
   "metadata": {},
   "outputs": [],
   "source": [
    "def divide(x, divisor):\n",
    "    \"\"\"The divide() function returns the value of x divided by a divisor.\"\"\"\n",
    "    result = x / divisor\n",
    "    return result\n",
    "\n",
    "y = 100\n",
    "\n",
    "# Let's try to get the answer for y/10\n",
    "print('Result:', divide(y, 10))\n",
    "\n",
    "# Notice that the order is important!\n",
    "print('Result:', divide(10, y))"
   ]
  },
  {
   "cell_type": "markdown",
   "metadata": {},
   "source": [
    "### Keyword arguments\n",
    "\n",
    "Keyword arguments offer a clear way to help the programmer ensure parameters are provided correctly, regardless of order. These arguments are specified in the function call, enhancing readability and reducing errors.\n",
    "\n",
    "We can use the example function from the previous cell. Note that only the function call changes."
   ]
  },
  {
   "cell_type": "code",
   "execution_count": null,
   "metadata": {},
   "outputs": [],
   "source": [
    "def divide(x, divisor):\n",
    "    \"\"\"The divide() function return the value of x divided by a divisor.\"\"\"\n",
    "    result = x / divisor\n",
    "    return result\n",
    "\n",
    "y = 60\n",
    "\n",
    "# Function call\n",
    "# Let's try 60/3, making sure we get the arguments in the correct order\n",
    "print('Result', divide(x=y, divisor=3))\n",
    "\n",
    "# Using this syntax it doesn't matter in which order we provide the arguments\n",
    "print('Result', divide(divisor=3, x=y))"
   ]
  },
  {
   "cell_type": "markdown",
   "metadata": {},
   "source": [
    "### A variable number of arguments\n",
    "\n",
    "Sometimes, you may not know the exact number of arguments that will be passed to a function. For example, you might want to calculate the sum of an arbitrary number of variables. \n",
    "\n",
    "To handle multiple arguments, you can use the `*args` syntax."
   ]
  },
  {
   "cell_type": "code",
   "execution_count": null,
   "metadata": {},
   "outputs": [],
   "source": [
    "def summation(*args):\n",
    "    \"\"\"The summation() function calculates the sum of an arbritary number of variables.\"\"\"\n",
    "    total = 0\n",
    "    for value in args:\n",
    "        total += value\n",
    "    return total\n",
    "\n",
    "a = 2\n",
    "b = 3\n",
    "c = 4\n",
    "d = 10\n",
    "\n",
    "print('Result:', summation(a, b, c, d))"
   ]
  },
  {
   "cell_type": "markdown",
   "metadata": {},
   "source": [
    "***Note:*** *The asterisk `*` is placed before the variable name that collects all non-keyword variable arguments. Here, you could have used names like `*varint`, `*var_int_args` or any other identifier in the `summation()` function.*"
   ]
  },
  {
   "cell_type": "markdown",
   "metadata": {},
   "source": [
    "## Understanding scope\n",
    "\n",
    "Scope is an important concept in programming, defining in which parts of the program a variable can be seen or recognised. Variables defined within a function are not visible to code outside of the function; thus, they are said to have ***local scope***. Variables defined outside of functions generally have ***global scope*** and can be accessed from anywhere within your Python code, including within function bodies.\n",
    "\n",
    "Variables in Python also have ***lifetimes***, which define the period during which they exist in memory. Within a function, a variable *lives* as long as the function takes to execute, after which it is destroyed.\n",
    "\n",
    "Below is an example demonstrating variable scope (notice that the function does not modify the variable `number` defined in the global scope):"
   ]
  },
  {
   "cell_type": "code",
   "execution_count": null,
   "metadata": {},
   "outputs": [],
   "source": [
    "# Global scope: this `number` is accessible outside of `my_function`\n",
    "number = 44\n",
    "\n",
    "def my_function():\n",
    "    # Local scope: this `number` only exists inside `my_function`\n",
    "    number = 22\n",
    "    print('Inside function, number =', number)\n",
    "\n",
    "print('Outside function, number =', number)\n",
    "my_function()"
   ]
  },
  {
   "cell_type": "markdown",
   "metadata": {},
   "source": [
    "## Anonymous functions\n",
    "\n",
    "Anonymous functions are special Python functions defined using the `lambda` keyword. Anonymous functions are single-lined and are usually used when a non-named function is required for short periods of time. For example, they are useful with the `map()` and `filter()` built-in functions.\n",
    "\n",
    "- The `filter()` function filters an input list on the basis of a criterion which can be specified using a lambda function.\n",
    "- The `map()` function applies a function to all items in a list."
   ]
  },
  {
   "cell_type": "code",
   "execution_count": null,
   "metadata": {},
   "outputs": [],
   "source": [
    "# A lambda function can be assigned to a variable but this isn't often done\n",
    "double = lambda x: x * 2\n",
    "print(double(5))\n",
    "\n",
    "# A lambda function can also take more than one argument\n",
    "sum_two = lambda x, y: x + y\n",
    "print(sum_two(5, 8))\n",
    "\n",
    "# Realistically lambda functions should be used with functions like `filter()`...\n",
    "my_num_list = [1, 2, 5, 8, 12, 15, 20, 6]\n",
    "filtered = list(filter(lambda x: x < 10, my_num_list))\n",
    "print(filtered)\n",
    "\n",
    "# ...or map()\n",
    "mapped = list(map(lambda x: x * x, my_num_list))\n",
    "print(mapped)"
   ]
  },
  {
   "cell_type": "markdown",
   "metadata": {},
   "source": [
    "## Discussion\n",
    "\n",
    "That was it for functions. \n",
    "\n",
    "Don't worry if you feel a little confused. Functions can be one of the harder parts of a programming language. Take some time to practice with the above examples, changing some lines of code to see what happens. Feel free to add more cells and experiment with the concepts you have learnt.\n",
    "\n",
    "In the next notebook, we’ll explore how to use modules and packages, which provide pre-made functions that you can incorporate into your own code!\n",
    "\n",
    "If you want to learn more there are some extra external resources linked at the beginning of this notebook. You can click [here](#Contents) to go back to the top."
   ]
  }
 ],
 "metadata": {
  "kernelspec": {
   "display_name": "Python 3 (ipykernel)",
   "language": "python",
   "name": "python3"
  },
  "language_info": {
   "codemirror_mode": {
    "name": "ipython",
    "version": 3
   },
   "file_extension": ".py",
   "mimetype": "text/x-python",
   "name": "python",
   "nbconvert_exporter": "python",
   "pygments_lexer": "ipython3",
   "version": "3.11.7"
  }
 },
 "nbformat": 4,
 "nbformat_minor": 4
}
