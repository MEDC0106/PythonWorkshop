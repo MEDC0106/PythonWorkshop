{
 "cells": [
  {
   "cell_type": "markdown",
   "metadata": {
    "editable": false
   },
   "source": [
    "### MEDC0106: Bioinformatics in Applied Biomedical Science\n",
    "\n",
    "<p align=\"center\">\n",
    "  <img src=\"../../resources/static/Banner.png\" alt=\"MEDC0106 Banner\" width=\"90%\"/>\n",
    "  <br>\n",
    "</p>\n",
    "\n",
    "---------------------------------------------------------------\n",
    "\n",
    "# 08 - Introduction to Biopython - Proteins Exercises\n",
    "\n",
    "*Written by:* Mateusz Kaczyński\n",
    "\n",
    "**This notebook contains the exercises covering the basic protein analysis and search.**\n",
    "\n",
    "## Contents\n",
    "1. [Plotting relative mutability](#Plotting-relative-mutability)\n",
    "2. [BLAST and analyse](#BLAST-and-analyse)\n",
    "-----\n",
    "\n",
    "\n",
    "**Remember to save your results!**"
   ]
  },
  {
   "cell_type": "markdown",
   "metadata": {
    "editable": false
   },
   "source": [
    "#### Imports\n",
    "\n",
    "Some imports you may, or may not need to complete the tasks (run this before you attempt the exercises)."
   ]
  },
  {
   "cell_type": "code",
   "execution_count": null,
   "metadata": {
    "editable": false
   },
   "outputs": [],
   "source": [
    "%matplotlib notebook\n",
    "import matplotlib.pyplot as plt\n",
    "\n",
    "from urllib.request import urlretrieve \n",
    "\n",
    "from Bio import SeqIO\n",
    "from Bio.Seq import Seq"
   ]
  },
  {
   "cell_type": "markdown",
   "metadata": {
    "editable": false
   },
   "source": [
    "## Plotting the relative mutability\n",
    "\n",
    "In this exercise, we will use the relative aminoacid mutability scale as outlined in *Dayhoff M.O., Schwartz R.M., Orcutt B.C. In \"Atlas of Protein Sequence and Structure\", Vol.5, Suppl.3 (1978).* Their work includes a table presenting experimentally - derived mutation probability relative to Alanine.\n",
    "\n",
    "1. Obtain a FASTA file for any protein of interest (e.g. using [Uniprot](https://uniprot.org)). *You can provide the sequence by hand if you find downloading too slow.* \n",
    "2. Plot the relative (Ala=100) mutability of the protein regions. Use 15-item wide sliding window.\n"
   ]
  },
  {
   "cell_type": "code",
   "execution_count": null,
   "metadata": {
    "editable": false
   },
   "outputs": [],
   "source": [
    "aminoacid_relative_mutability = {\n",
    "    \"A\": 100, \"C\": 20,  \"D\": 106, \"E\": 102, \"F\": 41, \n",
    "    \"G\": 49,  \"H\": 66,  \"I\": 96,  \"K\": 56,  \"L\": 40,\n",
    "    \"M\": 94,  \"N\": 134, \"P\": 56,  \"Q\": 102, \"R\": 65,\n",
    "    \"S\": 120, \"T\": 97,  \"V\": 74,  \"W\": 18,  \"Y\": 41\n",
    "}"
   ]
  },
  {
   "cell_type": "code",
   "execution_count": null,
   "metadata": {},
   "outputs": [],
   "source": [
    "# Write your solution here, adding more cells if necessary."
   ]
  },
  {
   "cell_type": "markdown",
   "metadata": {
    "editable": false
   },
   "source": [
    "## BLAST and analyse\n",
    "\n",
    "1. Run the provided protein sequence against NCBI non-redundant protein sequence database.\n",
    "2. Download the first available protein sequence hits (don't worry if you don't know how to do it with python, copy-paste the sequences by hand).\n",
    "3. Calculate the molecular weight of the two proteins. Which one is heavier?\n",
    "4. Using `aminoacid_relative_mutability` dictionary from the previous exercise, which of the two is more prone to mutation? "
   ]
  },
  {
   "cell_type": "code",
   "execution_count": null,
   "metadata": {},
   "outputs": [],
   "source": [
    "sequence = \"\"\"\n",
    "EVSIIQSMGYRNRAKRLLQSEPENPSLQETSLSVQLSNLGTVRTLRTKQRIQPQKTSVYI\n",
    "ELGSDSSEDTVNKATYCSVGDQELLQITPQGTRDEISLDSAKKAACEFSETDVTNTEHHQ\n",
    "PSNNDLNTTEKRAAERHPEKYQGSSVSNLHVEPCGTNTHASSLQHENSSLLLTKDRMNVE\n",
    "KAEFCNKSKQPGLARSQHNRWAGSKETCNDRRTPSTEKKVDLNADPLCERKEWNKQKLPC\n",
    "\"\"\"\n",
    "# Write your solution here, adding more cells if necessary."
   ]
  }
 ],
 "metadata": {
  "celltoolbar": "Edit Metadata",
  "kernelspec": {
   "display_name": "Python 3 (ipykernel)",
   "language": "python",
   "name": "python3"
  },
  "language_info": {
   "codemirror_mode": {
    "name": "ipython",
    "version": 3
   },
   "file_extension": ".py",
   "mimetype": "text/x-python",
   "name": "python",
   "nbconvert_exporter": "python",
   "pygments_lexer": "ipython3",
   "version": "3.10.8"
  },
  "pycharm": {
   "stem_cell": {
    "cell_type": "raw",
    "metadata": {
     "collapsed": false
    },
    "source": []
   }
  }
 },
 "nbformat": 4,
 "nbformat_minor": 4
}
