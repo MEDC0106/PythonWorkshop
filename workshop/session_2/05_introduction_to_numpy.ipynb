{
 "cells": [
  {
   "cell_type": "markdown",
   "id": "elementary-richardson",
   "metadata": {},
   "source": [
    "### MEDC0106: Bioinformatics in Applied Biomedical Science\n",
    "\n",
    "<p align=\"center\">\n",
    "  <img src=\"../../resources/static/Banner.png\" alt=\"MEDC0106 Banner\" width=\"90%\"/>\n",
    "  <br>\n",
    "</p>\n",
    "\n",
    "---------------------------------------------------------------\n",
    "\n",
    "# 05 - Introduction to NumPy\n",
    "\n",
    "*Written by:* Oliver Scott\n",
    "\n",
    "**This notebook provides a general introduction to NumPy.**\n",
    "\n",
    "Do not be afraid to make changes to the code cells to explore how things work!\n",
    "\n",
    "### What is NumPy?\n",
    "\n",
    "[**Numpy**](https://numpy.org/) is a popular python package containing multidimensional array and matrix data structures. \n",
    "\n",
    "Description from the [NumPy user guide](https://numpy.org/devdocs/user/absolute_beginners.html):\n",
    "\n",
    "> NumPy (Numerical Python) is an open source Python library that’s used in almost every field of science and engineering. It’s the universal standard for working with numerical data in Python, and it’s at the core of the scientific Python and PyData ecosystems. NumPy users include everyone from beginning coders to experienced researchers doing state-of-the-art scientific and industrial research and development. The NumPy API is used extensively in Pandas, SciPy, Matplotlib, scikit-learn, scikit-image and most other data science and scientific Python packages.\n",
    "\n",
    "NumPy allows scientists to produce cutting edge software with the speed of C with a much less involved API!\n",
    "\n",
    "In this notebook we will learn the very basics of the NumPy, it could have a whole lecture series itself! \n",
    "\n",
    "-----\n",
    "\n",
    "## Contents\n",
    "\n",
    "1. [The Basics](#The-Basics)\n",
    "\n",
    "-----\n",
    "\n",
    "#### Extra Resources:\n",
    "\n",
    "- [Learn NumPy](https://numpy.org/learn/) - Recommended learning material from the NumPy developers\n",
    "-----\n",
    "\n",
    "## The Basics\n",
    "\n",
    "Importing numpy is no different to any other package/module. NumPy users often use the np alias to keep code clean:"
   ]
  },
  {
   "cell_type": "code",
   "execution_count": null,
   "id": "beneficial-external",
   "metadata": {},
   "outputs": [],
   "source": [
    "import numpy as np\n",
    "\n",
    "array = np.array([1,2,3,4])\n",
    "\n",
    "print(array)"
   ]
  },
  {
   "cell_type": "markdown",
   "id": "united-table",
   "metadata": {},
   "source": [
    "#### NumPy arrays vs Python lists \n",
    "\n",
    "- NumPy arrays can only hold one 'type' of data unlike Python lists\n",
    "- NumPy arrays consume less memory than Python lists\n",
    "- NumPy arrays are much faster then Python lists\n",
    "- NumPy arrays are of a fixed size\n",
    "- NumPy provides numerous (fast) mathematical operations that can be applied over arrays\n",
    "\n",
    "##### The structure of an array\n",
    "\n",
    "The array is the fundamental data structure in the NumPy library, consisting of a grid of values which all share the same 'type' or 'dtype' in NumPy. This grid can be indexed in a similar way to Python lists, and also using tuples of nonnegative integers, by booleans, by another array, or by integers. \n",
    "\n",
    "----\n",
    "\n",
    "**Array structure:**\n",
    "\n",
    "<p align=\"center\">\n",
    "  <img src=\"https://i.imgur.com/mg8O3kd.png\" alt=\"NumPy Arrays\" width=\"100%\"/>\n",
    "  <br>\n",
    "</p>\n",
    "\n",
    "[Image Source](https://www.freecodecamp.org/news/exploratory-data-analysis-with-numpy-pandas-matplotlib-seaborn/)\n",
    "\n",
    "\n",
    "**Multiple Dimensions:**\n",
    "\n",
    "NumPy arrays can also be multidimensional (1D, 2D, 3D ... ND), meaning the NumPy array structure can be used to model vectors (1D) and matrices (2D). Arrays with >= 3 dimensions is often refered to as a tensor (see above)."
   ]
  },
  {
   "cell_type": "code",
   "execution_count": null,
   "id": "measured-transaction",
   "metadata": {},
   "outputs": [],
   "source": []
  }
 ],
 "metadata": {
  "kernelspec": {
   "display_name": "Python 3",
   "language": "python",
   "name": "python3"
  },
  "language_info": {
   "codemirror_mode": {
    "name": "ipython",
    "version": 3
   },
   "file_extension": ".py",
   "mimetype": "text/x-python",
   "name": "python",
   "nbconvert_exporter": "python",
   "pygments_lexer": "ipython3",
   "version": "3.7.9"
  }
 },
 "nbformat": 4,
 "nbformat_minor": 5
}
