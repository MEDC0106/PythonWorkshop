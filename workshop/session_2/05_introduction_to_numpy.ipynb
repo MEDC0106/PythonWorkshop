{
 "cells": [
  {
   "cell_type": "markdown",
   "id": "capital-roots",
   "metadata": {},
   "source": [
    "### MEDC0106: Bioinformatics in Applied Biomedical Science\n",
    "\n",
    "<p align=\"center\">\n",
    "  <img src=\"../../resources/static/Banner.png\" alt=\"MEDC0106 Banner\" width=\"90%\"/>\n",
    "  <br>\n",
    "</p>\n",
    "\n",
    "---------------------------------------------------------------\n",
    "\n",
    "# 05 - Introduction to NumPy\n",
    "\n",
    "*Written by:* Oliver Scott\n",
    "\n",
    "**This notebook provides a general introduction to NumPy.**\n",
    "\n",
    "Do not be afraid to make changes to the code cells to explore how things work!\n",
    "\n",
    "### What is NumPy?\n",
    "\n",
    "[**Numpy**](https://numpy.org/) is a popular python package containing multidimensional array and matrix data structures. \n",
    "\n",
    "Description from the [NumPy user guide](https://numpy.org/devdocs/user/absolute_beginners.html):\n",
    "\n",
    "> NumPy (Numerical Python) is an open source Python library that’s used in almost every field of science and engineering. It’s the universal standard for working with numerical data in Python, and it’s at the core of the scientific Python and PyData ecosystems. NumPy users include everyone from beginning coders to experienced researchers doing state-of-the-art scientific and industrial research and development. The NumPy API is used extensively in Pandas, SciPy, Matplotlib, scikit-learn, scikit-image and most other data science and scientific Python packages.\n",
    "\n",
    "NumPy allows scientists to produce cutting edge software with the speed of C with a much less involved API!\n",
    "\n",
    "In this notebook we will learn the very basics of the NumPy, it could have a whole lecture series itself! \n",
    "\n",
    "-----\n",
    "\n",
    "## Contents\n",
    "\n",
    "1. [The Basics](#The-Basics)\n",
    "2. [Indexing and Slicing](#Indexing-and-Slicing)\n",
    "3. [Basic Operations](#Basic-Operations)\n",
    "\n",
    "-----\n",
    "\n",
    "#### Extra Resources:\n",
    "\n",
    "- [Learn NumPy](https://numpy.org/learn/) - Recommended learning material from the NumPy developers\n",
    "-----\n",
    "\n",
    "## The Basics\n",
    "\n",
    "Importing numpy is no different to any other package/module. NumPy users often use the np alias to keep code clean:"
   ]
  },
  {
   "cell_type": "code",
   "execution_count": null,
   "id": "atomic-canadian",
   "metadata": {},
   "outputs": [],
   "source": [
    "import numpy as np\n",
    "\n",
    "array = np.array([1,2,3,4])\n",
    "\n",
    "print(array)"
   ]
  },
  {
   "cell_type": "markdown",
   "id": "departmental-exploration",
   "metadata": {},
   "source": [
    "#### NumPy arrays vs Python lists \n",
    "\n",
    "- NumPy arrays can only hold one 'type' of data unlike Python lists\n",
    "- NumPy arrays consume less memory than Python lists\n",
    "- NumPy arrays are much faster then Python lists\n",
    "- NumPy arrays are of a fixed size\n",
    "- NumPy provides numerous (fast) mathematical operations that can be applied over arrays\n",
    "\n",
    "##### The structure of an array\n",
    "\n",
    "The array is the fundamental data structure in the NumPy library, consisting of a grid of values which all share the same 'type' or 'dtype' in NumPy. This grid can be indexed in a similar way to Python lists, and also using tuples of nonnegative integers, by booleans, by another array, or by integers. \n",
    "\n",
    "----\n",
    "\n",
    "**Array structure:**\n",
    "\n",
    "<p align=\"center\">\n",
    "  <img src=\"https://i.imgur.com/mg8O3kd.png\" alt=\"NumPy Arrays\" width=\"100%\"/>\n",
    "  <br>\n",
    "</p>\n",
    "\n",
    "[Image Source](https://www.freecodecamp.org/news/exploratory-data-analysis-with-numpy-pandas-matplotlib-seaborn/)\n",
    "\n",
    "\n",
    "**Multiple Dimensions:**\n",
    "\n",
    "NumPy arrays can also be multidimensional (1D, 2D, 3D ... ND), meaning the NumPy array structure can be used to model vectors (1D) and matrices (2D). Arrays with >= 3 dimensions is often refered to as a tensor (see above).\n",
    "\n",
    "Dimensions in NumPy are refered to as 'axes'. A 2D array may look something like this:\n",
    "\n",
    "```python\n",
    "[[0., 0., 0.],\n",
    " [1., 1., 1.]]\n",
    "```\n",
    "\n",
    "Where there are two axes and the first axis has a length of two and the second a length of three. You can access the shape of an array with the `.shape` attribute, which is a tuple refering to the length of each axis. In this case this would be `(2,3)`\n",
    "\n",
    "\n",
    "**Creating NumPy arrays:**\n",
    "\n",
    "There are numerous ways to create a NumPy array. We will cover some of the ways here:\n",
    "\n",
    "- `np.array()`\n",
    "- `np.zeros()`\n",
    "- `np.ones()`\n",
    "- `np.empty()`\n",
    "- `np.arange()`\n",
    "- `np.linspace()`\n",
    "\n",
    "`np.array()`can be used to construct an array from a Python list:"
   ]
  },
  {
   "cell_type": "code",
   "execution_count": null,
   "id": "random-teens",
   "metadata": {},
   "outputs": [],
   "source": [
    "array_1d = np.array([1, 2, 3, 4])                  # A 1D array\n",
    "array_2d = np.array([[1, 2, 3, 4], [5, 6, 7, 8]])  # A 2D array\n",
    "\n",
    "print('1D NumPy array:\\n', array_1d)\n",
    "print('\\n2D NumPy array:\\n', array_2d)"
   ]
  },
  {
   "cell_type": "markdown",
   "id": "popular-madonna",
   "metadata": {},
   "source": [
    "`np.zeros()` fills an array with zeros, while `np.ones()` fills an array with ones:"
   ]
  },
  {
   "cell_type": "code",
   "execution_count": null,
   "id": "tender-poultry",
   "metadata": {},
   "outputs": [],
   "source": [
    "zero_array_1d = np.zeros(6)\n",
    "ones_array_2d = np.ones((6, 3))\n",
    "\n",
    "print('1D NumPy array:\\n', zero_array_1d)\n",
    "print('\\n2D NumPy array:\\n', ones_array_2d)"
   ]
  },
  {
   "cell_type": "markdown",
   "id": "administrative-dealer",
   "metadata": {},
   "source": [
    "`np.empty()` functions in much the same way but fills the array with random numbers depending on the state of the memory (quicker than zeros/ones):"
   ]
  },
  {
   "cell_type": "code",
   "execution_count": null,
   "id": "presidential-services",
   "metadata": {},
   "outputs": [],
   "source": [
    "array = np.empty(10)\n",
    "\n",
    "print(array)"
   ]
  },
  {
   "cell_type": "markdown",
   "id": "lovely-indonesian",
   "metadata": {},
   "source": [
    "`np.arange()` creates an array containing a range of numbers similarly to the Python `range()` function. A step size parameter can also be provided:"
   ]
  },
  {
   "cell_type": "code",
   "execution_count": null,
   "id": "third-coach",
   "metadata": {},
   "outputs": [],
   "source": [
    "array = np.arange(0, 11, 2)\n",
    "\n",
    "print(array)"
   ]
  },
  {
   "cell_type": "markdown",
   "id": "extraordinary-while",
   "metadata": {},
   "source": [
    "`np.linspace()` creates an array of evenly spaced values within a specified interval:"
   ]
  },
  {
   "cell_type": "code",
   "execution_count": null,
   "id": "scientific-gnome",
   "metadata": {},
   "outputs": [],
   "source": [
    "array = np.linspace(0, 20, 5)  # 0 -> 20 in 5 values\n",
    "\n",
    "print(array)"
   ]
  },
  {
   "cell_type": "markdown",
   "id": "complimentary-priority",
   "metadata": {},
   "source": [
    "**Specifying a dtype**\n",
    "\n",
    "When creating an array the dtype is automatically `np.float64`, however the dtype can be specified by the user.\n",
    "\n",
    "Learn more about datatypes [here](https://www.tutorialspoint.com/numpy/numpy_data_types.htm)"
   ]
  },
  {
   "cell_type": "code",
   "execution_count": null,
   "id": "suburban-lease",
   "metadata": {},
   "outputs": [],
   "source": [
    "array = np.ones((4,4), dtype=np.int64)  # Here we specify integer\n",
    "\n",
    "print(array)"
   ]
  },
  {
   "cell_type": "markdown",
   "id": "unexpected-conclusion",
   "metadata": {},
   "source": [
    "## Indexing and Slicing\n",
    "\n",
    "Indexing and slicing is fundamental to working with NumPy arrays. \n",
    "\n",
    "Indexing one dimensional arrays is very similar to indexing Python lists\n",
    "\n",
    "*Try to use your prior knowledge to work out the output of the cell below before running it*"
   ]
  },
  {
   "cell_type": "code",
   "execution_count": null,
   "id": "unauthorized-buddy",
   "metadata": {},
   "outputs": [],
   "source": [
    "array = np.array([1, 2, 3, 4])\n",
    "\n",
    "print(array[1])\n",
    "print(array[0:3])\n",
    "print(array[1:])\n",
    "print(array[1:-1])"
   ]
  },
  {
   "cell_type": "markdown",
   "id": "technical-torture",
   "metadata": {},
   "source": [
    "When accessing arrays with more than one dimension we can use comma seperated values representing the dimension and index of the element. It may help to think of a 2D array as a data table where axis 0 represents the rows and axis 1 represents the columns:"
   ]
  },
  {
   "cell_type": "code",
   "execution_count": null,
   "id": "difficult-champagne",
   "metadata": {},
   "outputs": [],
   "source": [
    "array_2d = np.array([[1, 2, 3, 4, 5], [6, 7, 8, 9, 10]], dtype=np.int)\n",
    "\n",
    "# Access the element on the first row, third column:\n",
    "print('3rd element on the first row:', array_2d[0,2])\n",
    "\n",
    "# Access the element on the secxond row last column:\n",
    "print('Last element on the second row:', array_2d[1,-1])\n",
    "\n",
    "# Access the entire first row\n",
    "print('The first row:', array_2d[0])  # this is equivalent to [0,:]\n",
    "\n",
    "# Access the entire second column\n",
    "print('The second column:', array_2d[:,1])"
   ]
  },
  {
   "cell_type": "markdown",
   "id": "saved-transcript",
   "metadata": {},
   "source": [
    "Extending this logic to further dimensions is thus relatively straightforward:"
   ]
  },
  {
   "cell_type": "code",
   "execution_count": null,
   "id": "worse-bleeding",
   "metadata": {},
   "outputs": [],
   "source": [
    "array_3d = np.array([[[1, 2, 3], [4, 5, 6]], [[7, 8, 9], [10, 11, 12]]])  # shape (4, 3)\n",
    "\n",
    "print('Index [0,1,2]:', array_3d[0, 1, 2])"
   ]
  },
  {
   "cell_type": "markdown",
   "id": "latin-faith",
   "metadata": {},
   "source": [
    "Sometimes it can be hard to think in multiple dimensions!\n",
    "\n",
    "To explain:\n",
    "    \n",
    "- Index `0` selects the first dimension which contains two arrays:\n",
    "   \n",
    "```python\n",
    "[[1, 2, 3], [4, 5, 6]]  &  [[7, 8, 9], [10, 11, 12]]\n",
    "\n",
    "So we select:\n",
    "\n",
    "[[1, 2, 3], [4, 5, 6]]\n",
    "```\n",
    "\n",
    "- Index `1` selects from the above two arrays:\n",
    "\n",
    "```python\n",
    "So we select:\n",
    "\n",
    "[4, 5, 6]\n",
    "```\n",
    "\n",
    "- The final index `2` then selects from the above:\n",
    "\n",
    "```python\n",
    "So we select:\n",
    "\n",
    "6\n",
    "```\n",
    "\n",
    "Of course we can also use slicing and negative indexes as in the 2D example. Take some time to experiment with indexing and slicing different arrays yourself.\n",
    "\n",
    "----\n",
    "\n",
    "#### Indexing with conditionals\n",
    "\n",
    "If you can recall, we mentioned that NumPy arrays can be indexed with booleans. Boolean arrays can be generated simply using a conditional expression.\n",
    "\n",
    "If you can recall from the first session we can use expressions like: \n",
    "\n",
    "```python\n",
    "x = 5\n",
    "x > 10  # False\n",
    "````\n",
    "\n",
    "which generate a boolean value.\n",
    "\n",
    "We can use the same type of expression with numpy arrays to generate an array of boolean values:\n",
    "\n",
    "```python\n",
    "array = np.array([1, 2, 3, 4, 5])\n",
    "mask = array > 2  # creates a boolean array [False, False, True, True ...]\n",
    "```\n",
    "\n",
    "Therefore indexing based on a condition is straightforward:"
   ]
  },
  {
   "cell_type": "code",
   "execution_count": null,
   "id": "dressed-needle",
   "metadata": {},
   "outputs": [],
   "source": [
    "array = np.array([[1 , 2, 3, 4], [5, 6, 7, 8], [9, 10, 11, 12]])\n",
    "\n",
    "# Interested in getting all values > 5\n",
    "print('Conditional Indexing Result:', array[array > 5])"
   ]
  },
  {
   "cell_type": "markdown",
   "id": "choice-receipt",
   "metadata": {},
   "source": [
    "Of course boolean arrays can be composed logically using `&` 'AND' and `|` 'OR' to chain multiple conditions:"
   ]
  },
  {
   "cell_type": "code",
   "execution_count": null,
   "id": "single-hawaiian",
   "metadata": {},
   "outputs": [],
   "source": [
    "# We are now interested in getting all values which are > 5 AND divisible by 2 (even)\n",
    "print('Result:', array[(array > 5) & (array % 2 == 0)])\n",
    "\n",
    "# Let's break it down slightly:\n",
    "condition_1 = array > 5                          # value greater than 5\n",
    "condition_2 = array % 2 == 0                     # value divisible by 2\n",
    "combined_condition = condition_1 & condition_2   # combined condition 'AND'\n",
    "\n",
    "print('Result:', array[combined_condition])  # Same result!"
   ]
  },
  {
   "cell_type": "markdown",
   "id": "false-preserve",
   "metadata": {},
   "source": [
    "`np.nonzero()` can also be used to select elements or indices from an array.\n",
    "\n",
    "Instead of a boolean array, this method returns the indicies.\n",
    "\n",
    "Let's try with `array > 5`:"
   ]
  },
  {
   "cell_type": "code",
   "execution_count": null,
   "id": "productive-burner",
   "metadata": {},
   "outputs": [],
   "source": [
    "indices = np.nonzero(array > 5)\n",
    "\n",
    "print('Indices:', indices)  # first array is row index, second array is column index\n",
    "\n",
    "# Of course we can use these to index also\n",
    "print('Result:', array[indices])"
   ]
  },
  {
   "cell_type": "markdown",
   "id": "constitutional-charleston",
   "metadata": {},
   "source": [
    "## Basic Operations"
   ]
  },
  {
   "cell_type": "code",
   "execution_count": null,
   "id": "english-selection",
   "metadata": {},
   "outputs": [],
   "source": []
  },
  {
   "cell_type": "code",
   "execution_count": null,
   "id": "developing-canon",
   "metadata": {},
   "outputs": [],
   "source": []
  },
  {
   "cell_type": "code",
   "execution_count": null,
   "id": "sixth-dublin",
   "metadata": {},
   "outputs": [],
   "source": []
  },
  {
   "cell_type": "code",
   "execution_count": null,
   "id": "utility-hammer",
   "metadata": {},
   "outputs": [],
   "source": []
  },
  {
   "cell_type": "code",
   "execution_count": null,
   "id": "ahead-century",
   "metadata": {},
   "outputs": [],
   "source": []
  },
  {
   "cell_type": "code",
   "execution_count": null,
   "id": "charming-brunswick",
   "metadata": {},
   "outputs": [],
   "source": []
  }
 ],
 "metadata": {
  "kernelspec": {
   "display_name": "Python 3",
   "language": "python",
   "name": "python3"
  },
  "language_info": {
   "codemirror_mode": {
    "name": "ipython",
    "version": 3
   },
   "file_extension": ".py",
   "mimetype": "text/x-python",
   "name": "python",
   "nbconvert_exporter": "python",
   "pygments_lexer": "ipython3",
   "version": "3.7.9"
  }
 },
 "nbformat": 4,
 "nbformat_minor": 5
}
