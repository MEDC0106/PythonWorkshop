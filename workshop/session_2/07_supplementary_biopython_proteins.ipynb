{
 "cells": [
  {
   "cell_type": "markdown",
   "metadata": {},
   "source": [
    "### MEDC0106: Bioinformatics in Applied Biomedical Science\n",
    "\n",
    "<p align=\"center\">\n",
    "  <img src=\"../../resources/static/Banner.png\" alt=\"MEDC0106 Banner\" width=\"90%\"/>\n",
    "  <br>\n",
    "</p>\n",
    "\n",
    "---------------------------------------------------------------\n",
    "\n",
    "# 07 - Handling protein data with Biopython (supplementary material)\n",
    "\n",
    "*Written by:* Mateusz Kaczyński\n",
    "\n",
    "**This notebook covers handling protein data with Biopython, as well as analysis, property predictions, and similarity searches.**\n",
    "\n",
    "-----\n",
    "\n",
    "## Contents\n",
    "\n",
    "1. [Basic analysis](#Basic-analysis)\n",
    "2. [Property prediction](#Property-prediction)\n",
    "3. [BLAST](#BLAST)\n",
    "4. [PDB files](#PDB-files)\n",
    "5. [Discussion](#Discussion)\n",
    "\n",
    "-----\n",
    "\n",
    "### Extra resources:\n",
    "\n",
    "- [Official Biopython tutorial](http://biopython.org/DIST/docs/tutorial/Tutorial.html) - A comprehensive guide to the capabilities of the library.\n",
    "- [Biopython API documentation](https://biopython.org/docs/latest/api/index.html) - A long, detailed list of all methods and connectors provided by Biopython.\n",
    "- [Rosalind](http://rosalind.info) - A bioinformatics learning platform that includes exercises.\n",
    "\n",
    "-----\n",
    "\n",
    "### Installing Biopython"
   ]
  },
  {
   "cell_type": "code",
   "execution_count": null,
   "metadata": {},
   "outputs": [],
   "source": [
    "# No need to run if you have already installed Biopython when going through the previous notebooks.\n",
    "!pip install Biopython"
   ]
  },
  {
   "cell_type": "markdown",
   "metadata": {},
   "source": [
    "### Importing required modules and functions"
   ]
  },
  {
   "cell_type": "code",
   "execution_count": null,
   "metadata": {},
   "outputs": [],
   "source": [
    "import Bio\n",
    "print(\"Module\", Bio.__name__, \"version\", Bio.__version__)\n",
    "from urllib.request import urlretrieve\n",
    "from Bio import SeqIO"
   ]
  },
  {
   "cell_type": "markdown",
   "metadata": {},
   "source": [
    "-----\n",
    "## Basic analysis\n",
    "\n",
    "**Biopython** offers a range of tools for protein analysis.\n",
    "\n",
    "In this example, we will work with the [CFTR protein](https://www.uniprot.org/uniprot/P13569), which is associated with cystic fibrosis. Mutations in the CFTR gene are known to cause this condition.\n",
    "\n",
    "For more details on CFTR, you can refer to the following resources:\n",
    "- **Ensembl**: [CFTR Gene Summary on Ensembl](https://www.ensembl.org/Homo_sapiens/Gene/Summary?g=ENSG00000001626;r=7:117287120-117715971)\n",
    "- **UniProt**: [CFTR Protein Entry on UniProt](https://www.uniprot.org/uniprot/P13569)\n",
    "\n",
    "First, we will make a `data_supplementary` directory and then download the corresponding FASTA file to extract the sequence."
   ]
  },
  {
   "cell_type": "code",
   "execution_count": null,
   "metadata": {
    "collapsed": false,
    "jupyter": {
     "outputs_hidden": false
    }
   },
   "outputs": [],
   "source": [
    "!mkdir data_supplementary"
   ]
  },
  {
   "cell_type": "code",
   "execution_count": null,
   "metadata": {},
   "outputs": [],
   "source": [
    "# Download the FASTA file for the CFTR protein and save it to the specified path\n",
    "urlretrieve(\"https://www.uniprot.org/uniprot/P13569.fasta\", \"data_supplementary/P13569.fasta\")\n",
    "\n",
    "# Use the `next()` function to retrieve the first sequence record from the FASTA file\n",
    "cftr_aa = next(SeqIO.parse(\"data/P13569.fasta\", \"fasta\"))\n",
    "\n",
    "# Print the retrieved sequence record\n",
    "print(cftr_aa)"
   ]
  },
  {
   "cell_type": "markdown",
   "metadata": {
    "editable": false
   },
   "source": [
    "**Biopython** provides the `ProteinAnalysis` class, which offers a range of tools for analyzing protein sequences.\n",
    "\n",
    "This class includes functionality for tasks such as:\n",
    "- Calculating molecular weight\n",
    "- Determining amino acid composition\n",
    "- Estimating isoelectric points\n",
    "- Predicting secondary structure elements\n",
    "\n",
    "By using `ProteinAnalysis`, you can perform comprehensive protein analysis with minimal code.\n"
   ]
  },
  {
   "cell_type": "code",
   "execution_count": null,
   "metadata": {},
   "outputs": [],
   "source": [
    "from Bio.SeqUtils.ProtParam import ProteinAnalysis\n",
    "analysis = ProteinAnalysis(str(cftr_aa.seq))\n",
    "\n",
    "# No output is expected from this cell"
   ]
  },
  {
   "cell_type": "markdown",
   "metadata": {},
   "source": [
    "To delve into the full functionality of the `ProteinAnalysis` class, you can use `help()` function. Uncomment the next line to see what other information can be obtained from `analysis` object."
   ]
  },
  {
   "cell_type": "code",
   "execution_count": null,
   "metadata": {},
   "outputs": [],
   "source": [
    "# help(analysis)"
   ]
  },
  {
   "cell_type": "markdown",
   "metadata": {},
   "source": [
    "Let’s generate a quick summary of the amino acid composition in the protein sequence.\n",
    "\n",
    "Here, we’ll use the `ProteinAnalysis` class to get the count of each amino acid, and we’ll use `pprint` (PrettyPrint) to format the output, making the dictionary easier to read."
   ]
  },
  {
   "cell_type": "code",
   "execution_count": null,
   "metadata": {},
   "outputs": [],
   "source": [
    "import pprint\n",
    "\n",
    "count_of_aas = analysis.count_amino_acids()\n",
    "print(\"Count of particular aminoacids:\")\n",
    "print(count_of_aas)\n",
    "\n",
    "print(\"\\nCount of particular aminoacids using PrettyPrint:\")\n",
    "pprint.pprint(count_of_aas)"
   ]
  },
  {
   "cell_type": "markdown",
   "metadata": {
    "editable": false
   },
   "source": [
    "Let's take a look at some protein properties available.\n",
    "\n",
    "`\"{:.2f}\"` is used to print only a `float` number to the first two decimal places."
   ]
  },
  {
   "cell_type": "code",
   "execution_count": null,
   "metadata": {},
   "outputs": [],
   "source": [
    "print(\"Molecular weight    :\", \"{:.2f}\".format(analysis.molecular_weight()))\n",
    "print(\"\\nCharge at a given pH:\", \"{:.2f}\".format(analysis.charge_at_pH(5.8)))\n",
    "print(\"\\nIsoelectric point   :\", \"{:.2f}\".format(analysis.isoelectric_point()))\n",
    "in_helix, in_turn, in_sheet = analysis.secondary_structure_fraction()\n",
    "print(\n",
    "    \"\\nFractions of amino acids associated with different secondary structures\\n\"\\\n",
    "    \"               Helix: {:.2f}\\n\"\\\n",
    "    \"               Turn: {:.2f}\\n\"\\\n",
    "    \"               Sheet: {:.2f}\".format(in_helix, in_turn, in_sheet)\n",
    ")"
   ]
  },
  {
   "cell_type": "markdown",
   "metadata": {
    "editable": false
   },
   "source": [
    "We can use Biopython’s helper functions to create custom statistics. \n",
    "\n",
    "For example, let’s calculate the content of **branched-chain amino acids (BCAAs)**—leucine (L), isoleucine (I), and valine (V)—in the protein. These amino acids are often important for protein structure and function."
   ]
  },
  {
   "cell_type": "code",
   "execution_count": null,
   "metadata": {},
   "outputs": [],
   "source": [
    "total_number_of_LIV_aas = 0\n",
    "\n",
    "# For each amino acid L, I, and V, add the count from the dictionary\n",
    "for aa in [\"L\", \"I\", \"V\"]:\n",
    "    total_number_of_LIV_aas += count_of_aas[aa]\n",
    "\n",
    "print(\"BCAA content:\", (total_number_of_LIV_aas / len(cftr_aa))*100, \"%\")"
   ]
  },
  {
   "cell_type": "markdown",
   "metadata": {},
   "source": [
    "## Property prediction\n",
    "\n",
    "In this section, we will analyse the hydrophobicity of the protein.\n",
    "\n",
    "The [Kyte-Doolittle scale](https://doi.org/10.1016/0022-2836(82)90515-0) is a valuable tool for predicting a protein’s hydropathic character. This scale is based on experimentally derived properties of amino acids, with higher values indicating greater hydrophobicity (i.e., a tendency to repel water). Hydrophobic regions identified using this scale can give insights into protein folding, structure, and potential membrane-binding regions."
   ]
  },
  {
   "cell_type": "code",
   "execution_count": null,
   "metadata": {},
   "outputs": [],
   "source": [
    "# Define the Kyte-Doolittle hydrophobicity scale for each amino acid\n",
    "Kyte_and_Doolittle_scale = {\n",
    "    \"A\": 1.8,  \"C\": 2.5,  \"D\": -3.5, \"E\": -3.5, \"F\": 2.8, \n",
    "    \"G\": -0.4, \"H\": -3.2, \"I\": 4.5,  \"K\": -3.9, \"L\": 3.8,\n",
    "    \"M\": 1.9,  \"N\": -3.5, \"P\": -1.6, \"Q\": -3.5, \"R\": -4.5,\n",
    "    \"S\": -0.8, \"T\": -0.7, \"V\": 4.2,  \"W\": -0.9, \"Y\": -1.3\n",
    "}\n",
    "\n",
    "# Amino acid sequence of the CFTR protein\n",
    "sequence = \"\"\"\n",
    "MQRSPLEKASVVSKLFFSWTRPILRKGYRQRLELSDIYQIPSVDSADNLSEKLEREWDRE\n",
    "LASKKNPKLINALRRCFFWRFMFYGIFLYLGEVTKAVQPLLLGRIIASYDPDNKEERSIA\n",
    "IYLGIGLCLLFIVRTLLLHPAIFGLHHIGMQMRIAMFSLIYKKTLKLSSRVLDKISIGQL\n",
    "VSLLSNNLNKFDEGLALAHFVWIAPLQVALLMGLIWELLQASAFCGLGFLIVLALFQAGL\n",
    "GRMMMKYRDQRAGKISERLVITSEMIENIQSVKAYCWEEAMEKMIENLRQTELKLTRKAA\n",
    "YVRYFNSSAFFFSGFFVVFLSVLPYALIKGIILRKIFTTISFCIVLRMAVTRQFPWAVQT\n",
    "WYDSLGAINKIQDFLQKQEYKTLEYNLTTTEVVMENVTAFWEEGFGELFEKAKQNNNNRK\n",
    "TSNGDDSLFFSNFSLLGTPVLKDINFKIERGQLLAVAGSTGAGKTSLLMVIMGELEPSEG\n",
    "KIKHSGRISFCSQFSWIMPGTIKENIIFGVSYDEYRYRSVIKACQLEEDISKFAEKDNIV\n",
    "LGEGGITLSGGQRARISLARAVYKDADLYLLDSPFGYLDVLTEKEIFESCVCKLMANKTR\n",
    "ILVTSKMEHLKKADKILILHEGSSYFYGTFSELQNLQPDFSSKLMGCDSFDQFSAERRNS\n",
    "ILTETLHRFSLEGDAPVSWTETKKQSFKQTGEFGEKRKNSILNPINSIRKFSIVQKTPLQ\n",
    "MNGIEEDSDEPLERRLSLVPDSEQGEAILPRISVISTGPTLQARRRQSVLNLMTHSVNQG\n",
    "QNIHRKTTASTRKVSLAPQANLTELDIYSRRLSQETGLEISEEINEEDLKECFFDDMESI\n",
    "PAVTTWNTYLRYITVHKSLIFVLIWCLVIFLAEVAASLVVLWLLGNTPLQDKGNSTHSRN\n",
    "NSYAVIITSTSSYYVFYIYVGVADTLLAMGFFRGLPLVHTLITVSKILHHKMLHSVLQAP\n",
    "MSTLNTLKAGGILNRFSKDIAILDDLLPLTIFDFIQLLLIVIGAIAVVAVLQPYIFVATV\n",
    "PVIVAFIMLRAYFLQTSQQLKQLESEGRSPIFTHLVTSLKGLWTLRAFGRQPYFETLFHK\n",
    "ALNLHTANWFLYLSTLRWFQMRIEMIFVIFFIAVTFISILTTGEGEGRVGIILTLAMNIM\n",
    "STLQWAVNSSIDVDSLMRSVSRVFKFIDMPTEGKPTKSTKPYKNGQLSKVMIIENSHVKK\n",
    "DDIWPSGGQMTVKDLTAKYTEGGNAILENISFSISPGQRVGLLGRTGSGKSTLLSAFLRL\n",
    "LNTEGEIQIDGVSWDSITLQQWRKAFGVIPQKVFIFSGTFRKNLDPYEQWSDQEIWKVAD\n",
    "EVGLRSVIEQFPGKLDFVLVDGGCVLSHGHKQLMCLARSVLSKAKILLLDEPSAHLDPVT\n",
    "YQIIRRTLKQAFADCTVILCEHRIEAMLECQQFLVIEENKVRQYDSIQKLLNERSLFRQA\n",
    "ISPSDRVKLFPHRNSSKCKSKPQIAALKEETEEEVQDTRL\n",
    "\"\"\".replace(\"\\n\", \"\")  # Remove newline characters\n",
    "\n",
    "# No output is expected from this cell"
   ]
  },
  {
   "cell_type": "markdown",
   "metadata": {},
   "source": [
    "We will use a **sliding window approach** to calculate a smooth hydrophobicity profile across the protein sequence.\n",
    "\n",
    "> For a pre-defined window size `n`, at each position in the sequence, we average its current hydrophobicity value along with the values of the `(n-1)/2` preceding and following amino acids.\n",
    "\n",
    "You can think of this approach as a fixed-size rectangle that moves across the sequence, averaging values within the window to get a mean hydrophobicity for each section of the protein. This helps reveal broader hydrophobic and hydrophilic regions, smoothing out minor fluctuations.\n",
    "\n",
    "The `enumerate` function will be used here to generate tuples containing index positions and corresponding values, making it easy to track the position in the sequence and the associated hydrophobicity score."
   ]
  },
  {
   "cell_type": "code",
   "execution_count": null,
   "metadata": {},
   "outputs": [],
   "source": [
    "window_size = 11\n",
    "hydrophobicity = []  # The hydrophobicity value at a given point in the sequence\n",
    "\n",
    "# The `enumerate(sequence)` will return a tuple of both the index and the amino acid at each position\n",
    "for i, aa in enumerate(sequence):  \n",
    "    window_start = int(i - (window_size-1)/2)\n",
    "    window_end = int(i + (window_size-1)/2)+1\n",
    "    # If `window_start` is less than 0 or `window_end` goes beyond the sequence length, \n",
    "    # `window_hydrophobicity` is set to `None` since the window cannot be fully contained\n",
    "    # within the sequence\n",
    "    if window_start < 0 or window_end > len(sequence):\n",
    "        window_hydrophobicity = None \n",
    "    else:\n",
    "        # For valid windows, `aas_in_window` retrieves the amino acids within the current window\n",
    "        aas_in_window = sequence[window_start:window_end]\n",
    "        # Each amino acid's hydrophobicity score is fetched from `Kyte_and_Doolittle_scale`,\n",
    "        # a dictionary mapping each amino acid to its hydrophobicity score, and the average hydrophobicity \n",
    "        # for the window is calculated by summing the hydrophobicity scores and dividing by `window_size`\n",
    "        window_hydrophobicity = sum([Kyte_and_Doolittle_scale[aa] for aa in aas_in_window]) / window_size\n",
    "    # The calculated `window_hydrophobicity` value is appended to the `hydrophobicity` list\n",
    "    hydrophobicity.append(window_hydrophobicity)\n",
    "\n",
    "print(\"We have calculated the hydrophobicity for {} positions\".format(len(hydrophobicity)))\n",
    "print(\"Hydrophobicity list:\")\n",
    "print(hydrophobicity[:15], \"...\", hydrophobicity[-15:])\n",
    "\n",
    "# Note that this is slightly different than GRAVY from the reference paper\n",
    "# `h if h else 0 for h in hydrophobicity` is used to handle None values\n",
    "print(\"Average hydrophobicity:\", \"{:.4f}\".format(sum(h if h else 0 for h in hydrophobicity) / len(hydrophobicity))) "
   ]
  },
  {
   "cell_type": "markdown",
   "metadata": {
    "editable": false
   },
   "source": [
    "Now, let’s plot the hydrophobicity along the sequence to visually identify hydrophobic and hydrophilic regions.\n",
    "\n",
    "We’ll initialise `matplotlib` for visualisation within notebook cells, then plot the `hydrophobicity` list that was generated using the sliding window approach. This [Hydrophilicity Plot link](https://en.wikipedia.org/wiki/Hydrophilicity_plot) may be helpful for reference."
   ]
  },
  {
   "cell_type": "code",
   "execution_count": null,
   "metadata": {},
   "outputs": [],
   "source": [
    "# Enable inline plotting in Jupyter notebooks\n",
    "%matplotlib inline\n",
    "\n",
    "import matplotlib.pyplot as plt\n",
    "\n",
    "# Set plot resolution\n",
    "plt.rcParams['figure.dpi'] = 80\n",
    "\n",
    "plt.plot(hydrophobicity)\n",
    "plt.title(\"Hydrophobicity per sequence region using window size {}\".format(window_size))\n",
    "plt.xlabel(\"Position in sequence\")\n",
    "plt.ylabel(\"Hydrophobicity score\")\n",
    "plt.show()"
   ]
  },
  {
   "cell_type": "markdown",
   "metadata": {
    "editable": false
   },
   "source": [
    "## BLAST\n",
    "\n",
    "The **Basic Local Alignment Search Tool (BLAST)** allows users to find similar regions across protein sequences and retrieve the most similar matches. \n",
    "\n",
    "**Biopython** provides tools for running BLAST searches both locally (using command-line tools) and remotely via online computation services. In this section, we will use NCBI's BLAST cloud services.\n",
    "\n",
    "*Note: Running BLAST searches can be computationally intensive, especially with large sequence databases, so expect any queries to take several minutes.*\n",
    "\n",
    "The **Biopython** BLAST module includes two main classes:\n",
    " - **`NCBIWWW`**: Used to issue BLAST queries to the remote NCBI server.\n",
    " - **`NCBIXML`**: Used to parse BLAST results (returned in XML format) into an object that can be easily processed in code."
   ]
  },
  {
   "cell_type": "code",
   "execution_count": null,
   "metadata": {},
   "outputs": [],
   "source": [
    "from Bio.Blast import NCBIWWW, NCBIXML\n",
    "\n",
    "# Submit the BLAST query to NCBI's remote server\n",
    "query_handle = NCBIWWW.qblast(\n",
    "    \"blastp\",             # Use \"blastp\" for protein BLAST\n",
    "    database=\"nr\",        # Search against the \"nr\" (non-redundant) protein sequence database\n",
    "    sequence=cftr_aa.seq  # Query sequence from the CFTR protein\n",
    ")\n",
    "\n",
    "# Parse the XML-formatted BLAST results from NCBI\n",
    "# Using `next()` to get the first (or only) BLAST record from the parsed results\n",
    "blast_results = next(NCBIXML.parse(query_handle))\n",
    "\n",
    "print(\"BLAST finished\")"
   ]
  },
  {
   "cell_type": "markdown",
   "metadata": {},
   "source": [
    "In order to visualise the results, we could simply iterate over them, printing the relevant information.\n",
    "\n",
    "In BLAST results, each `alignment` can contain multiple High-scoring Segment Pairs (HSPs), accessible via `alignment.hsps`. An **HSP** represents a specific local alignment between the query and database sequence.\n",
    "\n",
    "- **Alignment Properties** (`alignment.title`, `alignment.accession`, `alignment.length`): These properties describe the entire matched sequence in the database and are common across all HSPs within that alignment.\n",
    "  \n",
    "- **HSP-specific Properties** (`hsp.expect` for E-value and `hsp.identities` for Identity): These values are specific to each HSP and represent the alignment score and similarity of each high-scoring segment. Since there can be multiple HSPs within an alignment, each HSP has its own `E-value` and `Identity` values.\n",
    "\n",
    "In the code, `.hsp` is only used for **E-value** and **Identity** because they are segment-specific properties, while the rest of the properties apply to the overall alignment.\n",
    "\n",
    "Here, we only include the first HSP for each alignment, focusing on a single top alignment for each sequence hit rather than showing every HSP. This approach is suitable when only the top alignment is relevant per sequence hit."
   ]
  },
  {
   "cell_type": "code",
   "execution_count": null,
   "metadata": {},
   "outputs": [],
   "source": [
    "# List to store summary information for each alignment\n",
    "blast_summary = []\n",
    "\n",
    "# Iterate through alignments, focusing on the first HSP only\n",
    "for alignment in blast_results.alignments:\n",
    "    hsp = alignment.hsps[0]\n",
    "    blast_summary.append({\n",
    "        \"Alignment title\": alignment.title,\n",
    "        \"Accession code\": alignment.accession,\n",
    "        \"Alignment length\": alignment.length,\n",
    "        # Extract relevant information for the first HSP\n",
    "        \"E-value\": alignment.hsps[0].expect,\n",
    "        \"Identity\": alignment.hsps[0].identities\n",
    "    })\n",
    "\n",
    "# Print summary information for each alignment\n",
    "for result in blast_summary:\n",
    "    print(\"Alignment title:\", result[\"Alignment title\"])\n",
    "    print(\"Accession code:\", result[\"Accession code\"])\n",
    "    print(\"Alignment length:\", result[\"Alignment length\"])\n",
    "    print(\"E-value:\", result[\"E-value\"])\n",
    "    print(\"Identity:\", result[\"Identity\"])\n",
    "    print()"
   ]
  },
  {
   "cell_type": "markdown",
   "metadata": {},
   "source": [
    "We can also use `pandas` library to display the results. This code builds a `pandas` DataFrame from the BLAST alignment results. "
   ]
  },
  {
   "cell_type": "code",
   "execution_count": null,
   "metadata": {},
   "outputs": [],
   "source": [
    "import pandas as pd\n",
    "\n",
    "df = pd.DataFrame([\n",
    "    {\n",
    "        \"Alignment title\": alignment.title, \n",
    "        \"Accession code\": alignment.accession, \n",
    "        \"Hit definition\": alignment.hit_def, \n",
    "        \"Alignment length\": alignment.length, \n",
    "        \"E-value\": alignment.hsps[0].expect,\n",
    "        \"Identity\": alignment.hsps[0].identities\n",
    "    }\n",
    "for alignment in blast_results.alignments\n",
    "])\n",
    "\n",
    "df"
   ]
  },
  {
   "cell_type": "markdown",
   "metadata": {},
   "source": [
    "## PDB files\n",
    "\n",
    "PDB files contain detailed 3D representations of proteins, which may be experimentally derived or predicted. These files allow us to study a protein's structure at the atomic level, including its spatial arrangements and interactions.\n",
    "\n",
    "In this example, we will download and parse a [PDB file of the protein encoded by the CFTR gene](https://www.rcsb.org/structure/6O1V). Software like PyMOL can then be used to visualise and analyse the 3D structure in detail.\n",
    "\n",
    "1. Visit the [RCSB PDB database](https://www.rcsb.org/) and search for the entry by its ID, `6O1V`, which represents only one of the many available structures for the protein solved via electron microscopy (EM).\n",
    "2. Under **Download Files**, right-click on **PDB Format** and select **Copy Link**.\n",
    "\n",
    "You should now have the link: `\"https://files.rcsb.org/download/6O1V.pdb\"`. The code for downloading `.pdb` files when you already know the URL is shown below."
   ]
  },
  {
   "cell_type": "code",
   "execution_count": null,
   "metadata": {},
   "outputs": [],
   "source": [
    "from Bio.PDB.PDBParser import PDBParser\n",
    "\n",
    "# Download the PDB file for the CFTR protein\n",
    "result_location, http_response = urlretrieve(\"https://files.rcsb.org/download/6O1V.pdb\", \"data_supplementary/6O1V.pdb\")\n",
    "print(\"File downloaded to:\", result_location)\n",
    "\n",
    "# Parse the PDB file\n",
    "parser = PDBParser()\n",
    "structure = parser.get_structure(\"6O1V\", \"data_supplementary/6O1V.pdb\")"
   ]
  },
  {
   "cell_type": "markdown",
   "metadata": {},
   "source": [
    "Warnings like the one above are common when reading PDB files, often due to minor deviations from the PDB standard in generated files. **Biopython** offers an option for strict parsing, which would turn these warnings into errors, but this is typically impractical, as minor discrepancies are common.\n",
    "\n",
    "PDB files use a hierarchical structure to represent protein data, organized as follows:\n",
    "- **Structure**: The top level of the hierarchy, representing the full protein structure.\n",
    "- **Model**: Nested within the structure; represents different models of the protein if provided.\n",
    "- **Chain**: Each structure can contain multiple chains (in this case, two chains).\n",
    "- **Residue**: Part of a chain, each representing an amino acid.\n",
    "- **Atom**: Contains the atomic coordinates for each residue.\n",
    "\n",
    "For more information on PDB structure and representation, see [this guide](https://pdb101.rcsb.org/learn/guide-to-understanding-pdb-data/introduction).\n",
    "\n",
    "We’ll now traverse the parsed PDB file and calculate some basic statistics, focusing on:\n",
    "- total count of tryptophan (`\"TRP\"`) residues,\n",
    "- and total number of carbon atoms."
   ]
  },
  {
   "cell_type": "code",
   "execution_count": null,
   "metadata": {},
   "outputs": [],
   "source": [
    "total_TRP_residues = 0\n",
    "total_carbon_atoms = 0\n",
    "\n",
    "for model in structure:\n",
    "    for chain in model:\n",
    "        for residue in chain:\n",
    "            if residue.resname == \"TRP\":\n",
    "                total_TRP_residues += 1\n",
    "            for atom in residue:\n",
    "                if atom.element==\"C\":\n",
    "                    total_carbon_atoms += 1 \n",
    "\n",
    "print(\"Total number of tryptophan residues:\", total_TRP_residues)\n",
    "print(\"Total number of carbon atoms:       \", total_carbon_atoms)"
   ]
  },
  {
   "cell_type": "markdown",
   "metadata": {},
   "source": [
    "To calculate the *bounding box* around the protein structure, we can use the atomic coordinates provided in the PDB file. The *bounding box* is defined by the minimum and maximum coordinates in each spatial dimension (x, y, and z).\n",
    "\n",
    "The code below initialises extreme values for the minimum and maximum coordinates and iterates over all atoms in the structure. For each atom, it checks if the coordinate values are lower or higher than the current extremes and updates the *bounding box* values accordingly."
   ]
  },
  {
   "cell_type": "code",
   "execution_count": null,
   "metadata": {},
   "outputs": [],
   "source": [
    "# Initialise extreme values for minimum and maximum coordinates\n",
    "min_atom_coord = [1000, 1000, 1000]\n",
    "max_atom_coord = [-1000, -1000, -1000]\n",
    "\n",
    "# Traverse each atom to update the minimum and maximum coordinates\n",
    "for model in structure:\n",
    "    for chain in model:\n",
    "        for residue in chain:\n",
    "            for atom in residue:\n",
    "                coord = atom.coord\n",
    "                # Check each dimension (x, y, z)\n",
    "                # The `dim` takes values 0, 1, and 2 for x, y, and z, respectively\n",
    "                # The `val` contains the actual cooridnate value of the atom in the respective dimension\n",
    "                for dim, val in enumerate(coord):\n",
    "                    if val < min_atom_coord[dim]:\n",
    "                        min_atom_coord[dim] = val\n",
    "                    elif val > max_atom_coord[dim]:\n",
    "                        max_atom_coord[dim] = val\n",
    "\n",
    "# Display the bounding box coordinates\n",
    "print(\"Minimum coordinates for each dimension:\", min_atom_coord)\n",
    "print(\"Maximum coordinates for each dimension:\", max_atom_coord)"
   ]
  },
  {
   "cell_type": "markdown",
   "metadata": {},
   "source": [
    "The `Bio.PDB` module in **Biopython** provides additional utilities for working with **PDB** files, including features to acquire, save, transform, and superimpose protein structures. It also supports working with **mmCIF** files, an alternative format for macromolecular structures.\n",
    "\n",
    "These tools allow for filtering and adjusting the structure data before conducting deeper analysis with 3D visualization tools like PyMOL. With Biopython’s utilities, you can prepare and manipulate structural data efficiently for downstream applications."
   ]
  },
  {
   "cell_type": "markdown",
   "metadata": {},
   "source": [
    "## Discussion\n",
    "\n",
    "This notebook introduced protein-related functionalities in **Biopython**, covering how to perform analyses and search for related proteins in a programmable, repeatable, and scalable way.\n",
    "\n",
    "**Biopython** is a comprehensive library with an extensive range of functionalities. It provides tested algorithms and connections to databases, accelerating bioinformatics research. However, due to its breadth *(we could easily spend this time just exploring each module)*, we have focused on a small subset of its capabilities.\n",
    "\n",
    "You can now move on to the supplementary exercise notebook.\n",
    "\n",
    "If you want to learn more there are some extra external resources linked at the beginning of this notebook. You can click [here](#Contents) to go back to the top."
   ]
  }
 ],
 "metadata": {
  "celltoolbar": "Edit Metadata",
  "kernelspec": {
   "display_name": "Python 3 (ipykernel)",
   "language": "python",
   "name": "python3"
  },
  "language_info": {
   "codemirror_mode": {
    "name": "ipython",
    "version": 3
   },
   "file_extension": ".py",
   "mimetype": "text/x-python",
   "name": "python",
   "nbconvert_exporter": "python",
   "pygments_lexer": "ipython3",
   "version": "3.11.7"
  },
  "pycharm": {
   "stem_cell": {
    "cell_type": "raw",
    "metadata": {
     "collapsed": false
    },
    "source": []
   }
  }
 },
 "nbformat": 4,
 "nbformat_minor": 4
}
