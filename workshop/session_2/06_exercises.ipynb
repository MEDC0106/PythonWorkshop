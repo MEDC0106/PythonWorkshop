{
 "cells": [
  {
   "cell_type": "markdown",
   "metadata": {},
   "source": [
    "### MEDC0106: Bioinformatics in Applied Biomedical Science\n",
    "\n",
    "<p align=\"center\">\n",
    "  <img src=\"../../resources/static/Banner.png\" alt=\"MEDC0106 Banner\" width=\"90%\"/>\n",
    "  <br>\n",
    "</p>\n",
    "\n",
    "---------------------------------------------------------------\n",
    "\n",
    "# 06 - Exercises (Session 2)\n",
    "\n",
    "*Written by:* Mateusz Kaczyński\n",
    "\n",
    "**This notebook contains exercises to help you understand the concepts introduced during Session 2 of the Python workshop. The exercises are designed to give you practical experience in applying these tools to bioinformatics tasks.**\n",
    "\n",
    "Try to complete the exercises before the next session and feel free to refer back to the content in the previous notebooks to help you complete the tasks.\n",
    "\n",
    "You should work through the tasks consecutively.\n",
    "\n",
    "Remember to save your changes.\n",
    "\n",
    "-----\n",
    "\n",
    "## Contents\n",
    "1. [Task 1](#Task-1) – Following the central dogma\n",
    "2. [Task 2](#Task-2) – Sequence alignment\n",
    "\n",
    "-----\n",
    "\n",
    "#### Installation"
   ]
  },
  {
   "cell_type": "code",
   "execution_count": null,
   "metadata": {
    "collapsed": false,
    "jupyter": {
     "outputs_hidden": false
    }
   },
   "outputs": [],
   "source": [
    "# No need to run if you have already installed Biopython when going through the previous notebook.\n",
    "!pip install Biopython"
   ]
  },
  {
   "cell_type": "markdown",
   "metadata": {},
   "source": [
    "#### Imports\n",
    "\n",
    "Some imports you may, or may not need to complete the tasks."
   ]
  },
  {
   "cell_type": "code",
   "execution_count": null,
   "metadata": {},
   "outputs": [],
   "source": [
    "# Run this cell before you attempt the exercises\n",
    "from urllib.request import urlretrieve\n",
    "from Bio import SeqIO\n",
    "from Bio.Seq import Seq\n",
    "from Bio.SeqRecord import SeqRecord\n",
    "from Bio.Align import PairwiseAligner, MultipleSeqAlignment, AlignInfo"
   ]
  },
  {
   "cell_type": "markdown",
   "metadata": {},
   "source": [
    "## Task 1\n",
    "\n",
    "#### Following the central dogma\n",
    "\n",
    "Given the following DNA sequence:\n",
    "\n",
    "> ATGGCCCTGTGGATGCGCCTCCTGCCCCTGCTGGCGCTGCTGGCCCTCTGGGGACCTGACCCAG\\\n",
    "CCGCAGCCTTTGTGAACCAACACCTGTGCGGCTCACACCTGGTGGAAGCTCTCTACCTAGTGTG\\\n",
    "CGGGGAACGAGGCTTCTTCTACACACCCAAGACCCGCCGGGAGGCAGAGGACCTGCAGGTGGGG\\\n",
    "CAGGTGGAGCTGGGCGGGGGCCCTGGTGCAGGCAGCCTGCAGCCCTTGGCCCTGGAGGGGTCCC\\\n",
    "TGCAGAAGCGTGGCATTGTGGAACAATGCTGTACCAGCATCTGCTCCCTCTACCAGCTGGAGAA\\\n",
    "CTACTGCAAC\n",
    "\n",
    "1. Transcribe the DNA sequence to RNA.\n",
    "2. Translate the RNA sequence to a protein sequence.\n",
    "3. Modify the DNA sequence by replacing the nucleotide at position 12 (0-based index) from `G` to `A`.\n",
    "4. Translate the modified DNA sequence to a protein sequence.\n",
    "5. Comment on the results and discuss any potential caveats.\n",
    "\n",
    "<details>\n",
    "    <summary>Hint</summary>\n",
    "    <pre>Seq(sequence_string)</pre>\n",
    "</details>\n",
    "\n",
    "<details>\n",
    "    <summary>Another hint</summary>\n",
    "    <pre>new_sequence = sequence_string[:11] + \"A\" + sequence_string[12:]</pre>\n",
    "</details>\n",
    "\n",
    "<details>\n",
    "    <summary>Example solution</summary>\n",
    "    <pre>\n",
    "    seq = Seq(sequence_string)\n",
    "    print(\"Original sequence - Translated:\", seq.translate())\n",
    "    mutated_string = sequence_string[:11] + \"A\" + sequence_string[12:]\n",
    "    seq_mutated = Seq(mutated_string)\n",
    "    print(\"Mutated sequence - Translated:\", seq_mutated.translate())\n",
    "    </pre>\n",
    "</details>"
   ]
  },
  {
   "cell_type": "code",
   "execution_count": null,
   "metadata": {},
   "outputs": [],
   "source": [
    "sequence_string = \"\"\"\\\n",
    "ATGGCCCTGTGGATGCGCCTCCTGCCCCTGCTGGCGCTGCTGGCCCTCTGGGGACCTGACCCAG\\\n",
    "CCGCAGCCTTTGTGAACCAACACCTGTGCGGCTCACACCTGGTGGAAGCTCTCTACCTAGTGTG\\\n",
    "CGGGGAACGAGGCTTCTTCTACACACCCAAGACCCGCCGGGAGGCAGAGGACCTGCAGGTGGGG\\\n",
    "CAGGTGGAGCTGGGCGGGGGCCCTGGTGCAGGCAGCCTGCAGCCCTTGGCCCTGGAGGGGTCCC\\\n",
    "TGCAGAAGCGTGGCATTGTGGAACAATGCTGTACCAGCATCTGCTCCCTCTACCAGCTGGAGAA\\\n",
    "CTACTGCAAC\\\n",
    "\"\"\"\n",
    "# Write your solution here, adding more cells if necessary"
   ]
  },
  {
   "cell_type": "markdown",
   "metadata": {},
   "source": [
    "## Task 2\n",
    "\n",
    "#### Sequence alignment\n",
    "\n",
    "Below are URLs for SARS-CoV-2 virus ***spike protein*** sequences:\n",
    "\n",
    "- **Wild-type/reference protein**: [https://eutils.ncbi.nlm.nih.gov/entrez/eutils/efetch.fcgi?db=protein&id=YP_009724390.1&rettype=fasta](https://eutils.ncbi.nlm.nih.gov/entrez/eutils/efetch.fcgi?db=protein&id=YP_009724390.1&rettype=fasta)\n",
    "- **Alpha variant**: [https://eutils.ncbi.nlm.nih.gov/entrez/eutils/efetch.fcgi?db=protein&id=QWE88920.1&rettype=fasta](https://eutils.ncbi.nlm.nih.gov/entrez/eutils/efetch.fcgi?db=protein&id=QWE88920.1&rettype=fasta)\n",
    "- **Delta variant**: [https://eutils.ncbi.nlm.nih.gov/entrez/eutils/efetch.fcgi?db=protein&id=QWK65230.1&rettype=fasta](https://eutils.ncbi.nlm.nih.gov/entrez/eutils/efetch.fcgi?db=protein&id=QWK65230.1&rettype=fasta)\n",
    "\n",
    "Using these protein sequences, complete the following steps:\n",
    "\n",
    "1. Download each sequence and save them as FASTA files.\n",
    "2. Read the sequences into Biopython as `Seq` objects.\n",
    "3. Determine and print the length of each sequence.\n",
    "4. Perform and print (global) pairwise alignments, along with the alignment scores, between the reference and one of the variants.\n",
    "5. Align the alpha and delta variants and compare the alignment results against those of the reference. What insights does this provide about these two lineages?\n",
    "6. *(Optional)* Perform a multiple sequence alignment (MSA) on all sequences. Note that they must be of the same length for MSA.\n",
    " \n",
    "<details>\n",
    "    <summary>Hint</summary>\n",
    "    <pre>urlretrieve(\"https://eutils.ncbi.nlm.nih.gov/entrez/eutils/efetch.fcgi?db=protein&id=YP_009724390.1&rettype=fasta\", \"data/reference.fasta\")</pre>\n",
    "</details>\n",
    "\n",
    "<details>\n",
    "    <summary>Another hint</summary>\n",
    "    <pre>reference = next(SeqIO.parse(\"data/reference.fasta\", \"fasta\"))</pre>\n",
    "</details>\n",
    "\n",
    "<details>\n",
    "    <summary>Example solution</summary>\n",
    "<pre>\n",
    "print(\"# 1. Download and save data\")\n",
    "def download_file(url, location):\n",
    "    result_location, http_response = urlretrieve(url, location)\n",
    "    print(\"Downloaded \" + url + \" to \" + result_location)\n",
    "\n",
    "file_reference = \"reference.fasta\"\n",
    "file_alpha = \"alpha.fasta\"\n",
    "file_delta = \"delta.fasta\"\n",
    "\n",
    "download_file(\"https://eutils.ncbi.nlm.nih.gov/entrez/eutils/efetch.fcgi?db=protein&id=YP_009724390.1&rettype=fasta\", file_reference)\n",
    "download_file(\"https://eutils.ncbi.nlm.nih.gov/entrez/eutils/efetch.fcgi?db=protein&id=QWE88920.1&rettype=fasta\", file_alpha)\n",
    "download_file(\"https://eutils.ncbi.nlm.nih.gov/entrez/eutils/efetch.fcgi?db=protein&id=QWK65230.1&rettype=fasta\", file_delta)\n",
    "\n",
    "print(\"# 2. Read as Biopython Seq objects\")\n",
    "def read_first_sequence(fasta_filepath):\n",
    "    records = []\n",
    "    for r in SeqIO.parse(fasta_filepath, \"fasta\"):\n",
    "        records.append(r)\n",
    "    record = records[0]\n",
    "    return record.seq\n",
    "\n",
    "seq_reference = read_first_sequence(file_reference)\n",
    "seq_alpha = read_first_sequence(file_alpha)\n",
    "seq_delta = read_first_sequence(file_delta)\n",
    "\n",
    "print(\"# 3. How long are the sequences?\")\n",
    "print(\"Length of the reference sequence    :\", len(seq_reference))\n",
    "print(\"Length of the Alpha variant sequence:\", len(seq_alpha))\n",
    "print(\"Length of the Delta variant sequence:\", len(seq_delta))\n",
    "\n",
    "print(\"# 4. Pairwise alignment - reference and Alpha variant\")\n",
    "aligner = PairwiseAligner()\n",
    "\n",
    "reference_alpha_alignments = aligner.align(seq_reference, seq_alpha)\n",
    "\n",
    "print(\"Top alignment score - reference and Alpha variant:\", reference_alpha_alignments[0].score)\n",
    "\n",
    "print(\"# 5. Pairwise alignments between 3 sequences\")\n",
    "reference_delta_alignments = aligner.align(seq_reference, seq_delta)\n",
    "alpha_delta_alignments = aligner.align(seq_alpha, seq_delta)\n",
    "\n",
    "print(\"Reference-Alpha alignment score:\", reference_alpha_alignments[0].score)\n",
    "print(\"Reference-Delta alignment score:\", reference_delta_alignments[0].score)\n",
    "print(\"Alpha-Delta alignment score    :\", alpha_delta_alignments[0].score)    \n",
    "</pre>\n",
    "\n",
    "</details>"
   ]
  },
  {
   "cell_type": "code",
   "execution_count": null,
   "metadata": {},
   "outputs": [],
   "source": [
    "# Write your solution here, adding more cells if necessary"
   ]
  }
 ],
 "metadata": {
  "celltoolbar": "Edit Metadata",
  "kernelspec": {
   "display_name": "Python 3 (ipykernel)",
   "language": "python",
   "name": "python3"
  },
  "language_info": {
   "codemirror_mode": {
    "name": "ipython",
    "version": 3
   },
   "file_extension": ".py",
   "mimetype": "text/x-python",
   "name": "python",
   "nbconvert_exporter": "python",
   "pygments_lexer": "ipython3",
   "version": "3.11.7"
  },
  "pycharm": {
   "stem_cell": {
    "cell_type": "raw",
    "metadata": {
     "collapsed": false
    },
    "source": []
   }
  }
 },
 "nbformat": 4,
 "nbformat_minor": 4
}
