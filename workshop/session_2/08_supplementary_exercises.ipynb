{
 "cells": [
  {
   "cell_type": "markdown",
   "metadata": {},
   "source": [
    "### MEDC0106: Bioinformatics in Applied Biomedical Science\n",
    "\n",
    "<p align=\"center\">\n",
    "  <img src=\"../../resources/static/Banner.png\" alt=\"MEDC0106 Banner\" width=\"90%\"/>\n",
    "  <br>\n",
    "</p>\n",
    "\n",
    "---------------------------------------------------------------\n",
    "\n",
    "# 08 - Supplementary exercises (Session 2)\n",
    "\n",
    "*Written by:* Mateusz Kaczyński\n",
    "\n",
    "**This notebook contains exercises on basic protein analysis with the Biopython toolkit.**\n",
    "\n",
    "Try to complete the exercises before the next session and feel free to refer back to the content in the previous notebooks to help you complete the tasks.\n",
    "\n",
    "You should work through the tasks consecutively.\n",
    "\n",
    "Remember to save your changes.\n",
    "\n",
    "-----\n",
    "\n",
    "## Contents\n",
    "\n",
    "1. [Task 3](#Task-3) – Plotting relative mutability\n",
    "2. [Task 4](#Task-4) – BLAST and analyse\n",
    "\n",
    "-----\n",
    "\n",
    "#### Installation"
   ]
  },
  {
   "cell_type": "code",
   "execution_count": null,
   "metadata": {
    "collapsed": false,
    "jupyter": {
     "outputs_hidden": false
    }
   },
   "outputs": [],
   "source": [
    "# No need to run if you have already installed Biopython when going through the previous notebooks.\n",
    "!pip install Biopython"
   ]
  },
  {
   "cell_type": "markdown",
   "metadata": {
    "editable": false
   },
   "source": [
    "#### Imports\n",
    "\n",
    "Some imports you may, or may not need to complete the tasks."
   ]
  },
  {
   "cell_type": "code",
   "execution_count": null,
   "metadata": {},
   "outputs": [],
   "source": [
    "# Run this cell before you attempt the exercises\n",
    "%matplotlib notebook\n",
    "import matplotlib.pyplot as plt\n",
    "import pandas as pd\n",
    "from urllib.request import urlretrieve \n",
    "from Bio import SeqIO\n",
    "from Bio.Seq import Seq\n",
    "from Bio.Blast import NCBIWWW, NCBIXML\n",
    "from Bio.SeqUtils.ProtParam import ProteinAnalysis"
   ]
  },
  {
   "cell_type": "markdown",
   "metadata": {},
   "source": [
    "## Task 3\n",
    "\n",
    "#### Plotting relative mutability\n",
    "\n",
    "In this exercise, we’ll use the relative amino acid mutability scale as described from *Dayhoff M.O., Schwartz R.M., Orcutt B.C. in \"Atlas of Protein Sequence and Structure\", Vol.5, Suppl.3 (1978)*. This scale provides experimentally derived mutation probabilities for each amino acid, relative to alanine (Ala=100).\n",
    "\n",
    "1. Download a FASTA file for any protein of interest from [UniProt](https://uniprot.org). *(Alternatively, you can provide the sequence manually).*\n",
    "2. Plot the relative mutability across the protein sequence using a sliding window of 15 amino acids.\n",
    "\n",
    "##### Notes\n",
    "- Use the relative mutability scale values with alanine set as the baseline (Ala=100).\n",
    "- A sliding window will help smooth out fluctuations and provide a clearer view of mutable regions."
   ]
  },
  {
   "cell_type": "code",
   "execution_count": null,
   "metadata": {},
   "outputs": [],
   "source": [
    "aa_relative_mutability = {\n",
    "    \"A\": 100, \"C\": 20,  \"D\": 106, \"E\": 102, \"F\": 41, \n",
    "    \"G\": 49,  \"H\": 66,  \"I\": 96,  \"K\": 56,  \"L\": 40,\n",
    "    \"M\": 94,  \"N\": 134, \"P\": 56,  \"Q\": 102, \"R\": 65,\n",
    "    \"S\": 120, \"T\": 97,  \"V\": 74,  \"W\": 18,  \"Y\": 41\n",
    "}\n",
    "# Write your solution here, adding more cells if necessary."
   ]
  },
  {
   "cell_type": "markdown",
   "metadata": {},
   "source": [
    "## Task 4\n",
    "\n",
    "#### BLAST and analyse\n",
    "\n",
    "```python\n",
    "query_sequence = \"\"\"\n",
    "EVSIIQSMGYRNRAKRLLQSEPENPSLQETSLSVQLSNLGTVRTLRTKQRIQPQKTSVYI\n",
    "ELGSDSSEDTVNKATYCSVGDQELLQITPQGTRDEISLDSAKKAACEFSETDVTNTEHHQ\n",
    "PSNNDLNTTEKRAAERHPEKYQGSSVSNLHVEPCGTNTHASSLQHENSSLLLTKDRMNVE\n",
    "KAEFCNKSKQPGLARSQHNRWAGSKETCNDRRTPSTEKKVDLNADPLCERKEWNKQKLPC\n",
    "\"\"\"\n",
    "```\n",
    "1. Run the provided protein sequence against NCBI’s non-redundant protein sequence database.\n",
    "2. Download the first two available protein sequence hits. *(If you’re not sure how to do this in Python, you can manually copy and paste the sequence).*\n",
    "3. Calculate the molecular weight of both. Identify which one is heavier.\n",
    "4. Using the `aminoacid_relative_mutability` dictionary from the previous exercise, determine which of the two proteins is more prone to mutation.\n",
    "\n",
    "##### Notes\n",
    "- **Molecular weight calculation**: Use Biopython’s `ProteinAnalysis` class to compute the molecular weights of both sequences.\n",
    "- **Constructing the FASTA download URL using Entrez Programming Utilities (E-utilities)**: Have a look at the [help pages](https://www.ncbi.nlm.nih.gov/books/NBK25500/#_chapter1_Downloading_Full_Records_)."
   ]
  },
  {
   "cell_type": "code",
   "execution_count": null,
   "metadata": {},
   "outputs": [],
   "source": [
    "query_sequence = \"\"\"\n",
    "EVSIIQSMGYRNRAKRLLQSEPENPSLQETSLSVQLSNLGTVRTLRTKQRIQPQKTSVYI\n",
    "ELGSDSSEDTVNKATYCSVGDQELLQITPQGTRDEISLDSAKKAACEFSETDVTNTEHHQ\n",
    "PSNNDLNTTEKRAAERHPEKYQGSSVSNLHVEPCGTNTHASSLQHENSSLLLTKDRMNVE\n",
    "KAEFCNKSKQPGLARSQHNRWAGSKETCNDRRTPSTEKKVDLNADPLCERKEWNKQKLPC\n",
    "\"\"\"\n",
    "# Write your solution here, adding more cells if necessary."
   ]
  }
 ],
 "metadata": {
  "celltoolbar": "Edit Metadata",
  "kernelspec": {
   "display_name": "Python 3 (ipykernel)",
   "language": "python",
   "name": "python3"
  },
  "language_info": {
   "codemirror_mode": {
    "name": "ipython",
    "version": 3
   },
   "file_extension": ".py",
   "mimetype": "text/x-python",
   "name": "python",
   "nbconvert_exporter": "python",
   "pygments_lexer": "ipython3",
   "version": "3.11.7"
  },
  "pycharm": {
   "stem_cell": {
    "cell_type": "raw",
    "metadata": {
     "collapsed": false
    },
    "source": []
   }
  }
 },
 "nbformat": 4,
 "nbformat_minor": 4
}
