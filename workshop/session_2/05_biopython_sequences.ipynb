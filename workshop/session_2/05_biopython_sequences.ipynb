{
 "cells": [
  {
   "cell_type": "markdown",
   "metadata": {},
   "source": [
    "### MEDC0106: Bioinformatics in Applied Biomedical Science\n",
    "\n",
    "<p align=\"center\">\n",
    "  <img src=\"../../resources/static/Banner.png\" alt=\"MEDC0106 Banner\" width=\"90%\"/>\n",
    "  <br>\n",
    "</p>\n",
    "\n",
    "---------------------------------------------------------------\n",
    "\n",
    "# 05 - Handling sequences with Biopython\n",
    "\n",
    "*Written by:* Mateusz Kaczyński\n",
    "\n",
    "**This notebook introduces the Biopython library, focusing on in-depth sequence handling—the cornerstone of bioinformatics.**\n",
    "\n",
    "\n",
    "### What is Biopython?\n",
    "\n",
    "**Biopython** is a widely-used, open-source toolkit for computational biology and bioinformatics. It includes tools, resource connectors, and functions for executing standard bioinformatics tasks and parsing common data formats.\n",
    "\n",
    "*Parsing is just a fancier word for interpreting or analyzing data to extract meaningful information.*\n",
    "\n",
    "### Why Biopython?\n",
    "\n",
    "**Biopython** is the de facto standard for accessing numerous bioinformatics databases and tools, making it easier to share your work and results. It simplifies interaction with libraries written in other languages and technologies, as well as those hosted online. While it is possible to use these resources directly, Biopython streamlines the process and provides the essential components you need.\n",
    "\n",
    "-----\n",
    "\n",
    "## Contents\n",
    "\n",
    "1. [Sequence basics](#Sequence-basics)\n",
    "2. [Transcription and translation](#Transcription-and-translation)\n",
    "3. [Alignment](#Alignment)\n",
    "4. [Downloading and reading FASTA files](#Downloading-and-reading-fasta-files)\n",
    "5. [Discussion](#Discussion)\n",
    "\n",
    "-----\n",
    "\n",
    "### Extra resources:\n",
    "\n",
    "- [Official Biopython tutorial](http://biopython.org/DIST/docs/tutorial/Tutorial.html) - A comprehensive guide to the capabilities of the library.\n",
    "- [Biopython API documentation](https://biopython.org/docs/latest/api/index.html) - A long, detailed list of all methods and connectors provided by Biopython.\n",
    "- [Rosalind](http://rosalind.info) - A bioinformatics learning platform that includes exercises.\n",
    "\n",
    "-----"
   ]
  },
  {
   "cell_type": "markdown",
   "metadata": {
    "collapsed": false,
    "jupyter": {
     "outputs_hidden": false
    }
   },
   "source": [
    "### Installing Biopython\n",
    "In order to use the library locally, we first need to install it. Most Python installations come with `pip` tool that can be run directly from the notebook. It will download and install relevant packages from [Python Package Index website (PyPI)](https://pypi.org)  "
   ]
  },
  {
   "cell_type": "code",
   "execution_count": null,
   "metadata": {
    "collapsed": false,
    "jupyter": {
     "outputs_hidden": false
    }
   },
   "outputs": [],
   "source": [
    "!pip install Biopython"
   ]
  },
  {
   "cell_type": "markdown",
   "metadata": {},
   "source": [
    "### Importing Biopython\n",
    "When installed, **Biopython** can be included in the project by importing it as the `Bio` module. \n",
    "\n",
    "It is not uncommon for the library to be called differently than the imported name. In this case, **Biopython** is referenced as **Bio**."
   ]
  },
  {
   "cell_type": "code",
   "execution_count": null,
   "metadata": {},
   "outputs": [],
   "source": [
    "import Bio\n",
    "print(\"Module\", Bio.__name__, \"version\", Bio.__version__)"
   ]
  },
  {
   "cell_type": "markdown",
   "metadata": {},
   "source": [
    "-----\n",
    "## Sequence basics\n",
    "Managing DNA, RNA, or peptide sequences is central to any bioinformatics workflow. The ability to understand, analyse, and transform these sequences is one of the most fundamental applications of computing in biology.\n",
    "\n",
    "Here’s how to define a basic sequence."
   ]
  },
  {
   "cell_type": "code",
   "execution_count": null,
   "metadata": {},
   "outputs": [],
   "source": [
    "from Bio.Seq import Seq\n",
    "dna_sequence = Seq(\"ACTG\")\n",
    "dna_sequence"
   ]
  },
  {
   "cell_type": "markdown",
   "metadata": {},
   "source": [
    "`Seq` is a submodule within `Bio`, specifically designed to handle biological sequences. The `Seq` class represents a sequence of nucleotides or amino acids and provides various methods for analysing and manipulating these sequences.\n",
    "\n",
    "You can see that a sequence can be created from a basic string that represents the ordered elements–in this case, a DNA sequence. However, it is no longer treated as a simple data type.\n",
    "\n",
    "Let’s examine this more closely with Python’s representation."
   ]
  },
  {
   "cell_type": "code",
   "execution_count": null,
   "metadata": {},
   "outputs": [],
   "source": [
    "print(\"The sequence compared with the original string:\", dna_sequence == \"ACTG\")\n",
    "print(\"The type of dna_sequence:\", type(dna_sequence))"
   ]
  },
  {
   "cell_type": "markdown",
   "metadata": {},
   "source": [
    "The first line checks if `dna_sequence` is equivalent to the original string `\"ACTG\"`, demonstrating that the content is the same even though the data type is different.\n",
    "\n",
    "The second line displays the type of `dna_sequence`, which will show it is a `Bio.Seq.Seq` object rather than a standard Python string, highlighting the enhanced functionality provided by the `Seq` class."
   ]
  },
  {
   "cell_type": "markdown",
   "metadata": {},
   "source": [
    "#### Objects and classes\n",
    "We can see that, while `dna_sequence` can be compared with the original string without any issues, its type is actually `Seq`. This means that `dna_sequence` is an object of the `Seq` class. \n",
    "    \n",
    "Let's unpack these key concepts:\n",
    "  - **Object** - A fundamental building block in programming that can hold data (properties) and functions (methods). In Python, almost everything is an object, from numbers to complex data types.\n",
    "  - **Class** - A blueprint or template for creating new objects. A class allows us to group data and related functions together, defining how each instance (object) should behave.\n",
    "  - `Seq` - A particular class defined in the `Bio.Seq` module within Biopython, designed to handle biological sequences.\n",
    "\n",
    "When in doubt, we can use the `help()` function to understand how to use `Seq`. This will display detailed information about the class, including available methods, usage examples, and descriptions of its functionalities."
   ]
  },
  {
   "cell_type": "code",
   "execution_count": null,
   "metadata": {},
   "outputs": [],
   "source": [
    "help(dna_sequence)"
   ]
  },
  {
   "cell_type": "markdown",
   "metadata": {},
   "source": [
    "#### String-like behaviour\n",
    "\n",
    "In the first session, we explored how Python strings (simple objects representing text) behave. \n",
    "\n",
    "The `Seq` class is designed to mimic these string methods, making it easier to interchange information between strings and sequences while providing a familiar interface for the user.\n",
    "\n",
    "Let’s verify this by using some common string methods, including indexing and slicing."
   ]
  },
  {
   "cell_type": "code",
   "execution_count": null,
   "metadata": {},
   "outputs": [],
   "source": [
    "print(\"Length of the sentence:   \", len(dna_sequence))\n",
    "print(\"AC found in the sequence?:\", \"AC\" in dna_sequence)\n",
    "print(\"Sequence ends with 'TG'?: \", dna_sequence.endswith(\"TG\"))\n",
    "print(\"The first base:           \", dna_sequence[0])\n",
    "print(\"The last base:            \", dna_sequence[-1])\n",
    "print(\"First two bases:          \", dna_sequence[0:2])\n",
    "print(\"Adenines in the sequence: \", dna_sequence.count(\"A\"))"
   ]
  },
  {
   "cell_type": "markdown",
   "metadata": {},
   "source": [
    "Does case sensitivity matter when representing bases in a sequence, like `\"A\"` versus `\"a\"` for adenine?\n",
    "\n",
    "Yes, it does. The `Seq` class is case-sensitive, meaning that uppercase and lowercase letters are treated as different characters. It is best to convert all bases to either uppercase or lowercase before performing comparisons or analyses. `Seq` objects provide methods like `.upper()` and `.lower()` to make this easy."
   ]
  },
  {
   "cell_type": "code",
   "execution_count": null,
   "metadata": {},
   "outputs": [],
   "source": [
    "dna_sequence_mixedcase = Seq(\"acTG\")\n",
    "\n",
    "print(\"Is the uppercase sequence equal to the mixed case sequence?   \",\n",
    "      dna_sequence == dna_sequence_mixedcase)\n",
    "\n",
    "print(\"What if we change the original sequence to lowercase?:        \",\n",
    "      dna_sequence.lower() == dna_sequence_mixedcase)\n",
    "\n",
    "print(\"What if we make both sequences the same case? Are they equal?:\",\n",
    "      dna_sequence.lower() == dna_sequence_mixedcase.lower())"
   ]
  },
  {
   "cell_type": "markdown",
   "metadata": {},
   "source": [
    "To extend the sequence, we can use the familiar string syntax as `Seq` objects in Biopython behave similarly to Python strings in this context."
   ]
  },
  {
   "cell_type": "code",
   "execution_count": null,
   "metadata": {},
   "outputs": [],
   "source": [
    "print(\"Extended with another sequence:\", dna_sequence + Seq(\"TAA\"))\n",
    "print(\"Extended with a string        :\", dna_sequence + \"TGG\")"
   ]
  },
  {
   "cell_type": "markdown",
   "metadata": {},
   "source": [
    "For the cases where there are gaps, we can remove them using the `.replace()` method."
   ]
  },
  {
   "cell_type": "code",
   "execution_count": null,
   "metadata": {},
   "outputs": [],
   "source": [
    "sequence_with_gaps = Seq(\"ACGT-ACGT-ACGT\")\n",
    "print(\"Sentence with gaps   :\", sequence_with_gaps)\n",
    "print(\"Sentence without gaps:\", sequence_with_gaps.replace(\"-\", \"\"))"
   ]
  },
  {
   "cell_type": "markdown",
   "metadata": {
    "collapsed": false,
    "jupyter": {
     "outputs_hidden": false
    }
   },
   "source": [
    "#### Sequence analysis \n",
    "\n",
    "**Biopython** offers a variety of tools for sequence analysis. For example, GC content calculation, a common metric in genomics, can be accessed directly from Biopython.\n",
    "[The online documentation](https://biopython.org/docs/dev/api/Bio.SeqUtils.html) provides more details."
   ]
  },
  {
   "cell_type": "code",
   "execution_count": null,
   "metadata": {},
   "outputs": [],
   "source": [
    "from Bio.SeqUtils import gc_fraction\n",
    "print(\"The guanine-cytosine content of the sequence:\", gc_fraction(dna_sequence)*100, \"%\")"
   ]
  },
  {
   "cell_type": "markdown",
   "metadata": {},
   "source": [
    "## Transcription and translation\n",
    "In addition to their string-like behaviour, `Seq` objects have methods specific to bioinformatics tasks.\n",
    "\n",
    "One of the most powerful features of **Biopython** is its ability to switch between representations, allowing seamless conversion between different sequence types.\n",
    "\n",
    "Let’s explore how to generate complementary and reverse sequences."
   ]
  },
  {
   "cell_type": "code",
   "execution_count": null,
   "metadata": {},
   "outputs": [],
   "source": [
    "print(\"Sequence:          \", dna_sequence)\n",
    "print(\"Complement:        \", dna_sequence.complement())\n",
    "print(\"Reverse:           \", Seq(\"\".join(reversed(dna_sequence))))\n",
    "print(\"Reverse complement:\", dna_sequence.reverse_complement())"
   ]
  },
  {
   "cell_type": "markdown",
   "metadata": {
    "editable": false
   },
   "source": [
    "Simple DNA-to-RNA transcription can be achieved with the following methods."
   ]
  },
  {
   "cell_type": "code",
   "execution_count": null,
   "metadata": {},
   "outputs": [],
   "source": [
    "print(\"Sequence:              \", dna_sequence)\n",
    "print(\"Transcribed:           \", dna_sequence.transcribe())\n",
    "print(\"Reverse complement RNA:\", dna_sequence.reverse_complement_rna())"
   ]
  },
  {
   "cell_type": "markdown",
   "metadata": {
    "editable": false
   },
   "source": [
    "The reversal of the process - getting from RNA to DNA is also supported."
   ]
  },
  {
   "cell_type": "code",
   "execution_count": null,
   "metadata": {},
   "outputs": [],
   "source": [
    "transcribed = dna_sequence.transcribe()\n",
    "print(\"Transcribed     :\", transcribed)\n",
    "print(\"Back transcribed:\", transcribed.back_transcribe())"
   ]
  },
  {
   "cell_type": "markdown",
   "metadata": {
    "editable": false
   },
   "source": [
    "**Biopython** simplifies the process of translating RNA (or even directly from DNA) into an amino acid sequence.\n",
    "\n",
    "*Note: Different codon tables are also supported, making it flexible for various organisms and use cases.*"
   ]
  },
  {
   "cell_type": "code",
   "execution_count": null,
   "metadata": {},
   "outputs": [],
   "source": [
    "sequence = Seq(\"ACGCGACGA\")\n",
    "sequence.translate()"
   ]
  },
  {
   "cell_type": "markdown",
   "metadata": {},
   "source": [
    "#### Using `Seq` methods directly on strings. \n",
    "It’s possible to bypass the `Seq` class abstraction and directly import and use relevant methods on simple strings."
   ]
  },
  {
   "cell_type": "code",
   "execution_count": null,
   "metadata": {},
   "outputs": [],
   "source": [
    "from Bio.Seq import transcribe\n",
    "print('Transcription directly from \"ACGT\" string, without using a Seq object:', transcribe(\"ACGT\"))"
   ]
  },
  {
   "cell_type": "markdown",
   "metadata": {},
   "source": [
    "## Alignment\n",
    "\n",
    "One of the most common uses of bioinformatics tools is sequence alignment.\n",
    "\n",
    "We will use Biopython’s built-in, out-of-the-box [pairwise aligner](https://biopython.org/docs/latest/api/Bio.Align#Bio.Align.PairwiseAligner), which allows us to align two sequences at a time.\n",
    "\n",
    "We’ll start by importing the `PairwiseAligner`, running a full sequence alignment, and displaying the relevant results."
   ]
  },
  {
   "cell_type": "code",
   "execution_count": null,
   "metadata": {},
   "outputs": [],
   "source": [
    "from Bio.Align import PairwiseAligner\n",
    "\n",
    "# Initialise the `PairwiseAligner`\n",
    "aligner = PairwiseAligner()\n",
    "\n",
    "# Notice we can provide either `Seq` objects or simple strings as input\n",
    "alignments = aligner.align(Seq(\"ACGT\"), \"ACGC\")\n",
    "\n",
    "# Display alignment results\n",
    "for alignment in alignments:\n",
    "    print(\"Score:\", alignment.score)\n",
    "    print(alignment)"
   ]
  },
  {
   "cell_type": "markdown",
   "metadata": {},
   "source": [
    "The `score` attribute represents the quality of the alignment. By default, it indicates the number of elements that matched exactly. However, both the match score and the penalty for gaps can be adjusted as needed to customize the alignment criteria.\n",
    "\n",
    "**Multiple Sequence Alignment (MSA)** is used when aligning 3 or more sequences simultaneously.\n",
    "\n",
    "For MSA, a list of `SeqRecord` objects is required. The `SeqRecord` class, unlike the basic `Seq` class, allows for additional metadata storage, such as:\n",
    "- **Name**: A short identifier for the sequence.\n",
    "- **Description**: A longer explanation or label.\n",
    "- **Annotations**: Key-value pairs for storing various details.\n",
    "\n",
    "*Note: For MSA, all sequences are expected to be of the same length.*"
   ]
  },
  {
   "cell_type": "code",
   "execution_count": null,
   "metadata": {},
   "outputs": [],
   "source": [
    "from Bio.Align import MultipleSeqAlignment\n",
    "from Bio.SeqRecord import SeqRecord\n",
    "\n",
    "# Define a list of sequences as strings\n",
    "seqs = [\n",
    "    \"ACGTACGT\",\n",
    "    \"ACGTGCGC\",\n",
    "    \"ACGTA--T\",\n",
    "    \"CCGTACGG\",\n",
    "    \"A-GTACCC\",\n",
    "    \"ACGTA--T\",\n",
    "    \"CTG-ACG-\",\n",
    "    \"AGGTACG-\"\n",
    "]\n",
    "\n",
    "# Convert each string in the `seqs` list into a `SeqRecord` object containing a `Seq`\n",
    "seq_records = [SeqRecord(Seq(s)) for s in seqs]\n",
    "\n",
    "# Create a `MultipleSeqAlignment` object with the `SeqRecord` objects\n",
    "aligned = MultipleSeqAlignment(seq_records)\n",
    "\n",
    "# No output is expected for this cell"
   ]
  },
  {
   "cell_type": "markdown",
   "metadata": {
    "collapsed": false,
    "jupyter": {
     "outputs_hidden": false
    }
   },
   "source": [
    "We can access the sequence records in the `aligned` object by their index, similar to accessing elements in a `list` or `tuple`."
   ]
  },
  {
   "cell_type": "code",
   "execution_count": null,
   "metadata": {
    "collapsed": false,
    "jupyter": {
     "outputs_hidden": false
    }
   },
   "outputs": [],
   "source": [
    "# Access the first sequence record\n",
    "print(aligned[0], \"\\n\")\n",
    "\n",
    "# Access the second sequence record\n",
    "print(aligned[1], \"\\n\")\n",
    "\n",
    "# Access the last sequence record\n",
    "print(aligned[-1])"
   ]
  },
  {
   "cell_type": "markdown",
   "metadata": {
    "collapsed": false,
    "jupyter": {
     "outputs_hidden": false
    }
   },
   "source": [
    "We can also access specific parts of the alignment by slicing both rows and columns, using 2-dimensional slicing."
   ]
  },
  {
   "cell_type": "code",
   "execution_count": null,
   "metadata": {
    "collapsed": false,
    "jupyter": {
     "outputs_hidden": false
    }
   },
   "outputs": [],
   "source": [
    "# Access the first three sequences in the alignment\n",
    "print(\"First three sequences:\\n\", aligned[:3], \"\\n\")\n",
    "\n",
    "# Access the first four positions (columns) across all sequences\n",
    "print(\"First four columns:\\n\", aligned[:, :4], \"\\n\")\n",
    "\n",
    "# Access rows 1 to 3 and columns 2 to 6\n",
    "print(\"Rows 1 to 3, columns 2 to 6:\\n\", aligned[1:4, 2:6])"
   ]
  },
  {
   "cell_type": "markdown",
   "metadata": {},
   "source": [
    "Aligning sequences alone provides limited value. To gain meaningful insights, we can extract various statistics from the alignment.\n",
    "\n",
    "For example, Biopython’s `AlignInfo` module offers methods to summarize alignment information and retrieve useful statistics."
   ]
  },
  {
   "cell_type": "code",
   "execution_count": null,
   "metadata": {},
   "outputs": [],
   "source": [
    "from Bio.Align import AlignInfo\n",
    "\n",
    "align_info = AlignInfo.SummaryInfo(aligned)\n",
    "\n",
    "# No output is expected from this cell"
   ]
  },
  {
   "cell_type": "markdown",
   "metadata": {},
   "source": [
    "To explore the functions available in the `AlignInfo` module, we can use the `help()` function to view its documentation and learn more about its methods and attributes."
   ]
  },
  {
   "cell_type": "code",
   "execution_count": null,
   "metadata": {},
   "outputs": [],
   "source": [
    "help(align_info)"
   ]
  },
  {
   "cell_type": "markdown",
   "metadata": {},
   "source": [
    "Let’s try out some of the useful methods provided by `AlignInfo` to retrieve insights from the alignment."
   ]
  },
  {
   "cell_type": "code",
   "execution_count": null,
   "metadata": {},
   "outputs": [],
   "source": [
    "print(\"The simple consensus:\", align_info.dumb_consensus())\n",
    "print(\"Alignment score for particular bases at a given position:\")\n",
    "print(align_info.pos_specific_score_matrix())"
   ]
  },
  {
   "cell_type": "markdown",
   "metadata": {},
   "source": [
    "## Downloading and reading FASTA files\n",
    "\n",
    "FASTA is a simple, plain-text format commonly used for storing sequence data. Each sequence in a FASTA file includes:\n",
    "- A **header line** starting with `>`, containing metadata such as sequence ID, name, and description.\n",
    "- The **sequence itself** in subsequent lines, represented by single-letter codes for nucleotides or amino acids.\n",
    "\n",
    "#### Example FASTA Format\n",
    "\n",
    ">\\> MCHU - Calmodulin - Human, rabbit, bovine, rat, and chicken\n",
    "MADQLTEEQIAEFKEAFSLFDKDGDGTITTKELGTVMRSLGQNPTEAELQDMINEVDADGNGTID\n",
    "FPEFLTMMARKMKDTDSEEEIREAFRVFDKDGNGYISAAELRHVMTNLGEKLTDEEVDEMIREA\n",
    "DIDGDGQVNYEEFVQMMTAK*\n",
    "\n",
    "In addition to the amino acid sequence, the header line provides metadata about the sequence's origin and description.\n",
    "\n",
    "#### Example sequence\n",
    "\n",
    "For our example, we will use the [CFTR protein](https://www.uniprot.org/uniprot/P13569), associated with cystic fibrosis. Mutations in the CFTR gene are linked to this condition.\n",
    "\n",
    "First, let’s download the `P13569.fasta` file.\n",
    "\n",
    "1. Go to the UniProt link for the CFTR protein: [Cystic fibrosis transmembrane conductance regulator protein | Uniprot](https://www.uniprot.org/uniprot/P13569).\n",
    "2. Click on the **Download** button next to **Tools**.\n",
    "3. Under **Format**, select **FASTA (canonical)**, then click **Generate URL for API**. Finally, click the **Copy** button.\n",
    "\n",
    "You should now have the link: `\"https://rest.uniprot.org/uniprotkb/P13569.fasta\"`. The code for downloading `.fasta` files when you have the URL is shown below."
   ]
  },
  {
   "cell_type": "code",
   "execution_count": null,
   "metadata": {},
   "outputs": [],
   "source": [
    "from urllib.request import urlretrieve \n",
    "\n",
    "# Specify the destination path for the downloaded file\n",
    "CFTR_FASTA_path = \"P13569.fasta\"\n",
    "\n",
    "# Download the FASTA file from the UniProt URL and save it to the specified path\n",
    "result_location, http_response = urlretrieve(\"https://rest.uniprot.org/uniprotkb/P13569.fasta\", CFTR_FASTA_path)\n",
    "\n",
    "# Confirm the download location\n",
    "print(\"Downloaded file to:\", result_location)\n",
    "\n",
    "# Print metadata and statistics related to the download\n",
    "print(\"\\nDownload metadata and statistics:\")\n",
    "print(http_response)"
   ]
  },
  {
   "cell_type": "markdown",
   "metadata": {},
   "source": [
    "The `urlretrieve` function from Python’s `urllib.request` module allows you to download a file from a given URL and save it locally. It takes two main arguments, i.e. `\"https://rest.uniprot.org/uniprotkb/P13569.fasta\"` and `CFTR_FASTA_path`, and returns a tuple containing two elements, i.e. `result_location` and `http_response`.\n",
    "- The `CFTR_FASTA_path` specifies the filename and path where the `.fasta` file will be saved.\n",
    "- The `result_location` confirms the path to the downloaded file.\n",
    "- The `http_response` contains metadata about the download, such as headers, which may include status information and server response details.\n",
    "\n",
    "To open the file and read relevant information from it, we use `SeqIO` module from Biopython."
   ]
  },
  {
   "cell_type": "code",
   "execution_count": null,
   "metadata": {},
   "outputs": [],
   "source": [
    "from Bio import SeqIO\n",
    "\n",
    "# Note that each file can contain multiple records\n",
    "# Initialise an empty list to store the records\n",
    "records = []\n",
    "\n",
    "# Parse the FASTA file and add each record to the list\n",
    "for r in SeqIO.parse(CFTR_FASTA_path, \"fasta\"):\n",
    "    records.append(r)\n",
    "\n",
    "# Print information about the extracted records\n",
    "print(\"Total records:\", len(records), \"\\n\")\n",
    "print(\"First record:\") \n",
    "print(records[0])\n",
    "print(\"\\nType of first record:\", type(records[0]))"
   ]
  },
  {
   "cell_type": "markdown",
   "metadata": {},
   "source": [
    "- `SeqIO.parse`: Reads the file in FASTA format and returns an iterable of `SeqRecord` objects, one for each sequence in the file.\n",
    "- `records` list: Collects each `SeqRecord` object, allowing us to access the sequences and associated metadata later.\n",
    "- ***Output Details***:\n",
    "  - **Total records**: Displays the count of records in the file, indicating if there are multiple sequences.\n",
    "  - **First record**: Shows the first `SeqRecord` object to provide a sample of the data structure.\n",
    "  - **Type of first record**: Confirms the type of the first item on the list, which should be `SeqRecord`.\n",
    "\n",
    "To get the actual `Seq` object from a `SeqRecord`, we access the `seq` property."
   ]
  },
  {
   "cell_type": "code",
   "execution_count": null,
   "metadata": {},
   "outputs": [],
   "source": [
    "# Access the first record from the list of records\n",
    "record = records[0]\n",
    "\n",
    "# Print the length of the sequence\n",
    "print(\"Sequence length:\", len(record.seq), \"\\n\")\n",
    "\n",
    "# Print the sequence itself\n",
    "print(record.seq)"
   ]
  },
  {
   "cell_type": "markdown",
   "metadata": {
    "collapsed": false,
    "jupyter": {
     "outputs_hidden": false
    }
   },
   "source": [
    "## Folding\n",
    "\n",
    "We have covered the initial steps of the ***central dogma of molecular biology***: transcribing DNA into RNA and then translating it into a protein sequence. The final step, i.e. converting a sequence into a protein structure, is known as **protein folding**. This process is considerably more complex and computationally expensive to predict.\n",
    "\n",
    "One method that has recently gained prominence is **[AlphaFold](https://www.nature.com/articles/s41586-021-03819-2)**. It predicts protein structures based on known folding patterns and sequence alignments, using deep learning techniques to achieve remarkable accuracy. \n",
    "The **[2024 Nobel Prize in Chemistry](https://www.nature.com/articles/d41586-024-03214-7)** was awarded to John Jumper and Demis Hassabis of Google DeepMind for developing this AI tool, and to David Baker for his work on computational protein design. Their contributions have revolutionised biology and hold the potential to transform drug discovery.\n",
    "\n",
    "You can make your own predictions by using [the official AlphaFold notebook](https://colab.research.google.com/github/deepmind/alphafold/blob/main/notebooks/AlphaFold.ipynb#scrollTo=rowN0bVYLe9n) on Google Colab."
   ]
  },
  {
   "cell_type": "markdown",
   "metadata": {},
   "source": [
    "## Discussion\n",
    "\n",
    "In this notebook, we explored fundamental ways to construct and manipulate sequences, including transcription and translation. We examined how **Biopython** facillitates *sequence alignment*, both pairwise and multiple sequence alignment (MSA), and demonstrated how to *download and read FASTA files* to access sequence records and metadata.\n",
    "\n",
    "This notebook provides only an introduction to the extensive tools and integrations available within the **Biopython** library, which supports a wide range of formats and methods for storing and processing sequence and alignment data.\n",
    "\n",
    "Please note, this notebook uses very simple sequences. In real-world applications, sequences are often much longer and more complex. We encourage you to revisit this notebook with longer sequences and to experiment with the code to gain a deeper understanding.\n",
    "\n",
    "You can now move on to the exercise notebook which will allow you to use the code introduced here in more practical scenarios.\n",
    "\n",
    "If you want to learn more there are some extra external resources linked at the beginning of this notebook. You can click [here](#Contents) to go back to the top."
   ]
  }
 ],
 "metadata": {
  "celltoolbar": "Edit Metadata",
  "kernelspec": {
   "display_name": "Python 3 (ipykernel)",
   "language": "python",
   "name": "python3"
  },
  "language_info": {
   "codemirror_mode": {
    "name": "ipython",
    "version": 3
   },
   "file_extension": ".py",
   "mimetype": "text/x-python",
   "name": "python",
   "nbconvert_exporter": "python",
   "pygments_lexer": "ipython3",
   "version": "3.11.7"
  },
  "pycharm": {
   "stem_cell": {
    "cell_type": "raw",
    "metadata": {
     "collapsed": false
    },
    "source": []
   }
  }
 },
 "nbformat": 4,
 "nbformat_minor": 4
}
