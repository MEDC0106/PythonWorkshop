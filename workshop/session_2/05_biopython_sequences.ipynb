{
 "cells": [
  {
   "cell_type": "markdown",
   "metadata": {},
   "source": [
    "### MEDC0106: Bioinformatics in Applied Biomedical Science\n",
    "\n",
    "<p align=\"center\">\n",
    "  <img src=\"../../resources/static/Banner.png\" alt=\"MEDC0106 Banner\" width=\"90%\"/>\n",
    "  <br>\n",
    "</p>\n",
    "\n",
    "---------------------------------------------------------------\n",
    "\n",
    "# 05 - Introduction to Biopython - Sequences\n",
    "\n",
    "*Written by:* Mateusz Kaczyński\n",
    "\n",
    "**This notebook provides a general introduction to Biopython library and an in-depth look at dealing with the sequences - the cornerstone of bioinformatics.**\n",
    "\n",
    "\n",
    "### What is Biopython?\n",
    "\n",
    "**Biopython** is a popular open-source toolbox for computational biology and bioinformatics. It contains tools and connectors for various resources and provides functions for running common bioinformatics tasks and parsing common bioinformatics data formats.\n",
    "\n",
    "\n",
    "### Why Biopython?\n",
    "**Biopython** is a de-facto standard for accessing a lot of the databases and tools making it easier to share your work and results. It simplifies the use of the libraries written in other languages and technologies as well as those hosted online. While it is possible to use those directly - Biopython simplifies the process and provides you with the components you need. \n",
    " \n",
    "\n",
    "\n",
    "## Contents\n",
    "\n",
    "\n",
    "1. [Sequence basics](#Sequence-basics)\n",
    "2. [Transcription and translation](#Transcription-and-translation)\n",
    "3. [Alignment](#Alignment)\n",
    "4. [Downloading and reading FASTA files](#Downloading-and-reading-fasta-files)\n",
    "5. [Discussion](#Discussion)\n",
    "-----\n",
    "\n",
    "#### Extra Resources:\n",
    "\n",
    "- [Official Biopython tutorial](http://biopython.org/DIST/docs/tutorial/Tutorial.html) - A comprehensive guide to the library capabilities.\n",
    "- [Biopython API documentation](https://biopython.org/docs/latest/api/index.html) - a long, detailed list of all methods and connectors provided by Biopython.\n",
    "- [Rosalind](http://rosalind.info) - A bioinformatics learning platform that includes exercises.\n",
    "\n",
    "\n"
   ]
  },
  {
   "cell_type": "markdown",
   "source": [
    "#### Installing Biopython\n",
    "In order to use the library locally, we first need to install it. Most Python installations come with `pip` tool that can be run directly from the notebook. It will download and install relevant packages from [Python Package Index website (PyPI)](https://pypi.org)  "
   ],
   "metadata": {
    "collapsed": false
   }
  },
  {
   "cell_type": "code",
   "execution_count": null,
   "outputs": [],
   "source": [
    "%pip install Biopython"
   ],
   "metadata": {
    "collapsed": false
   }
  },
  {
   "cell_type": "markdown",
   "metadata": {
    "editable": false
   },
   "source": [
    "#### Importing Biopython\n",
    "When installed, **Biopython** can be included in the project by importing it as `Bio` module. It is not that uncommon for the library to be called differently than the imported name. In this case, **Biopython** is referenced as **Bio**."
   ]
  },
  {
   "cell_type": "code",
   "execution_count": null,
   "metadata": {},
   "outputs": [],
   "source": [
    "import Bio\n",
    "print(\"Module\", Bio.__name__, \"version\", Bio.__version__)"
   ]
  },
  {
   "cell_type": "markdown",
   "metadata": {
    "editable": false
   },
   "source": [
    "## Sequence basics\n",
    "Managing sequences of DNA, RNA or peptides are a core part of any bioinformatics workflow. Being able to understand, analyse and transform them is one of the most fundamental uses of computers in biology.\n",
    "\n",
    "Here is how we define a simple sequence.\n"
   ]
  },
  {
   "cell_type": "code",
   "execution_count": null,
   "metadata": {},
   "outputs": [],
   "source": [
    "from Bio.Seq import Seq\n",
    "dna_sequence = Seq(\"ACTG\")\n",
    "dna_sequence"
   ]
  },
  {
   "cell_type": "markdown",
   "metadata": {
    "editable": false
   },
   "source": [
    "You can see that the sequence can be created from a simple `string` structure representing the ordered items (in this case - DNA). However, it is no longer a simple data type.\n",
    "\n",
    "Let's take a closer look at the Python representation."
   ]
  },
  {
   "cell_type": "code",
   "execution_count": null,
   "metadata": {},
   "outputs": [],
   "source": [
    "print(\"The sequence compared with the original string:\", dna_sequence == \"ACTG\")\n",
    "print(\"The type of dna_sequence:\", type(dna_sequence))"
   ]
  },
  {
   "cell_type": "markdown",
   "metadata": {
    "editable": false
   },
   "source": [
    "### Objects and classes\n",
    "We can see that, while we can compare it with the original `string` object without an issue, the type of the variable is `Seq`.\n",
    "\n",
    "`dna_sequence` is an `object` of `class` `Seq`. \n",
    "    \n",
    "Let's unfold these concepts:\n",
    "  - `object` - a fundamental building block of a program - it can contain properties and functions. In Python almost anything is an `object`.\n",
    "  - `class` - a blueprint for creating new objects, provides a way to mix data and functions\n",
    "  - `Seq` - a particular `class` defined in `Bio.Seq` module.\n"
   ]
  },
  {
   "cell_type": "markdown",
   "metadata": {
    "editable": false
   },
   "source": [
    "When in doubt, we can use `help` function to help us understand how to use `Seq`s. "
   ]
  },
  {
   "cell_type": "code",
   "execution_count": null,
   "metadata": {},
   "outputs": [],
   "source": [
    "help(dna_sequence)"
   ]
  },
  {
   "cell_type": "markdown",
   "metadata": {
    "editable": false
   },
   "source": [
    "### String-like behaviour\n",
    "In the first workshop, we became familiar with how Python `string`s (simple objects representing text) behave. \n",
    "\n",
    "`Seq` class is built to follow the same methods to help with interchanging the information between the two types of data and present a more familiar interface to the user.\n",
    "\n",
    "Let's verify this with some common methods, including indexing and slicing."
   ]
  },
  {
   "cell_type": "code",
   "execution_count": null,
   "metadata": {},
   "outputs": [],
   "source": [
    "print(\"The length of the sentence:\", len(dna_sequence))\n",
    "print(\"AC found in the sequence:  \", \"AC\" in dna_sequence)\n",
    "print(\"Sequence ends with 'TG':   \", dna_sequence.endswith(\"TG\"))\n",
    "print(\"The first base:            \", dna_sequence[0])\n",
    "print(\"The last base:             \", dna_sequence[-1])\n",
    "print(\"Slicing - first two bases: \", dna_sequence[0:2])\n",
    "print(\"How many Adenines are in the sequence:\", dna_sequence.count(\"A\"))"
   ]
  },
  {
   "cell_type": "markdown",
   "metadata": {
    "editable": false
   },
   "source": [
    "What about case sensitivity? Does it matter if we represent Adenine with `a` or `A`? \n",
    "\n",
    "Turns out that yes, we need to pay attention to the upper- and lower- cases and do any conversions and verification ourselves.\n",
    "\n",
    "Let's have a closer look."
   ]
  },
  {
   "cell_type": "code",
   "execution_count": null,
   "metadata": {},
   "outputs": [],
   "source": [
    "dna_sequence_mixedcase = Seq(\"acTG\")\n",
    "print(\"Upper case sequence equal to mixed case sentence:       \", \n",
    "      dna_sequence == dna_sequence_mixedcase)\n",
    "print(\"How about if we change the original to lower case?:     \", \n",
    "      dna_sequence.lower() == dna_sequence_mixedcase)\n",
    "print(\"How about moving both to the same case? Are they equal?:\", \n",
    "      dna_sequence.lower() == dna_sequence_mixedcase.lower())"
   ]
  },
  {
   "cell_type": "markdown",
   "metadata": {
    "editable": false
   },
   "source": [
    "To extend the sequence, we can use the familiar `string` syntax. \n",
    "\n",
    "Again, it does not matter if you use `string` or `Seq` class."
   ]
  },
  {
   "cell_type": "code",
   "execution_count": null,
   "metadata": {
    "scrolled": true
   },
   "outputs": [],
   "source": [
    "print(\"Extended with another sequence:\", dna_sequence + Seq(\"TAA\"))\n",
    "print(\"Extended with a string        :\", dna_sequence + \"TGG\")"
   ]
  },
  {
   "cell_type": "markdown",
   "metadata": {
    "editable": false
   },
   "source": [
    "For the cases where there are gaps, we can remove them using `replace` method."
   ]
  },
  {
   "cell_type": "code",
   "execution_count": null,
   "metadata": {},
   "outputs": [],
   "source": [
    "sequence_with_gaps = Seq(\"ACGT-ACGT-ACGT\")\n",
    "print(\"Sentence with gaps   :\", sequence_with_gaps)\n",
    "print(\"Sentence without gaps:\", sequence_with_gaps.replace(\"-\", \"\"))"
   ]
  },
  {
   "cell_type": "markdown",
   "source": [
    "### Sequence analysis \n",
    "\n",
    "**Biopython** contains various tools that can be used for sequence analysis, for example, GC content calculation can be imported like so. \n",
    "[The online documentation](https://biopython.org/docs/dev/api/Bio.SeqUtils.html) provides more details."
   ],
   "metadata": {
    "collapsed": false
   }
  },
  {
   "cell_type": "code",
   "execution_count": null,
   "metadata": {},
   "outputs": [],
   "source": [
    "from Bio.SeqUtils import gc_fraction\n",
    "print(\"The guanine-cytosine content of the sequence (%):\", gc_fraction(dna_sequence))"
   ]
  },
  {
   "cell_type": "markdown",
   "metadata": {
    "editable": false
   },
   "source": [
    "## Transcription and translation\n",
    "In addition to `string`-like behaviour, `Seq` objects contain methods applicable in their specific domain. \n",
    "\n",
    "One of the most powerful features of **Biopython** is switching from one representation to another, converting between sequence types.\n",
    "\n",
    "Let's take a look at how to generate complementary and reverse sequences."
   ]
  },
  {
   "cell_type": "code",
   "execution_count": null,
   "metadata": {
    "scrolled": true
   },
   "outputs": [],
   "source": [
    "print(\"Sequence:          \", dna_sequence)\n",
    "print(\"Complement:        \", dna_sequence.complement())\n",
    "print(\"Reverse:           \", Seq(\"\".join(reversed(dna_sequence))))\n",
    "print(\"Reverse complement:\", dna_sequence.reverse_complement())"
   ]
  },
  {
   "cell_type": "markdown",
   "metadata": {
    "editable": false
   },
   "source": [
    "Simple DNA-to-RNA transcription can be achieved with the following methods."
   ]
  },
  {
   "cell_type": "code",
   "execution_count": null,
   "metadata": {},
   "outputs": [],
   "source": [
    "print(\"Sequence:              \", dna_sequence)\n",
    "print(\"Transcribed:           \", dna_sequence.transcribe())\n",
    "print(\"Reverse complement RNA:\", dna_sequence.reverse_complement_rna())"
   ]
  },
  {
   "cell_type": "markdown",
   "metadata": {
    "editable": false
   },
   "source": [
    "The reversal of the process - getting from RNA to DNA is also supported."
   ]
  },
  {
   "cell_type": "code",
   "execution_count": null,
   "metadata": {},
   "outputs": [],
   "source": [
    "transcribed = dna_sequence.transcribe()\n",
    "print(\"Transcribed     :\", transcribed)\n",
    "print(\"Back transcribed:\", transcribed.back_transcribe())"
   ]
  },
  {
   "cell_type": "markdown",
   "metadata": {
    "editable": false
   },
   "source": [
    "**Biopython** simplifies translation from RNA (or directly DNA) to aminoacid sequence. \n",
    "\n",
    "*Note that different codon tables are also supported.*"
   ]
  },
  {
   "cell_type": "code",
   "execution_count": null,
   "metadata": {},
   "outputs": [],
   "source": [
    "sequence = Seq(\"ACGCGACGA\")\n",
    "sequence.translate()"
   ]
  },
  {
   "cell_type": "markdown",
   "metadata": {
    "editable": false
   },
   "source": [
    "#### Using `Seq` methods directly on `string`s. \n",
    "It is possible to ignore `Seq` class abstraction and import and execute relevant methods directly on simple `string`s. "
   ]
  },
  {
   "cell_type": "code",
   "execution_count": null,
   "metadata": {},
   "outputs": [],
   "source": [
    "from Bio.Seq import transcribe\n",
    "print(\"Transcription directly from 'ACGT' string, without using Seq object:\", transcribe(\"ACGT\"))"
   ]
  },
  {
   "cell_type": "markdown",
   "metadata": {
    "editable": false
   },
   "source": [
    "## Alignment\n",
    "\n",
    "One of the most common uses of bioinformatics tools is sequence alignment. \n",
    "\n",
    "For this section of this workshop, we will use the built-in, out-of-the-box [pairwise aligner](https://biopython.org/docs/latest/api/Bio.Align#Bio.Align.PairwiseAligner). It allows aligning 2 sequences at a time.\n",
    "\n",
    "We will first import it, run full sequence alignment and present relevant results."
   ]
  },
  {
   "cell_type": "code",
   "execution_count": null,
   "metadata": {},
   "outputs": [],
   "source": [
    "from Bio.Align import PairwiseAligner\n",
    "\n",
    "aligner = PairwiseAligner()\n",
    "\n",
    "# Notice we can supply either Seq's or strings directly.\n",
    "alignments = aligner.align(Seq(\"ACGT\"), \"ACGC\")\n",
    "for a in alignments:\n",
    "    print(\"Score:\", a.score)\n",
    "    print(a)"
   ]
  },
  {
   "cell_type": "markdown",
   "metadata": {
    "editable": false
   },
   "source": [
    "`score` represents a quality of the alignment. By default, it denotes the number of elements that matched exactly. However, the match score and penalty for gaps can be adjusted when necessary."
   ]
  },
  {
   "cell_type": "markdown",
   "metadata": {
    "editable": false
   },
   "source": [
    "Multiple sequence alignment is suitable for aligning 3 or more sequences at a time. \n",
    "\n",
    "MSA requires a list of `SeqRecord`s. This class, in addition to the raw `Seq` allows for storing some of the metadata - name, description, annotations etc.\n",
    "\n",
    "*Note: for MSA, sequences are expected to be of the same length.* "
   ]
  },
  {
   "cell_type": "code",
   "execution_count": null,
   "metadata": {},
   "outputs": [],
   "source": [
    "from Bio.Align import MultipleSeqAlignment, AlignInfo\n",
    "from Bio.SeqRecord import SeqRecord\n",
    "\n",
    "seqs = [\n",
    "    \"ACGTACGT\",\n",
    "    \"ACGTGCGC\",\n",
    "    \"ACGTA--T\",\n",
    "    \"CCGTACGG\",\n",
    "    \"A-GTACCC\",\n",
    "    \"ACGTA--T\",\n",
    "    \"CTG-ACG-\",\n",
    "    \"AGGTACG-\"\n",
    "]\n",
    "\n",
    "seq_records = []\n",
    "for s in seqs:\n",
    "    seq_records.append(SeqRecord(Seq(s)))\n",
    "                       \n",
    "aligned = MultipleSeqAlignment(seq_records)"
   ]
  },
  {
   "cell_type": "markdown",
   "source": [
    "We can access the sequence records in the `aligned` object by their index (similar to a `list` or `tuple`). "
   ],
   "metadata": {
    "collapsed": false
   }
  },
  {
   "cell_type": "code",
   "execution_count": null,
   "outputs": [],
   "source": [
    "aligned[2]"
   ],
   "metadata": {
    "collapsed": false
   }
  },
  {
   "cell_type": "markdown",
   "source": [
    "We can also access parts of the alignment rows and columns using 2-dimensional slicing, e.g.:"
   ],
   "metadata": {
    "collapsed": false
   }
  },
  {
   "cell_type": "code",
   "execution_count": null,
   "outputs": [],
   "source": [
    "print(aligned[0:5, 0:4])"
   ],
   "metadata": {
    "collapsed": false
   }
  },
  {
   "cell_type": "markdown",
   "metadata": {
    "editable": false
   },
   "source": [
    "Aligning sequences does not represent too much value on its own. \n",
    "\n",
    "We may want to learn what statistics can be retrieved from it."
   ]
  },
  {
   "cell_type": "code",
   "execution_count": null,
   "metadata": {},
   "outputs": [],
   "source": [
    "align_info = AlignInfo.SummaryInfo(aligned)\n",
    "help(align_info)"
   ]
  },
  {
   "cell_type": "code",
   "execution_count": null,
   "metadata": {},
   "outputs": [],
   "source": [
    "print(\"The simple consensus:\", align_info.dumb_consensus())\n",
    "print(\"Alignment score for particular bases at a given position.\")\n",
    "print(align_info.pos_specific_score_matrix())"
   ]
  },
  {
   "cell_type": "markdown",
   "metadata": {
    "editable": false
   },
   "source": [
    "## Downloading and reading FASTA files\n",
    "\n",
    "FASTA is a simple, plain-text-based sequence format for representing sequences, which supports multiple records contained in the same file. An example:\n",
    "\n",
    ">\\> MCHU - Calmodulin - Human, rabbit, bovine, rat, and chicken\n",
    "MADQLTEEQIAEFKEAFSLFDKDGDGTITTKELGTVMRSLGQNPTEAELQDMINEVDADGNGTID\n",
    "FPEFLTMMARKMKDTDSEEEIREAFRVFDKDGNGYISAAELRHVMTNLGEKLTDEEVDEMIREA\n",
    "DIDGDGQVNYEEFVQMMTAK*\n",
    "\n",
    "We can see that in addition to the raw aminoacid sequence there is some metadata denoting where the sequence came from and what it represents.\n",
    "\n",
    "For our example, we will be using  [Cystic fibrosis transmembrane conductance regulator protein](https://www.uniprot.org/uniprot/P13569). Mutations of the related gen are associated with Cystic Fibrosis.  \n",
    "\n",
    "First, let's download the relevant FASTA file. "
   ]
  },
  {
   "cell_type": "code",
   "execution_count": null,
   "metadata": {},
   "outputs": [],
   "source": [
    "from urllib.request import urlretrieve \n",
    "\n",
    "CFTR_FASTA_path = \"P13569.fasta\"\n",
    "result_location, http_response = urlretrieve(\"https://rest.uniprot.org/uniprotkb/P13569.fasta\", CFTR_FASTA_path)\n",
    "print(\"Downloaded file to: \", result_location)\n",
    "\n",
    "print(\"\\nDownload metadata and statistics:\")\n",
    "print(http_response)"
   ]
  },
  {
   "cell_type": "markdown",
   "metadata": {
    "editable": false
   },
   "source": [
    "The above message may look complicated - it contains a lot of information related to the transfer and the type of the file. \n",
    "\n",
    "To open the file and read relevant information from it, we use `SeqIO` module."
   ]
  },
  {
   "cell_type": "code",
   "execution_count": null,
   "metadata": {},
   "outputs": [],
   "source": [
    "# Reading FASTA files. Note that each file can contain multiple records.\n",
    "from Bio import SeqIO\n",
    "\n",
    "records = []\n",
    "for r in SeqIO.parse(CFTR_FASTA_path, \"fasta\"):\n",
    "    records.append(r)\n",
    "\n",
    "print(\"Total records extracted:\", len(records))\n",
    "print(\"The first record:       \", records[0])\n",
    "print(\"Type of records:        \", type(records[0]))"
   ]
  },
  {
   "cell_type": "markdown",
   "metadata": {
    "editable": false
   },
   "source": [
    "To get the actual `Seq` object of `SeqRecord` we access `seq` property."
   ]
  },
  {
   "cell_type": "code",
   "execution_count": null,
   "metadata": {},
   "outputs": [],
   "source": [
    "record = records[0]\n",
    "print(\"Sequence length:\", len(record.seq))\n",
    "print(record.seq)"
   ]
  },
  {
   "cell_type": "markdown",
   "source": [
    "## Folding\n",
    "We have gone through first steps of Central Dogma, transcribing DNA into RNA and then translating it into protein sequence. The last step, converting the sequence to a protein structure, known as protein folding, is considerably more complicated and computationally expensive. One method that recently gained popularity is [AlphaFold](https://www.nature.com/articles/s41586-021-03819-2), which predicts possible structure based on already known patterns and sequence alignments.\n",
    "\n",
    "You can make your own predictions using [the official notebook](https://colab.research.google.com/github/deepmind/alphafold/blob/main/notebooks/AlphaFold.ipynb#scrollTo=rowN0bVYLe9n)."
   ],
   "metadata": {
    "collapsed": false
   }
  },
  {
   "cell_type": "markdown",
   "metadata": {
    "editable": false
   },
   "source": [
    "## Discussion\n",
    "\n",
    "In this notebook we have discussed the basic ways sequences, the bread-and-butter of bioinformatics, can be constructed and operated on, including allowing for transcription and translation. We have seen  how **Biopython** supports sequence aligning - pairwise and MSA. We have looked at how to obtain and open FASTA files to retrieve the records with associated metadata. \n",
    "\n",
    "This notebook only touches on the tools and integrations provided with **Biopython** library, the plethora of formats and tools that can be used to store and process sequences and alignment data.\n",
    "\n",
    "This notebook relied on very simple toy sequences. In practice, this is unrealistic. Try going through this notebook using longer, more representative sequences and experimenting with the code.\n",
    "\n",
    "The exercise section that accompanies this notebook will allow you to use the code here in more practical scenarios.\n",
    "\n",
    "Click [here](#Contents) to go back to the contents."
   ]
  }
 ],
 "metadata": {
  "celltoolbar": "Edit Metadata",
  "kernelspec": {
   "display_name": "Python 3 (ipykernel)",
   "language": "python",
   "name": "python3"
  },
  "language_info": {
   "codemirror_mode": {
    "name": "ipython",
    "version": 3
   },
   "file_extension": ".py",
   "mimetype": "text/x-python",
   "name": "python",
   "nbconvert_exporter": "python",
   "pygments_lexer": "ipython3",
   "version": "3.10.8"
  },
  "pycharm": {
   "stem_cell": {
    "cell_type": "raw",
    "metadata": {
     "collapsed": false
    },
    "source": []
   }
  }
 },
 "nbformat": 4,
 "nbformat_minor": 4
}
