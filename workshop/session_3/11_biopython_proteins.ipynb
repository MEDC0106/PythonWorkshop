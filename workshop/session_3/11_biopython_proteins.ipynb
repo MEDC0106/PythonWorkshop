{
 "cells": [
  {
   "cell_type": "markdown",
   "metadata": {
    "editable": false
   },
   "source": [
    "### MEDC0106: Bioinformatics in Applied Biomedical Science\n",
    "\n",
    "<p align=\"center\">\n",
    "  <img src=\"../../resources/static/Banner.png\" alt=\"MEDC0106 Banner\" width=\"90%\"/>\n",
    "  <br>\n",
    "</p>\n",
    "\n",
    "---------------------------------------------------------------\n",
    "\n",
    "# 11 - Introduction to Biopython - Proteins\n",
    "\n",
    "*Written by:* Mateusz Kaczyński\n",
    "\n",
    "**This notebook provides an introduction on using protein data in Biopython  - from analysis to property prediction and similarity search to a brief entry to PDB / 3D file operations.**\n",
    "\n",
    "\n",
    "## Contents\n",
    "\n",
    "\n",
    "1. [Basic analysis](#Basic-analysis)\n",
    "2. [Property prediction](#Property-prediction)\n",
    "3. [BLAST](#BLAST)\n",
    "4. [PDB files](#PDB-files)\n",
    "5. [Discussion](#Discussion)\n",
    "-----\n",
    "\n",
    "#### Extra Resources:\n",
    "\n",
    "- [Official Biopython tutorial](http://biopython.org/DIST/docs/tutorial/Tutorial.html) - A comprehensive guide to the library capabilities.\n",
    "- [Biopython API documentation](https://biopython.org/docs/latest/api/index.html) - a long, detailed list of all methods and connectors provided by Biopython.\n",
    "- [Rosalind](http://rosalind.info) - A bioinformatics learning platform that includes exercises.\n"
   ]
  },
  {
   "cell_type": "markdown",
   "metadata": {
    "editable": false
   },
   "source": [
    "Importing required modules and functions."
   ]
  },
  {
   "cell_type": "code",
   "execution_count": 159,
   "metadata": {},
   "outputs": [
    {
     "name": "stdout",
     "output_type": "stream",
     "text": [
      "Module Bio version 1.79\n"
     ]
    }
   ],
   "source": [
    "import Bio\n",
    "print(\"Module\", Bio.__name__, \"version\", Bio.__version__)\n",
    "from urllib.request import urlretrieve\n",
    "from Bio import SeqIO"
   ]
  },
  {
   "cell_type": "markdown",
   "metadata": {
    "editable": false
   },
   "source": [
    "## Basic analysis\n",
    "\n",
    "**Biopython** provides various tools to analyse proteins.\n",
    "\n",
    "We will be analysing Cystic Fibrosis Transmembrane Conductance regulator (CFTR) gene and the protein it encodes.\n",
    "\n",
    "**Ensembl**: https://www.ensembl.org/Homo_sapiens/Gene/Summary?g=ENSG00000001626;r=7:117287120-117715971\n",
    "\n",
    "**Uniprot**: https://www.uniprot.org/uniprot/P13569"
   ]
  },
  {
   "cell_type": "markdown",
   "metadata": {
    "editable": false
   },
   "source": [
    "First, we will download the corresponding FASTA file to extract the sequence."
   ]
  },
  {
   "cell_type": "code",
   "execution_count": 160,
   "metadata": {},
   "outputs": [
    {
     "name": "stdout",
     "output_type": "stream",
     "text": [
      "ID: sp|P13569|CFTR_HUMAN\n",
      "Name: sp|P13569|CFTR_HUMAN\n",
      "Description: sp|P13569|CFTR_HUMAN Cystic fibrosis transmembrane conductance regulator OS=Homo sapiens OX=9606 GN=CFTR PE=1 SV=3\n",
      "Number of features: 0\n",
      "Seq('MQRSPLEKASVVSKLFFSWTRPILRKGYRQRLELSDIYQIPSVDSADNLSEKLE...TRL')\n"
     ]
    }
   ],
   "source": [
    "urlretrieve(\"https://www.uniprot.org/uniprot/P13569.fasta\", \"data/P13569.fasta\")\n",
    "# `next` method allows to get the first element of the sequence. \n",
    "cftr_aa = next(SeqIO.parse(\"data/P13569.fasta\", \"fasta\"))\n",
    "print(cftr_aa)"
   ]
  },
  {
   "cell_type": "markdown",
   "metadata": {
    "editable": false
   },
   "source": [
    "**Biopython** contains `ProteinAnalysis` class that wraps a collection of protein analysis functionality."
   ]
  },
  {
   "cell_type": "code",
   "execution_count": 161,
   "metadata": {},
   "outputs": [],
   "source": [
    "from Bio.SeqUtils.ProtParam import ProteinAnalysis\n",
    "analysis = ProteinAnalysis(str(cftr_aa.seq))\n",
    "\n",
    "# To delve into the full functionality of the ProteinAnalysis class, you can use `help` function.\n",
    "# Uncomment the next line to see what other information can be obtained from `analysis` object.\n",
    "# help(analysis)"
   ]
  },
  {
   "cell_type": "markdown",
   "metadata": {
    "editable": false
   },
   "source": [
    "Let's take a look at a simple summary of how many aminoacids are present in the protein.\n",
    "\n",
    "*Note the use of pprint (PrettyPrint) to make the dense dictionary more user-friendly.*"
   ]
  },
  {
   "cell_type": "code",
   "execution_count": 162,
   "metadata": {},
   "outputs": [
    {
     "name": "stdout",
     "output_type": "stream",
     "text": [
      "Count of particular aminoacids\n",
      "{'A': 83, 'C': 18, 'D': 58, 'E': 93, 'F': 85, 'G': 84, 'H': 25, 'I': 119, 'K': 92, 'L': 183, 'M': 37, 'N': 54, 'P': 45, 'Q': 67, 'R': 78, 'S': 123, 'T': 83, 'V': 90, 'W': 23, 'Y': 40}\n",
      "Using PrettyPrint for more user-friendly representation.\n",
      "{'A': 83,\n",
      " 'C': 18,\n",
      " 'D': 58,\n",
      " 'E': 93,\n",
      " 'F': 85,\n",
      " 'G': 84,\n",
      " 'H': 25,\n",
      " 'I': 119,\n",
      " 'K': 92,\n",
      " 'L': 183,\n",
      " 'M': 37,\n",
      " 'N': 54,\n",
      " 'P': 45,\n",
      " 'Q': 67,\n",
      " 'R': 78,\n",
      " 'S': 123,\n",
      " 'T': 83,\n",
      " 'V': 90,\n",
      " 'W': 23,\n",
      " 'Y': 40}\n"
     ]
    }
   ],
   "source": [
    "count_of_aas = analysis.count_amino_acids() \n",
    "print(\"Count of particular aminoacids\")\n",
    "print(count_of_aas)\n",
    "print(\"Using PrettyPrint for more user-friendly representation.\")\n",
    "import pprint\n",
    "pprint.pprint(count_of_aas)"
   ]
  },
  {
   "cell_type": "markdown",
   "metadata": {
    "editable": false
   },
   "source": [
    "Let's take a look at some protein properties available.\n",
    "\n",
    "`\"{:.2f}\"` is used to print only a `float` number to the first two decimal places."
   ]
  },
  {
   "cell_type": "code",
   "execution_count": 163,
   "metadata": {},
   "outputs": [
    {
     "name": "stdout",
     "output_type": "stream",
     "text": [
      "Molecular weigth    : 168139.53\n",
      "Charge at a given pH: 38.97\n",
      "Isoelectric point   : 8.91\n",
      "Fractions of AA associated with secondary structures:\n",
      "  Helix: 0.36\n",
      "  Turn: 0.21\n",
      "  Sheet: 0.27\n",
      "\n"
     ]
    }
   ],
   "source": [
    "print(\"Molecular weigth    :\", \"{:.2f}\".format(analysis.molecular_weight()))\n",
    "print(\"Charge at a given pH:\", \"{:.2f}\".format(analysis.charge_at_pH(5.8)))\n",
    "print(\"Isoelectric point   :\", \"{:.2f}\".format(analysis.isoelectric_point()))\n",
    "in_helix, in_turn, in_sheet = analysis.secondary_structure_fraction()\n",
    "print(\n",
    "    \"Fractions of AA associated with secondary structures:\\n\"\\\n",
    "    \"  Helix: {:.2f}\\n\"\\\n",
    "    \"  Turn: {:.2f}\\n\"\\\n",
    "    \"  Sheet: {:.2f}\\n\".format(in_helix, in_turn, in_sheet)\n",
    ")"
   ]
  },
  {
   "cell_type": "markdown",
   "metadata": {
    "editable": false
   },
   "source": [
    "We can also use the helper functions provided to create new statistics. \n",
    "\n",
    "For example, let's calculate BCAA (branch-chain amino acid) content of the protein."
   ]
  },
  {
   "cell_type": "code",
   "execution_count": 164,
   "metadata": {
    "scrolled": true
   },
   "outputs": [
    {
     "name": "stdout",
     "output_type": "stream",
     "text": [
      "BCAA content: 0.2648648648648649\n"
     ]
    }
   ],
   "source": [
    "total_number_of_LIV_aas = sum(count_of_aas[aa] for aa in [\"L\", \"I\", \"V\"])\n",
    "print(\"BCAA content:\", total_number_of_LIV_aas / len(cftr_aa))"
   ]
  },
  {
   "cell_type": "markdown",
   "metadata": {
    "editable": false
   },
   "source": [
    "## Property prediction\n",
    "In this section, we will analyse the hydrophobicity of the protein. \n",
    "\n",
    "[The Kyte-Doolittle scale](https://doi.org/10.1016/0022-2836(82)90515-0) is useful for predicting the hydropathic character of the molecule and is based on the experimentally - derived aminoacid properties as defined below."
   ]
  },
  {
   "cell_type": "code",
   "execution_count": 165,
   "metadata": {
    "editable": false
   },
   "outputs": [],
   "source": [
    "Kyte_and_Doolittle_scale = {\n",
    "    \"A\": 1.8,  \"C\": 2.5,  \"D\": -3.5, \"E\": -3.5, \"F\": 2.8, \n",
    "    \"G\": -0.4, \"H\": -3.2, \"I\": 4.5,  \"K\": -3.9, \"L\": 3.8,\n",
    "    \"M\": 1.9,  \"N\": -3.5, \"P\": -1.6, \"Q\": -3.5, \"R\": -4.5,\n",
    "    \"S\": -0.8, \"T\": -0.7, \"V\": 4.2,  \"W\": -0.9, \"Y\": -1.3\n",
    "}"
   ]
  },
  {
   "cell_type": "code",
   "execution_count": 166,
   "metadata": {
    "editable": false
   },
   "outputs": [],
   "source": [
    "sequence = \"\"\"MQRSPLEKASVVSKLFFSWTRPILRKGYRQRLELSDIYQIPSVDSADNLSEKLEREWDRE\n",
    "LASKKNPKLINALRRCFFWRFMFYGIFLYLGEVTKAVQPLLLGRIIASYDPDNKEERSIA\n",
    "IYLGIGLCLLFIVRTLLLHPAIFGLHHIGMQMRIAMFSLIYKKTLKLSSRVLDKISIGQL\n",
    "VSLLSNNLNKFDEGLALAHFVWIAPLQVALLMGLIWELLQASAFCGLGFLIVLALFQAGL\n",
    "GRMMMKYRDQRAGKISERLVITSEMIENIQSVKAYCWEEAMEKMIENLRQTELKLTRKAA\n",
    "YVRYFNSSAFFFSGFFVVFLSVLPYALIKGIILRKIFTTISFCIVLRMAVTRQFPWAVQT\n",
    "WYDSLGAINKIQDFLQKQEYKTLEYNLTTTEVVMENVTAFWEEGFGELFEKAKQNNNNRK\n",
    "TSNGDDSLFFSNFSLLGTPVLKDINFKIERGQLLAVAGSTGAGKTSLLMVIMGELEPSEG\n",
    "KIKHSGRISFCSQFSWIMPGTIKENIIFGVSYDEYRYRSVIKACQLEEDISKFAEKDNIV\n",
    "LGEGGITLSGGQRARISLARAVYKDADLYLLDSPFGYLDVLTEKEIFESCVCKLMANKTR\n",
    "ILVTSKMEHLKKADKILILHEGSSYFYGTFSELQNLQPDFSSKLMGCDSFDQFSAERRNS\n",
    "ILTETLHRFSLEGDAPVSWTETKKQSFKQTGEFGEKRKNSILNPINSIRKFSIVQKTPLQ\n",
    "MNGIEEDSDEPLERRLSLVPDSEQGEAILPRISVISTGPTLQARRRQSVLNLMTHSVNQG\n",
    "QNIHRKTTASTRKVSLAPQANLTELDIYSRRLSQETGLEISEEINEEDLKECFFDDMESI\n",
    "PAVTTWNTYLRYITVHKSLIFVLIWCLVIFLAEVAASLVVLWLLGNTPLQDKGNSTHSRN\n",
    "NSYAVIITSTSSYYVFYIYVGVADTLLAMGFFRGLPLVHTLITVSKILHHKMLHSVLQAP\n",
    "MSTLNTLKAGGILNRFSKDIAILDDLLPLTIFDFIQLLLIVIGAIAVVAVLQPYIFVATV\n",
    "PVIVAFIMLRAYFLQTSQQLKQLESEGRSPIFTHLVTSLKGLWTLRAFGRQPYFETLFHK\n",
    "ALNLHTANWFLYLSTLRWFQMRIEMIFVIFFIAVTFISILTTGEGEGRVGIILTLAMNIM\n",
    "STLQWAVNSSIDVDSLMRSVSRVFKFIDMPTEGKPTKSTKPYKNGQLSKVMIIENSHVKK\n",
    "DDIWPSGGQMTVKDLTAKYTEGGNAILENISFSISPGQRVGLLGRTGSGKSTLLSAFLRL\n",
    "LNTEGEIQIDGVSWDSITLQQWRKAFGVIPQKVFIFSGTFRKNLDPYEQWSDQEIWKVAD\n",
    "EVGLRSVIEQFPGKLDFVLVDGGCVLSHGHKQLMCLARSVLSKAKILLLDEPSAHLDPVT\n",
    "YQIIRRTLKQAFADCTVILCEHRIEAMLECQQFLVIEENKVRQYDSIQKLLNERSLFRQA\n",
    "ISPSDRVKLFPHRNSSKCKSKPQIAALKEETEEEVQDTRL\"\"\".replace(\"\\n\", \"\")"
   ]
  },
  {
   "cell_type": "markdown",
   "metadata": {
    "editable": false
   },
   "source": [
    "We will use a sliding window approach.\n",
    "\n",
    ">For a pre-defined window size of `n`, at any given point in the sequence, we will average its current and `(n-1)/2` preceding and proceeding values.\n",
    "\n",
    "You can think of it as a fixed-size rectangle moving across the sequence, averaging out the results to calculate the mean value of a wider section."
   ]
  },
  {
   "cell_type": "code",
   "execution_count": 167,
   "metadata": {},
   "outputs": [
    {
     "name": "stdout",
     "output_type": "stream",
     "text": [
      "Calculated hydrophobicity for 1480 positions\n",
      "Average hydrophobicity: 0.0318\n"
     ]
    }
   ],
   "source": [
    "window_size = 11\n",
    "\n",
    "hydrophobicity = []  # The hydrophobicity value at a given point in the sequence.\n",
    "for i, aa in enumerate(sequence):  # This will return tuple of a position in the sequence and the aminoacid.\n",
    "    window_start = int(i - (window_size-1)/2)\n",
    "    window_end = int(i + (window_size-1)/2)+1\n",
    "\n",
    "    if window_start < 0 or window_end > len(sequence):\n",
    "        window_hydrophobicity = None  # At the very beginning and at the very end the window will be outside of the sequence.\n",
    "\n",
    "    else:\n",
    "        aas_in_window = sequence[window_start:window_end]  # A list of all the aminoacids in the window.\n",
    "        window_hydrophobicity = sum([Kyte_and_Doolittle_scale[aa] for aa in aas_in_window]) / window_size\n",
    "    hydrophobicity.append(window_hydrophobicity)\n",
    "\n",
    "print(\"Calculated hydrophobicity for {} positions\".format(len(hydrophobicity)))\n",
    "\n",
    "# Note that this is slightly different than GRAVY from the reference paper.\n",
    "print(\"Average hydrophobicity:\", \"{:.4f}\".format(sum(h if h else 0 for h in hydrophobicity) / len(hydrophobicity))) "
   ]
  },
  {
   "cell_type": "markdown",
   "metadata": {
    "editable": false
   },
   "source": [
    "Now let's plot the hydrophobicity along the sequence to detect hydrophobic and hydrophilic regions. \n",
    "\n",
    "We will initialise `matplotlib` visualisation so that figures can be displayed in notebook cells.\n",
    "\n",
    "Then we will ask it to plot the `hydrophobicity` list from the previous calculation."
   ]
  },
  {
   "cell_type": "code",
   "execution_count": 168,
   "metadata": {
    "scrolled": true
   },
   "outputs": [
    {
     "data": {
      "image/png": "[encoded data removed]",
      "text/plain": [
       "<Figure size 480x320 with 1 Axes>"
      ]
     },
     "metadata": {
      "needs_background": "light"
     },
     "output_type": "display_data"
    }
   ],
   "source": [
    "%matplotlib inline\n",
    "import matplotlib.pyplot as plt\n",
    "plt.rcParams['figure.dpi'] = 80\n",
    "\n",
    "plt.plot(hydrophobicity)\n",
    "plt.title(\"Hydrophobicity per sequence region using window size {}\".format(window_size))\n",
    "plt.show()"
   ]
  },
  {
   "cell_type": "markdown",
   "metadata": {
    "editable": false
   },
   "source": [
    "## BLAST\n",
    "Basic Local Alignment Search Tool allows finding similar regions across proteins and retrieving the most similar ones.\n",
    "\n",
    "**Biopython** provides tools for both local BLAST tools (e.g. those normally run on a command line) as well as remote computation services. In this section, we will use NCBI BLAST cloud services.\n",
    "\n",
    "*Note: running BLAST is computationally heavy, especially so with large databases of sequences, expect any calls to take at least several minutes.*\n",
    "\n",
    "**Biopython** Blast module contains two classes:\n",
    " - `NCBIWWW` - to issue queries to the remote server\n",
    " - `NCBIXML` - to convert results (in XML format) to an object that can be easily used in the code"
   ]
  },
  {
   "cell_type": "code",
   "execution_count": 171,
   "metadata": {},
   "outputs": [],
   "source": [
    "from Bio.Blast import NCBIWWW, NCBIXML\n",
    "# This code will take several minutes to run as it executes a BLAST search in NCBI cloud environment.\n",
    "query_handle = NCBIWWW.qblast(\"blastp\", database=\"nr\", sequence=cftr_aa.seq)\n",
    "blast_results = next(NCBIXML.parse(query_handle))"
   ]
  },
  {
   "cell_type": "markdown",
   "metadata": {
    "editable": false
   },
   "source": [
    "In order to visualise the results, we could simply iterate over them, printing the relevant information.\n",
    "\n",
    "Here we will use `pandas` library to display the results."
   ]
  },
  {
   "cell_type": "code",
   "execution_count": 172,
   "metadata": {},
   "outputs": [
    {
     "data": {
      "text/html": [
       "<div>\n",
       "<style scoped>\n",
       "    .dataframe tbody tr th:only-of-type {\n",
       "        vertical-align: middle;\n",
       "    }\n",
       "\n",
       "    .dataframe tbody tr th {\n",
       "        vertical-align: top;\n",
       "    }\n",
       "\n",
       "    .dataframe thead th {\n",
       "        text-align: right;\n",
       "    }\n",
       "</style>\n",
       "<table border=\"1\" class=\"dataframe\">\n",
       "  <thead>\n",
       "    <tr style=\"text-align: right;\">\n",
       "      <th></th>\n",
       "      <th>title</th>\n",
       "      <th>accession</th>\n",
       "      <th>hit_def</th>\n",
       "      <th>length</th>\n",
       "      <th>e_value</th>\n",
       "    </tr>\n",
       "  </thead>\n",
       "  <tbody>\n",
       "    <tr>\n",
       "      <th>0</th>\n",
       "      <td>pdb|5UAK|A Dephosphorylated, ATP-free human cy...</td>\n",
       "      <td>5UAK_A</td>\n",
       "      <td>Dephosphorylated, ATP-free human cystic fibros...</td>\n",
       "      <td>1489</td>\n",
       "      <td>0.0</td>\n",
       "    </tr>\n",
       "    <tr>\n",
       "      <th>1</th>\n",
       "      <td>ref|NP_000483.3| cystic fibrosis transmembrane...</td>\n",
       "      <td>NP_000483</td>\n",
       "      <td>cystic fibrosis transmembrane conductance regu...</td>\n",
       "      <td>1480</td>\n",
       "      <td>0.0</td>\n",
       "    </tr>\n",
       "    <tr>\n",
       "      <th>2</th>\n",
       "      <td>gb|AAC13657.1| cystic fibrosis transmembrane c...</td>\n",
       "      <td>AAC13657</td>\n",
       "      <td>cystic fibrosis transmembrane conductance regu...</td>\n",
       "      <td>1480</td>\n",
       "      <td>0.0</td>\n",
       "    </tr>\n",
       "    <tr>\n",
       "      <th>3</th>\n",
       "      <td>pdb|6MSM|A Phosphorylated, ATP-bound human cys...</td>\n",
       "      <td>6MSM_A</td>\n",
       "      <td>Phosphorylated, ATP-bound human cystic fibrosi...</td>\n",
       "      <td>1489</td>\n",
       "      <td>0.0</td>\n",
       "    </tr>\n",
       "    <tr>\n",
       "      <th>4</th>\n",
       "      <td>gb|QTH79672.1| cystic fibrosis transmembrane c...</td>\n",
       "      <td>QTH79672</td>\n",
       "      <td>cystic fibrosis transmembrane conductance regu...</td>\n",
       "      <td>1480</td>\n",
       "      <td>0.0</td>\n",
       "    </tr>\n",
       "    <tr>\n",
       "      <th>5</th>\n",
       "      <td>gb|QTH79670.1| cystic fibrosis transmembrane c...</td>\n",
       "      <td>QTH79670</td>\n",
       "      <td>cystic fibrosis transmembrane conductance regu...</td>\n",
       "      <td>1480</td>\n",
       "      <td>0.0</td>\n",
       "    </tr>\n",
       "    <tr>\n",
       "      <th>6</th>\n",
       "      <td>gb|ABD72213.1| cystic fibrosis transmembrane c...</td>\n",
       "      <td>ABD72213</td>\n",
       "      <td>cystic fibrosis transmembrane conductance regu...</td>\n",
       "      <td>1480</td>\n",
       "      <td>0.0</td>\n",
       "    </tr>\n",
       "    <tr>\n",
       "      <th>7</th>\n",
       "      <td>gb|AAA35680.1| cystic fibrosis transmembrane c...</td>\n",
       "      <td>AAA35680</td>\n",
       "      <td>cystic fibrosis transmembrane conductance regu...</td>\n",
       "      <td>1480</td>\n",
       "      <td>0.0</td>\n",
       "    </tr>\n",
       "    <tr>\n",
       "      <th>8</th>\n",
       "      <td>ref|XP_003808695.1| cystic fibrosis transmembr...</td>\n",
       "      <td>XP_003808695</td>\n",
       "      <td>cystic fibrosis transmembrane conductance regu...</td>\n",
       "      <td>1480</td>\n",
       "      <td>0.0</td>\n",
       "    </tr>\n",
       "    <tr>\n",
       "      <th>9</th>\n",
       "      <td>ref|XP_018885847.2| cystic fibrosis transmembr...</td>\n",
       "      <td>XP_018885847</td>\n",
       "      <td>cystic fibrosis transmembrane conductance regu...</td>\n",
       "      <td>1480</td>\n",
       "      <td>0.0</td>\n",
       "    </tr>\n",
       "    <tr>\n",
       "      <th>10</th>\n",
       "      <td>gb|AKC92819.1| SUMO*-CFTR.FLAG-EGFP [synthetic...</td>\n",
       "      <td>AKC92819</td>\n",
       "      <td>SUMO*-CFTR.FLAG-EGFP [synthetic construct]</td>\n",
       "      <td>1869</td>\n",
       "      <td>0.0</td>\n",
       "    </tr>\n",
       "    <tr>\n",
       "      <th>11</th>\n",
       "      <td>sp|Q2IBF6.1| RecName: Full=Cystic fibrosis tra...</td>\n",
       "      <td>Q2IBF6</td>\n",
       "      <td>RecName: Full=Cystic fibrosis transmembrane co...</td>\n",
       "      <td>1480</td>\n",
       "      <td>0.0</td>\n",
       "    </tr>\n",
       "    <tr>\n",
       "      <th>12</th>\n",
       "      <td>ref|NP_001073386.1| cystic fibrosis transmembr...</td>\n",
       "      <td>NP_001073386</td>\n",
       "      <td>cystic fibrosis transmembrane conductance regu...</td>\n",
       "      <td>1480</td>\n",
       "      <td>0.0</td>\n",
       "    </tr>\n",
       "    <tr>\n",
       "      <th>13</th>\n",
       "      <td>ref|NP_001162017.1| cystic fibrosis transmembr...</td>\n",
       "      <td>NP_001162017</td>\n",
       "      <td>cystic fibrosis transmembrane conductance regu...</td>\n",
       "      <td>1480</td>\n",
       "      <td>0.0</td>\n",
       "    </tr>\n",
       "    <tr>\n",
       "      <th>14</th>\n",
       "      <td>ref|XP_003261288.2| cystic fibrosis transmembr...</td>\n",
       "      <td>XP_003261288</td>\n",
       "      <td>cystic fibrosis transmembrane conductance regu...</td>\n",
       "      <td>1480</td>\n",
       "      <td>0.0</td>\n",
       "    </tr>\n",
       "    <tr>\n",
       "      <th>15</th>\n",
       "      <td>gb|PNJ47124.1| CFTR isoform 6 [Pongo abelii]</td>\n",
       "      <td>PNJ47124</td>\n",
       "      <td>CFTR isoform 6 [Pongo abelii]</td>\n",
       "      <td>1480</td>\n",
       "      <td>0.0</td>\n",
       "    </tr>\n",
       "    <tr>\n",
       "      <th>16</th>\n",
       "      <td>gb|ABC87055.1| cystic fibrosis transmembrane c...</td>\n",
       "      <td>ABC87055</td>\n",
       "      <td>cystic fibrosis transmembrane conductance regu...</td>\n",
       "      <td>1462</td>\n",
       "      <td>0.0</td>\n",
       "    </tr>\n",
       "    <tr>\n",
       "      <th>17</th>\n",
       "      <td>ref|XP_011729139.1| cystic fibrosis transmembr...</td>\n",
       "      <td>XP_011729139</td>\n",
       "      <td>cystic fibrosis transmembrane conductance regu...</td>\n",
       "      <td>1481</td>\n",
       "      <td>0.0</td>\n",
       "    </tr>\n",
       "    <tr>\n",
       "      <th>18</th>\n",
       "      <td>ref|XP_005550655.1| PREDICTED: cystic fibrosis...</td>\n",
       "      <td>XP_005550655</td>\n",
       "      <td>PREDICTED: cystic fibrosis transmembrane condu...</td>\n",
       "      <td>1481</td>\n",
       "      <td>0.0</td>\n",
       "    </tr>\n",
       "    <tr>\n",
       "      <th>19</th>\n",
       "      <td>ref|NP_001106085.2| cystic fibrosis transmembr...</td>\n",
       "      <td>NP_001106085</td>\n",
       "      <td>cystic fibrosis transmembrane conductance regu...</td>\n",
       "      <td>1481</td>\n",
       "      <td>0.0</td>\n",
       "    </tr>\n",
       "  </tbody>\n",
       "</table>\n",
       "</div>"
      ],
      "text/plain": [
       "                                                title     accession  \\\n",
       "0   pdb|5UAK|A Dephosphorylated, ATP-free human cy...        5UAK_A   \n",
       "1   ref|NP_000483.3| cystic fibrosis transmembrane...     NP_000483   \n",
       "2   gb|AAC13657.1| cystic fibrosis transmembrane c...      AAC13657   \n",
       "3   pdb|6MSM|A Phosphorylated, ATP-bound human cys...        6MSM_A   \n",
       "4   gb|QTH79672.1| cystic fibrosis transmembrane c...      QTH79672   \n",
       "5   gb|QTH79670.1| cystic fibrosis transmembrane c...      QTH79670   \n",
       "6   gb|ABD72213.1| cystic fibrosis transmembrane c...      ABD72213   \n",
       "7   gb|AAA35680.1| cystic fibrosis transmembrane c...      AAA35680   \n",
       "8   ref|XP_003808695.1| cystic fibrosis transmembr...  XP_003808695   \n",
       "9   ref|XP_018885847.2| cystic fibrosis transmembr...  XP_018885847   \n",
       "10  gb|AKC92819.1| SUMO*-CFTR.FLAG-EGFP [synthetic...      AKC92819   \n",
       "11  sp|Q2IBF6.1| RecName: Full=Cystic fibrosis tra...        Q2IBF6   \n",
       "12  ref|NP_001073386.1| cystic fibrosis transmembr...  NP_001073386   \n",
       "13  ref|NP_001162017.1| cystic fibrosis transmembr...  NP_001162017   \n",
       "14  ref|XP_003261288.2| cystic fibrosis transmembr...  XP_003261288   \n",
       "15       gb|PNJ47124.1| CFTR isoform 6 [Pongo abelii]      PNJ47124   \n",
       "16  gb|ABC87055.1| cystic fibrosis transmembrane c...      ABC87055   \n",
       "17  ref|XP_011729139.1| cystic fibrosis transmembr...  XP_011729139   \n",
       "18  ref|XP_005550655.1| PREDICTED: cystic fibrosis...  XP_005550655   \n",
       "19  ref|NP_001106085.2| cystic fibrosis transmembr...  NP_001106085   \n",
       "\n",
       "                                              hit_def  length  e_value  \n",
       "0   Dephosphorylated, ATP-free human cystic fibros...    1489      0.0  \n",
       "1   cystic fibrosis transmembrane conductance regu...    1480      0.0  \n",
       "2   cystic fibrosis transmembrane conductance regu...    1480      0.0  \n",
       "3   Phosphorylated, ATP-bound human cystic fibrosi...    1489      0.0  \n",
       "4   cystic fibrosis transmembrane conductance regu...    1480      0.0  \n",
       "5   cystic fibrosis transmembrane conductance regu...    1480      0.0  \n",
       "6   cystic fibrosis transmembrane conductance regu...    1480      0.0  \n",
       "7   cystic fibrosis transmembrane conductance regu...    1480      0.0  \n",
       "8   cystic fibrosis transmembrane conductance regu...    1480      0.0  \n",
       "9   cystic fibrosis transmembrane conductance regu...    1480      0.0  \n",
       "10         SUMO*-CFTR.FLAG-EGFP [synthetic construct]    1869      0.0  \n",
       "11  RecName: Full=Cystic fibrosis transmembrane co...    1480      0.0  \n",
       "12  cystic fibrosis transmembrane conductance regu...    1480      0.0  \n",
       "13  cystic fibrosis transmembrane conductance regu...    1480      0.0  \n",
       "14  cystic fibrosis transmembrane conductance regu...    1480      0.0  \n",
       "15                      CFTR isoform 6 [Pongo abelii]    1480      0.0  \n",
       "16  cystic fibrosis transmembrane conductance regu...    1462      0.0  \n",
       "17  cystic fibrosis transmembrane conductance regu...    1481      0.0  \n",
       "18  PREDICTED: cystic fibrosis transmembrane condu...    1481      0.0  \n",
       "19  cystic fibrosis transmembrane conductance regu...    1481      0.0  "
      ]
     },
     "execution_count": 172,
     "metadata": {},
     "output_type": "execute_result"
    }
   ],
   "source": [
    "import pandas as pd\n",
    "df = pd.DataFrame([\n",
    "    {\n",
    "        \"title\": a.title, \n",
    "        \"accession\": a.accession, \n",
    "        \"hit_def\": a.hit_def, \n",
    "        \"length\": a.length, \n",
    "        \"e_value\": a.hsps[0].expect\n",
    "    } \n",
    "    for a in blast_results.alignments\n",
    "])\n",
    "\n",
    "df[:20]"
   ]
  },
  {
   "cell_type": "markdown",
   "metadata": {
    "editable": false
   },
   "source": [
    "## PDB files\n",
    "PDB files contain the full 3D representation of the proteins - either experimentally-derived or predicted. \n",
    "\n",
    "Here we will take a brief look at how to download and parse them. Systems such as Pymol can be used to inspect the 3D structure and interactions on the atomic level."
   ]
  },
  {
   "cell_type": "markdown",
   "metadata": {},
   "source": [
    "We will download and briefly analyse the experimentally determined [structure of the protein encoded by CFTR gene](https://www.rcsb.org/structure/6O1V)."
   ]
  },
  {
   "cell_type": "code",
   "execution_count": 173,
   "metadata": {},
   "outputs": [
    {
     "name": "stdout",
     "output_type": "stream",
     "text": [
      "File downloaded to: data/6O1V.pdb\n"
     ]
    }
   ],
   "source": [
    "from urllib.request import urlretrieve \n",
    "result_location, _ = urlretrieve(\"https://files.rcsb.org/download/6O1V.pdb\", \"data/6O1V.pdb\")\n",
    "print(\"File downloaded to:\", result_location)"
   ]
  },
  {
   "cell_type": "code",
   "execution_count": 174,
   "metadata": {},
   "outputs": [
    {
     "name": "stderr",
     "output_type": "stream",
     "text": [
      "/usr/local/lib/python3.9/site-packages/Bio/PDB/StructureBuilder.py:89: PDBConstructionWarning: WARNING: Chain A is discontinuous at line 10348.\n",
      "  warnings.warn(\n"
     ]
    }
   ],
   "source": [
    "from Bio.PDB.PDBParser import PDBParser\n",
    "parser = PDBParser()\n",
    "structure = parser.get_structure(\"6O1V\", \"data/6O1V.pdb\")"
   ]
  },
  {
   "cell_type": "markdown",
   "metadata": {
    "editable": false
   },
   "source": [
    "Warnings like the one above are common when reading PDB files. This is due to (often) small incompatibilities between the standard and the content of the generated files. \n",
    "\n",
    "**Biopython** allows for strict parsing, i.e. if specified, this warning would turn to an error, which would prevent the execution of this code. This would, however, be impractical as these small abnormalities are commonplace."
   ]
  },
  {
   "cell_type": "markdown",
   "metadata": {
    "editable": false
   },
   "source": [
    "PDB files contain the hierarchical representation consisting of:\n",
    " - `structure` at the top level\n",
    " - `model` nested underneath\n",
    " - `chain` - in this case there are 2\n",
    " - `residue` - belonging to a chain - a particular aminoacid\n",
    " - `atom` - which contains the coordinates\n",
    " \n",
    " More information on the PDB structure and representation can be [found here](https://pdb101.rcsb.org/learn/guide-to-understanding-pdb-data/introduction).\n",
    " \n",
    " Let's traverse the parsed file and calculate some statistics. We will be interested in rhe total TRP count and the number of carbon atoms.\n"
   ]
  },
  {
   "cell_type": "code",
   "execution_count": 175,
   "metadata": {},
   "outputs": [
    {
     "name": "stdout",
     "output_type": "stream",
     "text": [
      "Total number of TRP aminoacids in the structure: 22\n",
      "Total number of carbon atoms in the structure:   6347\n"
     ]
    }
   ],
   "source": [
    "total_TRP_residues = 0\n",
    "total_carbon_atoms = 0\n",
    "\n",
    "for model in structure:\n",
    "    for chain in model:\n",
    "        for residue in chain:\n",
    "            if residue.resname == \"TRP\":\n",
    "                total_TRP_residues += 1\n",
    "            for atom in residue:\n",
    "                if atom.element==\"C\":\n",
    "                    total_carbon_atoms += 1 \n",
    "\n",
    "print(\"Total number of TRP aminoacids in the structure:\", total_TRP_residues)\n",
    "print(\"Total number of carbon atoms in the structure:  \", total_carbon_atoms)"
   ]
  },
  {
   "cell_type": "markdown",
   "metadata": {
    "editable": false
   },
   "source": [
    "We can leverage the coordinates provided by the atoms to find out the `bounding box` around the structure - by finding out the minimum and maximum value for each dimension."
   ]
  },
  {
   "cell_type": "code",
   "execution_count": 176,
   "metadata": {
    "scrolled": true
   },
   "outputs": [
    {
     "name": "stdout",
     "output_type": "stream",
     "text": [
      "Minimum coordinates for each dimension:          [121.966, 115.246, 71.133]\n",
      "Maximum coordinates for each dimension:          [187.875, 192.4, 203.823]\n"
     ]
    }
   ],
   "source": [
    "# We start from extreme values and expect them to go down once we encounter a `better` value.\n",
    "min_atom_coord = [1000, 1000, 1000]\n",
    "max_atom_coord = [-1000, -1000, -1000]\n",
    "\n",
    "for model in structure:\n",
    "    for chain in model:\n",
    "        for residue in chain:\n",
    "            for atom in residue:\n",
    "                coord=atom.coord\n",
    "                for dim, val in enumerate(coord):\n",
    "                    if val < min_atom_coord[dim]:\n",
    "                        min_atom_coord[dim] = val\n",
    "                    elif val > max_atom_coord[dim]:\n",
    "                        max_atom_coord[dim] = val\n",
    "                \n",
    "print(\"Minimum coordinates for each dimension:         \", min_atom_coord)\n",
    "print(\"Maximum coordinates for each dimension:         \", max_atom_coord)"
   ]
  },
  {
   "cell_type": "markdown",
   "metadata": {
    "editable": false
   },
   "source": [
    "`Bio.PDB` module contains further utilities to acquire, save, transform and superimpose contents of the PDB files - including `mmcif` format. These can then be filtered or adjusted accordingly before performing deeper analysis with 3D-first tools such as Pymol."
   ]
  },
  {
   "cell_type": "markdown",
   "metadata": {
    "editable": false
   },
   "source": [
    "## Discussion\n",
    "This notebook provided an introduction to the protein-related functionality of *Biopython*. Here we studied how to perform analysis and search for related proteins in a programmable, repeatable, and scalable way.\n",
    "\n",
    "*Biopython* is a much larger library, with a plethora of functionality. It can provide you with tried and tested algorithms and connectors to speed up your research. However, due to the size of the library *(we could easily spend all this time on reading the general information on each module it contains)*, we have only taken a look at the very small subset of what it can offer.\n",
    "\n",
    "Don't be afraid to experiment and play around with the cells in this notebook. If you are interested in learning more, take a look at the extra resources outlined in the top section.\n",
    "\n",
    "Take a look at the exercises to try out what you learnt.\n",
    "\n",
    "Click [here](#Contents) to go back to the contents."
   ]
  }
 ],
 "metadata": {
  "celltoolbar": "Edit Metadata",
  "kernelspec": {
   "display_name": "Python 3",
   "language": "python",
   "name": "python3"
  },
  "language_info": {
   "codemirror_mode": {
    "name": "ipython",
    "version": 3
   },
   "file_extension": ".py",
   "mimetype": "text/x-python",
   "name": "python",
   "nbconvert_exporter": "python",
   "pygments_lexer": "ipython3",
   "version": "3.9.6"
  },
  "pycharm": {
   "stem_cell": {
    "cell_type": "raw",
    "metadata": {
     "collapsed": false
    },
    "source": []
   }
  }
 },
 "nbformat": 4,
 "nbformat_minor": 4
}
