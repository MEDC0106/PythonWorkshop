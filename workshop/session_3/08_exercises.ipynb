{
 "cells": [
  {
   "cell_type": "markdown",
   "metadata": {
    "editable": false
   },
   "source": [
    "### MEDC0106: Bioinformatics in Applied Biomedical Science\n",
    "\n",
    "<p align=\"center\">\n",
    "  <img src=\"../../resources/static/Banner.png\" alt=\"MEDC0106 Banner\" width=\"90%\"/>\n",
    "  <br>\n",
    "</p>\n",
    "\n",
    "---------------------------------------------------------------\n",
    "\n",
    "# 08 - Data analysis - Exercises\n",
    "\n",
    "*Written by:* Oliver Scott\n",
    "\n",
    "**This notebook contains exercises based around the material provided in session two**\n",
    "\n",
    "Try to complete the exercises provided before the next session, feel free to refer back to the sessions content to help you complete the tasks.\n",
    "\n",
    "You may also benefit from looking back at content from session one.\n",
    "\n",
    "You should work through the tasks consecutively.\n",
    "\n",
    "Save your results so we can go through the answers in the next session.\n",
    "\n",
    "----\n",
    "\n",
    "## Contents\n",
    "\n",
    "1. [Task 1](#Task-1) - Basic Data Analysis\n",
    "2. [Task 2](#Task-2) - Searching for Correlations\n",
    "3. [Task 3](#Task-3) - Model Building\n",
    "\n",
    "----\n",
    "\n",
    "#### Imports\n",
    "\n",
    "Some imports you may, or may not need to complete the tasks (run this before you attempt the exercises).\n"
   ]
  },
  {
   "cell_type": "code",
   "execution_count": null,
   "metadata": {},
   "outputs": [],
   "source": [
    "%matplotlib inline\n",
    "\n",
    "import matplotlib.pyplot as plt\n",
    "import seaborn as sns\n",
    "import pandas as pd\n",
    "\n",
    "from sklearn.neighbors import KNeighborsClassifier\n",
    "from sklearn.metrics import ConfusionMatrixDisplay, confusion_matrix\n",
    "from sklearn.metrics import RocCurveDisplay, roc_curve, auc\n",
    "from sklearn.model_selection import train_test_split"
   ]
  },
  {
   "cell_type": "markdown",
   "metadata": {},
   "source": [
    "## Task 1\n",
    "\n",
    "#### Basic Data Analysis  \n",
    "\n",
    "We have provided you with a dataset from the National Institute of Diabetes and Digestive and Kidney Diseases. The dataset contains multiple diagnostic measurements and wether or not a patient has diabetes. The dataset forms a subset of a larger database where in this subset all patients are female >= 21 years of age and of Pima Indian heritage.\n",
    "\n",
    "#### Reference\n",
    "[Smith, J.W., Everhart, J.E., Dickson, W.C., Knowler, W.C., & Johannes, R.S. (1988). Using the ADAP learning algorithm to forecast the onset of diabetes mellitus. In Proceedings of the Symposium on Computer Applications and Medical Care (pp. 261--265). IEEE Computer Society Press.]\n",
    "\n",
    "\n",
    "This paticular task centers around data analysis and consists of multiple subtasks.\n",
    "\n",
    "#### Subtask 1\n",
    "\n",
    "Your first task is to read the CSV file using pandas and indentify what diagnostic measurements were taken from the patients, what data type these measurments are  and how many patients were assessed. The path to the data has been provided for you:"
   ]
  },
  {
   "cell_type": "code",
   "execution_count": null,
   "metadata": {},
   "outputs": [],
   "source": [
    "data_path = './data/diabetes.csv'"
   ]
  },
  {
   "cell_type": "markdown",
   "metadata": {},
   "source": [
    "#### Subtask 2\n",
    "\n",
    "The keen eyed may have noticed that although there are no null values there are some strange values!\n",
    "\n",
    "- Take a look at some of the measurements and work out wether these values could be possible.\n",
    "- Once you have identified unreliable measurements remove these patients from the dataset! \n",
    "\n",
    "<details>\n",
    "<summary>Click here for a hint!</summary>\n",
    "<em>Some subjects have Glucose == 0! This cannot be correct (do any other measurments have this issue?)</em>\n",
    "</details>\n",
    "\n",
    "<details>\n",
    "<summary>Click here for a hint!</summary>\n",
    "<em>Remember conditional selections! `df = df[df['somecol'] == 0]`</em>\n",
    "</details>"
   ]
  },
  {
   "cell_type": "code",
   "execution_count": null,
   "metadata": {},
   "outputs": [],
   "source": [
    "# Write your solution here add more cells if you wish!"
   ]
  },
  {
   "cell_type": "markdown",
   "metadata": {},
   "source": [
    "#### Subtask 3\n",
    "\n",
    "Now you have a clean dataset, count the number of patients with/without a diabetes diagnosis. Make a nice plot to visualise the result. Is the data balanced or not? "
   ]
  },
  {
   "cell_type": "code",
   "execution_count": null,
   "metadata": {},
   "outputs": [],
   "source": [
    "# Write your solution here add more cells if you wish!"
   ]
  },
  {
   "cell_type": "markdown",
   "metadata": {},
   "source": [
    "#### Subtask 4\n",
    "\n",
    "Plot some histograms of the diagnostic measurements. Take note of the shape of the distributions and the units of the measurement."
   ]
  },
  {
   "cell_type": "code",
   "execution_count": null,
   "metadata": {},
   "outputs": [],
   "source": [
    "# Write your solution here add more cells if you wish!"
   ]
  },
  {
   "cell_type": "markdown",
   "metadata": {},
   "source": [
    "## Task 2\n",
    "\n",
    "#### Searching for Correlations\n",
    "\n",
    "In the session we saw how useful it is to find correlations between features and between features and the target. We would like you to answer the following questions by perfoming some analysis on the dataset:\n",
    "\n",
    "1. Is there a correlation between 'BMI' and 'Glucose' (make a plot)\n",
    "2. Which two features have the highest correlation?\n",
    "3. Which feature correlates the most with the outcome (diabetes)?\n",
    "4. Is the problem suitable as a classification or a regression problem?"
   ]
  },
  {
   "cell_type": "code",
   "execution_count": null,
   "metadata": {},
   "outputs": [],
   "source": [
    "# Write your solution here add more cells if you wish!"
   ]
  },
  {
   "cell_type": "markdown",
   "metadata": {},
   "source": [
    "## Task 3\n",
    "\n",
    "#### Model Building\n",
    "\n",
    "Now you have perfomed some data analysis we would like you to build a model to predict the outcome (diabetes) based of the various diagnostic measurements. In paticular we would like you to build a simple [K-nearest neighbours model](https://en.wikipedia.org/wiki/K-nearest_neighbors_algorithm). Complete the subtasks to guide you through the process:\n",
    "\n",
    "#### Subtask 1\n",
    "\n",
    "First you should split the data into test/train sets. We would like you to split into 80% train 20% test.\n",
    "\n",
    "*You may need to seperate features/target into seperate DataFrames*"
   ]
  },
  {
   "cell_type": "code",
   "execution_count": null,
   "metadata": {},
   "outputs": [],
   "source": [
    "# Write your solution here add more cells if you wish!"
   ]
  },
  {
   "cell_type": "markdown",
   "metadata": {},
   "source": [
    "#### Subtask 2\n",
    "\n",
    "Next you should scale the data since KNN is paticularly senstive to scale\n",
    "\n",
    "- Scale the training features\n",
    "- Scale the testing features"
   ]
  },
  {
   "cell_type": "code",
   "execution_count": null,
   "metadata": {},
   "outputs": [],
   "source": [
    "# Write your solution here add more cells if you wish!"
   ]
  },
  {
   "cell_type": "markdown",
   "metadata": {},
   "source": [
    "#### Subtask 3\n",
    "\n",
    "Train a k-nearest neighbour classifier for this task using your split/scaled data. We would like you to try different values for `n_neighbours` and find the best performing value in terms of accuracy. Parameters of the classifier can be found [here](https://scikit-learn.org/stable/modules/generated/sklearn.neighbors.KNeighborsClassifier.html). Once you have your best model calculate the metrics:\n",
    "\n",
    "- Accuracy\n",
    "- Confusion Matrix\n",
    "- ROC-AUC\n",
    "\n",
    "How well does your model perform? What do you think you can do to make your model better?\n",
    "\n",
    "***BONUS***:\n",
    "\n",
    "If you wish, try train a couple of different models to see if you can achieve better results:\n",
    "\n",
    "- [Support Vector Machine](https://scikit-learn.org/stable/modules/generated/sklearn.svm.SVC.html)\n",
    "- [Random Forest](https://scikit-learn.org/stable/modules/generated/sklearn.ensemble.RandomForestClassifier.html?highlight=randomforest#sklearn.ensemble.RandomForestClassifier)"
   ]
  },
  {
   "cell_type": "code",
   "execution_count": null,
   "metadata": {},
   "outputs": [],
   "source": [
    "# Write your solution here add more cells if you wish!"
   ]
  },
  {
   "cell_type": "markdown",
   "metadata": {},
   "source": [
    "----\n",
    "\n",
    "Remember to save your answers! "
   ]
  }
 ],
 "metadata": {
  "kernelspec": {
   "display_name": "Python 3 (ipykernel)",
   "language": "python",
   "name": "python3"
  },
  "language_info": {
   "codemirror_mode": {
    "name": "ipython",
    "version": 3
   },
   "file_extension": ".py",
   "mimetype": "text/x-python",
   "name": "python",
   "nbconvert_exporter": "python",
   "pygments_lexer": "ipython3",
   "version": "3.10.8"
  }
 },
 "nbformat": 4,
 "nbformat_minor": 4
}
