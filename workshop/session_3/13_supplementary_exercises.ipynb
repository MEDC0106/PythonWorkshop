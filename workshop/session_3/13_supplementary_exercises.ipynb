{
 "cells": [
  {
   "cell_type": "markdown",
   "metadata": {},
   "source": [
    "### MEDC0106: Bioinformatics in Applied Biomedical Science\n",
    "\n",
    "<p align=\"center\">\n",
    "  <img src=\"../../resources/static/Banner.png\" alt=\"MEDC0106 Banner\" width=\"90%\"/>\n",
    "  <br>\n",
    "</p>\n",
    "\n",
    "---------------------------------------------------------------\n",
    "\n",
    "# 13 - Supplementary exercises (Session 3)\n",
    "\n",
    "*Written by:* Oliver Scott\n",
    "\n",
    "**This notebook contains exercises to help you understand the concepts introduced on the supplementary notebooks for Session 3 of the Python workshop. The exercises are designed to give you practical experience in applying these tools to bioinformatics tasks.**\n",
    "\n",
    "Feel free to refer back to the content in the previous notebooks to help you complete the tasks.\n",
    "\n",
    "You should work through the tasks consecutively.\n",
    "\n",
    "Remember to save your changes.\n",
    "\n",
    "----\n",
    "\n",
    "## Contents\n",
    "\n",
    "1. [Task 2](#Task-2) - Searching for correlations\n",
    "2. [Task 3](#Task-3) - Model building\n",
    "\n",
    "----\n",
    "\n",
    "#### Imports\n",
    "\n",
    "Some imports you may, or may not need to complete the tasks."
   ]
  },
  {
   "cell_type": "code",
   "execution_count": null,
   "metadata": {},
   "outputs": [],
   "source": [
    "# Run this cell before you attempt the exercises\n",
    "%matplotlib inline\n",
    "import matplotlib.pyplot as plt\n",
    "import seaborn as sns\n",
    "import pandas as pd\n",
    "from sklearn.neighbors import KNeighborsClassifier\n",
    "from sklearn.metrics import ConfusionMatrixDisplay, confusion_matrix, RocCurveDisplay, roc_curve, auc\n",
    "from sklearn.model_selection import train_test_split\n",
    "from sklearn.svm import SVC\n",
    "from sklearn.ensemble import RandomForestClassifier"
   ]
  },
  {
   "cell_type": "markdown",
   "metadata": {},
   "source": [
    "## Task 2  \n",
    "\n",
    "#### Searching for correlations\n",
    "\n",
    "In this task, you will analyse the dataset from the **National Institute of Diabetes and Digestive and Kidney Diseases** to answer the following questions:\n",
    "\n",
    "1. Is there a correlation between 'BMI' and 'Glucose'? (Create a plot to illustrate this.)"
   ]
  },
  {
   "cell_type": "code",
   "execution_count": null,
   "metadata": {},
   "outputs": [],
   "source": [
    "data_path = 'https://raw.githubusercontent.com/MEDC0106/PythonWorkshop/main/workshop/session_3/data/diabetes.csv'\n",
    "# Write your solution here and add more cells if you wish"
   ]
  },
  {
   "cell_type": "markdown",
   "metadata": {},
   "source": [
    "2. Which two features have the strongest correlation with each other?"
   ]
  },
  {
   "cell_type": "code",
   "execution_count": null,
   "metadata": {},
   "outputs": [],
   "source": [
    "# Write your solution here, adding more cells if you wish!"
   ]
  },
  {
   "cell_type": "markdown",
   "metadata": {},
   "source": [
    "3. Which feature has the highest correlation with the outcome (\"diabetes\" diagnosis)?"
   ]
  },
  {
   "cell_type": "code",
   "execution_count": null,
   "metadata": {},
   "outputs": [],
   "source": [
    "# Write your solution here, adding more cells if you wish!"
   ]
  },
  {
   "cell_type": "markdown",
   "metadata": {},
   "source": [
    "4. Based on the data, would this problem be better suited as a classification or regression task?"
   ]
  },
  {
   "cell_type": "code",
   "execution_count": null,
   "metadata": {},
   "outputs": [],
   "source": [
    "# Write your solution here, adding more cells if you wish!"
   ]
  },
  {
   "cell_type": "markdown",
   "metadata": {},
   "source": [
    "## Task 3\n",
    "\n",
    "#### Model building\n",
    "\n",
    "Now that you've performed some data analysis, the next step is to build a model to predict the likelihood of diabetes based on diagnostic measurements. Specifically, you'll implement a simple [*k*-nearest neighbours (KNN) model](https://en.wikipedia.org/wiki/K-nearest_neighbors_algorithm). Follow the steps below to guide you through the process:\n",
    "\n",
    "##### Part 1\n",
    "\n",
    "Split the dataset into training and testing sets with an 80/20 ratio. Ensure the features and target are in separate DataFrames before splitting.\n",
    "\n",
    "*Hint: You may need to separate the features (X) and the target variable (y) before proceeding with the split.*"
   ]
  },
  {
   "cell_type": "code",
   "execution_count": null,
   "metadata": {},
   "outputs": [],
   "source": [
    "# Write your solution here add more cells if you wish!"
   ]
  },
  {
   "cell_type": "markdown",
   "metadata": {},
   "source": [
    "##### Part 2\n",
    "\n",
    "Since KNN is particularly sensitive to scale, you should standardise the features.\n",
    "\n",
    "- Scale the training features.\n",
    "- Apply the same scaling to the testing features. "
   ]
  },
  {
   "cell_type": "code",
   "execution_count": null,
   "metadata": {},
   "outputs": [],
   "source": [
    "# Write your solution here add more cells if you wish!"
   ]
  },
  {
   "cell_type": "markdown",
   "metadata": {},
   "source": [
    "##### Part 3\n",
    "\n",
    "Train a KNN classifier using your split and scaled data. Experiment with different values for `n_neighbors` to find the best-performing setting in terms of accuracy. You can explore KNN parameters [here](https://scikit-learn.org/stable/modules/generated/sklearn.neighbors.KNeighborsClassifier.html).\n",
    "\n",
    "After identifying the optimal value for `n_neighbors`, evaluate your model with the following metrics:\n",
    "\n",
    "- Accuracy\n",
    "- Confusion matrix\n",
    "- ROC-AUC"
   ]
  },
  {
   "cell_type": "code",
   "execution_count": null,
   "metadata": {},
   "outputs": [],
   "source": [
    "# Write your solution here add more cells if you wish!"
   ]
  },
  {
   "cell_type": "markdown",
   "metadata": {},
   "source": [
    "##### Part 4\n",
    "\n",
    "If you wish, try training a couple of different models to see if you can achieve better results.\n",
    "\n",
    "- [Support Vector Machine](https://scikit-learn.org/stable/modules/generated/sklearn.svm.SVC.html)\n",
    "- [Random Forest](https://scikit-learn.org/stable/modules/generated/sklearn.ensemble.RandomForestClassifier.html?highlight=randomforest#sklearn.ensemble.RandomForestClassifier)"
   ]
  },
  {
   "cell_type": "code",
   "execution_count": null,
   "metadata": {},
   "outputs": [],
   "source": [
    "# Write your solution here add more cells if you wish!"
   ]
  }
 ],
 "metadata": {
  "kernelspec": {
   "display_name": "Python 3 (ipykernel)",
   "language": "python",
   "name": "python3"
  },
  "language_info": {
   "codemirror_mode": {
    "name": "ipython",
    "version": 3
   },
   "file_extension": ".py",
   "mimetype": "text/x-python",
   "name": "python",
   "nbconvert_exporter": "python",
   "pygments_lexer": "ipython3",
   "version": "3.11.7"
  }
 },
 "nbformat": 4,
 "nbformat_minor": 4
}
