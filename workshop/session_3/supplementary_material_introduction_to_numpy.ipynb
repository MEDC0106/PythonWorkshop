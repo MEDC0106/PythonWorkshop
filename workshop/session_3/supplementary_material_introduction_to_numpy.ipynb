{
 "cells": [
  {
   "cell_type": "markdown",
   "metadata": {},
   "source": [
    "### MEDC0106: Bioinformatics in Applied Biomedical Science\n",
    "\n",
    "<p align=\"center\">\n",
    "  <img src=\"../../resources/static/Banner.png\" alt=\"MEDC0106 Banner\" width=\"90%\"/>\n",
    "  <br>\n",
    "</p>\n",
    "\n",
    "---------------------------------------------------------------\n",
    "\n",
    "# Supplementary material: Introduction to NumPy\n",
    "\n",
    "*Written by:* Oliver Scott\n",
    "\n",
    "**This notebook provides a general introduction to NumPy.**\n",
    "\n",
    "Do not be afraid to make changes to the code cells to explore how things work!\n",
    "\n",
    "### What is NumPy?\n",
    "\n",
    "[**Numpy**](https://numpy.org/) is a popular python package containing multidimensional array and matrix data structures. \n",
    "\n",
    "Description from the [NumPy user guide](https://numpy.org/devdocs/user/absolute_beginners.html):\n",
    "\n",
    "> NumPy (Numerical Python) is an open source Python library that’s used in almost every field of science and engineering. It’s the universal standard for working with numerical data in Python, and it’s at the core of the scientific Python and PyData ecosystems. NumPy users include everyone from beginning coders to experienced researchers doing state-of-the-art scientific and industrial research and development. The NumPy API is used extensively in Pandas, SciPy, Matplotlib, scikit-learn, scikit-image and most other data science and scientific Python packages.\n",
    "\n",
    "NumPy allows scientists to produce cutting edge software with the speed of C with a much less involved API!\n",
    "\n",
    "In this notebook we will learn the very basics of the NumPy, it could have a whole lecture series itself! \n",
    "\n",
    "-----\n",
    "\n",
    "## Contents\n",
    "\n",
    "1. [The Basics](#The-Basics)\n",
    "2. [Indexing and Slicing](#Indexing-and-Slicing)\n",
    "3. [Basic Operations](#Basic-Operations)\n",
    "4. [Broadcasting](#Broadcasting)\n",
    "5. [Reshaping](#Reshaping)\n",
    "6. [Implementing Equations](#Implementing-Equations)\n",
    "7. [Discussion](#Discussion)\n",
    "\n",
    "-----\n",
    "\n",
    "#### Extra Resources:\n",
    "\n",
    "- [Learn NumPy](https://numpy.org/learn/) - Recommended learning material from the NumPy developers\n",
    "- [RealPython: NumPy Tutorial](https://realpython.com/numpy-tutorial/)\n",
    "- [TutorialsPoint](https://www.tutorialspoint.com/numpy/index.htm)\n",
    "- [W3Schools](https://www.w3schools.com/python/numpy/numpy_intro.asp)\n",
    "- [NumPy CheatSheet](https://www.datacamp.com/community/blog/python-numpy-cheat-sheet)\n",
    "\n",
    "-----\n",
    "\n",
    "#### References:\n",
    "\n",
    "- [NumPy: the absolute basics for beginners](https://numpy.org/devdocs/user/absolute_beginners.html#)\n",
    "\n",
    "## The Basics\n",
    "\n",
    "Importing NumPy is no different to any other package/module. NumPy users often use the `np` alias to keep code clean:"
   ],
   "id": "9d4d1c438b587d45"
  },
  {
   "cell_type": "code",
   "execution_count": null,
   "metadata": {},
   "outputs": [],
   "source": [
    "import numpy as np\n",
    "\n",
    "array = np.array([1,2,3,4])\n",
    "\n",
    "print(array)"
   ],
   "id": "3a52be0884b2fa5e"
  },
  {
   "cell_type": "markdown",
   "metadata": {},
   "source": [
    "#### NumPy arrays vs Python lists \n",
    "\n",
    "- NumPy arrays can only hold one 'type' of data unlike Python lists\n",
    "- NumPy arrays consume less memory than Python lists\n",
    "- NumPy arrays are much faster then Python lists\n",
    "- NumPy arrays are of a fixed size\n",
    "- NumPy provides numerous (fast) mathematical operations that can be applied over arrays\n",
    "\n",
    "##### The structure of an array\n",
    "\n",
    "The array is the fundamental data structure in the NumPy library, consisting of a grid of values which all share the same 'type' or 'dtype' in NumPy. This grid can be indexed in a similar way to Python lists, and also using tuples of nonnegative integers, by booleans, by another array, or by integers. \n",
    "\n",
    "----\n",
    "\n",
    "**Array structure:**\n",
    "\n",
    "<p align=\"center\">\n",
    "  <img src=\"https://i.imgur.com/mg8O3kd.png\" alt=\"NumPy Arrays\" width=\"100%\"/>\n",
    "  <br>\n",
    "</p>\n",
    "\n",
    "[Image Source](https://www.freecodecamp.org/news/exploratory-data-analysis-with-numpy-pandas-matplotlib-seaborn/)\n",
    "\n",
    "\n",
    "**Multiple Dimensions:**\n",
    "\n",
    "NumPy arrays can also be multidimensional (1D, 2D, 3D ... ND), meaning the NumPy array structure can be used to model vectors (1D) and matrices (2D). Arrays with >= 3 dimensions is often refered to as a tensor (see above).\n",
    "\n",
    "Dimensions in NumPy are refered to as 'axes'. A 2D array may look something like this:\n",
    "\n",
    "```python\n",
    "[[0., 0., 0.],\n",
    " [1., 1., 1.]]\n",
    "```\n",
    "\n",
    "Where there are two axes and the first axis has a length of two and the second a length of three. You can access the shape of an array with the `.shape` attribute, which is a tuple refering to the length of each axis. In this case this would be `(2,3)`\n",
    "\n",
    "\n",
    "**Creating NumPy arrays:**\n",
    "\n",
    "There are numerous ways to create a NumPy array. We will cover some of the ways here:\n",
    "\n",
    "- `np.array()`\n",
    "- `np.zeros()`\n",
    "- `np.ones()`\n",
    "- `np.empty()`\n",
    "- `np.arange()`\n",
    "- `np.linspace()`\n",
    "\n",
    "`np.array()`can be used to construct an array from a Python list:"
   ],
   "id": "7229f8b26e26a6c3"
  },
  {
   "cell_type": "code",
   "execution_count": null,
   "metadata": {},
   "outputs": [],
   "source": [
    "array_1d = np.array([1, 2, 3, 4])                  # A 1D array\n",
    "array_2d = np.array([[1, 2, 3, 4], [5, 6, 7, 8]])  # A 2D array\n",
    "\n",
    "print('1D NumPy array:\\n', array_1d)\n",
    "print('\\n2D NumPy array:\\n', array_2d)"
   ],
   "id": "12d36253311fa271"
  },
  {
   "cell_type": "markdown",
   "metadata": {},
   "source": [
    "`np.zeros()` fills an array with zeros, while `np.ones()` fills an array with ones:"
   ],
   "id": "ee287ed8b842e4f"
  },
  {
   "cell_type": "code",
   "execution_count": null,
   "metadata": {},
   "outputs": [],
   "source": [
    "zero_array_1d = np.zeros(6)\n",
    "ones_array_2d = np.ones((6, 3))\n",
    "\n",
    "print('1D NumPy array:\\n', zero_array_1d)\n",
    "print('\\n2D NumPy array:\\n', ones_array_2d)"
   ],
   "id": "2f7525dd6d3296fe"
  },
  {
   "cell_type": "markdown",
   "metadata": {},
   "source": [
    "`np.empty()` functions in much the same way but fills the array with random numbers depending on the state of the memory (quicker than zeros/ones):"
   ],
   "id": "20c22cdc71788044"
  },
  {
   "cell_type": "code",
   "execution_count": null,
   "metadata": {},
   "outputs": [],
   "source": [
    "array = np.empty(10)\n",
    "\n",
    "print(array)"
   ],
   "id": "16f8b84a258034da"
  },
  {
   "cell_type": "markdown",
   "metadata": {},
   "source": [
    "`np.arange()` creates an array containing a range of numbers similarly to the Python `range()` function. A step size parameter can also be provided:"
   ],
   "id": "464e258eb1371737"
  },
  {
   "cell_type": "code",
   "execution_count": null,
   "metadata": {},
   "outputs": [],
   "source": [
    "array = np.arange(0, 11, 2)\n",
    "\n",
    "print(array)"
   ],
   "id": "b0c49763596812b0"
  },
  {
   "cell_type": "markdown",
   "metadata": {},
   "source": [
    "`np.linspace()` creates an array of evenly spaced values within a specified interval:"
   ],
   "id": "27dab9aff0a642be"
  },
  {
   "cell_type": "code",
   "execution_count": null,
   "metadata": {},
   "outputs": [],
   "source": [
    "array = np.linspace(0, 20, 5)  # 0 -> 20 in 5 values\n",
    "\n",
    "print(array)"
   ],
   "id": "d68729193ec36d5b"
  },
  {
   "cell_type": "markdown",
   "metadata": {},
   "source": [
    "**Specifying a dtype**\n",
    "\n",
    "When creating an array the dtype is automatically `np.float64`, however the dtype can be specified by the user.\n",
    "\n",
    "Learn more about datatypes [here](https://www.tutorialspoint.com/numpy/numpy_data_types.htm)"
   ],
   "id": "1854e19486370d18"
  },
  {
   "cell_type": "code",
   "execution_count": null,
   "metadata": {},
   "outputs": [],
   "source": [
    "array = np.ones((4,4), dtype=np.int64)  # Here we specify integer\n",
    "\n",
    "print(array)"
   ],
   "id": "7b0181dc1c6fd29d"
  },
  {
   "cell_type": "markdown",
   "metadata": {},
   "source": [
    "## Indexing and Slicing\n",
    "\n",
    "Indexing and slicing is fundamental to working with NumPy arrays. \n",
    "\n",
    "Indexing one dimensional arrays is very similar to indexing Python lists\n",
    "\n",
    "*Try to use your prior knowledge to work out the output of the cell below before running it*"
   ],
   "id": "e4f3312a90b9fec0"
  },
  {
   "cell_type": "code",
   "execution_count": null,
   "metadata": {},
   "outputs": [],
   "source": [
    "array = np.array([1, 2, 3, 4])\n",
    "\n",
    "print(array[1])\n",
    "print(array[0:3])\n",
    "print(array[1:])\n",
    "print(array[1:-1])"
   ],
   "id": "10a47b7cb79350e0"
  },
  {
   "cell_type": "markdown",
   "metadata": {},
   "source": [
    "When accessing arrays with more than one dimension we can use comma seperated values representing the dimension and index of the element. It may help to think of a 2D array as a data table where axis 0 represents the rows and axis 1 represents the columns:"
   ],
   "id": "633006bfcba48798"
  },
  {
   "cell_type": "code",
   "execution_count": null,
   "metadata": {},
   "outputs": [],
   "source": [
    "array_2d = np.array([[1, 2, 3, 4, 5], [6, 7, 8, 9, 10]], dtype=np.int64)\n",
    "\n",
    "# Access the element on the first row, third column:\n",
    "print('3rd element on the first row:', array_2d[0,2])\n",
    "\n",
    "# Access the element on the secxond row last column:\n",
    "print('Last element on the second row:', array_2d[1,-1])\n",
    "\n",
    "# Access the entire first row\n",
    "print('The first row:', array_2d[0])  # this is equivalent to [0,:]\n",
    "\n",
    "# Access the entire second column\n",
    "print('The second column:', array_2d[:,1])"
   ],
   "id": "1d3080594afe030e"
  },
  {
   "cell_type": "markdown",
   "metadata": {},
   "source": [
    "Extending this logic to further dimensions is thus relatively straightforward:"
   ],
   "id": "7724882de9bb9c04"
  },
  {
   "cell_type": "code",
   "execution_count": null,
   "metadata": {},
   "outputs": [],
   "source": [
    "array_3d = np.array([[[1, 2, 3], [4, 5, 6]], [[7, 8, 9], [10, 11, 12]]])  # shape (4, 3)\n",
    "\n",
    "print('Index [0,1,2]:', array_3d[0, 1, 2])"
   ],
   "id": "34b1431912f27405"
  },
  {
   "cell_type": "markdown",
   "metadata": {},
   "source": [
    "Sometimes it can be hard to think in multiple dimensions!\n",
    "\n",
    "To explain:\n",
    "    \n",
    "- Index `0` selects the first dimension which contains two arrays:\n",
    "   \n",
    "```python\n",
    "[[1, 2, 3], [4, 5, 6]]  &  [[7, 8, 9], [10, 11, 12]]\n",
    "\n",
    "So we select:\n",
    "\n",
    "[[1, 2, 3], [4, 5, 6]]\n",
    "```\n",
    "\n",
    "- Index `1` selects from the above two arrays:\n",
    "\n",
    "```python\n",
    "So we select:\n",
    "\n",
    "[4, 5, 6]\n",
    "```\n",
    "\n",
    "- The final index `2` then selects from the above:\n",
    "\n",
    "```python\n",
    "So we select:\n",
    "\n",
    "6\n",
    "```\n",
    "\n",
    "Of course we can also use slicing and negative indexes as in the 2D example. Take some time to experiment with indexing and slicing different arrays yourself.\n",
    "\n",
    "----\n",
    "\n",
    "#### Indexing with conditionals\n",
    "\n",
    "If you can recall, we mentioned that NumPy arrays can be indexed with booleans. Boolean arrays can be generated simply using a conditional expression.\n",
    "\n",
    "If you can recall from the first session we can use expressions like: \n",
    "\n",
    "```python\n",
    "x = 5\n",
    "x > 10  # False\n",
    "```\n",
    "\n",
    "which generate a boolean value.\n",
    "\n",
    "We can use the same type of expression with numpy arrays to generate an array of boolean values:\n",
    "\n",
    "```python\n",
    "array = np.array([1, 2, 3, 4, 5])\n",
    "mask = array > 2  # creates a boolean array [False, False, True, True ...]\n",
    "```\n",
    "\n",
    "Therefore indexing based on a condition is straightforward:"
   ],
   "id": "8716e3ab53618273"
  },
  {
   "cell_type": "code",
   "execution_count": null,
   "metadata": {},
   "outputs": [],
   "source": [
    "array = np.array([[1 , 2, 3, 4], [5, 6, 7, 8], [9, 10, 11, 12]])\n",
    "\n",
    "# Interested in getting all values > 5\n",
    "print('Conditional Indexing Result:', array[array > 5])"
   ],
   "id": "d4b5ba89f201ad36"
  },
  {
   "cell_type": "markdown",
   "metadata": {},
   "source": [
    "Of course boolean arrays can be composed logically using `&` 'AND' and `|` 'OR' to chain multiple conditions:"
   ],
   "id": "e75bde0d080c52b2"
  },
  {
   "cell_type": "code",
   "execution_count": null,
   "metadata": {},
   "outputs": [],
   "source": [
    "# We are now interested in getting all values which are > 5 AND divisible by 2 (even)\n",
    "print('Result:', array[(array > 5) & (array % 2 == 0)])\n",
    "\n",
    "# Let's break it down slightly:\n",
    "condition_1 = array > 5                          # value greater than 5\n",
    "condition_2 = array % 2 == 0                     # value divisible by 2\n",
    "combined_condition = condition_1 & condition_2   # combined condition 'AND'\n",
    "\n",
    "print('Result:', array[combined_condition])  # Same result!"
   ],
   "id": "53636b7829edf29b"
  },
  {
   "cell_type": "markdown",
   "metadata": {},
   "source": [
    "`np.nonzero()` can also be used to select elements or indices from an array.\n",
    "\n",
    "Instead of a boolean array, this method returns the indicies.\n",
    "\n",
    "Let's try with `array > 5`:"
   ],
   "id": "7b80499488550581"
  },
  {
   "cell_type": "code",
   "execution_count": null,
   "metadata": {},
   "outputs": [],
   "source": [
    "indices = np.nonzero(array > 5)\n",
    "\n",
    "print('Indices:', indices)  # first array is row index, second array is column index\n",
    "\n",
    "# Of course we can use these to index also\n",
    "print('Result:', array[indices])"
   ],
   "id": "a7fc9ed53928405"
  },
  {
   "cell_type": "markdown",
   "metadata": {},
   "source": [
    "## Basic Operations\n",
    "\n",
    "By limiting datatypes to one typoe per array numpy can perform basic and complex mathematical operations across axes of an array or between different arrays. These operations can be executed using python operators `+`,`*`, etc... or functions built into numpy; `np.add()`, `np.multiply()`, etc.. \n",
    "\n",
    "Let's try some functions which are useful to apply over an arrays axes:"
   ],
   "id": "800543a518b00165"
  },
  {
   "cell_type": "code",
   "execution_count": null,
   "metadata": {},
   "outputs": [],
   "source": [
    "array = np.array([[1, 2], [3, 4], [5, 6]])\n",
    "\n",
    "# We can apply the sum over any axis (note we could also use np.sum(array, axis=0))\n",
    "print('Sum over entire array:', array.sum())\n",
    "print('Sum over axis 0 (columns):', array.sum(axis=0))\n",
    "print('Sum over axis 1 (rows):', array.sum(axis=1))\n",
    "\n",
    "# The mean is often a useful operation (e.g. geometric mean)\n",
    "print('\\nMean over entire array:', array.mean())\n",
    "print('Mean over axis 0 (columns):', array.mean(axis=0))\n",
    "print('Mean over axis 1 (rows):', array.mean(axis=1))\n",
    "\n",
    "# How about the min / max\n",
    "print('\\nMax over entire array:', array.max())\n",
    "print('Max over axis 0 (columns):', array.max(axis=0))\n",
    "print('Min over axis 1 (rows):', array.min(axis=1))"
   ],
   "id": "77e34e77f93db839"
  },
  {
   "cell_type": "markdown",
   "metadata": {},
   "source": [
    "NumPy also understands performing array math:"
   ],
   "id": "2b9f5e8516d1d5a7"
  },
  {
   "cell_type": "code",
   "execution_count": null,
   "metadata": {},
   "outputs": [],
   "source": [
    "other = np.ones(array.shape)  # Create an array of ones with the same shape as `array`\n",
    "\n",
    "# We can easily sum two arrays elementwise\n",
    "print('Elementwise Sum:\\n\\n', array + other)  # equivalent to np.add(array, other)\n",
    "\n",
    "# We can calculate the difference of two arrays elementwise\n",
    "print('\\nElementwise Difference:\\n\\n', array - other)  # equivalent to np.subtract(array, other)\n",
    "\n",
    "# Elementwise multiplication\n",
    "print('\\nElementwise Multiplication:\\n\\n', array * other)  # equivalent to np.multiply(array, other)"
   ],
   "id": "405a13e0268e5884"
  },
  {
   "cell_type": "markdown",
   "metadata": {},
   "source": [
    "Note that the `*` operator refers to elementwise multiplication and not matrix multiplication. We instead use the `np.dot()` function to compute inner products of vectors, to multiply a vector by a matrix, and to multiply matrices"
   ],
   "id": "b0738f54decd48ef"
  },
  {
   "cell_type": "markdown",
   "metadata": {},
   "source": [
    "## Broadcasting\n",
    "\n",
    "There are often instances where you will want to carry out a mathematical operation between a single number and a whole array, or perhaps between two arrays of different sizes. For example if you had an array of temperatures in kelvin that you wish to convert to celsius numpy makes this fast and easy:"
   ],
   "id": "ee2769b1898cc01"
  },
  {
   "cell_type": "code",
   "execution_count": null,
   "metadata": {},
   "outputs": [],
   "source": [
    "temp_in_kelvin = np.array([0, 100, 200, 300, 400])\n",
    "\n",
    "# Convert kelvin to celsius\n",
    "temp_in_celsius = temp_in_kelvin - 273.15\n",
    "\n",
    "print('After Conversion:', temp_in_celsius)"
   ],
   "id": "3ddce30e675de657"
  },
  {
   "cell_type": "markdown",
   "metadata": {},
   "source": [
    "NumPy is intelligent enough to know that the operation should be executed per value/cell in the array. This concept is called broadcasting, allowing operations to be performed between arrays of different sizes. When broadcasting the shape of the arrays must be compatible otherwise NumPy will raise an error. Suppose we wanted to broadcast with two differently sized arrays:"
   ],
   "id": "8c643e1a750282cc"
  },
  {
   "cell_type": "code",
   "execution_count": null,
   "metadata": {},
   "outputs": [],
   "source": [
    "# Suppose we wish to translate a set of coordinates with a vector\n",
    "\n",
    "coordinates = np.array([\n",
    "    [1.2, 2.4, 3.6],\n",
    "    [4.1, 5.5, 6.8],\n",
    "    [7.1, 8.2, 9.1],\n",
    "    [10.2, 11.4, 12.9]\n",
    "])\n",
    "\n",
    "vector = np.array([1., 0., -1.])\n",
    "\n",
    "\"\"\"\n",
    "Of course we could do this with a python loop:\n",
    "\n",
    "translated = np.empty(coordinates.shape)\n",
    "for i in range(coordinates.shape[1]):\n",
    "    translated[i, :] = coordinates[i, :] + vector\n",
    "    \n",
    "With large arrays this would be slow!\n",
    "\n",
    "NumPys broadcasting system makes this easy!\n",
    "\n",
    "\"\"\"\n",
    "\n",
    "translated = coordinates + vector\n",
    "\n",
    "print('Translated Coordinates:\\n\\n', translated)"
   ],
   "id": "5d8c7ebeb34b885"
  },
  {
   "cell_type": "markdown",
   "metadata": {},
   "source": [
    "The code line `translated = coordinates + vector` works although the arrays shapes are different: `(4, 3)` and `(3,)`, due to broadcasting. The line works as though the shape of the vector is also `(4, 3)` where the vector is copied 3 times and the summation is performed elementwise (*NumPy is clever anough not to actually copy the arrays to remain super-efficient*)\n",
    "\n",
    "When operating on two arrays, NumPy compares their shapes element-wise. It starts with the rightmost dimensions and works its way left. Two dimensions are compatible when:\n",
    "\n",
    "1. they are equal, or\n",
    "2. one of them is 1\n",
    "\n",
    "If these conditions are not met, a `ValueError: operands could not be broadcast together exception` is thrown, indicating that the arrays have incompatible shapes. The size of the resulting array is the size that is not 1 along each axis of the inputs.\n",
    "\n",
    "**Broadcasting Example:**\n",
    "\n",
    "<p align=\"center\">\n",
    "  <img src=\"https://numpy.org/devdocs/_images/broadcasting_2.svg\" alt=\"NumPy Broadcasting\" width=\"50%\"/>\n",
    "  <br>\n",
    "</p>\n",
    "\n",
    "[Image source](https://numpy.org/devdocs/user/basics.broadcasting.html#basics-broadcasting)\n",
    "\n",
    "Learn more about broadcasting [here](https://numpy.org/devdocs/user/basics.broadcasting.html#basics-broadcasting)\n"
   ],
   "id": "4c778922836fc1f5"
  },
  {
   "cell_type": "markdown",
   "metadata": {},
   "source": [
    "## Reshaping\n",
    "\n",
    "Sometimes you may need to switch the dimensions of an array. This may happen when a model takes an input in a different shape to your data. Arrays can be reshaped eaily using the `reshape()` method. Obviously when reshaping an array the new dimensions must be compatible with the original shape."
   ],
   "id": "18c653b52af008b6"
  },
  {
   "cell_type": "code",
   "execution_count": null,
   "metadata": {},
   "outputs": [],
   "source": [
    "# An array with shape (3, 2)\n",
    "data = np.array([[1, 2], [3, 4], [5, 6]])\n",
    "\n",
    "print('Original:\\n', data)\n",
    "\n",
    "# switch the dimensions to (2, 3)\n",
    "print('\\nReshape(2, 3):\\n', data.reshape(2, 3))"
   ],
   "id": "e69127c33cf5f155"
  },
  {
   "cell_type": "markdown",
   "metadata": {},
   "source": [
    "This can also be done to convert 1D arrays into ND arrays:"
   ],
   "id": "131e8d7ba1a5802d"
  },
  {
   "cell_type": "code",
   "execution_count": null,
   "metadata": {},
   "outputs": [],
   "source": [
    "arr = np.arange(6)\n",
    "\n",
    "print('Original:\\n', arr)\n",
    "\n",
    "# Change the dimensions to 2D: (2, 3)\n",
    "print('\\nReshape(2, 3):\\n',arr.reshape((2, 3)))"
   ],
   "id": "a0271e6b94072ee0"
  },
  {
   "cell_type": "markdown",
   "metadata": {},
   "source": [
    "A common operation in matrix algebra is [transposition](https://en.wikipedia.org/wiki/Transpose). This can be achived easily using the property `T` ot the method `transpose()`:"
   ],
   "id": "fcaf5cef495bb5fb"
  },
  {
   "cell_type": "code",
   "execution_count": null,
   "metadata": {},
   "outputs": [],
   "source": [
    "# transpose the array 'data'\n",
    "print('Transpose:\\n', data.T)\n",
    "\n",
    "# The same result\n",
    "print('\\nTranspose:\\n', data.transpose())"
   ],
   "id": "2c4a60e41d9e1101"
  },
  {
   "cell_type": "markdown",
   "metadata": {},
   "source": [
    "## Implementing Equations\n",
    "\n",
    "NumPy is widely adopted in the scientific community due to the ease of implementing mathematical formulas that can work on arrays. For example say we wanted to calculate the [root-mean-square-deviation **(RMSD)**](https://en.wikipedia.org/wiki/Root-mean-square_deviation_of_atomic_positions), between the coordinates of two superimposed molecules:\n",
    "\n",
    "Given two sets of ${n}$ points ${v}$ and ${w}$, the RMSD is defined as follows: \n",
    "\n",
    "$$\n",
    "RMSD(v, w) = \\sqrt{\\frac{1}{n}\\sum_{i=1}^n{\\|v_{i}-w_{i}\\|}^2} \\\\\n",
    "= \\sqrt{\\frac{1}{n}\\sum_{i=1}^n{((v_{ix}-w_{ix}) + (v_{iy}-w_{iy}) + (v_{iz}-w_{iz}))}^2}\n",
    "$$\n",
    "\n",
    "An RMSD value is expressed in length units. The most commonly used unit in structural biology is the **Ångström (Å)** which is equal to ${10^{−10}}$m. \n",
    "\n",
    "We could easily implement this function in NumPy without the need for Python loops thanks to numpys broadcasting system!"
   ],
   "id": "362b86bfdd11a453"
  },
  {
   "cell_type": "code",
   "execution_count": null,
   "metadata": {},
   "outputs": [],
   "source": [
    "def rmsd(v, w):\n",
    "    \"\"\"Caclulate the RMSD between two sets of coordinates\"\"\"\n",
    "    d = v - w  # Difference (deviation)\n",
    "    # RMSD:   root    mean    square \n",
    "    rmsd = np.sqrt(np.mean(np.square(d)))\n",
    "    return rmsd\n",
    "\n",
    "\n",
    "# Coordinates V (X, Y, Z)\n",
    "v = np.array([\n",
    "    [-0.98353, 1.81095, -0.03140],\n",
    "    [0.12683,  1.80418, -0.03242],\n",
    "    [-1.48991, 3.22740,  0.18102],\n",
    "    [-1.35042, 1.15351,  0.78475],\n",
    "    [-1.35043, 1.42183, -1.00450],\n",
    "    [-1.12302, 3.61652,  1.15412],\n",
    "    [-2.60028, 3.23418,  0.18203],\n",
    "    [-1.12302, 3.88485, -0.63514],\n",
    "])\n",
    "\n",
    "# Coordinates W (X, Y, Z)\n",
    "w = np.array([\n",
    "    [-1.18012, 1.83558, -0.02389],\n",
    "    [-0.07891, 1.97662, -0.00383],\n",
    "    [-1.87442, 3.17118,  0.18101],\n",
    "    [-1.47136, 1.13188,  0.78415],\n",
    "    [-1.47377, 1.40501, -1.00437],\n",
    "    [-1.58078, 3.60175,  1.16149],\n",
    "    [-2.97563, 3.03014,  0.16095],\n",
    "    [-1.58318, 3.87488, -0.62704],\n",
    "])\n",
    "\n",
    "# Calculate the RMSD\n",
    "print('RMSD:', rmsd(v, w))"
   ],
   "id": "9fb3cc0c92526515"
  },
  {
   "cell_type": "markdown",
   "metadata": {},
   "source": [
    "## Discussion\n",
    "\n",
    "NumPy has become a fundamental part of the Python scientific data stack due to its speed and ease of use (with practise!) in comparsion with lower level prgramming languages. NumPy is the foundation on which multiple data-analysis/manipulation packages are built and will be for the foreseeable future. If you wish to pursue a career in this area NumPy will be an essential tool for you to learn. This notebook has only scratched the surface of its capabilities! \n",
    "\n",
    "If you find the syntax and concepts a little confusing do not worry so much it can take time to adjust to thinking in a completely different way!\n",
    "\n",
    "Feel free to add more code cells and experiment with the concepts you have learnt.\n",
    "\n",
    "In the next notebook we will take a look at the Pandas package which builds a data analysis platform on top of NumPy!\n",
    "\n",
    "f you want to know more there are some extra resources from external sources linked in the beginning section. You can click the link below to go back to the top.\n",
    "\n",
    "Click [here](#Contents) to go back to the contents."
   ],
   "id": "86015e04718dd2e3"
  },
  {
   "cell_type": "markdown",
   "metadata": {},
   "source": [],
   "id": "7f8b2d05d28ece7"
  }
 ],
 "metadata": {
  "kernelspec": {
   "display_name": "toughgraph",
   "language": "python",
   "name": "toughgraph"
  },
  "language_info": {
   "codemirror_mode": {
    "name": "ipython",
    "version": 3
   },
   "file_extension": ".py",
   "mimetype": "text/x-python",
   "name": "python",
   "nbconvert_exporter": "python",
   "pygments_lexer": "ipython3",
   "version": "3.6.13"
  }
 },
 "nbformat": 4,
 "nbformat_minor": 5
}
