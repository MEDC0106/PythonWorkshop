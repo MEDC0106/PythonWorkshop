{
 "cells": [
  {
   "cell_type": "markdown",
   "metadata": {},
   "source": [
    "### MEDC0106: Bioinformatics in Applied Biomedical Science\n",
    "\n",
    "<p align=\"center\">\n",
    "  <img src=\"../../resources/static/Banner.png\" alt=\"MEDC0106 Banner\" width=\"90%\"/>\n",
    "  <br>\n",
    "</p>\n",
    "\n",
    "---------------------------------------------------------------\n",
    "\n",
    "# 10 - Exercises (Session 3)\n",
    "\n",
    "*Written by:* Oliver Scott\n",
    "\n",
    "**This notebook contains exercises to help you understand the concepts introduced during Session 3 of the Python workshop. The exercises are designed to give you practical experience in applying these tools to bioinformatics tasks.**\n",
    "\n",
    "Feel free to refer back to the content in the previous notebooks to help you complete the tasks.\n",
    "\n",
    "You should work through the tasks consecutively.\n",
    "\n",
    "Remember to save your changes.\n",
    "\n",
    "----\n",
    "\n",
    "## Contents\n",
    "\n",
    "1. [Task 1](#Task-1) - Basic data analysis\n",
    "\n",
    "----\n",
    "\n",
    "#### Imports\n",
    "\n",
    "Some imports you may, or may not need to complete the tasks (run this before you attempt the exercises).\n"
   ]
  },
  {
   "cell_type": "code",
   "execution_count": null,
   "metadata": {},
   "outputs": [],
   "source": [
    "# Run this cell before you attempt the exercises\n",
    "%matplotlib inline\n",
    "\n",
    "import matplotlib.pyplot as plt\n",
    "import seaborn as sns\n",
    "import pandas as pd\n",
    "from sklearn.neighbors import KNeighborsClassifier\n",
    "from sklearn.metrics import ConfusionMatrixDisplay, confusion_matrix\n",
    "from sklearn.metrics import RocCurveDisplay, roc_curve, auc\n",
    "from sklearn.model_selection import train_test_split"
   ]
  },
  {
   "cell_type": "markdown",
   "metadata": {},
   "source": [
    "## Task 1\n",
    "\n",
    "#### Basic data analysis  \n",
    "\n",
    "We have provided a dataset from the **National Institute of Diabetes and Digestive and Kidney Diseases**. This dataset includes various diagnostic measurements and indicates whether each patient has diabetes. All patients in this subset are female, at least 21 years old, and of Pima Indian heritage.\n",
    "\n",
    "This task focuses on fundamental data analysis and is divided into multiple subtasks.\n",
    "\n",
    "##### Reference\n",
    "Smith, J.W., Everhart, J.E., Dickson, W.C., Knowler, W.C., & Johannes, R.S. (1988). *Using the ADAP learning algorithm to forecast the onset of diabetes mellitus.* In *Proceedings of the Symposium on Computer Applications and Medical Care* (pp. 261–265). IEEE Computer Society Press.\n",
    "\n",
    "##### Part 1\n",
    "\n",
    "For this first part, read the CSV file using pandas and identify the following:\n",
    "- The diagnostic measurements recorded for each patient.\n",
    "- The data type of each measurement.\n",
    "- The total number of patients assessed.\n",
    "\n",
    "The file path to the data has been provided.\n",
    "\n",
    "<details>\n",
    "<summary>Example solution</summary>\n",
    "<pre>\n",
    "data_path = 'https://raw.githubusercontent.com/MEDC0106/PythonWorkshop/main/workshop/session_3/data/diabetes.csv'\n",
    "df = pd.read_csv(data_path)\n",
    "df.info()\n",
    "</pre>\n",
    "</details> "
   ]
  },
  {
   "cell_type": "code",
   "execution_count": null,
   "metadata": {},
   "outputs": [],
   "source": [
    "data_path = 'https://raw.githubusercontent.com/MEDC0106/PythonWorkshop/main/workshop/session_3/data/diabetes.csv'\n",
    "# Write your solution here and add more cells if you wish"
   ]
  },
  {
   "cell_type": "markdown",
   "metadata": {},
   "source": [
    "##### Part 2\n",
    "\n",
    "Although there are no null values, some entries contain unusual values.\n",
    "\n",
    "a) Review the measurements and consider whether these values are plausible.<br>\n",
    "b) After identifying unreliable measurements, remove these entries from the dataset.\n",
    "\n",
    "<details>\n",
    "<summary>Click here for a hint!</summary>\n",
    "<em>Some subjects have Glucose == 0! This likely isn’t correct (do other measurements have similar issues?)</em>\n",
    "</details>\n",
    "\n",
    "<details>\n",
    "<summary>Click here for a hint!</summary>\n",
    "<em>Remember conditional selections! For example: <pre>df = df[df['somecol'] != 0]`</pre>\n",
    "</details>\n",
    "\n",
    "<details>\n",
    "<summary>Example solution</summary>\n",
    "<pre>\n",
    "print(\"Number of records before glucose verification:\", len(df))\n",
    "df = df[df.Glucose != 0]\n",
    "print(\"Number of records after glucose verification:\", len(df))\n",
    "</pre>\n",
    "</details>"
   ]
  },
  {
   "cell_type": "code",
   "execution_count": null,
   "metadata": {},
   "outputs": [],
   "source": [
    "# Write your solution here and add more cells if you wish"
   ]
  },
  {
   "cell_type": "markdown",
   "metadata": {},
   "source": [
    "##### Part 3\n",
    "\n",
    "Now that you have a clean dataset, count the number of patients with/without diabetes. Make a nice plot to visualise the result. Is the data balanced or not? \n",
    "\n",
    "<details>\n",
    "<summary>Example solution</summary>\n",
    "<pre>\n",
    "outcome_counts = df.Outcome.value_counts()\n",
    "print(outcome_counts)\n",
    "outcome_counts.plot(kind=\"bar\", title=\"Diabetes diagnosis\")\n",
    "</pre>\n",
    "</details>"
   ]
  },
  {
   "cell_type": "code",
   "execution_count": null,
   "metadata": {},
   "outputs": [],
   "source": [
    "# Write your solution here and add more cells if you wish"
   ]
  },
  {
   "cell_type": "markdown",
   "metadata": {},
   "source": [
    "##### Part 4\n",
    "\n",
    "Plot histograms for the diagnostic measurements. Observe the shape of each distribution and note the units for each measurement.\n",
    "\n",
    "<details>\n",
    "<summary>Example solution</summary>\n",
    "<pre>\n",
    "df.hist(figsize=[10, 10])\n",
    "</pre>\n",
    "</details>"
   ]
  },
  {
   "cell_type": "code",
   "execution_count": null,
   "metadata": {},
   "outputs": [],
   "source": [
    "# Write your solution here and add more cells if you wish"
   ]
  }
 ],
 "metadata": {
  "kernelspec": {
   "display_name": "Python 3 (ipykernel)",
   "language": "python",
   "name": "python3"
  },
  "language_info": {
   "codemirror_mode": {
    "name": "ipython",
    "version": 3
   },
   "file_extension": ".py",
   "mimetype": "text/x-python",
   "name": "python",
   "nbconvert_exporter": "python",
   "pygments_lexer": "ipython3",
   "version": "3.11.7"
  }
 },
 "nbformat": 4,
 "nbformat_minor": 4
}
