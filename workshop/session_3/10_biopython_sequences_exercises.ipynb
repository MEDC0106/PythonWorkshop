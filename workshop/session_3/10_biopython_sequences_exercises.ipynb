{
 "cells": [
  {
   "cell_type": "markdown",
   "metadata": {
    "deletable": false
   },
   "source": [
    "### MEDC0106: Bioinformatics in Applied Biomedical Science\n",
    "\n",
    "<p align=\"center\">\n",
    "  <img src=\"../../resources/static/Banner.png\" alt=\"MEDC0106 Banner\" width=\"90%\"/>\n",
    "  <br>\n",
    "</p>\n",
    "\n",
    "---------------------------------------------------------------\n",
    "\n",
    "# 10 - Introduction to Biopython - Sequences Exercises\n",
    "\n",
    "*Written by:* Mateusz Kaczyński\n",
    "\n",
    "**This notebook contains the exercises to cover the sequences and alignment session of Biopython workshop. They aim at providing you with more exposure to how these can be used in Bioinformatics work.**\n",
    "\n",
    "## Contents\n",
    "1. [Following Central Dogma](#Following-Central-Dogma)\n",
    "2. [SARS-CoV-2 variants alignment](#SARS-CoV-2-variants-alignment)\n",
    "-----\n",
    "\n",
    "\n",
    "**Remember to save your results!**"
   ]
  },
  {
   "cell_type": "markdown",
   "metadata": {
    "editable": false
   },
   "source": [
    "#### Imports\n",
    "\n",
    "Some imports you may, or may not need to complete the tasks (run this before you attempt the exercises)."
   ]
  },
  {
   "cell_type": "code",
   "execution_count": 18,
   "metadata": {
    "editable": false
   },
   "outputs": [],
   "source": [
    "from urllib.request import urlretrieve \n",
    "\n",
    "from Bio import SeqIO\n",
    "from Bio import pairwise2\n",
    "from Bio.Seq import Seq\n",
    "from Bio.SeqRecord import SeqRecord\n",
    "from Bio.Align import MultipleSeqAlignment, AlignInfo"
   ]
  },
  {
   "cell_type": "markdown",
   "metadata": {
    "editable": false
   },
   "source": [
    "## Following Central Dogma\n",
    "For the provided sequence:\n",
    " 1. Transcribe it to RNA \n",
    " 2. Translate the RNA to a protein sequence\n",
    " 3. Replace G at position 12 with A\n",
    " 4. Translate the new DNA sequence to a protein sequence \n",
    " 5. Comment on the results and possible caveats\n",
    "\n",
    "\n",
    "<details>\n",
    "    <summary><strong>Hint</strong></summary>\n",
    "    <em>Start by converting the Seq object using Seq(sequence_string), follow the relevant code in the previous module.</em>\n",
    "</details>\n",
    "\n",
    "<details>\n",
    "    <summary><strong>Another hint</strong></summary>\n",
    "    <em>new_sequence = sequence_string[:11]+\"A\"+sequence_string[12:]</em>\n",
    "</details>"
   ]
  },
  {
   "cell_type": "code",
   "execution_count": 19,
   "metadata": {},
   "outputs": [],
   "source": [
    "sequence_string = '''\\\n",
    "ATGGCCCTGTGGATGCGCCTCCTGCCCCTGCTGGCGCTGCTGGCCCTCTGGGGACCTGACCCAG\\\n",
    "CCGCAGCCTTTGTGAACCAACACCTGTGCGGCTCACACCTGGTGGAAGCTCTCTACCTAGTGTG\\\n",
    "CGGGGAACGAGGCTTCTTCTACACACCCAAGACCCGCCGGGAGGCAGAGGACCTGCAGGTGGGG\\\n",
    "CAGGTGGAGCTGGGCGGGGGCCCTGGTGCAGGCAGCCTGCAGCCCTTGGCCCTGGAGGGGTCCC\\\n",
    "TGCAGAAGCGTGGCATTGTGGAACAATGCTGTACCAGCATCTGCTCCCTCTACCAGCTGGAGAA\\\n",
    "CTACTGCAAC\\\n",
    "'''\n",
    "# Write your solution here, adding more cells if necessary."
   ]
  },
  {
   "cell_type": "markdown",
   "metadata": {
    "editable": false
   },
   "source": [
    "## SARS-CoV-2-variants-alignment\n",
    "\n",
    "Below are the sequence resources URLs related to S (Spike) protein of SARS-CoV2 virus.\n",
    "\n",
    "#### Reference Sars-Cov2 sequence\n",
    "Protein: https://eutils.ncbi.nlm.nih.gov/entrez/eutils/efetch.fcgi?db=protein&id=YP_009724390.1&rettype=fasta\n",
    "\n",
    "#### Alpha variant\n",
    "Protein: https://eutils.ncbi.nlm.nih.gov/entrez/eutils/efetch.fcgi?db=protein&id=QWE88920.1&rettype=fasta\n",
    "\n",
    "#### Delta variant\n",
    "Protein: https://eutils.ncbi.nlm.nih.gov/entrez/eutils/efetch.fcgi?db=protein&id=QWK65230.1&rettype=fasta\n",
    "\n",
    "\n",
    "Using the protein sequences:\n",
    " 1. Download the data and save them as FASTA files. \n",
    " 2. Read them as Biopython Seq objects.\n",
    " 3. How long are the sequences?\n",
    " 4. Find and print the (global) pairwise alignments and the scores between the reference and one of the variants.\n",
    " 5. Find the alignment between Alpha and Delta variants. Compare against the reference alignments. What does this tell us about those two lineages?\n",
    " 6. *(Optional) Run multiple sequence alignment on the sequences, remember they need to be of the same length for MSA*.\n",
    " \n",
    " \n",
    "<details>\n",
    "    <summary><strong>Hint</strong></summary>\n",
    "    <em>urlretrieve(\"https://eutils.ncbi.nlm.nih.gov/entrez/eutils/efetch.fcgi?db=protein&id=YP_009724390.1&rettype=fasta\", \"data/reference.fasta\")</em>\n",
    "</details>\n",
    "\n",
    "<details>\n",
    "    <summary><strong>Another hint</strong></summary>\n",
    "    <em>reference = next(SeqIO.parse(\"data/reference.fasta\", \"fasta\"))</em>\n",
    "</details>\n",
    "\n"
   ]
  },
  {
   "cell_type": "code",
   "execution_count": 17,
   "metadata": {},
   "outputs": [],
   "source": [
    "# Write your solution here, adding more cells if necessary."
   ]
  }
 ],
 "metadata": {
  "celltoolbar": "Edit Metadata",
  "kernelspec": {
   "display_name": "Python 3",
   "language": "python",
   "name": "python3"
  },
  "language_info": {
   "codemirror_mode": {
    "name": "ipython",
    "version": 3
   },
   "file_extension": ".py",
   "mimetype": "text/x-python",
   "name": "python",
   "nbconvert_exporter": "python",
   "pygments_lexer": "ipython3",
   "version": "3.9.6"
  },
  "pycharm": {
   "stem_cell": {
    "cell_type": "raw",
    "metadata": {
     "collapsed": false
    },
    "source": []
   }
  }
 },
 "nbformat": 4,
 "nbformat_minor": 4
}
