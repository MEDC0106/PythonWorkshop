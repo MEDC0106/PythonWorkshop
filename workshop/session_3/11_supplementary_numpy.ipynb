{
 "cells": [
  {
   "cell_type": "markdown",
   "id": "9d4d1c438b587d45",
   "metadata": {},
   "source": [
    "### MEDC0106: Bioinformatics in Applied Biomedical Science\n",
    "\n",
    "<p align=\"center\">\n",
    "  <img src=\"../../resources/static/Banner.png\" alt=\"MEDC0106 Banner\" width=\"90%\"/>\n",
    "  <br>\n",
    "</p>\n",
    "\n",
    "---------------------------------------------------------------\n",
    "\n",
    "# 11 - NumPy (supplementary material)\n",
    "\n",
    "*Written by:* Oliver Scott\n",
    "\n",
    "**This notebook provides a general introduction to NumPy.**\n",
    "\n",
    "Do not be afraid to make changes to the code cells to explore how things work!\n",
    "\n",
    "### What is NumPy?\n",
    "\n",
    "[**NumPy**](https://numpy.org/) is a widely-used Python package that provides multidimensional array and matrix data structures.\n",
    "\n",
    "As described in the [NumPy User Guide](https://numpy.org/devdocs/user/absolute_beginners.html):\n",
    "\n",
    "> NumPy (Numerical Python) is an open-source Python library that’s essential in nearly every field of science and engineering. It serves as the standard for numerical data handling in Python and forms the foundation of the scientific Python and PyData ecosystems. NumPy is used by everyone from beginner coders to advanced researchers engaged in scientific and industrial R&D. Its API is integral to other key data science libraries, including Pandas, SciPy, Matplotlib, scikit-learn, scikit-image, and more.\n",
    "\n",
    "NumPy enables scientists and engineers to develop high-performance software with the simplicity of Python and speeds close to those of C.\n",
    "\n",
    "In this notebook, we’ll explore the basics of NumPy. This library’s versatility and depth could easily merit an entire lecture series! \n",
    "\n",
    "-----\n",
    "\n",
    "## Contents\n",
    "\n",
    "1. [The basics](#The-basics)\n",
    "2. [Indexing and slicing](#Indexing-and-slicing)\n",
    "3. [Basic operations](#Basic-operations)\n",
    "4. [Broadcasting](#Broadcasting)\n",
    "5. [Reshaping](#Reshaping)\n",
    "6. [Implementing equations](#Implementing-equations)\n",
    "7. [Discussion](#Discussion)\n",
    "\n",
    "-----\n",
    "\n",
    "### Extra resources:\n",
    "\n",
    "- [Learn NumPy](https://numpy.org/learn/) - Recommended learning material from the NumPy developers.\n",
    "- [RealPython: NumPy Tutorial](https://realpython.com/numpy-tutorial/)\n",
    "- [TutorialsPoint](https://www.tutorialspoint.com/numpy/index.htm)\n",
    "- [W3Schools](https://www.w3schools.com/python/numpy/numpy_intro.asp)\n",
    "- [NumPy CheatSheet](https://www.datacamp.com/community/blog/python-numpy-cheat-sheet)\n",
    "\n",
    "-----\n",
    "\n",
    "### Reference:\n",
    "\n",
    "- [NumPy: the absolute basics for beginners](https://numpy.org/devdocs/user/absolute_beginners.html#)\n",
    "\n",
    "## The basics\n",
    "\n",
    "Importing `numpy` is no different to any other package/module. NumPy users often use the `np` alias to keep code clean."
   ]
  },
  {
   "cell_type": "code",
   "execution_count": null,
   "id": "3a52be0884b2fa5e",
   "metadata": {},
   "outputs": [],
   "source": [
    "import numpy as np\n",
    "\n",
    "array = np.array([1,2,3,4])\n",
    "\n",
    "print(array)"
   ]
  },
  {
   "cell_type": "markdown",
   "id": "7229f8b26e26a6c3",
   "metadata": {},
   "source": [
    "#### NumPy arrays vs. Python lists\n",
    "\n",
    "- NumPy arrays can only hold one type of data, unlike Python lists.\n",
    "- NumPy arrays consume less memory than Python lists.\n",
    "- NumPy arrays are much faster than Python lists.\n",
    "- NumPy arrays have a fixed size.\n",
    "- NumPy provides numerous fast mathematical operations that can be applied over arrays.\n",
    "\n",
    "##### The structure of an array\n",
    "\n",
    "The array is the core data structure in the NumPy library, consisting of a grid of values that all share the same data type, or `dtype`. This grid can be indexed similarly to Python lists, as well as by tuples of nonnegative integers, by Booleans, by another NumPy array, or by integers.\n",
    "\n",
    "----\n",
    "\n",
    "**Array structure:**\n",
    "\n",
    "<p align=\"center\">\n",
    "  <img src=\"https://i.imgur.com/mg8O3kd.png\" alt=\"NumPy Arrays\" width=\"100%\"/>\n",
    "  <br>\n",
    "</p>\n",
    "\n",
    "[Image Source](https://www.freecodecamp.org/news/exploratory-data-analysis-with-numpy-pandas-matplotlib-seaborn/)\n",
    "\n",
    "**Multiple dimensions:**\n",
    "\n",
    "NumPy arrays can also be multi-dimensional (1D, 2D, 3D ... ND), which means they can be used to model vectors (1D) and matrices (2D). Arrays with three or more dimensions are often referred to as tensors.\n",
    "\n",
    "In NumPy, dimensions are referred to as \"axes\". A 2D array might look like this:\n",
    "\n",
    "```python\n",
    "[[0., 0., 0.],\n",
    " [1., 1., 1.]]\n",
    "```\n",
    "\n",
    "In this example, there are two axes: the first axis has a length of two, and the second has a length of three. You can access the shape of an array with the `.shape` attribute, which is a tuple representing the length of each axis. In this case, the shape would be `(2, 3)`.\n",
    "\n",
    "**Creating NumPy arrays:**\n",
    "\n",
    "There are numerous ways to create a NumPy array. Here are some common methods:\n",
    "\n",
    "- `np.array()`\n",
    "- `np.zeros()`\n",
    "- `np.ones()`\n",
    "- `np.empty()`\n",
    "- `np.arange()`\n",
    "- `np.linspace()`\n",
    "\n",
    "`np.array()` can be used to construct an array from a Python list."
   ]
  },
  {
   "cell_type": "code",
   "execution_count": null,
   "id": "12d36253311fa271",
   "metadata": {},
   "outputs": [],
   "source": [
    "array_1d = np.array([1, 2, 3, 4])                  # A 1D array\n",
    "array_2d = np.array([[1, 2, 3, 4], [5, 6, 7, 8]])  # A 2D array\n",
    "\n",
    "print('1D NumPy array:\\n', array_1d)\n",
    "print('\\n2D NumPy array:\\n', array_2d)"
   ]
  },
  {
   "cell_type": "markdown",
   "id": "ee287ed8b842e4f",
   "metadata": {},
   "source": [
    "The `np.zeros()`function fills an array with zeros, while `np.ones()` fills an array with ones."
   ]
  },
  {
   "cell_type": "code",
   "execution_count": null,
   "id": "2f7525dd6d3296fe",
   "metadata": {},
   "outputs": [],
   "source": [
    "zero_array_1d = np.zeros(6)\n",
    "ones_array_2d = np.ones((6, 3))\n",
    "\n",
    "print('1D NumPy array:\\n', zero_array_1d)\n",
    "print('\\n2D NumPy array:\\n', ones_array_2d)"
   ]
  },
  {
   "cell_type": "markdown",
   "id": "20c22cdc71788044",
   "metadata": {},
   "source": [
    "The `np.empty()` function creates an array of the specified shape but does not initialize its entries to any specific value. Instead, it fills the array with whatever values are already present in that memory location, which can appear as random numbers. It is faster than `np.zeros()` or `np.ones()` because it skips the step of setting each element to zero or one."
   ]
  },
  {
   "cell_type": "code",
   "execution_count": null,
   "id": "16f8b84a258034da",
   "metadata": {},
   "outputs": [],
   "source": [
    "array = np.empty(10)\n",
    "\n",
    "print(array)"
   ]
  },
  {
   "cell_type": "markdown",
   "id": "464e258eb1371737",
   "metadata": {},
   "source": [
    "The `np.arange()` creates an array containing a range of numbers, similarly to the Python `range()` function. A step size parameter can also be provided."
   ]
  },
  {
   "cell_type": "code",
   "execution_count": null,
   "id": "b0c49763596812b0",
   "metadata": {},
   "outputs": [],
   "source": [
    "array = np.arange(0, 11, 2)\n",
    "\n",
    "print(array)"
   ]
  },
  {
   "cell_type": "markdown",
   "id": "27dab9aff0a642be",
   "metadata": {},
   "source": [
    "The `np.linspace()` creates an array of evenly spaced values within a specified interval."
   ]
  },
  {
   "cell_type": "code",
   "execution_count": null,
   "id": "d68729193ec36d5b",
   "metadata": {},
   "outputs": [],
   "source": [
    "array = np.linspace(0, 20, 5)  # 0 to 20 in intervals of 5\n",
    "\n",
    "print(array)"
   ]
  },
  {
   "cell_type": "markdown",
   "id": "1854e19486370d18",
   "metadata": {},
   "source": [
    "**Specifying a data type**:\n",
    "\n",
    "When creating an array the `dtype` is automatically `np.float64`, however the `dtype` can actually be specified by the user.\n",
    "\n",
    "Learn more about data types [here](https://www.tutorialspoint.com/numpy/numpy_data_types.htm)."
   ]
  },
  {
   "cell_type": "code",
   "execution_count": null,
   "id": "7b0181dc1c6fd29d",
   "metadata": {},
   "outputs": [],
   "source": [
    "array = np.ones((4,4), dtype=np.int64)  # Here we specify data type as integer\n",
    "\n",
    "print(array)"
   ]
  },
  {
   "cell_type": "markdown",
   "id": "e4f3312a90b9fec0",
   "metadata": {},
   "source": [
    "## Indexing and slicing\n",
    "\n",
    "Indexing and slicing is fundamental to working with NumPy arrays. \n",
    "\n",
    "Indexing one-dimensional arrays is very similar to indexing Python lists."
   ]
  },
  {
   "cell_type": "code",
   "execution_count": null,
   "id": "10a47b7cb79350e0",
   "metadata": {},
   "outputs": [],
   "source": [
    "array = np.array([1, 2, 3, 4])\n",
    "\n",
    "print(array[1])\n",
    "print(array[0:3])\n",
    "print(array[1:])\n",
    "print(array[1:-1])"
   ]
  },
  {
   "cell_type": "markdown",
   "id": "633006bfcba48798",
   "metadata": {},
   "source": [
    "When accessing arrays with more than one dimension, we can use comma-separated values to represent the dimension and index of the element. For example, in a 2D array, it’s helpful to think of it as a data table where:\n",
    "\n",
    "- **Axis 0** represents the rows.\n",
    "- **Axis 1** represents the columns."
   ]
  },
  {
   "cell_type": "code",
   "execution_count": null,
   "id": "1d3080594afe030e",
   "metadata": {},
   "outputs": [],
   "source": [
    "array_2d = np.array([[1, 2, 3, 4, 5], [6, 7, 8, 9, 10]], dtype=np.int64)\n",
    "\n",
    "# Access the element on the first row, third column\n",
    "print('Third element on the first row:', array_2d[0,2])\n",
    "\n",
    "# Access the element on the second row, last column\n",
    "print('Last element on the second row:', array_2d[1,-1])\n",
    "\n",
    "# Access the entire first row\n",
    "print('The first row:', array_2d[0])  # This is equivalent to [0,:]\n",
    "\n",
    "# Access the entire second column\n",
    "print('The second column:', array_2d[:,1])"
   ]
  },
  {
   "cell_type": "markdown",
   "id": "7724882de9bb9c04",
   "metadata": {},
   "source": [
    "Extending this logic to further dimensions:"
   ]
  },
  {
   "cell_type": "code",
   "execution_count": null,
   "id": "34b1431912f27405",
   "metadata": {},
   "outputs": [],
   "source": [
    "array_3d = np.array([[[1, 2, 3], [4, 5, 6]], \n",
    "                     [[7, 8, 9], [10, 11, 12]]])\n",
    "\n",
    "print('Index [0, 1, 2]:', array_3d[0, 1, 2])"
   ]
  },
  {
   "cell_type": "markdown",
   "id": "8716e3ab53618273",
   "metadata": {},
   "source": [
    "The `array_3d` has a shape of (2, 2, 3), meaning:\n",
    "- It has 2 \"blocks\" along the first axis (axis 0)\n",
    "- Each block contains 2 rows along the second axis (axis 1)\n",
    "- Each row has 3 columns along the third axis (axis 2)\n",
    "\n",
    "Sometimes it can be hard to think in multiple dimensions!\n",
    "\n",
    "To explain:\n",
    "\n",
    "1. **First index (`0`)**: Selecting index `0` in `array_3d` returns the first \"block\" along the first axis. This block is:\n",
    "   ```python\n",
    "   [[1, 2, 3], [4, 5, 6]]\n",
    "   ```\n",
    "   <br>\n",
    "2. **Second index (`1`)**:\n",
    "   Within this block, selecting index `1` returns the second row:\n",
    "\n",
    "   ```python\n",
    "   [4, 5, 6]\n",
    "   ```\n",
    "   <br>\n",
    "3. **Third index (`2`)**:\n",
    "   In this row, selecting index `2` returns the third element:\n",
    "\n",
    "   ```python\n",
    "   6\n",
    "   ```\n",
    "Slicing and negative indexes can be used with multi-dimensional arrays in the same way as with lower dimensional arrays.\n",
    "\n",
    "----\n",
    "\n",
    "#### Indexing with conditionals\n",
    "\n",
    "We mentioned that NumPy arrays can be indexed with Booleans. Boolean arrays can be generated by using a conditional expression.\n",
    "\n",
    "```python\n",
    "x = 5\n",
    "x > 10  # False\n",
    "```\n",
    "\n",
    "We can use the same type of expression with NumPy arrays to generate an array of Boolean values.\n",
    "\n",
    "```python\n",
    "array = np.array([1, 2, 3, 4, 5])\n",
    "mask = array > 2  # Creates a Boolean array [False, False, True, True ...]\n",
    "```\n",
    "\n",
    "Therefore indexing based on a condition is straightforward."
   ]
  },
  {
   "cell_type": "code",
   "execution_count": null,
   "id": "d4b5ba89f201ad36",
   "metadata": {},
   "outputs": [],
   "source": [
    "array = np.array([[1 , 2, 3, 4], [5, 6, 7, 8], [9, 10, 11, 12]])\n",
    "\n",
    "# Interested in getting all values > 5\n",
    "print('Conditional indexing result:', array[array > 5])"
   ]
  },
  {
   "cell_type": "markdown",
   "id": "e75bde0d080c52b2",
   "metadata": {},
   "source": [
    "Boolean arrays can be composed logically using `&` 'AND' and `|` 'OR' to chain multiple conditions."
   ]
  },
  {
   "cell_type": "code",
   "execution_count": null,
   "id": "53636b7829edf29b",
   "metadata": {},
   "outputs": [],
   "source": [
    "# We are now interested in getting all values which are > 5 AND divisible by 2\n",
    "print(array[(array > 5) & (array % 2 == 0)])\n",
    "\n",
    "# Let's break it down\n",
    "condition_1 = array > 5                          # Value greater than 5\n",
    "condition_2 = array % 2 == 0                     # Value divisible by 2\n",
    "combined_condition = condition_1 & condition_2   # Combined condition\n",
    "\n",
    "print(array[combined_condition])  # Same result"
   ]
  },
  {
   "cell_type": "markdown",
   "id": "7b80499488550581",
   "metadata": {},
   "source": [
    "The `np.nonzero()` function can be used to select elements or indexes from an array based on a condition.\n",
    "\n",
    "Unlike Boolean indexing, this method returns the indexes where the condition is met.\n",
    "\n",
    "Let's try it with the condition `array > 5`."
   ]
  },
  {
   "cell_type": "code",
   "execution_count": null,
   "id": "a7fc9ed53928405",
   "metadata": {},
   "outputs": [],
   "source": [
    "indexes = np.nonzero(array > 5)  # Get indexes where elements in array are greater than 5\n",
    "\n",
    "print(indexes)  # First array is row indexes, second array is column indexes\n",
    "\n",
    "# Use indexes to access elements in the array that meet the condition\n",
    "print(array[indexes])"
   ]
  },
  {
   "cell_type": "markdown",
   "id": "800543a518b00165",
   "metadata": {},
   "source": [
    "## Basic operations\n",
    "\n",
    "By restricting arrays to a single data type, NumPy enables efficient execution of basic and complex mathematical operations across array axes or between arrays. These operations can be performed using standard Python operators like `+` and `*`, or with built-in NumPy functions such as `np.add()` and `np.multiply()`.\n",
    "\n",
    "Let's try some functions that are useful for applying operations over the axes of an array."
   ]
  },
  {
   "cell_type": "code",
   "execution_count": null,
   "id": "77e34e77f93db839",
   "metadata": {},
   "outputs": [],
   "source": [
    "array = np.array([[1, 2], [3, 4], [5, 6]])\n",
    "\n",
    "# We can apply the sum over any axis (note we could also use `np.sum(array, axis=0)`)\n",
    "print('Sum over entire array:', array.sum())\n",
    "print('Sum over axis 0 (columns):', array.sum(axis=0))\n",
    "print('Sum over axis 1 (rows):', array.sum(axis=1))\n",
    "\n",
    "# The mean is often a useful operation (e.g. geometric mean)\n",
    "print('\\nMean over entire array:', array.mean())\n",
    "print('Mean over axis 0 (columns):', array.mean(axis=0))\n",
    "print('Mean over axis 1 (rows):', array.mean(axis=1))\n",
    "\n",
    "# How about the min / max\n",
    "print('\\nMax over entire array:', array.max())\n",
    "print('Max over axis 0 (columns):', array.max(axis=0))\n",
    "print('Min over axis 1 (rows):', array.min(axis=1))"
   ]
  },
  {
   "cell_type": "markdown",
   "id": "2b9f5e8516d1d5a7",
   "metadata": {},
   "source": [
    "NumPy also supports element-wise mathematical operations on arrays."
   ]
  },
  {
   "cell_type": "code",
   "execution_count": null,
   "id": "405a13e0268e5884",
   "metadata": {},
   "outputs": [],
   "source": [
    "other = np.ones(array.shape)  # Create an array of ones with the same shape as `array`\n",
    "\n",
    "# Element-wise addition\n",
    "print('Element-wise Sum:\\n\\n', array + other)  # Equivalent to np.add(array, other)\n",
    "\n",
    "# Element-wise subtraction\n",
    "print('\\nElement-wise Difference:\\n\\n', array - other)  # Equivalent to np.subtract(array, other)\n",
    "\n",
    "# Element-wise multiplication\n",
    "print('\\nElement-wise Multiplication:\\n\\n', array * other)  # Equivalent to np.multiply(array, other)"
   ]
  },
  {
   "cell_type": "markdown",
   "id": "b0738f54decd48ef",
   "metadata": {},
   "source": [
    "Note that the `*` operator performs element-wise multiplication, not matrix multiplication. For matrix operations, use the `np.dot()` function to compute inner products of vectors, multiply a vector by a matrix, or perform matrix multiplication."
   ]
  },
  {
   "cell_type": "markdown",
   "id": "ee2769b1898cc01",
   "metadata": {},
   "source": [
    "## Broadcasting\n",
    "\n",
    "Often, you may need to perform mathematical operations between a single number and an entire array, or between two arrays of different sizes. For example, if you have an array of temperatures in Kelvin that you want to convert to Celsius, NumPy’s broadcasting feature makes this fast and easy."
   ]
  },
  {
   "cell_type": "code",
   "execution_count": null,
   "id": "3ddce30e675de657",
   "metadata": {},
   "outputs": [],
   "source": [
    "temp_in_kelvin = np.array([0, 100, 200, 300, 400])\n",
    "print('Before conversion:', temp_in_kelvin)\n",
    "\n",
    "temp_in_celsius = temp_in_kelvin - 273.15\n",
    "print('After conversion: ', temp_in_celsius)"
   ]
  },
  {
   "cell_type": "markdown",
   "id": "8c643e1a750282cc",
   "metadata": {},
   "source": [
    "NumPy is designed to understand that certain operations should be applied to each element in an array individually. This concept is called **broadcasting**, which allows operations to be performed between arrays of different sizes. For broadcasting to work, the shapes of the arrays must be compatible; otherwise, NumPy will raise an error.\n",
    "\n",
    "Let's look at an example of broadcasting with two differently sized arrays."
   ]
  },
  {
   "cell_type": "code",
   "execution_count": null,
   "id": "5d8c7ebeb34b885",
   "metadata": {},
   "outputs": [],
   "source": [
    "# Suppose we wish to translate a set of coordinates with a vector\n",
    "coordinates = np.array([\n",
    "    [1.2, 2.4, 3.6],\n",
    "    [4.1, 5.5, 6.8],\n",
    "    [7.1, 8.2, 9.1],\n",
    "    [10.2, 11.4, 12.9]\n",
    "])\n",
    "\n",
    "vector = np.array([1., 0., -1.])\n",
    "\n",
    "\"\"\"\n",
    "Of course, we could do this with a Python loop:\n",
    "\n",
    "translated = np.empty(coordinates.shape)\n",
    "for i in range(coordinates.shape[0]):\n",
    "    translated[i, :] = coordinates[i, :] + vector\n",
    "\n",
    "However, with large arrays, this would be slow!\n",
    "NumPy's broadcasting system makes this easy!\n",
    "\"\"\"\n",
    "\n",
    "# Broadcasting allows element-wise addition between `coordinates` and `vector`\n",
    "translated = coordinates + vector\n",
    "\n",
    "print('Translated Coordinates:\\n\\n', translated)"
   ]
  },
  {
   "cell_type": "markdown",
   "id": "4c778922836fc1f5",
   "metadata": {},
   "source": [
    "The line `translated = coordinates + vector` works despite the arrays having different shapes, `(4, 3)` and `(3,)`, thanks to broadcasting. Broadcasting allows NumPy to treat the `vector` as if it has the shape `(4, 3)` by virtually expanding it without actually copying the data, keeping operations efficient.\n",
    "\n",
    "<p align=\"center\">\n",
    "  <img src=\"https://numpy.org/devdocs/_images/broadcasting_2.png\" alt=\"NumPy Broadcasting\" width=\"50%\"/>\n",
    "  <br>\n",
    "</p>\n",
    "\n",
    "[Image source](https://numpy.org/devdocs/user/basics.broadcasting.html#basics-broadcasting)\n",
    "\n",
    "When operating on two arrays, NumPy compares their shapes element-wise, starting with the rightmost dimensions and moving left. Two dimensions are compatible when:\n",
    "- they are equal, or\n",
    "- one of them is 1.\n",
    "\n",
    "If these conditions are not met, NumPy raises a `ValueError: operands could not be broadcast together`, indicating incompatible shapes. The resulting array’s shape takes the size that is not 1 along each axis of the input arrays.\n",
    "\n",
    "Learn more about broadcasting [here](https://numpy.org/devdocs/user/basics.broadcasting.html#basics-broadcasting)."
   ]
  },
  {
   "cell_type": "markdown",
   "id": "18c653b52af008b6",
   "metadata": {},
   "source": [
    "## Reshaping\n",
    "\n",
    "Sometimes you may need to switch the dimensions of an array. This may happen when a model takes an input in a different shape to your data. Arrays can be reshaped easily using the `.reshape()` method. Obviously when reshaping an array the new dimensions must be compatible with the original shape."
   ]
  },
  {
   "cell_type": "code",
   "execution_count": null,
   "id": "e69127c33cf5f155",
   "metadata": {},
   "outputs": [],
   "source": [
    "# An array with shape (3, 2)\n",
    "data = np.array([[1, 2], [3, 4], [5, 6]])\n",
    "\n",
    "print('Original:\\n', data)\n",
    "\n",
    "# switch the dimensions to (2, 3)\n",
    "print('\\nReshape(2, 3):\\n', data.reshape(2, 3))"
   ]
  },
  {
   "cell_type": "markdown",
   "id": "131e8d7ba1a5802d",
   "metadata": {},
   "source": [
    "This can also be done to convert 1D arrays into ND arrays."
   ]
  },
  {
   "cell_type": "code",
   "execution_count": null,
   "id": "a0271e6b94072ee0",
   "metadata": {},
   "outputs": [],
   "source": [
    "arr = np.arange(6)\n",
    "\n",
    "print('Original:\\n', arr)\n",
    "\n",
    "# Change the dimensions to 2D: (2, 3)\n",
    "print('\\nReshape(2, 3):\\n',arr.reshape((2, 3)))"
   ]
  },
  {
   "cell_type": "markdown",
   "id": "fcaf5cef495bb5fb",
   "metadata": {},
   "source": [
    "A common operation in matrix algebra is [transposition](https://en.wikipedia.org/wiki/Transpose), which swaps the rows and columns of a matrix. This can be achieved easily in NumPy using the `.T` property or the `.transpose()` method:"
   ]
  },
  {
   "cell_type": "code",
   "execution_count": null,
   "id": "2c4a60e41d9e1101",
   "metadata": {},
   "outputs": [],
   "source": [
    "# Transpose the NumPy array 'data'\n",
    "print('Transpose:\\n', data.T)\n",
    "\n",
    "# The same result\n",
    "print('\\nTranspose:\\n', data.transpose())"
   ]
  },
  {
   "cell_type": "markdown",
   "id": "362b86bfdd11a453",
   "metadata": {},
   "source": [
    "## Implementing equations\n",
    "\n",
    "NumPy is widely used in the scientific community because it makes implementing mathematical formulas on arrays straightforward. For example, suppose we want to calculate the [root-mean-square deviation (RMSD)](https://en.wikipedia.org/wiki/Root-mean-square_deviation_of_atomic_positions) between the coordinates of two superimposed molecules.\n",
    "\n",
    "Given two sets of ${n}$ points ${v}$ and ${w}$:\n",
    "\n",
    "$$\n",
    "RMSD(v, w) = \\sqrt{\\frac{1}{n} \\sum_{i=1}^n{\\|v_{i}-w_{i}\\|}^2} \\\\\n",
    "= \\sqrt{\\frac{1}{n} \\sum_{i=1}^n{((v_{ix}-w_{ix})^2 + (v_{iy}-w_{iy})^2 + (v_{iz}-w_{iz})^2)}}\n",
    "$$\n",
    "\n",
    "The RMSD value is expressed in units of length. In structural biology, the most commonly used unit is the **Ångström (Å)**, which is equal to \\${10^{−10}}$ metres.\n",
    "\n",
    "Thanks to NumPy’s broadcasting system, we can implement this function without using Python loops!"
   ]
  },
  {
   "cell_type": "code",
   "execution_count": null,
   "id": "9fb3cc0c92526515",
   "metadata": {},
   "outputs": [],
   "source": [
    "def rmsd(v, w):\n",
    "    d = v - w  # Difference (deviation)\n",
    "    rmsd = np.sqrt(np.mean(np.square(d)))\n",
    "    return rmsd\n",
    "\n",
    "# Coordinates V (x, y, z)\n",
    "v = np.array([\n",
    "    [-0.98353, 1.81095, -0.03140],\n",
    "    [0.12683,  1.80418, -0.03242],\n",
    "    [-1.48991, 3.22740,  0.18102],\n",
    "    [-1.35042, 1.15351,  0.78475],\n",
    "    [-1.35043, 1.42183, -1.00450],\n",
    "    [-1.12302, 3.61652,  1.15412],\n",
    "    [-2.60028, 3.23418,  0.18203],\n",
    "    [-1.12302, 3.88485, -0.63514],\n",
    "])\n",
    "\n",
    "# Coordinates W (x, y, z)\n",
    "w = np.array([\n",
    "    [-1.18012, 1.83558, -0.02389],\n",
    "    [-0.07891, 1.97662, -0.00383],\n",
    "    [-1.87442, 3.17118,  0.18101],\n",
    "    [-1.47136, 1.13188,  0.78415],\n",
    "    [-1.47377, 1.40501, -1.00437],\n",
    "    [-1.58078, 3.60175,  1.16149],\n",
    "    [-2.97563, 3.03014,  0.16095],\n",
    "    [-1.58318, 3.87488, -0.62704],\n",
    "])\n",
    "\n",
    "# Caclulate the RMSD between two sets of coordinates\n",
    "print('RMSD:', rmsd(v, w))"
   ]
  },
  {
   "cell_type": "markdown",
   "id": "86015e04718dd2e3",
   "metadata": {},
   "source": [
    "## Discussion\n",
    "\n",
    "NumPy has become an essential part of the Python scientific data stack due to its speed and ease of use (with practice!) compared to lower-level programming languages. It is the foundation upon which many data analysis and manipulation packages are built and will remain vital for the foreseeable future. If you plan to pursue a career in data science or scientific computing, learning NumPy is crucial. This notebook has only touched on a few of its capabilities!\n",
    "\n",
    "If you find the syntax and concepts a bit challenging, don’t worry—it can take time to adjust to thinking in a new way!\n",
    "\n",
    "Feel free to add more code cells and experiment with the concepts you have learnt.\n",
    "\n",
    "You can use this notebook as reference if you need to refresh your knowledge on any of the concepts explored.\n",
    "\n",
    "If you want to learn more there are some extra external resources linked at the beginning of this notebook. You can click [here](#Contents) to go back to the top."
   ]
  }
 ],
 "metadata": {
  "kernelspec": {
   "display_name": "Python 3 (ipykernel)",
   "language": "python",
   "name": "python3"
  },
  "language_info": {
   "codemirror_mode": {
    "name": "ipython",
    "version": 3
   },
   "file_extension": ".py",
   "mimetype": "text/x-python",
   "name": "python",
   "nbconvert_exporter": "python",
   "pygments_lexer": "ipython3",
   "version": "3.11.7"
  }
 },
 "nbformat": 4,
 "nbformat_minor": 5
}
