


# No need to run if you have already installed Biopython when going through the previous notebooks.
!pip install Biopython





# Run this cell before you attempt the exercises
%matplotlib notebook
import matplotlib.pyplot as plt
import pandas as pd
from urllib.request import urlretrieve 
from Bio import SeqIO
from Bio.Seq import Seq
from Bio.Blast import NCBIWWW, NCBIXML
from Bio.SeqUtils.ProtParam import ProteinAnalysis





aa_relative_mutability = {
    "A": 100, "C": 20,  "D": 106, "E": 102, "F": 41, 
    "G": 49,  "H": 66,  "I": 96,  "K": 56,  "L": 40,
    "M": 94,  "N": 134, "P": 56,  "Q": 102, "R": 65,
    "S": 120, "T": 97,  "V": 74,  "W": 18,  "Y": 41
}
# Write your solution here, adding more cells if necessary.





query_sequence = """
EVSIIQSMGYRNRAKRLLQSEPENPSLQETSLSVQLSNLGTVRTLRTKQRIQPQKTSVYI
ELGSDSSEDTVNKATYCSVGDQELLQITPQGTRDEISLDSAKKAACEFSETDVTNTEHHQ
PSNNDLNTTEKRAAERHPEKYQGSSVSNLHVEPCGTNTHASSLQHENSSLLLTKDRMNVE
KAEFCNKSKQPGLARSQHNRWAGSKETCNDRRTPSTEKKVDLNADPLCERKEWNKQKLPC
"""
# Write your solution here, adding more cells if necessary.
