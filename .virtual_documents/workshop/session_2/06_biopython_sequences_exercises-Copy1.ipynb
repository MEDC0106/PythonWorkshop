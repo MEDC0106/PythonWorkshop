


# Run this cell before you attempt the exercises
%matplotlib inline
import matplotlib.pyplot as plt
import pandas as pd
from urllib.request import urlretrieve
from Bio import SeqIO
from Bio.Seq import Seq
from Bio.SeqRecord import SeqRecord
from Bio.Align import PairwiseAligner, MultipleSeqAlignment, AlignInfo
from Bio.Blast import NCBIWWW, NCBIXML





sequence_string = """\
ATGGCCCTGTGGATGCGCCTCCTGCCCCTGCTGGCGCTGCTGGCCCTCTGGGGACCTGACCCAG\
CCGCAGCCTTTGTGAACCAACACCTGTGCGGCTCACACCTGGTGGAAGCTCTCTACCTAGTGTG\
CGGGGAACGAGGCTTCTTCTACACACCCAAGACCCGCCGGGAGGCAGAGGACCTGCAGGTGGGG\
CAGGTGGAGCTGGGCGGGGGCCCTGGTGCAGGCAGCCTGCAGCCCTTGGCCCTGGAGGGGTCCC\
TGCAGAAGCGTGGCATTGTGGAACAATGCTGTACCAGCATCTGCTCCCTCTACCAGCTGGAGAA\
CTACTGCAAC\
"""


print('\033[1m1.\033[0m')
seq = Seq(sequence_string)
seq_rna = seq.transcribe()
print("Original sequence transcribed:", seq_rna)

print('\033[1m2.\033[0m')
print("Original sequence translated:", seq_rna.translate())

print('\033[1m3.\033[0m')
seq_mutated = Seq(sequence_string[:11]+"A"+sequence_string[12:])
print("Mutated sequence:", seq_mutated)

print('\033[1m4.\033[0m')
print("Mutated sequence translated:", seq_mutated.translate())

print('\033[1m5.\033[0m')
print("""The mutation at position 12 changes one codon, potentially altering the corresponding 
amino acid in the protein sequence, which can impact protein structure or function. However, 
the effect of a single-point mutation varies and may be minimal if it’s a synonymous change, 
or significant if it modifies a critical part of the protein. In real-world applications, 
considerations like frameshift risks, coding versus non-coding regions, and the biological 
role of the altered amino acid determine the mutation’s overall impact.
""")





print('\033[1m1.\033[0m')

def download_file(url, location):
    result_location, http_response = urlretrieve(url, location)
    print("Downloaded " + url + " to " + result_location)

file_reference = "data/reference.fasta"
file_alpha = "data/alpha.fasta"
file_delta = "data/delta.fasta"

download_file("https://eutils.ncbi.nlm.nih.gov/entrez/eutils/efetch.fcgi?db=protein&id=YP_009724390.1&rettype=fasta", file_reference)
download_file("https://eutils.ncbi.nlm.nih.gov/entrez/eutils/efetch.fcgi?db=protein&id=QWE88920.1&rettype=fasta", file_alpha)
download_file("https://eutils.ncbi.nlm.nih.gov/entrez/eutils/efetch.fcgi?db=protein&id=QWK65230.1&rettype=fasta", file_delta)


### 2. ###

def read_first_sequence(fasta_filepath):
    records = []
    for r in SeqIO.parse(fasta_filepath, "fasta"):
        records.append(r)
    return records[0].seq

seq_reference = read_first_sequence(file_reference)
seq_alpha = read_first_sequence(file_alpha)
seq_delta = read_first_sequence(file_delta)


print('\033[1m3.\033[0m')

print("Length of the reference sequence:", len(seq_reference))
print("Length of the alpha sequence:", len(seq_alpha))
print("Length of the delta sequence:", len(seq_delta))


print('\033[1m4.\033[0m')

aligner = PairwiseAligner()
reference_delta_alignments = aligner.align(seq_reference, seq_delta)
reference_alpha_alignments = aligner.align(seq_reference, seq_alpha)
alpha_delta_alignments = aligner.align(seq_alpha, seq_delta)

print("Top alignment score between reference and delta variant is", reference_delta_alignments[0].score)
print("Top alignment score between reference and alpha variant is", reference_alpha_alignments[0].score)


print('\033[1m5.\033[0m')
print("Top alignment score between alpha and delta variant is", alpha_delta_alignments[0].score)
print("""Alpha and delta variants are more divergent from each other than each is from the reference sequence.
They might have accumulated mutations independently after diverging from the reference protein.""")


print('\033[1m6.\033[0m',"(optional)")

# Adjust/truncate each to the length of the shortest sequence
min_length = min(len(seq_reference), len(seq_alpha), len(seq_delta))
seq_reference_adj = Seq(str(seq_reference[:min_length]))
seq_alpha_adj = Seq(str(seq_alpha[:min_length]))
seq_delta_adj = Seq(str(seq_delta[:min_length]))

# Create SeqRecord objects for each sequence
seq_records = [
    SeqRecord(seq_reference_adj, id="Reference"),
    SeqRecord(seq_alpha_adj, id="Alpha"),
    SeqRecord(seq_delta_adj, id="Delta")
]

# Construct an MSA object with the sequences
msa_alignment = MultipleSeqAlignment(seq_records)

# Print each sequence in the alignment
print("Aligned sequences:")
for record in msa_alignment:
    print(record.id)
    print(record.seq[:90] + "..." + record.seq[-50:]) 

# Generate a consensus sequence from the alignment
summary_align = AlignInfo.SummaryInfo(msa_alignment)
consensus = summary_align.dumb_consensus()
print("The simple consensus:")
print(consensus[:90] + "..." + consensus[-50:])





aa_relative_mutability = {
    "A": 100, "C": 20,  "D": 106, "E": 102, "F": 41, 
    "G": 49,  "H": 66,  "I": 96,  "K": 56,  "L": 40,
    "M": 94,  "N": 134, "P": 56,  "Q": 102, "R": 65,
    "S": 120, "T": 97,  "V": 74,  "W": 18,  "Y": 41
}


print('\033[1m1.\033[0m')

BRCA1_FASTA_path = "data_supplementary/P38398.fasta"
result_location, http_response = urlretrieve("https://rest.uniprot.org/uniprotkb/P38398.fasta", BRCA1_FASTA_path)
print("Downloaded file to: ", result_location)

print('\n\033[1m2.\033[0m')

records = []
for r in SeqIO.parse(BRCA1_FASTA_path, "fasta"):
    records.append(r)
print("The first record is") 
print(records[0])

BRCA1_sequence = records[0].seq
window_size = 15
mutability_scores = []
for i, aa in enumerate(BRCA1_sequence):  
    window_start = int(i - (window_size-1)/2)
    window_end = int(i + (window_size-1)/2)+1
    if window_start < 0 or window_end > len(BRCA1_sequence):
        window_mutability_score = None 
    else:
        aas_in_window = BRCA1_sequence[window_start:window_end]
        window_mutability_score = sum([aa_relative_mutability[aa] for aa in aas_in_window]) / window_size
    mutability_scores.append(window_mutability_score)
print("\nWe have calculated the relative mutability for {} positions.".format(len(mutability_scores)))
print("\nMutability scores list:",mutability_scores[:20], "...", mutability_scores[-20:])
print("\nAverage mutability score:", "{:.4f}".format(sum(m if m else 0 for m in mutability_scores) / len(mutability_scores)))


print('\n\033[1m2.\033[0m' + " (continued)")

plt.rcParams["figure.dpi"]=80
plt.plot(mutability_scores)
plt.title("Mutability score per sequence region using window size {}".format(window_size))
plt.xlabel("Position in sequence")
plt.ylabel("Mutability score")
plt.show()





query_sequence = """
EVSIIQSMGYRNRAKRLLQSEPENPSLQETSLSVQLSNLGTVRTLRTKQRIQPQKTSVYI
ELGSDSSEDTVNKATYCSVGDQELLQITPQGTRDEISLDSAKKAACEFSETDVTNTEHHQ
PSNNDLNTTEKRAAERHPEKYQGSSVSNLHVEPCGTNTHASSLQHENSSLLLTKDRMNVE
KAEFCNKSKQPGLARSQHNRWAGSKETCNDRRTPSTEKKVDLNADPLCERKEWNKQKLPC
"""


print('\033[1m1.\033[0m')

query_handle = NCBIWWW.qblast(
    "blastp",
    database="nr",
    sequence=Seq(query_sequence.replace("\n", ""))
)

blast_results = next(NCBIXML.parse(query_handle))

df = pd.DataFrame([
    {
        "Alignment title": alignment.title, 
        "Accession code": alignment.accession, 
        "Hit definition": alignment.hit_def, 
        "Alignment length": alignment.length, 
        "E-value": alignment.hsps[0].expect,
        "Identity": alignment.hsps[0].identities
    }
for alignment in blast_results.alignments
])

df.head(n=20)



