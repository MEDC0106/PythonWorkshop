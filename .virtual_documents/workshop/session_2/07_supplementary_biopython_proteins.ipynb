


# No need to run if you have already installed Biopython when going through the previous notebooks.
!pip install Biopython





import Bio
print("Module", Bio.__name__, "version", Bio.__version__)
from urllib.request import urlretrieve
from Bio import SeqIO





!mkdir data_supplementary


# Download the FASTA file for the CFTR protein and save it to the specified path
urlretrieve("https://www.uniprot.org/uniprot/P13569.fasta", "data_supplementary/P13569.fasta")

# Use the `next()` function to retrieve the first sequence record from the FASTA file
cftr_aa = next(SeqIO.parse("data/P13569.fasta", "fasta"))

# Print the retrieved sequence record
print(cftr_aa)





from Bio.SeqUtils.ProtParam import ProteinAnalysis
analysis = ProteinAnalysis(str(cftr_aa.seq))

# No output is expected from this cell





# help(analysis)





import pprint

count_of_aas = analysis.count_amino_acids()
print("Count of particular aminoacids:")
print(count_of_aas)

print("\nCount of particular aminoacids using PrettyPrint:")
pprint.pprint(count_of_aas)





print("Molecular weight    :", "{:.2f}".format(analysis.molecular_weight()))
print("\nCharge at a given pH:", "{:.2f}".format(analysis.charge_at_pH(5.8)))
print("\nIsoelectric point   :", "{:.2f}".format(analysis.isoelectric_point()))
in_helix, in_turn, in_sheet = analysis.secondary_structure_fraction()
print(
    "\nFractions of amino acids associated with different secondary structures\n"\
    "               Helix: {:.2f}\n"\
    "               Turn: {:.2f}\n"\
    "               Sheet: {:.2f}".format(in_helix, in_turn, in_sheet)
)





total_number_of_LIV_aas = 0

# For each amino acid L, I, and V, add the count from the dictionary
for aa in ["L", "I", "V"]:
    total_number_of_LIV_aas += count_of_aas[aa]

print("BCAA content:", (total_number_of_LIV_aas / len(cftr_aa))*100, "%")





# Define the Kyte-Doolittle hydrophobicity scale for each amino acid
Kyte_and_Doolittle_scale = {
    "A": 1.8,  "C": 2.5,  "D": -3.5, "E": -3.5, "F": 2.8, 
    "G": -0.4, "H": -3.2, "I": 4.5,  "K": -3.9, "L": 3.8,
    "M": 1.9,  "N": -3.5, "P": -1.6, "Q": -3.5, "R": -4.5,
    "S": -0.8, "T": -0.7, "V": 4.2,  "W": -0.9, "Y": -1.3
}

# Amino acid sequence of the CFTR protein
sequence = """
MQRSPLEKASVVSKLFFSWTRPILRKGYRQRLELSDIYQIPSVDSADNLSEKLEREWDRE
LASKKNPKLINALRRCFFWRFMFYGIFLYLGEVTKAVQPLLLGRIIASYDPDNKEERSIA
IYLGIGLCLLFIVRTLLLHPAIFGLHHIGMQMRIAMFSLIYKKTLKLSSRVLDKISIGQL
VSLLSNNLNKFDEGLALAHFVWIAPLQVALLMGLIWELLQASAFCGLGFLIVLALFQAGL
GRMMMKYRDQRAGKISERLVITSEMIENIQSVKAYCWEEAMEKMIENLRQTELKLTRKAA
YVRYFNSSAFFFSGFFVVFLSVLPYALIKGIILRKIFTTISFCIVLRMAVTRQFPWAVQT
WYDSLGAINKIQDFLQKQEYKTLEYNLTTTEVVMENVTAFWEEGFGELFEKAKQNNNNRK
TSNGDDSLFFSNFSLLGTPVLKDINFKIERGQLLAVAGSTGAGKTSLLMVIMGELEPSEG
KIKHSGRISFCSQFSWIMPGTIKENIIFGVSYDEYRYRSVIKACQLEEDISKFAEKDNIV
LGEGGITLSGGQRARISLARAVYKDADLYLLDSPFGYLDVLTEKEIFESCVCKLMANKTR
ILVTSKMEHLKKADKILILHEGSSYFYGTFSELQNLQPDFSSKLMGCDSFDQFSAERRNS
ILTETLHRFSLEGDAPVSWTETKKQSFKQTGEFGEKRKNSILNPINSIRKFSIVQKTPLQ
MNGIEEDSDEPLERRLSLVPDSEQGEAILPRISVISTGPTLQARRRQSVLNLMTHSVNQG
QNIHRKTTASTRKVSLAPQANLTELDIYSRRLSQETGLEISEEINEEDLKECFFDDMESI
PAVTTWNTYLRYITVHKSLIFVLIWCLVIFLAEVAASLVVLWLLGNTPLQDKGNSTHSRN
NSYAVIITSTSSYYVFYIYVGVADTLLAMGFFRGLPLVHTLITVSKILHHKMLHSVLQAP
MSTLNTLKAGGILNRFSKDIAILDDLLPLTIFDFIQLLLIVIGAIAVVAVLQPYIFVATV
PVIVAFIMLRAYFLQTSQQLKQLESEGRSPIFTHLVTSLKGLWTLRAFGRQPYFETLFHK
ALNLHTANWFLYLSTLRWFQMRIEMIFVIFFIAVTFISILTTGEGEGRVGIILTLAMNIM
STLQWAVNSSIDVDSLMRSVSRVFKFIDMPTEGKPTKSTKPYKNGQLSKVMIIENSHVKK
DDIWPSGGQMTVKDLTAKYTEGGNAILENISFSISPGQRVGLLGRTGSGKSTLLSAFLRL
LNTEGEIQIDGVSWDSITLQQWRKAFGVIPQKVFIFSGTFRKNLDPYEQWSDQEIWKVAD
EVGLRSVIEQFPGKLDFVLVDGGCVLSHGHKQLMCLARSVLSKAKILLLDEPSAHLDPVT
YQIIRRTLKQAFADCTVILCEHRIEAMLECQQFLVIEENKVRQYDSIQKLLNERSLFRQA
ISPSDRVKLFPHRNSSKCKSKPQIAALKEETEEEVQDTRL
""".replace("\n", "")  # Remove newline characters

# No output is expected from this cell





window_size = 11
hydrophobicity = []  # The hydrophobicity value at a given point in the sequence

# The `enumerate(sequence)` will return a tuple of both the index and the amino acid at each position
for i, aa in enumerate(sequence):  
    window_start = int(i - (window_size-1)/2)
    window_end = int(i + (window_size-1)/2)+1
    # If `window_start` is less than 0 or `window_end` goes beyond the sequence length, 
    # `window_hydrophobicity` is set to `None` since the window cannot be fully contained
    # within the sequence
    if window_start < 0 or window_end > len(sequence):
        window_hydrophobicity = None 
    else:
        # For valid windows, `aas_in_window` retrieves the amino acids within the current window
        aas_in_window = sequence[window_start:window_end]
        # Each amino acid's hydrophobicity score is fetched from `Kyte_and_Doolittle_scale`,
        # a dictionary mapping each amino acid to its hydrophobicity score, and the average hydrophobicity 
        # for the window is calculated by summing the hydrophobicity scores and dividing by `window_size`
        window_hydrophobicity = sum([Kyte_and_Doolittle_scale[aa] for aa in aas_in_window]) / window_size
    # The calculated `window_hydrophobicity` value is appended to the `hydrophobicity` list
    hydrophobicity.append(window_hydrophobicity)

print("We have calculated the hydrophobicity for {} positions".format(len(hydrophobicity)))
print("Hydrophobicity list:")
print(hydrophobicity[:15], "...", hydrophobicity[-15:])

# Note that this is slightly different than GRAVY from the reference paper
# `h if h else 0 for h in hydrophobicity` is used to handle None values
print("Average hydrophobicity:", "{:.4f}".format(sum(h if h else 0 for h in hydrophobicity) / len(hydrophobicity))) 





# Enable inline plotting in Jupyter notebooks
%matplotlib inline

import matplotlib.pyplot as plt

# Set plot resolution
plt.rcParams['figure.dpi'] = 80

plt.plot(hydrophobicity)
plt.title("Hydrophobicity per sequence region using window size {}".format(window_size))
plt.xlabel("Position in sequence")
plt.ylabel("Hydrophobicity score")
plt.show()





from Bio.Blast import NCBIWWW, NCBIXML

# Submit the BLAST query to NCBI's remote server
query_handle = NCBIWWW.qblast(
    "blastp",             # Use "blastp" for protein BLAST
    database="nr",        # Search against the "nr" (non-redundant) protein sequence database
    sequence=cftr_aa.seq  # Query sequence from the CFTR protein
)

# Parse the XML-formatted BLAST results from NCBI
# Using `next()` to get the first (or only) BLAST record from the parsed results
blast_results = next(NCBIXML.parse(query_handle))

print("BLAST finished")





# List to store summary information for each alignment
blast_summary = []

# Iterate through alignments, focusing on the first HSP only
for alignment in blast_results.alignments:
    hsp = alignment.hsps[0]
    blast_summary.append({
        "Alignment title": alignment.title,
        "Accession code": alignment.accession,
        "Alignment length": alignment.length,
        # Extract relevant information for the first HSP
        "E-value": alignment.hsps[0].expect,
        "Identity": alignment.hsps[0].identities
    })

# Print summary information for each alignment
for result in blast_summary:
    print("Alignment title:", result["Alignment title"])
    print("Accession code:", result["Accession code"])
    print("Alignment length:", result["Alignment length"])
    print("E-value:", result["E-value"])
    print("Identity:", result["Identity"])
    print()





import pandas as pd

df = pd.DataFrame([
    {
        "Alignment title": alignment.title, 
        "Accession code": alignment.accession, 
        "Hit definition": alignment.hit_def, 
        "Alignment length": alignment.length, 
        "E-value": alignment.hsps[0].expect,
        "Identity": alignment.hsps[0].identities
    }
for alignment in blast_results.alignments
])

df





from Bio.PDB.PDBParser import PDBParser

# Download the PDB file for the CFTR protein
result_location, http_response = urlretrieve("https://files.rcsb.org/download/6O1V.pdb", "data_supplementary/6O1V.pdb")
print("File downloaded to:", result_location)

# Parse the PDB file
parser = PDBParser()
structure = parser.get_structure("6O1V", "data_supplementary/6O1V.pdb")





total_TRP_residues = 0
total_carbon_atoms = 0

for model in structure:
    for chain in model:
        for residue in chain:
            if residue.resname == "TRP":
                total_TRP_residues += 1
            for atom in residue:
                if atom.element=="C":
                    total_carbon_atoms += 1 

print("Total number of tryptophan residues:", total_TRP_residues)
print("Total number of carbon atoms:       ", total_carbon_atoms)





# Initialise extreme values for minimum and maximum coordinates
min_atom_coord = [1000, 1000, 1000]
max_atom_coord = [-1000, -1000, -1000]

# Traverse each atom to update the minimum and maximum coordinates
for model in structure:
    for chain in model:
        for residue in chain:
            for atom in residue:
                coord = atom.coord
                # Check each dimension (x, y, z)
                # The `dim` takes values 0, 1, and 2 for x, y, and z, respectively
                # The `val` contains the actual cooridnate value of the atom in the respective dimension
                for dim, val in enumerate(coord):
                    if val < min_atom_coord[dim]:
                        min_atom_coord[dim] = val
                    elif val > max_atom_coord[dim]:
                        max_atom_coord[dim] = val

# Display the bounding box coordinates
print("Minimum coordinates for each dimension:", min_atom_coord)
print("Maximum coordinates for each dimension:", max_atom_coord)






