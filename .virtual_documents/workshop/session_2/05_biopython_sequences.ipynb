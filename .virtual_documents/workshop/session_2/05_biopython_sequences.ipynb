





!pip install Biopython





import Bio
print("Module", Bio.__name__, "version", Bio.__version__)





from Bio.Seq import Seq
dna_sequence = Seq("ACTG")
dna_sequence





print("The sequence compared with the original string:", dna_sequence == "ACTG")
print("The type of dna_sequence:", type(dna_sequence))








help(dna_sequence)





print("Length of the sentence:   ", len(dna_sequence))
print("AC found in the sequence?:", "AC" in dna_sequence)
print("Sequence ends with 'TG'?: ", dna_sequence.endswith("TG"))
print("The first base:           ", dna_sequence[0])
print("The last base:            ", dna_sequence[-1])
print("First two bases:          ", dna_sequence[0:2])
print("Adenines in the sequence: ", dna_sequence.count("A"))





dna_sequence_mixedcase = Seq("acTG")

print("Is the uppercase sequence equal to the mixed case sequence?   ",
      dna_sequence == dna_sequence_mixedcase)

print("What if we change the original sequence to lowercase?:        ",
      dna_sequence.lower() == dna_sequence_mixedcase)

print("What if we make both sequences the same case? Are they equal?:",
      dna_sequence.lower() == dna_sequence_mixedcase.lower())





print("Extended with another sequence:", dna_sequence + Seq("TAA"))
print("Extended with a string        :", dna_sequence + "TGG")





sequence_with_gaps = Seq("ACGT-ACGT-ACGT")
print("Sentence with gaps   :", sequence_with_gaps)
print("Sentence without gaps:", sequence_with_gaps.replace("-", ""))





from Bio.SeqUtils import gc_fraction
print("The guanine-cytosine content of the sequence:", gc_fraction(dna_sequence)*100, "%")





print("Sequence:          ", dna_sequence)
print("Complement:        ", dna_sequence.complement())
print("Reverse:           ", Seq("".join(reversed(dna_sequence))))
print("Reverse complement:", dna_sequence.reverse_complement())





print("Sequence:              ", dna_sequence)
print("Transcribed:           ", dna_sequence.transcribe())
print("Reverse complement RNA:", dna_sequence.reverse_complement_rna())





transcribed = dna_sequence.transcribe()
print("Transcribed     :", transcribed)
print("Back transcribed:", transcribed.back_transcribe())





sequence = Seq("ACGCGACGA")
sequence.translate()





from Bio.Seq import transcribe
print('Transcription directly from "ACGT" string, without using a Seq object:', transcribe("ACGT"))





from Bio.Align import PairwiseAligner

# Initialise the `PairwiseAligner`
aligner = PairwiseAligner()

# Notice we can provide either `Seq` objects or simple strings as input
alignments = aligner.align(Seq("ACGT"), "ACGC")

# Display alignment results
for alignment in alignments:
    print("Score:", alignment.score)
    print(alignment)





from Bio.Align import MultipleSeqAlignment
from Bio.SeqRecord import SeqRecord

# Define a list of sequences as strings
seqs = [
    "ACGTACGT",
    "ACGTGCGC",
    "ACGTA--T",
    "CCGTACGG",
    "A-GTACCC",
    "ACGTA--T",
    "CTG-ACG-",
    "AGGTACG-"
]

# Convert each string in the `seqs` list into a `SeqRecord` object containing a `Seq`
seq_records = [SeqRecord(Seq(s)) for s in seqs]

# Create a `MultipleSeqAlignment` object with the `SeqRecord` objects
aligned = MultipleSeqAlignment(seq_records)

# No output is expected for this cell





# Access the first sequence record
print(aligned[0], "\n")

# Access the second sequence record
print(aligned[1], "\n")

# Access the last sequence record
print(aligned[-1])





# Access the first three sequences in the alignment
print("First three sequences:\n", aligned[:3], "\n")

# Access the first four positions (columns) across all sequences
print("First four columns:\n", aligned[:, :4], "\n")

# Access rows 1 to 3 and columns 2 to 6
print("Rows 1 to 3, columns 2 to 6:\n", aligned[1:4, 2:6])





from Bio.Align import AlignInfo

align_info = AlignInfo.SummaryInfo(aligned)

# No output is expected from this cell





help(align_info)





print("The simple consensus:", align_info.dumb_consensus())
print("Alignment score for particular bases at a given position:")
print(align_info.pos_specific_score_matrix())





from urllib.request import urlretrieve 

# Specify the destination path for the downloaded file
CFTR_FASTA_path = "P13569.fasta"

# Download the FASTA file from the UniProt URL and save it to the specified path
result_location, http_response = urlretrieve("https://rest.uniprot.org/uniprotkb/P13569.fasta", CFTR_FASTA_path)

# Confirm the download location
print("Downloaded file to:", result_location)

# Print metadata and statistics related to the download
print("\nDownload metadata and statistics:")
print(http_response)





from Bio import SeqIO

# Note that each file can contain multiple records
# Initialise an empty list to store the records
records = []

# Parse the FASTA file and add each record to the list
for r in SeqIO.parse(CFTR_FASTA_path, "fasta"):
    records.append(r)

# Print information about the extracted records
print("Total records:", len(records), "\n")
print("First record:") 
print(records[0])
print("\nType of first record:", type(records[0]))





# Access the first record from the list of records
record = records[0]

# Print the length of the sequence
print("Sequence length:", len(record.seq), "\n")

# Print the sequence itself
print(record.seq)






