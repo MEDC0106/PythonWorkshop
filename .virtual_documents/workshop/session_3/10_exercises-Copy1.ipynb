


# Run this cell before you attempt the exercises
%matplotlib inline

import matplotlib.pyplot as plt
import seaborn as sns
import pandas as pd
from sklearn.neighbors import KNeighborsClassifier
from sklearn.metrics import ConfusionMatrixDisplay, confusion_matrix
from sklearn.metrics import RocCurveDisplay, roc_curve, auc
from sklearn.model_selection import train_test_split





# Read the CSV file and check the diagnostic measurements recorded for each patient
data_path = 'https://raw.githubusercontent.com/MEDC0106/PythonWorkshop/main/workshop/session_3/data/diabetes.csv'
df = pd.read_csv(data_path)

print('\033[1ma)\033[0m')
print("Diagnostic measurements recorded for each patient:")
print(df.columns)

print('\n\033[1mb)\033[0m')
print("Data type of each measurement:")
print(df.dtypes)

print('\n\033[1mc)\033[0m')
print("Total number of patients assessed:", len(df))





print('\033[1ma)\033[0m')
print("Number of records before removing entries with unusual values:", len(df))
# Display a summary of the dataset to identify any potentially unreliable values (e.g., zeros in measurements that shouldn't be zero)
print("Summary statistics of the dataset:")
print(df.describe())

print('\n\033[1mb)\033[0m')
# Here we identify and remove rows where certain columns have zero values, which may be biologically implausible.
columns_to_check = ['Glucose', 'BloodPressure', 'SkinThickness', 'Insulin', 'BMI']
for column in columns_to_check:
    df = df[df[column] != 0]

# Display the number of records after removing unreliable entries
print("Number of records after removing entries with unusual values:", len(df))





# Count the number of patients with and without diabetes
outcome_counts = df['Outcome'].value_counts()

print("Number of patients with and without diabetes:")
print(outcome_counts)

# Plot the results
plt.figure(figsize=(8, 6))
diabetes_counts.plot(kind='bar')
plt.title('Number of patients with and without diabetes')
plt.xlabel('Diabetes diagnosis (0 = No, 1 = Yes)')
plt.ylabel('Number of patients')
plt.xticks([0, 1], ['Without siabetes', 'With diabetes'], rotation=0)
plt.show()

# Check if the data is balanced
# If the difference between the two counts is less than or equal to 10% of the dataset, the data is considered balanced
is_balanced = abs(outcome_counts[0] - outcome_counts[1]) <= 0.1 * len(df)
print("\nIs the data balanced? ", "Yes" if is_balanced == True else "No")





df.hist(figsize=[8, 8])
plt.suptitle("Histograms of diagnostic measurements")
plt.show()





data_path = 'https://raw.githubusercontent.com/MEDC0106/PythonWorkshop/main/workshop/session_3/data/diabetes.csv'
# Write your solution here and add more cells if you wish





# Write your solution here, adding more cells if you wish!





# Write your solution here, adding more cells if you wish!





# Write your solution here, adding more cells if you wish!
