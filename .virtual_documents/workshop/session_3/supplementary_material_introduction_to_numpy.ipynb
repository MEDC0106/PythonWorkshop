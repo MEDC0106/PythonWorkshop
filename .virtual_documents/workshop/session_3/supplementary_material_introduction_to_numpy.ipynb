


import numpy as np

array = np.array([1,2,3,4])

print(array)





array_1d = np.array([1, 2, 3, 4])                  # A 1D array
array_2d = np.array([[1, 2, 3, 4], [5, 6, 7, 8]])  # A 2D array

print('1D NumPy array:\n', array_1d)
print('\n2D NumPy array:\n', array_2d)





zero_array_1d = np.zeros(6)
ones_array_2d = np.ones((6, 3))

print('1D NumPy array:\n', zero_array_1d)
print('\n2D NumPy array:\n', ones_array_2d)





array = np.empty(10)

print(array)





array = np.arange(0, 11, 2)

print(array)





array = np.linspace(0, 20, 5)  # 0 -> 20 in 5 values

print(array)





array = np.ones((4,4), dtype=np.int64)  # Here we specify integer

print(array)





array = np.array([1, 2, 3, 4])

print(array[1])
print(array[0:3])
print(array[1:])
print(array[1:-1])





array_2d = np.array([[1, 2, 3, 4, 5], [6, 7, 8, 9, 10]], dtype=np.int64)

# Access the element on the first row, third column:
print('3rd element on the first row:', array_2d[0,2])

# Access the element on the secxond row last column:
print('Last element on the second row:', array_2d[1,-1])

# Access the entire first row
print('The first row:', array_2d[0])  # this is equivalent to [0,:]

# Access the entire second column
print('The second column:', array_2d[:,1])





array_3d = np.array([[[1, 2, 3], [4, 5, 6]], [[7, 8, 9], [10, 11, 12]]])  # shape (4, 3)

print('Index [0,1,2]:', array_3d[0, 1, 2])





array = np.array([[1 , 2, 3, 4], [5, 6, 7, 8], [9, 10, 11, 12]])

# Interested in getting all values > 5
print('Conditional Indexing Result:', array[array > 5])





# We are now interested in getting all values which are > 5 AND divisible by 2 (even)
print('Result:', array[(array > 5) & (array % 2 == 0)])

# Let's break it down slightly:
condition_1 = array > 5                          # value greater than 5
condition_2 = array % 2 == 0                     # value divisible by 2
combined_condition = condition_1 & condition_2   # combined condition 'AND'

print('Result:', array[combined_condition])  # Same result!





indices = np.nonzero(array > 5)

print('Indices:', indices)  # first array is row index, second array is column index

# Of course we can use these to index also
print('Result:', array[indices])





array = np.array([[1, 2], [3, 4], [5, 6]])

# We can apply the sum over any axis (note we could also use np.sum(array, axis=0))
print('Sum over entire array:', array.sum())
print('Sum over axis 0 (columns):', array.sum(axis=0))
print('Sum over axis 1 (rows):', array.sum(axis=1))

# The mean is often a useful operation (e.g. geometric mean)
print('\nMean over entire array:', array.mean())
print('Mean over axis 0 (columns):', array.mean(axis=0))
print('Mean over axis 1 (rows):', array.mean(axis=1))

# How about the min / max
print('\nMax over entire array:', array.max())
print('Max over axis 0 (columns):', array.max(axis=0))
print('Min over axis 1 (rows):', array.min(axis=1))





other = np.ones(array.shape)  # Create an array of ones with the same shape as `array`

# We can easily sum two arrays elementwise
print('Elementwise Sum:\n\n', array + other)  # equivalent to np.add(array, other)

# We can calculate the difference of two arrays elementwise
print('\nElementwise Difference:\n\n', array - other)  # equivalent to np.subtract(array, other)

# Elementwise multiplication
print('\nElementwise Multiplication:\n\n', array * other)  # equivalent to np.multiply(array, other)








temp_in_kelvin = np.array([0, 100, 200, 300, 400])

# Convert kelvin to celsius
temp_in_celsius = temp_in_kelvin - 273.15

print('After Conversion:', temp_in_celsius)





# Suppose we wish to translate a set of coordinates with a vector

coordinates = np.array([
    [1.2, 2.4, 3.6],
    [4.1, 5.5, 6.8],
    [7.1, 8.2, 9.1],
    [10.2, 11.4, 12.9]
])

vector = np.array([1., 0., -1.])

"""
Of course we could do this with a python loop:

translated = np.empty(coordinates.shape)
for i in range(coordinates.shape[1]):
    translated[i, :] = coordinates[i, :] + vector
    
With large arrays this would be slow!

NumPys broadcasting system makes this easy!

"""

translated = coordinates + vector

print('Translated Coordinates:\n\n', translated)








# An array with shape (3, 2)
data = np.array([[1, 2], [3, 4], [5, 6]])

print('Original:\n', data)

# switch the dimensions to (2, 3)
print('\nReshape(2, 3):\n', data.reshape(2, 3))





arr = np.arange(6)

print('Original:\n', arr)

# Change the dimensions to 2D: (2, 3)
print('\nReshape(2, 3):\n',arr.reshape((2, 3)))





# transpose the array 'data'
print('Transpose:\n', data.T)

# The same result
print('\nTranspose:\n', data.transpose())





def rmsd(v, w):
    """Caclulate the RMSD between two sets of coordinates"""
    d = v - w  # Difference (deviation)
    # RMSD:   root    mean    square 
    rmsd = np.sqrt(np.mean(np.square(d)))
    return rmsd


# Coordinates V (X, Y, Z)
v = np.array([
    [-0.98353, 1.81095, -0.03140],
    [0.12683,  1.80418, -0.03242],
    [-1.48991, 3.22740,  0.18102],
    [-1.35042, 1.15351,  0.78475],
    [-1.35043, 1.42183, -1.00450],
    [-1.12302, 3.61652,  1.15412],
    [-2.60028, 3.23418,  0.18203],
    [-1.12302, 3.88485, -0.63514],
])

# Coordinates W (X, Y, Z)
w = np.array([
    [-1.18012, 1.83558, -0.02389],
    [-0.07891, 1.97662, -0.00383],
    [-1.87442, 3.17118,  0.18101],
    [-1.47136, 1.13188,  0.78415],
    [-1.47377, 1.40501, -1.00437],
    [-1.58078, 3.60175,  1.16149],
    [-2.97563, 3.03014,  0.16095],
    [-1.58318, 3.87488, -0.62704],
])

# Calculate the RMSD
print('RMSD:', rmsd(v, w))






