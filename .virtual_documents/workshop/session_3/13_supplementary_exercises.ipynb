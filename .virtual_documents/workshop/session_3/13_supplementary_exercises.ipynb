


# Run this cell before you attempt the exercises
%matplotlib inline
import matplotlib.pyplot as plt
import seaborn as sns
import pandas as pd
from sklearn.neighbors import KNeighborsClassifier
from sklearn.metrics import ConfusionMatrixDisplay, confusion_matrix, RocCurveDisplay, roc_curve, auc
from sklearn.model_selection import train_test_split
from sklearn.svm import SVC
from sklearn.ensemble import RandomForestClassifier





data_path = 'https://raw.githubusercontent.com/MEDC0106/PythonWorkshop/main/workshop/session_3/data/diabetes.csv'
# Write your solution here and add more cells if you wish





# Write your solution here, adding more cells if you wish!





# Write your solution here, adding more cells if you wish!





# Write your solution here, adding more cells if you wish!





# Write your solution here add more cells if you wish!





# Write your solution here add more cells if you wish!





# Write your solution here add more cells if you wish!





# Write your solution here add more cells if you wish!
