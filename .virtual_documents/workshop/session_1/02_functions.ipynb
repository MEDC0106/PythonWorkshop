


def multiply(x, y):                                             # Function definition line 
    """Multiply two numbers (x, y) and return the result"""     # Docstring
    result = x * y                                              # Function body
    return result                                               # Return statement

"""
Note that the variables below do not need to have the same name as defined in the function definition.
For example, they could just as easily be named i and j. The defined names are just how they will be 
referred to in the function body itself.
"""

x = 10
y = 2

multiply_result = multiply(x, y)

print('The result of', x, '*', y, 'is', multiply_result)





def greet(name):
    """Print a personalised greeting"""
    greeting = 'Hello, ' + name + '. Good morning!'
    print(greeting)
    
greet('John')





def absolute_value(number):
    """Get the absolute value for a number"""
    if number >= 0:
        return number
    else:  # Invert the sign
        return -number
    
i = 10
j = -4

# Functions can be called within other functions also, e.g. `function_x(function_y())`
print('The absolute value of', i, 'is', absolute_value(i))
print('The absolute value of', j, 'is', absolute_value(j))





def power(x, y=2):
    """The power() function returns the value of x to the power of y."""
    result = x ** y
    return result

number = 2

print('No `y` argument:', power(number))
print('With `y` argument provided:', power(number, 3))





def divide(x, divisor):
    """The divide() function returns the value of x divided by a divisor."""
    result = x / divisor
    return result

y = 100

# Let's try to get the answer for y/10
print('Result:', divide(y, 10))

# Notice that the order is important!
print('Result:', divide(10, y))





def divide(x, divisor):
    """The divide() function return the value of x divided by a divisor."""
    result = x / divisor
    return result

y = 60

# Function call
# Let's try 60/3, making sure we get the arguments in the correct order
print('Result', divide(x=y, divisor=3))

# Using this syntax it doesn't matter in which order we provide the arguments
print('Result', divide(divisor=3, x=y))





def summation(*args):
    """The summation() function calculates the sum of an arbritary number of variables."""
    total = 0
    for value in args:
        total += value
    return total

a = 2
b = 3
c = 4
d = 10

print('Result:', summation(a, b, c, d))








# Global scope: this `number` is accessible outside of `my_function`
number = 44

def my_function():
    # Local scope: this `number` only exists inside `my_function`
    number = 22
    print('Inside function, number =', number)

print('Outside function, number =', number)
my_function()





# A lambda function can be assigned to a variable but this isn't often done
double = lambda x: x * 2
print(double(5))

# A lambda function can also take more than one argument
sum_two = lambda x, y: x + y
print(sum_two(5, 8))

# Realistically lambda functions should be used with functions like `filter()`...
my_num_list = [1, 2, 5, 8, 12, 15, 20, 6]
filtered = list(filter(lambda x: x < 10, my_num_list))
print(filtered)

# ...or map()
mapped = list(map(lambda x: x * x, my_num_list))
print(mapped)



