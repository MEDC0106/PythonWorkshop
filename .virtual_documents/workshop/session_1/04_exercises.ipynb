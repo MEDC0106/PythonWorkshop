


# Data from the survey

age = [45, 35, 37, 49, 31, 45, 43, 30, 48, 36, 38, 44, 39, 36, 40, 42, 38, 30, 31, 39]
gender = ['F', 'F', 'F', 'M', 'F', 'F', 'F', 'M', 'F', 'M', 'F', 'F', 'F', 'M', 'F', 'F', 'F', 'M', 'F', 'F']
answer = ['Y', 'N', 'N', 'Y', 'Y', 'Y', 'N', 'N', 'N', 'N', 'Y', 'N', 'N', 'N', 'Y', 'N', 'Y', 'N', 'N', 'Y']

# Calculate the required statistics





# Complete this function to complete the task!

def count_atcg(sequence):
    counts = {'A': 0, 'T': 0, 'C': 0, 'G': 0}
    # Complete the function to return the counts
    return counts

# Ignore the backslashes '\', they wont appear when iterating the string
probe_sequence = """\
ATGGCCCTGTGGATGCGCCTCCTGCCCCTGCTGGCGCTGCTGGCCCTCTGGGGACCTGACCCAG\
CCGCAGCCTTTGTGAACCAACACCTGTGCGGCTCACACCTGGTGGAAGCTCTCTACCTAGTGTG\
CGGGGAACGAGGCTTCTTCTACACACCCAAGACCCGCCGGGAGGCAGAGGACCTGCAGGTGGGG\
CAGGTGGAGCTGGGCGGGGGCCCTGGTGCAGGCAGCCTGCAGCCCTTGGCCCTGGAGGGGTCCC\
TGCAGAAGCGTGGCATTGTGGAACAATGCTGTACCAGCATCTGCTCCCTCTACCAGCTGGAGAA\
CTACTGCAAC"""

atcg_content = count_atcg(probe_sequence)

print('Counts for probe sequence:')
print('A:', atcg_content['A'])
print('T:', atcg_content['T'])
print('C:', atcg_content['C'])
print('G:', atcg_content['G'])





ncbi_codon_table = {
    'TTT': 'F', 'TCT': 'S', 'TAT': 'Y', 'TGT': 'C',
    'TTC': 'F', 'TCC': 'S', 'TAC': 'Y', 'TGC': 'C',
    'TTA': 'L', 'TCA': 'S', 'TAA': '*', 'TGA': '*',
    'TTG': 'L', 'TCG': 'S', 'TAG': '*', 'TGG': 'W',
    'CTT': 'L', 'CCT': 'P', 'CAT': 'H', 'CGT': 'R',
    'CTC': 'L', 'CCC': 'P', 'CAC': 'H', 'CGC': 'R',
    'CTA': 'L', 'CCA': 'P', 'CAA': 'Q', 'CGA': 'R',
    'CTG': 'L', 'CCG': 'P', 'CAG': 'Q', 'CGG': 'R',
    'ATT': 'I', 'ACT': 'T', 'AAT': 'N', 'AGT': 'S',
    'ATC': 'I', 'ACC': 'T', 'AAC': 'N', 'AGC': 'S',
    'ATA': 'I', 'ACA': 'T', 'AAA': 'K', 'AGA': 'R',
    'ATG': 'M', 'ACG': 'T', 'AAG': 'K', 'AGG': 'R',
    'GTT': 'V', 'GCT': 'A', 'GAT': 'D', 'GGT': 'G',
    'GTC': 'V', 'GCC': 'A', 'GAC': 'D', 'GGC': 'G',
    'GTA': 'V', 'GCA': 'A', 'GAA': 'E', 'GGA': 'G',
    'GTG': 'V', 'GCG': 'A', 'GAG': 'E', 'GGG': 'G'
}

# Complete this function to complete the task!
def translate(sequence):
    translated = ""
    # Complete the function to return the translation
    return translated

aa_sequence = translate(probe_sequence)
print('Translated:', aa_sequence)





def mutate_sequence(sequence, position, mutation):
    # Complete this function to mutate the sequence
    return 

mutated_sequence = mutate_sequence(probe_sequence, 12, 'A')

# Now use your translate function to see why this mutation may cause disease!





import random

choice_list = ['Rock', 'Paper', 'Scissors']

# Function to get a random choice from the computer
def get_cpu_choice():
    choice = random.choice(choice_list)  # Randomly select 'Rock', 'Paper', or 'Scissors'
    return choice

# Function to get the player's choice
def get_player_choice():
    while True:
        # Prompt player to enter their choice, removing any leading/trailing whitespace
        player_choice = input('Chose Rock, Paper or Scissors:').strip()
        # Check if the choice is valid
        if player_choice not in choice_list:
            print(player_choice, 'is not a valid choice, pick from:', choice_list)
        else:
            print('\nYou chose:', player_choice)
            break  # Exit the loop once a valid choice is made
    return player_choice

def determine_winner(player_choice, computer_choice):
    # Complete the function to print the winner to the screen and determine whether player or CPU wins the game
    print()

# Main function to play the game
def play_game():
    print('Rock, Paper, Scissors Game!')
    print('-' * 27, '\n')
    # Get choices from both player and computer
    user_choice = get_player_choice()
    cpu_choice = get_cpu_choice()
    print('Computer chose:', cpu_choice, '\n')  # Display the computer's choice
    determine_winner(user_choice, cpu_choice)  # Determine and display the winner


play_game()



