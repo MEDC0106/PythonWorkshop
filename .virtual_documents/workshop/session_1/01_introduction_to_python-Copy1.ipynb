


print("This is a code cell!")





# This is a comment
# Notice that this cell outputs nothing when run





# This code line will print the sum of two numbers
print(10 + 12)





# In this line we assign the text "Hello, World!" to the variable `my_string`
my_string = "Hello, World!"

# We can print the contents of the variable using the print function
print(my_string)

# We can also create aliases to the same data
my_string_alias = my_string

# We could also do the above like so
my_string = my_string_alias = "Hello, World"





# Double quote syntax
string_one = "This is a Python string"
print(string_one)

# Single quote syntax
string_two = 'This is also a string'
print(string_two)

# Triple quote syntax
string_three = """This is also a string,
but can span multiple lines"""
print(string_three)





x = 42    # Integer (int)
y = 42.0  # Float (float)
z = 2j    # Complex (complex)

# We can also print multiple things at the same time
print(x, y, z)

# To verify the types of the above we can use the `type` function 
print(type(x))
print(type(y))
print(type(z))





big_float = 1e9
small_float = -82.7e10  # negative number

print(big_float)
print(small_float)





x = 1    # int
y = 2.8  # float

# Convert from int to float
a = float(x)

# Convert from float to int
b = int(y)

print(x, "->", a)
print(y, "->", b)

# We can verify that they type has changed
print(type(a))
print(type(b))








# We will take a look at these operators in a latter section

print(10 > 9)   # Greater than `>`
print(10 == 9)  # Equal to `==`
print(10 < 9)   # Less than `<`

# We can also assign booleans to variables.
true = True
false = False

# Verify that the type is indeed boolean `bool`.
print(type(true))
print(type(false))





true_int = int(True)    # Convert the boolean `True` to an integer
false_int = int(False)  # Convert the boolean `False` to an integer

# What will these lines print?
print(true_int)
print(false_int)





# Define and print a list containg colours
colour_list = ['red', 'green', 'blue', 'yellow', 'white', 'black']
print(colour_list)





print(colour_list[0])
print(colour_list[1])
print(colour_list[3])
print(colour_list[-1])
print(colour_list[-3])

# We can also change a value using indexing (the index must already exist!)
colour_list[4] = 'purple'

# lets's verify this change
print(colour_list)

# Advanced - What do you think this will output? Hint: think ranges!
print(colour_list[0:3])





# Simple slicing
print('colour_list     ', colour_list)
print('colour_list[1:3]', colour_list[1:3])
print('colour_list[3:] ', colour_list[3:])
print('colour_list[:3] ', colour_list[:3])
print('colour_list[:]  ', colour_list[:])

# Slicing with negative indexes
print('\ncolour_list[-2:]  ', colour_list[-2:])
print('colour_list[:-1]  ', colour_list[:-1])

# Slicing with steps
print('\ncolour_list[0:-1:2]  ', colour_list[0:-1:2])





string = 'Hello, World!'

print(string[:5])
print(string[7:])

new_string = 'Bonjour,' + string[6:] 
print(new_string)





n_colors = len(colour_list)
print('Number of colours:', n_colors)





# Add an item to the list
colour_list.append('pink')

# Lets verify that we added 'pink' to the end of the list.
print(colour_list)





xyz = (3.01, 1.23, -1.22)  # define a tuple holding 3D coordinates.

print(xyz[0], xyz[1], xyz[2])





# xyz[1] = 2.90





# Define a set holding the names of fruits.
fruit_set = {'cherry', 'banana', 'apple'}
print(fruit_set)

# We can add items to the set using the `add` method.
fruit_set.add('mango')
print(fruit_set)

# Lets try add another apple to the set. Can you guess what will happen?
fruit_set.add('apple')
print(fruit_set)

# We can remove items using the `remove` method.
fruit_set.remove('cherry')
print(fruit_set)





a = {1, 2, 3}  # Define a set of numbers (A)
b = {3, 4, 5}  # Define a set of numbers (B)

# Compute the intersection "A and B"
inter = a.intersection(b)
print(inter)

# Compute the union "A or B"
union = a.union(b)
print(union)





# Define a dictionary describing a user of some software.
user_dict = {
    'name': 'John',
    'last_name': 'Doe',
    'age': 22
}
print(user_dict)

# We can index the dictionary using keys.
age = user_dict['age']  # Get the age of the user
print(age)

# We can add items using a similar syntax.
user_dict['bought'] = ['apple', 'mango']
print(user_dict)

# We can also change values easily.
user_dict['age'] = 23  # It is Johns birthday! 
print(user_dict)








x = 10  # Define an integer 10.
y = 2   # Define an integer 2.

print(x + y)   # Addition
print(x - y)   # Subtraction
print(x * y)   # Multiplication
print(x / y)   # Division
print(x % y)   # Modulus (remainder) 
print(x ** y)  # Exponentiation

y = 3          # Redefine y so we can see the effect of floor division 
print(x / y)   # Division
print(x // y)  # Floor division








x = 5  # Assign 5 to x.
x * 2  # Multiply by 5 (no change to x)

# Lets verify that nothing has changed.
print(x)

# Now we will try an assignment operator.
x *= 2    
print(x)  # Notice that x is now 10.

# We use the other syntax when we want to store the answer in a different variable.
y = x / 2
print(y)





x = 15
y = 5.5

print(x == y)
print(x != y)
print(x > y)
print(x < y)
print(x >= y)
print(x <= y)








x = 100
y = 2

if x > y:
    print('x is greater than y')





x = 100
y = 200

if x == y:
    print('x is equal to y')
else:
    print('x is not equal to y')





x = 200
y = 33

if x < y:
    print("x is less than y")
elif x == y:
    print("x and y are equal")
else:
    print("x is greater than y")





shopping_list = ['apples', 'cereal', 'beer', 'milk']  # Define a sequence of items.

"""
As we iterate through the list each item is evaluated individually.
After the evaluation of an item is complete we move to the next
item automatically.

In this case the loop will assign each item in the list to the variable `item`,
so that we can use it in our code.

Here we use a conditional to control how we process each item.
"""

for item in shopping_list:
    if item == 'beer' or item == 'milk':
        print('We need to buy:', item, '(Drink)')
    else:
        print('We need to buy:', item, '(Food)')





i = 1  # We will start at 1

"""
Here we evaluate code until a condition is met.
In this case we are waiting until i > 6.

Remember we need to increment i. We use the assignment
operator here. If we forget to increment i, the loop
will run forever!

If this happens you can press stop in the toolbar above.
"""

while i <= 6:
    print(i)
    i += 1















