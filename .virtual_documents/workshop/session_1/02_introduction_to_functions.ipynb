


def multiply(x, y):                                             # Function definition line 
    """Multiply two numbers (x, y) and return the result"""     # Docstring
    result = x * y                                              # Function body
    return result                                               # Return statement


# Note the variables below do not need to have the same name as defined in the function definition
# They could just as easily be named i and j for example.
# The defined names are just how they will be refered to in the function body itself

x = 10
y = 2

multiply_result = multiply(x, y)

print('The result of', x, '*', y, 'is:', multiply_result)





def greet(name):
    """Print a personalised greeting"""
    greeting = 'Hello, ' + name + '. Good morning!'
    print(greeting)
    
greet('John')





def absolute_value(number):
    """Get the absolute value for a number"""
    if number >= 0:
        return number
    else: # invert the sign
        return -number
    
i = 10
j = -4

# functions can be called within other functions also!
print('The absolute value of', i, 'is:', absolute_value(i))
print('The absolute value of', j, 'is:', absolute_value(j))





def power(x, y=2):
    """The power() function returns the value of x to the power of y."""
    result = x ** y
    return result

number = 2

print('No `y` argument:', power(number))
print('`y` argument:', power(number, 3))





def divide(x, divisor):
    """The divide() function return the value of x divided by a divisor."""
    result = x / divisor
    return result

x = 100

# Lets try to get the answer for 100 / 10:
print('Result:', divide(x, 10))

# Notice that the order is important!
print('Result:', divide(10, x))





def divide(x, divisor):
    """The divide() function return the value of x divided by a divisor."""
    result = x / divisor
    return result

x = 60

# Lets try 60 / 3, making sure we get the arguments in the correct order:
print('Result', divide(x=x, divisor=3))

# Using this syntax it doesnt matter what order we provide the arguments!
print('Result', divide(divisor=3, x=x))





def summation(*args):
    """The summation() function calculates the sum of an arbritary number of variables."""
    total = 0
    for value in args:
        total += value
    return total

a = 2
b = 3
c = 4
d = 10

print('Result:', summation(a, b, c, d))








def my_function():
    number = 22
    print('Inside function number =', number)
    

number = 44
my_function()
print('Outside function number =', number)





# A lambda function can be assigned to a variable but really this isn't often done
double = lambda x: x * 2
print(double(5))

# A lambda function can also take more than one argument
sum_two = lambda x, y: x + y
print(sum_two(5, 8))

# Realistically lambda functions should be used with functions like filter() (filter values < 10)
my_num_list = [1, 2, 5, 8, 12, 15, 20, 6]
filtered = list(filter(lambda x: x < 10, my_num_list))
print(filtered)

# Or map()... (square the numbers)
mapped = list(map(lambda x: x * x, my_num_list))
print(mapped)



