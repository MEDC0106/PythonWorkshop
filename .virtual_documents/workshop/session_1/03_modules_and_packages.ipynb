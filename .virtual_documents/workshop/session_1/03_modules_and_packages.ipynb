


import math

print("Pi:", math.pi)  # Modules can define useful variables

double_pi = math.pi * 2  # We can use the imported variables just like normal variables 

# Modules may also define functions that we can utilise in our own code
print("Degrees in Pi radians:", math.degrees(math.pi))
print("Degrees in 2*Pi radians:", math.degrees(double_pi))





from math import pi, degrees  # Importing two attributes (variable, function)

print("Pi:", pi)
print("Degrees in Pi radians:", degrees(pi))





from math import pi as PI

print("Pi:", PI)





# math.





help(math)








import numpy

# Create a numpy array (similar to a list of numbers)
array = numpy.array([1,2,3,4,5,6])

# We can compute some statistics using numpy
print('Mean:', numpy.mean(array))
print('STD:', numpy.std(array))






