


# Data from the survey
age = [45, 35, 37, 49, 31, 45, 43, 30, 48, 36, 38, 44, 39, 36, 40, 42, 38, 30, 31, 39]
gender = ['F', 'F', 'F', 'M', 'F', 'F', 'F', 'M', 'F', 'M', 'F', 'F', 'F', 'M', 'F', 'F', 'F', 'M', 'F', 'F']
answer = ['Y', 'N', 'N', 'Y', 'Y', 'Y', 'N', 'N', 'N', 'N', 'Y', 'N', 'N', 'N', 'Y', 'N', 'Y', 'N', 'N', 'Y']

# Calculate and print the total number of participants
print("Total no. of participants is", len(age))  # len() gives the number of items in the list

# Calculate and print the mean age of participants
total_age = 0
for a in age:
    total_age += a
print("Mean age of participants is", total_age/len(age))

# Calculate the total number of male and female participants
total_m = 0
total_f = 0
for g in gender:
    if g == 'M':  # Checks if the gender is 'M' (male)
        total_m += 1
    else:         # Assumes all other values are 'F' (female)
        total_f += 1
print("No. of male participants is", total_m)
print("No. of female participants is", total_f)

# Calculate the percentage of 'Y' answers
answer_y = 0
for a in answer:
    if a == 'Y':  # Checks if the answer is 'Y'
        answer_y += 1
percentage = (answer_y / len(answer)) * 100  # Calculates percentage of 'Y' answers
print("The percentage of 'Y' answers is", percentage, "%")





# Function to count the occurrence of each nucleotide in a DNA sequence
def count_atcg(sequence):
    # Initialise a dictionary with counts set to zero for each nucleotide
    counts = {'A': 0, 'T': 0, 'C': 0, 'G': 0}
    # Iterate over each base in the sequence
    for base in sequence:
        # Increment the count for the current nucleotide in the dictionary
        # If the base is not 'A', 'T', 'C', or 'G', this code would throw an error
        counts[base] += 1
    # Return the dictionary containing counts of each nucleotide
    return counts

# Probe nucleotide sequence to analyze
probe_sequence = """\
ATGGCCCTGTGGATGCGCCTCCTGCCCCTGCTGGCGCTGCTGGCCCTCTGGGGACCTGACCCAG\
CCGCAGCCTTTGTGAACCAACACCTGTGCGGCTCACACCTGGTGGAAGCTCTCTACCTAGTGTG\
CGGGGAACGAGGCTTCTTCTACACACCCAAGACCCGCCGGGAGGCAGAGGACCTGCAGGTGGGG\
CAGGTGGAGCTGGGCGGGGGCCCTGGTGCAGGCAGCCTGCAGCCCTTGGCCCTGGAGGGGTCCC\
TGCAGAAGCGTGGCATTGTGGAACAATGCTGTACCAGCATCTGCTCCCTCTACCAGCTGGAGAA\
CTACTGCAAC"""

# Call the function to get counts of each nucleotide in the sequence
atcg_content = count_atcg(probe_sequence)

# Print the counts for each nucleotide in a readable format
print('Counts for probe sequence:')
print('A:', atcg_content['A'])  # Count of 'A' nucleotides
print('T:', atcg_content['T'])  # Count of 'T' nucleotides
print('C:', atcg_content['C'])  # Count of 'C' nucleotides
print('G:', atcg_content['G'])  # Count of 'G' nucleotides





# `ncbi_codon_table is a dictionary mapping DNA codons to their corresponding amino acids
# Stop codons are represented by '*' indicating the end of translation
ncbi_codon_table = {
    'TTT': 'F', 'TCT': 'S', 'TAT': 'Y', 'TGT': 'C',
    'TTC': 'F', 'TCC': 'S', 'TAC': 'Y', 'TGC': 'C',
    'TTA': 'L', 'TCA': 'S', 'TAA': '*', 'TGA': '*',
    'TTG': 'L', 'TCG': 'S', 'TAG': '*', 'TGG': 'W',
    'CTT': 'L', 'CCT': 'P', 'CAT': 'H', 'CGT': 'R',
    'CTC': 'L', 'CCC': 'P', 'CAC': 'H', 'CGC': 'R',
    'CTA': 'L', 'CCA': 'P', 'CAA': 'Q', 'CGA': 'R',
    'CTG': 'L', 'CCG': 'P', 'CAG': 'Q', 'CGG': 'R',
    'ATT': 'I', 'ACT': 'T', 'AAT': 'N', 'AGT': 'S',
    'ATC': 'I', 'ACC': 'T', 'AAC': 'N', 'AGC': 'S',
    'ATA': 'I', 'ACA': 'T', 'AAA': 'K', 'AGA': 'R',
    'ATG': 'M', 'ACG': 'T', 'AAG': 'K', 'AGG': 'R',
    'GTT': 'V', 'GCT': 'A', 'GAT': 'D', 'GGT': 'G',
    'GTC': 'V', 'GCC': 'A', 'GAC': 'D', 'GGC': 'G',
    'GTA': 'V', 'GCA': 'A', 'GAA': 'E', 'GGA': 'G',
    'GTG': 'V', 'GCG': 'A', 'GAG': 'E', 'GGG': 'G'
}

# Function to translate a DNA sequence into an amino acid sequence
def translate(sequence):
    translated = ""  # Initialize an empty string to store the translated amino acid sequence
    # Loop through the sequence in steps of 3 as each codon is 3 nucleotides long
    for i in range(0, len(sequence) - (len(sequence) % 3), 3):
        codon = sequence[i:i+3]  # Extract the next codon
        # Look up the codon in the codon table to get the corresponding amino acid
        translated += ncbi_codon_table[codon]  # Append the amino acid to the translated sequence
    return translated  # Return the full amino acid sequence after translation

# Call the function
aa_sequence = translate(probe_sequence)

# Print the translated amino acid sequence
print('Translated:', aa_sequence)





def mutate_sequence(sequence, position, mutation):
    mutated = sequence[:position-1] + mutation + sequence[position:]
    return mutated

mutated_sequence = mutate_sequence(probe_sequence, 12, 'A')
print("Mutated sequence:", mutated_sequence)
print("Translated mutated sequence:", translate(mutated_sequence))





import random

choice_list = ['Rock', 'Paper', 'Scissors']

# Function to get a random choice from the computer
def get_cpu_choice():
    choice = random.choice(choice_list)  # Randomly select 'Rock', 'Paper', or 'Scissors'
    return choice

# Function to get the player's choice
def get_player_choice():
    while True:
        # Prompt player to enter their choice, removing any leading/trailing whitespace
        player_choice = input('Chose Rock, Paper or Scissors:').strip()
        # Check if the choice is valid
        if player_choice not in choice_list:
            print(player_choice, 'is not a valid choice, pick from:', choice_list)
        else:
            print('\nYou chose:', player_choice)
            break  # Exit the loop once a valid choice is made
    return player_choice

# Function to determine the winner based on player and computer choices
def determine_winner(player_choice, computer_choice):
    if player_choice == computer_choice:
        print('Draw!')  # It's a draw if choices match
    elif player_choice == 'Rock' and computer_choice == 'Scissors':
        print('You win!')  # Rock beats Scissors
    elif player_choice == 'Paper' and computer_choice == 'Rock':
        print('You win!')  # Paper beats Rock
    elif player_choice == 'Scissors' and computer_choice == 'Paper':
        print('You win!')  # Scissors beats Paper
    else:
        print('Computer wins!')  # Any other case means the computer wins
    print()

# Main function to play the game
def play_game():
    print('Rock, Paper, Scissors Game!')
    print('-' * 27, '\n')
    # Get choices from both player and computer
    user_choice = get_player_choice()
    cpu_choice = get_cpu_choice()
    print('Computer chose:', cpu_choice, '\n')  # Display the computer's choice
    determine_winner(user_choice, cpu_choice)  # Determine and display the winner


play_game()



